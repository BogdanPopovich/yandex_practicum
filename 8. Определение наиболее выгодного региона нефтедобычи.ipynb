{
 "cells": [
  {
   "cell_type": "markdown",
   "metadata": {},
   "source": [
    "# Выбор локации для скважины"
   ]
  },
  {
   "cell_type": "markdown",
   "metadata": {},
   "source": [
    "Допустим, вы работаете в добывающей компании «ГлавРосГосНефть». Нужно решить, где бурить новую скважину.\n",
    "\n",
    "Вам предоставлены пробы нефти в трёх регионах: в каждом 10 000 месторождений, где измерили качество нефти и объём её запасов. Постройте модель машинного обучения, которая поможет определить регион, где добыча принесёт наибольшую прибыль. Проанализируйте возможную прибыль и риски техникой *Bootstrap.*\n",
    "\n",
    "Шаги для выбора локации:\n",
    "\n",
    "- В избранном регионе ищут месторождения, для каждого определяют значения признаков;\n",
    "- Строят модель и оценивают объём запасов;\n",
    "- Выбирают месторождения с самым высокими оценками значений. Количество месторождений зависит от бюджета компании и стоимости разработки одной скважины;\n",
    "- Прибыль равна суммарной прибыли отобранных месторождений."
   ]
  },
  {
   "cell_type": "markdown",
   "metadata": {},
   "source": [
    "## Загрузка и подготовка данных"
   ]
  },
  {
   "cell_type": "code",
   "execution_count": 1,
   "metadata": {},
   "outputs": [],
   "source": [
    "import pandas as pd\n",
    "import numpy as np\n",
    "import seaborn as sns\n",
    "\n",
    "from sklearn.model_selection import train_test_split\n",
    "from sklearn.linear_model import LinearRegression\n",
    "from sklearn.metrics import mean_squared_error\n",
    "from sklearn.model_selection import cross_val_score\n",
    "\n",
    "from scipy import stats as st\n",
    "\n",
    "from numpy.random import RandomState"
   ]
  },
  {
   "cell_type": "raw",
   "metadata": {},
   "source": [
    "BUDGET = 10_000_000_000\n",
    "\n",
    "PRODUCT_PRICE = 450_000\n",
    "\n",
    "WELL_NUMBER = 200"
   ]
  },
  {
   "cell_type": "code",
   "execution_count": 2,
   "metadata": {},
   "outputs": [],
   "source": [
    "budget = 10_000_000_000\n",
    "\n",
    "product_price= 450_000\n",
    "\n",
    "well_number= 200"
   ]
  },
  {
   "cell_type": "code",
   "execution_count": 3,
   "metadata": {},
   "outputs": [],
   "source": [
    "region_0 = pd.read_csv('/datasets/geo_data_0.csv')\n",
    "region_1 = pd.read_csv('/datasets/geo_data_1.csv')\n",
    "region_2 =pd.read_csv('/datasets/geo_data_2.csv')"
   ]
  },
  {
   "cell_type": "code",
   "execution_count": 4,
   "metadata": {
    "scrolled": true
   },
   "outputs": [
    {
     "name": "stdout",
     "output_type": "stream",
     "text": [
      "<class 'pandas.core.frame.DataFrame'>\n",
      "RangeIndex: 100000 entries, 0 to 99999\n",
      "Data columns (total 5 columns):\n",
      " #   Column   Non-Null Count   Dtype  \n",
      "---  ------   --------------   -----  \n",
      " 0   id       100000 non-null  object \n",
      " 1   f0       100000 non-null  float64\n",
      " 2   f1       100000 non-null  float64\n",
      " 3   f2       100000 non-null  float64\n",
      " 4   product  100000 non-null  float64\n",
      "dtypes: float64(4), object(1)\n",
      "memory usage: 3.8+ MB\n"
     ]
    },
    {
     "data": {
      "text/html": [
       "<div>\n",
       "<style scoped>\n",
       "    .dataframe tbody tr th:only-of-type {\n",
       "        vertical-align: middle;\n",
       "    }\n",
       "\n",
       "    .dataframe tbody tr th {\n",
       "        vertical-align: top;\n",
       "    }\n",
       "\n",
       "    .dataframe thead th {\n",
       "        text-align: right;\n",
       "    }\n",
       "</style>\n",
       "<table border=\"1\" class=\"dataframe\">\n",
       "  <thead>\n",
       "    <tr style=\"text-align: right;\">\n",
       "      <th></th>\n",
       "      <th>id</th>\n",
       "      <th>f0</th>\n",
       "      <th>f1</th>\n",
       "      <th>f2</th>\n",
       "      <th>product</th>\n",
       "    </tr>\n",
       "  </thead>\n",
       "  <tbody>\n",
       "    <tr>\n",
       "      <th>0</th>\n",
       "      <td>txEyH</td>\n",
       "      <td>0.705745</td>\n",
       "      <td>-0.497823</td>\n",
       "      <td>1.221170</td>\n",
       "      <td>105.280062</td>\n",
       "    </tr>\n",
       "    <tr>\n",
       "      <th>1</th>\n",
       "      <td>2acmU</td>\n",
       "      <td>1.334711</td>\n",
       "      <td>-0.340164</td>\n",
       "      <td>4.365080</td>\n",
       "      <td>73.037750</td>\n",
       "    </tr>\n",
       "    <tr>\n",
       "      <th>2</th>\n",
       "      <td>409Wp</td>\n",
       "      <td>1.022732</td>\n",
       "      <td>0.151990</td>\n",
       "      <td>1.419926</td>\n",
       "      <td>85.265647</td>\n",
       "    </tr>\n",
       "    <tr>\n",
       "      <th>3</th>\n",
       "      <td>iJLyR</td>\n",
       "      <td>-0.032172</td>\n",
       "      <td>0.139033</td>\n",
       "      <td>2.978566</td>\n",
       "      <td>168.620776</td>\n",
       "    </tr>\n",
       "    <tr>\n",
       "      <th>4</th>\n",
       "      <td>Xdl7t</td>\n",
       "      <td>1.988431</td>\n",
       "      <td>0.155413</td>\n",
       "      <td>4.751769</td>\n",
       "      <td>154.036647</td>\n",
       "    </tr>\n",
       "    <tr>\n",
       "      <th>5</th>\n",
       "      <td>wX4Hy</td>\n",
       "      <td>0.969570</td>\n",
       "      <td>0.489775</td>\n",
       "      <td>-0.735383</td>\n",
       "      <td>64.741541</td>\n",
       "    </tr>\n",
       "    <tr>\n",
       "      <th>6</th>\n",
       "      <td>tL6pL</td>\n",
       "      <td>0.645075</td>\n",
       "      <td>0.530656</td>\n",
       "      <td>1.780266</td>\n",
       "      <td>49.055285</td>\n",
       "    </tr>\n",
       "    <tr>\n",
       "      <th>7</th>\n",
       "      <td>BYPU6</td>\n",
       "      <td>-0.400648</td>\n",
       "      <td>0.808337</td>\n",
       "      <td>-5.624670</td>\n",
       "      <td>72.943292</td>\n",
       "    </tr>\n",
       "    <tr>\n",
       "      <th>8</th>\n",
       "      <td>j9Oui</td>\n",
       "      <td>0.643105</td>\n",
       "      <td>-0.551583</td>\n",
       "      <td>2.372141</td>\n",
       "      <td>113.356160</td>\n",
       "    </tr>\n",
       "    <tr>\n",
       "      <th>9</th>\n",
       "      <td>OLuZU</td>\n",
       "      <td>2.173381</td>\n",
       "      <td>0.563698</td>\n",
       "      <td>9.441852</td>\n",
       "      <td>127.910945</td>\n",
       "    </tr>\n",
       "  </tbody>\n",
       "</table>\n",
       "</div>"
      ],
      "text/plain": [
       "      id        f0        f1        f2     product\n",
       "0  txEyH  0.705745 -0.497823  1.221170  105.280062\n",
       "1  2acmU  1.334711 -0.340164  4.365080   73.037750\n",
       "2  409Wp  1.022732  0.151990  1.419926   85.265647\n",
       "3  iJLyR -0.032172  0.139033  2.978566  168.620776\n",
       "4  Xdl7t  1.988431  0.155413  4.751769  154.036647\n",
       "5  wX4Hy  0.969570  0.489775 -0.735383   64.741541\n",
       "6  tL6pL  0.645075  0.530656  1.780266   49.055285\n",
       "7  BYPU6 -0.400648  0.808337 -5.624670   72.943292\n",
       "8  j9Oui  0.643105 -0.551583  2.372141  113.356160\n",
       "9  OLuZU  2.173381  0.563698  9.441852  127.910945"
      ]
     },
     "execution_count": 4,
     "metadata": {},
     "output_type": "execute_result"
    }
   ],
   "source": [
    "# Смотрю данные по первому региону\n",
    "\n",
    "region_0.info();\n",
    "region_0.head(10)"
   ]
  },
  {
   "cell_type": "code",
   "execution_count": 5,
   "metadata": {},
   "outputs": [
    {
     "name": "stdout",
     "output_type": "stream",
     "text": [
      "10\n",
      "0\n"
     ]
    }
   ],
   "source": [
    "# Ищу дубликаты в столбце id и удаляю их.\n",
    "\n",
    "print(region_0['id'].duplicated().sum())\n",
    "\n",
    "region_0 = region_0.drop_duplicates(subset=['id'], keep='first')\n",
    "\n",
    "print(region_0['id'].duplicated().sum())"
   ]
  },
  {
   "cell_type": "code",
   "execution_count": 6,
   "metadata": {
    "scrolled": true
   },
   "outputs": [
    {
     "data": {
      "text/plain": [
       "<AxesSubplot:>"
      ]
     },
     "execution_count": 6,
     "metadata": {},
     "output_type": "execute_result"
    },
    {
     "data": {
      "image/png": "[encoded data removed]",
      "text/plain": [
       "<Figure size 432x288 with 1 Axes>"
      ]
     },
     "metadata": {
      "needs_background": "light"
     },
     "output_type": "display_data"
    }
   ],
   "source": [
    "region_0['product'].hist(bins=1000)"
   ]
  },
  {
   "cell_type": "code",
   "execution_count": 7,
   "metadata": {},
   "outputs": [
    {
     "data": {
      "text/plain": [
       "<AxesSubplot:>"
      ]
     },
     "execution_count": 7,
     "metadata": {},
     "output_type": "execute_result"
    },
    {
     "data": {
      "image/png": "[encoded data removed]",
      "text/plain": [
       "<Figure size 432x288 with 2 Axes>"
      ]
     },
     "metadata": {
      "needs_background": "light"
     },
     "output_type": "display_data"
    }
   ],
   "source": [
    "upp_mat = np.triu(region_0.corr())\n",
    "sns.heatmap(region_0.corr(), vmin = -1, vmax = +1, annot = True, cmap = 'coolwarm', mask = upp_mat)"
   ]
  },
  {
   "cell_type": "code",
   "execution_count": 8,
   "metadata": {
    "scrolled": true
   },
   "outputs": [
    {
     "name": "stdout",
     "output_type": "stream",
     "text": [
      "<class 'pandas.core.frame.DataFrame'>\n",
      "RangeIndex: 100000 entries, 0 to 99999\n",
      "Data columns (total 5 columns):\n",
      " #   Column   Non-Null Count   Dtype  \n",
      "---  ------   --------------   -----  \n",
      " 0   id       100000 non-null  object \n",
      " 1   f0       100000 non-null  float64\n",
      " 2   f1       100000 non-null  float64\n",
      " 3   f2       100000 non-null  float64\n",
      " 4   product  100000 non-null  float64\n",
      "dtypes: float64(4), object(1)\n",
      "memory usage: 3.8+ MB\n"
     ]
    },
    {
     "data": {
      "text/html": [
       "<div>\n",
       "<style scoped>\n",
       "    .dataframe tbody tr th:only-of-type {\n",
       "        vertical-align: middle;\n",
       "    }\n",
       "\n",
       "    .dataframe tbody tr th {\n",
       "        vertical-align: top;\n",
       "    }\n",
       "\n",
       "    .dataframe thead th {\n",
       "        text-align: right;\n",
       "    }\n",
       "</style>\n",
       "<table border=\"1\" class=\"dataframe\">\n",
       "  <thead>\n",
       "    <tr style=\"text-align: right;\">\n",
       "      <th></th>\n",
       "      <th>id</th>\n",
       "      <th>f0</th>\n",
       "      <th>f1</th>\n",
       "      <th>f2</th>\n",
       "      <th>product</th>\n",
       "    </tr>\n",
       "  </thead>\n",
       "  <tbody>\n",
       "    <tr>\n",
       "      <th>0</th>\n",
       "      <td>kBEdx</td>\n",
       "      <td>-15.001348</td>\n",
       "      <td>-8.276000</td>\n",
       "      <td>-0.005876</td>\n",
       "      <td>3.179103</td>\n",
       "    </tr>\n",
       "    <tr>\n",
       "      <th>1</th>\n",
       "      <td>62mP7</td>\n",
       "      <td>14.272088</td>\n",
       "      <td>-3.475083</td>\n",
       "      <td>0.999183</td>\n",
       "      <td>26.953261</td>\n",
       "    </tr>\n",
       "    <tr>\n",
       "      <th>2</th>\n",
       "      <td>vyE1P</td>\n",
       "      <td>6.263187</td>\n",
       "      <td>-5.948386</td>\n",
       "      <td>5.001160</td>\n",
       "      <td>134.766305</td>\n",
       "    </tr>\n",
       "    <tr>\n",
       "      <th>3</th>\n",
       "      <td>KcrkZ</td>\n",
       "      <td>-13.081196</td>\n",
       "      <td>-11.506057</td>\n",
       "      <td>4.999415</td>\n",
       "      <td>137.945408</td>\n",
       "    </tr>\n",
       "    <tr>\n",
       "      <th>4</th>\n",
       "      <td>AHL4O</td>\n",
       "      <td>12.702195</td>\n",
       "      <td>-8.147433</td>\n",
       "      <td>5.004363</td>\n",
       "      <td>134.766305</td>\n",
       "    </tr>\n",
       "    <tr>\n",
       "      <th>5</th>\n",
       "      <td>HHckp</td>\n",
       "      <td>-3.327590</td>\n",
       "      <td>-2.205276</td>\n",
       "      <td>3.003647</td>\n",
       "      <td>84.038886</td>\n",
       "    </tr>\n",
       "    <tr>\n",
       "      <th>6</th>\n",
       "      <td>h5Ujo</td>\n",
       "      <td>-11.142655</td>\n",
       "      <td>-10.133399</td>\n",
       "      <td>4.002382</td>\n",
       "      <td>110.992147</td>\n",
       "    </tr>\n",
       "    <tr>\n",
       "      <th>7</th>\n",
       "      <td>muH9x</td>\n",
       "      <td>4.234715</td>\n",
       "      <td>-0.001354</td>\n",
       "      <td>2.004588</td>\n",
       "      <td>53.906522</td>\n",
       "    </tr>\n",
       "    <tr>\n",
       "      <th>8</th>\n",
       "      <td>YiRkx</td>\n",
       "      <td>13.355129</td>\n",
       "      <td>-0.332068</td>\n",
       "      <td>4.998647</td>\n",
       "      <td>134.766305</td>\n",
       "    </tr>\n",
       "    <tr>\n",
       "      <th>9</th>\n",
       "      <td>jG6Gi</td>\n",
       "      <td>1.069227</td>\n",
       "      <td>-11.025667</td>\n",
       "      <td>4.997844</td>\n",
       "      <td>137.945408</td>\n",
       "    </tr>\n",
       "  </tbody>\n",
       "</table>\n",
       "</div>"
      ],
      "text/plain": [
       "      id         f0         f1        f2     product\n",
       "0  kBEdx -15.001348  -8.276000 -0.005876    3.179103\n",
       "1  62mP7  14.272088  -3.475083  0.999183   26.953261\n",
       "2  vyE1P   6.263187  -5.948386  5.001160  134.766305\n",
       "3  KcrkZ -13.081196 -11.506057  4.999415  137.945408\n",
       "4  AHL4O  12.702195  -8.147433  5.004363  134.766305\n",
       "5  HHckp  -3.327590  -2.205276  3.003647   84.038886\n",
       "6  h5Ujo -11.142655 -10.133399  4.002382  110.992147\n",
       "7  muH9x   4.234715  -0.001354  2.004588   53.906522\n",
       "8  YiRkx  13.355129  -0.332068  4.998647  134.766305\n",
       "9  jG6Gi   1.069227 -11.025667  4.997844  137.945408"
      ]
     },
     "execution_count": 8,
     "metadata": {},
     "output_type": "execute_result"
    }
   ],
   "source": [
    "# Смотрю данные по второму региону\n",
    "\n",
    "region_1.info();\n",
    "region_1.head(10)"
   ]
  },
  {
   "cell_type": "code",
   "execution_count": 9,
   "metadata": {
    "scrolled": true
   },
   "outputs": [
    {
     "name": "stdout",
     "output_type": "stream",
     "text": [
      "4\n",
      "0\n"
     ]
    }
   ],
   "source": [
    "# Ищу дубликаты в столбце id и удаляю их.\n",
    "\n",
    "print(region_1['id'].duplicated().sum())\n",
    "\n",
    "region_1 = region_1.drop_duplicates(subset=['id'], keep='first')\n",
    "\n",
    "print(region_1['id'].duplicated().sum())"
   ]
  },
  {
   "cell_type": "code",
   "execution_count": 10,
   "metadata": {
    "scrolled": true
   },
   "outputs": [
    {
     "data": {
      "text/plain": [
       "<AxesSubplot:>"
      ]
     },
     "execution_count": 10,
     "metadata": {},
     "output_type": "execute_result"
    },
    {
     "data": {
      "image/png": "[encoded data removed]",
      "text/plain": [
       "<Figure size 432x288 with 1 Axes>"
      ]
     },
     "metadata": {
      "needs_background": "light"
     },
     "output_type": "display_data"
    }
   ],
   "source": [
    "region_1['product'].hist(bins=1000)"
   ]
  },
  {
   "cell_type": "code",
   "execution_count": 11,
   "metadata": {},
   "outputs": [
    {
     "data": {
      "text/plain": [
       "53.906522     8472\n",
       "26.953261     8468\n",
       "84.038886     8430\n",
       "57.085625     8389\n",
       "3.179103      8337\n",
       "80.859783     8320\n",
       "30.132364     8306\n",
       "110.992147    8303\n",
       "134.766305    8303\n",
       "0.000000      8235\n",
       "137.945408    8233\n",
       "107.813044    8200\n",
       "Name: product, dtype: int64"
      ]
     },
     "execution_count": 11,
     "metadata": {},
     "output_type": "execute_result"
    }
   ],
   "source": [
    "region_1['product'].value_counts()"
   ]
  },
  {
   "cell_type": "code",
   "execution_count": 12,
   "metadata": {
    "scrolled": true
   },
   "outputs": [
    {
     "data": {
      "text/plain": [
       "count    99996.000000\n",
       "mean        68.823916\n",
       "std         45.944663\n",
       "min          0.000000\n",
       "25%         26.953261\n",
       "50%         57.085625\n",
       "75%        107.813044\n",
       "max        137.945408\n",
       "Name: product, dtype: float64"
      ]
     },
     "execution_count": 12,
     "metadata": {},
     "output_type": "execute_result"
    }
   ],
   "source": [
    "region_1['product'].describe()"
   ]
  },
  {
   "cell_type": "code",
   "execution_count": 13,
   "metadata": {
    "scrolled": true
   },
   "outputs": [
    {
     "data": {
      "text/plain": [
       "<AxesSubplot:>"
      ]
     },
     "execution_count": 13,
     "metadata": {},
     "output_type": "execute_result"
    },
    {
     "data": {
      "image/png": "[encoded data removed]",
      "text/plain": [
       "<Figure size 432x288 with 2 Axes>"
      ]
     },
     "metadata": {
      "needs_background": "light"
     },
     "output_type": "display_data"
    }
   ],
   "source": [
    "upp_mat = np.triu(region_1.corr())\n",
    "sns.heatmap(region_1.corr(), vmin = -1, vmax = +1, annot = True, cmap = 'coolwarm', mask = upp_mat)"
   ]
  },
  {
   "cell_type": "code",
   "execution_count": 14,
   "metadata": {
    "scrolled": false
   },
   "outputs": [
    {
     "name": "stdout",
     "output_type": "stream",
     "text": [
      "<class 'pandas.core.frame.DataFrame'>\n",
      "RangeIndex: 100000 entries, 0 to 99999\n",
      "Data columns (total 5 columns):\n",
      " #   Column   Non-Null Count   Dtype  \n",
      "---  ------   --------------   -----  \n",
      " 0   id       100000 non-null  object \n",
      " 1   f0       100000 non-null  float64\n",
      " 2   f1       100000 non-null  float64\n",
      " 3   f2       100000 non-null  float64\n",
      " 4   product  100000 non-null  float64\n",
      "dtypes: float64(4), object(1)\n",
      "memory usage: 3.8+ MB\n"
     ]
    },
    {
     "data": {
      "text/html": [
       "<div>\n",
       "<style scoped>\n",
       "    .dataframe tbody tr th:only-of-type {\n",
       "        vertical-align: middle;\n",
       "    }\n",
       "\n",
       "    .dataframe tbody tr th {\n",
       "        vertical-align: top;\n",
       "    }\n",
       "\n",
       "    .dataframe thead th {\n",
       "        text-align: right;\n",
       "    }\n",
       "</style>\n",
       "<table border=\"1\" class=\"dataframe\">\n",
       "  <thead>\n",
       "    <tr style=\"text-align: right;\">\n",
       "      <th></th>\n",
       "      <th>id</th>\n",
       "      <th>f0</th>\n",
       "      <th>f1</th>\n",
       "      <th>f2</th>\n",
       "      <th>product</th>\n",
       "    </tr>\n",
       "  </thead>\n",
       "  <tbody>\n",
       "    <tr>\n",
       "      <th>0</th>\n",
       "      <td>fwXo0</td>\n",
       "      <td>-1.146987</td>\n",
       "      <td>0.963328</td>\n",
       "      <td>-0.828965</td>\n",
       "      <td>27.758673</td>\n",
       "    </tr>\n",
       "    <tr>\n",
       "      <th>1</th>\n",
       "      <td>WJtFt</td>\n",
       "      <td>0.262778</td>\n",
       "      <td>0.269839</td>\n",
       "      <td>-2.530187</td>\n",
       "      <td>56.069697</td>\n",
       "    </tr>\n",
       "    <tr>\n",
       "      <th>2</th>\n",
       "      <td>ovLUW</td>\n",
       "      <td>0.194587</td>\n",
       "      <td>0.289035</td>\n",
       "      <td>-5.586433</td>\n",
       "      <td>62.871910</td>\n",
       "    </tr>\n",
       "    <tr>\n",
       "      <th>3</th>\n",
       "      <td>q6cA6</td>\n",
       "      <td>2.236060</td>\n",
       "      <td>-0.553760</td>\n",
       "      <td>0.930038</td>\n",
       "      <td>114.572842</td>\n",
       "    </tr>\n",
       "    <tr>\n",
       "      <th>4</th>\n",
       "      <td>WPMUX</td>\n",
       "      <td>-0.515993</td>\n",
       "      <td>1.716266</td>\n",
       "      <td>5.899011</td>\n",
       "      <td>149.600746</td>\n",
       "    </tr>\n",
       "    <tr>\n",
       "      <th>5</th>\n",
       "      <td>LzZXx</td>\n",
       "      <td>-0.758092</td>\n",
       "      <td>0.710691</td>\n",
       "      <td>2.585887</td>\n",
       "      <td>90.222465</td>\n",
       "    </tr>\n",
       "    <tr>\n",
       "      <th>6</th>\n",
       "      <td>WBHRv</td>\n",
       "      <td>-0.574891</td>\n",
       "      <td>0.317727</td>\n",
       "      <td>1.773745</td>\n",
       "      <td>45.641478</td>\n",
       "    </tr>\n",
       "    <tr>\n",
       "      <th>7</th>\n",
       "      <td>XO8fn</td>\n",
       "      <td>-1.906649</td>\n",
       "      <td>-2.458350</td>\n",
       "      <td>-0.177097</td>\n",
       "      <td>72.480640</td>\n",
       "    </tr>\n",
       "    <tr>\n",
       "      <th>8</th>\n",
       "      <td>ybmQ5</td>\n",
       "      <td>1.776292</td>\n",
       "      <td>-0.279356</td>\n",
       "      <td>3.004156</td>\n",
       "      <td>106.616832</td>\n",
       "    </tr>\n",
       "    <tr>\n",
       "      <th>9</th>\n",
       "      <td>OilcN</td>\n",
       "      <td>-1.214452</td>\n",
       "      <td>-0.439314</td>\n",
       "      <td>5.922514</td>\n",
       "      <td>52.954532</td>\n",
       "    </tr>\n",
       "  </tbody>\n",
       "</table>\n",
       "</div>"
      ],
      "text/plain": [
       "      id        f0        f1        f2     product\n",
       "0  fwXo0 -1.146987  0.963328 -0.828965   27.758673\n",
       "1  WJtFt  0.262778  0.269839 -2.530187   56.069697\n",
       "2  ovLUW  0.194587  0.289035 -5.586433   62.871910\n",
       "3  q6cA6  2.236060 -0.553760  0.930038  114.572842\n",
       "4  WPMUX -0.515993  1.716266  5.899011  149.600746\n",
       "5  LzZXx -0.758092  0.710691  2.585887   90.222465\n",
       "6  WBHRv -0.574891  0.317727  1.773745   45.641478\n",
       "7  XO8fn -1.906649 -2.458350 -0.177097   72.480640\n",
       "8  ybmQ5  1.776292 -0.279356  3.004156  106.616832\n",
       "9  OilcN -1.214452 -0.439314  5.922514   52.954532"
      ]
     },
     "execution_count": 14,
     "metadata": {},
     "output_type": "execute_result"
    }
   ],
   "source": [
    "# Смотрю данные по третьему региону\n",
    "\n",
    "region_2.info();\n",
    "region_2.head(10)"
   ]
  },
  {
   "cell_type": "code",
   "execution_count": 15,
   "metadata": {},
   "outputs": [
    {
     "name": "stdout",
     "output_type": "stream",
     "text": [
      "4\n",
      "0\n"
     ]
    }
   ],
   "source": [
    "# Ищу дубликаты в столбце id и удаляю их.\n",
    "\n",
    "print(region_2['id'].duplicated().sum())\n",
    "\n",
    "region_2 = region_2.drop_duplicates(subset=['id'], keep='first')\n",
    "\n",
    "print(region_2['id'].duplicated().sum())"
   ]
  },
  {
   "cell_type": "code",
   "execution_count": 16,
   "metadata": {
    "scrolled": true
   },
   "outputs": [
    {
     "data": {
      "text/plain": [
       "<AxesSubplot:>"
      ]
     },
     "execution_count": 16,
     "metadata": {},
     "output_type": "execute_result"
    },
    {
     "data": {
      "image/png": "[encoded data removed]",
      "text/plain": [
       "<Figure size 432x288 with 1 Axes>"
      ]
     },
     "metadata": {
      "needs_background": "light"
     },
     "output_type": "display_data"
    }
   ],
   "source": [
    "region_2['product'].hist(bins=1000)"
   ]
  },
  {
   "cell_type": "code",
   "execution_count": 17,
   "metadata": {},
   "outputs": [
    {
     "data": {
      "text/plain": [
       "<AxesSubplot:>"
      ]
     },
     "execution_count": 17,
     "metadata": {},
     "output_type": "execute_result"
    },
    {
     "data": {
      "image/png": "[encoded data removed]",
      "text/plain": [
       "<Figure size 432x288 with 2 Axes>"
      ]
     },
     "metadata": {
      "needs_background": "light"
     },
     "output_type": "display_data"
    }
   ],
   "source": [
    "upp_mat = np.triu(region_2.corr())\n",
    "sns.heatmap(region_2.corr(), vmin = -1, vmax = +1, annot = True, cmap = 'coolwarm', mask = upp_mat)"
   ]
  },
  {
   "cell_type": "markdown",
   "metadata": {},
   "source": [
    "<b>Итоги загрузки и подготовки данных:</b>\n",
    "\n",
    "В данных нет пропусков, они готовы к работе с моделью. Дубликаты удалены. Для обучения модели необходимо исключить id скважины.\n",
    "\n",
    "В данных второго региона наблюдается сильная корреляция между признаком product и f2. В третьем регионе корреляция между этими признаками составляет 0.45, а в первом - 0.48."
   ]
  },
  {
   "cell_type": "markdown",
   "metadata": {},
   "source": [
    "## Обучение и проверка модели"
   ]
  },
  {
   "cell_type": "code",
   "execution_count": 18,
   "metadata": {},
   "outputs": [
    {
     "name": "stdout",
     "output_type": "stream",
     "text": [
      "Средний запас предсказанного сырья в первом регионе: 92.78915638280621\n",
      "RMSE модели для первого региона: 37.853527328872964\n"
     ]
    }
   ],
   "source": [
    "# Выделяю целевой признак и создаю выборки по донным первого региона\n",
    "\n",
    "features_0 = region_0.drop(['id', 'product'], axis=1)\n",
    "target_0 = region_0['product']\n",
    "\n",
    "features_0_train, features_0_valid, target_0_train, target_0_valid = train_test_split(\n",
    "    features_0, \n",
    "    target_0, \n",
    "    test_size=0.25, \n",
    "    random_state=12345\n",
    ")\n",
    "\n",
    "# Обучаю модель на данных первого региона и вычисляю средний запас предсказанного сырья и RMSE.\n",
    "\n",
    "model_0 = LinearRegression()\n",
    "model_0.fit(features_0_train, target_0_train)\n",
    "predicted_0_valid = model_0.predict(features_0_valid)\n",
    "rmse_0 = mean_squared_error(target_0_valid, predicted_0_valid, squared=False)\n",
    "\n",
    "print(f'Средний запас предсказанного сырья в первом регионе: {predicted_0_valid.mean()}')\n",
    "print(f'RMSE модели для первого региона: {rmse_0}')\n",
    "\n",
    "predicted_0_valid_series = pd.Series(predicted_0_valid, index=features_0_valid.index)"
   ]
  },
  {
   "cell_type": "code",
   "execution_count": 19,
   "metadata": {},
   "outputs": [
    {
     "name": "stdout",
     "output_type": "stream",
     "text": [
      "Средний запас предсказанного сырья во втором регионе: 69.17831957030432\n",
      "RMSE модели для второго региона: 0.892059264771703\n"
     ]
    }
   ],
   "source": [
    "# Выделяю целевой признак и создаю выборки по дaнным второго региона\n",
    "\n",
    "features_1 = region_1.drop(['id', 'product'], axis=1)\n",
    "target_1 = region_1['product']\n",
    "\n",
    "features_1_train, features_1_valid, target_1_train, target_1_valid = train_test_split(\n",
    "    features_1, \n",
    "    target_1, \n",
    "    test_size=0.25, \n",
    "    random_state=12345\n",
    ")\n",
    "\n",
    "# Обучаю модель на данных второго региона и вычисляю средний запас предсказанного сырья и RMSE.\n",
    "\n",
    "model_1 = LinearRegression()\n",
    "model_1.fit(features_1_train, target_1_train)\n",
    "predicted_1_valid = model_1.predict(features_1_valid)\n",
    "rmse_1 = mean_squared_error(target_1_valid, predicted_1_valid, squared=False)\n",
    "\n",
    "print(f'Средний запас предсказанного сырья во втором регионе: {predicted_1_valid.mean()}')\n",
    "print(f'RMSE модели для второго региона: {rmse_1}')\n",
    "\n",
    "predicted_1_valid_series = pd.Series(predicted_1_valid, index=features_1_valid.index)"
   ]
  },
  {
   "cell_type": "code",
   "execution_count": 20,
   "metadata": {},
   "outputs": [
    {
     "name": "stdout",
     "output_type": "stream",
     "text": [
      "Средний запас предсказанного сырья в третьем регионе: 94.86572480562035\n",
      "RMSE модели для третьего региона: 40.07585073246016\n"
     ]
    }
   ],
   "source": [
    "# Выделяю целевой признак и создаю выборки по дaнным третьего региона\n",
    "\n",
    "features_2 = region_2.drop(['id', 'product'], axis=1)\n",
    "target_2 = region_2['product']\n",
    "\n",
    "features_2_train, features_2_valid, target_2_train, target_2_valid = train_test_split(\n",
    "    features_2, \n",
    "    target_2, \n",
    "    test_size=0.25, \n",
    "    random_state=12345\n",
    ")\n",
    "\n",
    "# Обучаю модель на данных третьего региона и вычисляю средний запас предсказанного сырья и RMSE.\n",
    "\n",
    "model_2 = LinearRegression()\n",
    "model_2.fit(features_2_train, target_2_train)\n",
    "predicted_2_valid = model_2.predict(features_2_valid)\n",
    "rmse_2 = mean_squared_error(target_2_valid, predicted_2_valid, squared=False)\n",
    "\n",
    "print(f'Средний запас предсказанного сырья в третьем регионе: {predicted_2_valid.mean()}')\n",
    "print(f'RMSE модели для третьего региона: {rmse_2}')\n",
    "\n",
    "predicted_2_valid_series = pd.Series(predicted_2_valid, index=features_2_valid.index)"
   ]
  },
  {
   "cell_type": "markdown",
   "metadata": {},
   "source": [
    "### Итоги обучения и проверкии моделей по данным из трёх регионов.\n",
    "\n",
    "Показатели <b>среднего запаса предсказанного сырья</b> в трёх регионах:\n",
    "- Первое место занимает <b>третий регион</b>. Средний запас предсказанного сырья в третьем регионе: <b>94.96504596800489</b>\n",
    "- Второе место занимает <b>первый регион</b>. Средний запас предсказанного сырья в первом регионе: <b>92.59256778438035</b>\n",
    "- Третье место занимает <b>второй регион</b>. Средний запас предсказанного сырья во втором регионе: <b>68.728546895446</b>\n",
    "\n",
    "Показатели <b>RMSE</b> моделей, обученных по данным трёх регионов:\n",
    "Наиболее точной является модель для второго региона, остальные модели склонны завышать объемы сапасов в скважинах: \n",
    "- RMSE модели для <b>второго</b> региона: <b>0.893099286775617</b>\n",
    "- RMSE модели для <b>первого</b> региона: <b>37.5794217150813</b>\n",
    "- RMSE модели для <b>третьего</b> региона: <b>40.02970873393434</b>"
   ]
  },
  {
   "cell_type": "markdown",
   "metadata": {},
   "source": [
    "## Подготовка к расчёту прибыли"
   ]
  },
  {
   "cell_type": "code",
   "execution_count": 21,
   "metadata": {},
   "outputs": [
    {
     "name": "stdout",
     "output_type": "stream",
     "text": [
      "Достаточный объём сырья для безубыточной разработки новой скважины: 111.11111111111111\n"
     ]
    }
   ],
   "source": [
    "# Вычисляю достаточный объём сырья для безубыточной разработки новой скважины\n",
    "\n",
    "sufficient_product_volume = budget / (product_price * well_number)\n",
    "\n",
    "print(f'Достаточный объём сырья для безубыточной разработки новой скважины: {sufficient_product_volume}')"
   ]
  },
  {
   "cell_type": "markdown",
   "metadata": {},
   "source": [
    "### Итоги расчётов.\n",
    "\n",
    "Расчёты показали, что скважина не будет убыточной, если <b>объём запасов в скважине</b> будет не менее <b>111.11111111111111</b> (тыс. баррелей). "
   ]
  },
  {
   "cell_type": "markdown",
   "metadata": {},
   "source": [
    "## Расчёт прибыли и рисков "
   ]
  },
  {
   "cell_type": "code",
   "execution_count": 22,
   "metadata": {},
   "outputs": [],
   "source": [
    "# Создаю функцию для определения прибыли\n",
    "\n",
    "def product_profit(product_predictions_valid, product_target_valid, product_cost, expenses, max_number):\n",
    "    product_predictions_valid = pd.Series(product_predictions_valid)\n",
    "    product_predictions_valid = product_predictions_valid.sort_values(ascending=False)[:max_number]\n",
    "    total_profit = (product_target_valid.iloc[product_predictions_valid.index].sum() * product_cost) - expenses\n",
    "    return total_profit"
   ]
  },
  {
   "cell_type": "code",
   "execution_count": 24,
   "metadata": {},
   "outputs": [
    {
     "name": "stdout",
     "output_type": "stream",
     "text": [
      "Суммарная прибыль 200 лучших скважин первого региона: 3365187237.700287\n"
     ]
    }
   ],
   "source": [
    "# Определяю прибыль для 200 лучших скважин первого региона\n",
    "\n",
    "region_0_profit = product_profit(predicted_0_valid, target_0_valid, product_price, budget, 200)\n",
    "\n",
    "print('Суммарная прибыль 200 лучших скважин первого региона:', region_0_profit)"
   ]
  },
  {
   "cell_type": "code",
   "execution_count": 25,
   "metadata": {},
   "outputs": [
    {
     "name": "stdout",
     "output_type": "stream",
     "text": [
      "Суммарная прибыль 200 лучших скважин второго региона: 2415086696.681511\n"
     ]
    }
   ],
   "source": [
    "# Определяю прибыль для 200 лучших скважин второго региона\n",
    "\n",
    "region_1_profit = product_profit(predicted_1_valid, target_1_valid, product_price, budget, 200)\n",
    "\n",
    "print('Суммарная прибыль 200 лучших скважин второго региона:', region_1_profit)"
   ]
  },
  {
   "cell_type": "code",
   "execution_count": 26,
   "metadata": {},
   "outputs": [
    {
     "name": "stdout",
     "output_type": "stream",
     "text": [
      "Суммарная прибыль 200 лучших скважин третьего региона: 2501283853.2820625\n"
     ]
    }
   ],
   "source": [
    "# Определяю прибыль для 200 лучших скважин третьего региона\n",
    "\n",
    "region_2_profit = product_profit(predicted_2_valid, target_2_valid, product_price, budget, 200)\n",
    "\n",
    "print('Суммарная прибыль 200 лучших скважин третьего региона:', region_2_profit)"
   ]
  },
  {
   "cell_type": "markdown",
   "metadata": {},
   "source": [
    "<b>Итоги расчёта прибыли и рисков для трёх регионов:</b>\n",
    "\n",
    "- На первом месте по прибыли - <b>первый</b> регион. Суммарная прибыль 200 лучших скважин первого региона: <b>3365187237.700287</b>\n",
    "- Второе место по прибыли занимает <b>третий</b> регион. Суммарная прибыль 200 лучших скважин третьего региона: <b>2501283853.2820625</b>\n",
    "- Третье место по прибыли занимает <b>второй</b> регион. Суммарная прибыль 200 лучших скважин второго региона: <b>2415086696.681511</b>"
   ]
  },
  {
   "cell_type": "markdown",
   "metadata": {},
   "source": [
    "## Подсчёт рисков и прибыли для каждого региона"
   ]
  },
  {
   "cell_type": "code",
   "execution_count": 27,
   "metadata": {},
   "outputs": [],
   "source": [
    "target_0_valid = pd.Series(target_0_valid).reset_index(drop=True)\n",
    "target_1_valid = pd.Series(target_1_valid).reset_index(drop=True)\n",
    "target_2_valid = pd.Series(target_2_valid).reset_index(drop=True)\n",
    "\n",
    "predicted_0_valid = pd.Series(predicted_0_valid)\n",
    "predicted_1_valid = pd.Series(predicted_1_valid)\n",
    "predicted_2_valid = pd.Series(predicted_2_valid)"
   ]
  },
  {
   "cell_type": "code",
   "execution_count": 28,
   "metadata": {},
   "outputs": [],
   "source": [
    "state = RandomState(12345)\n",
    "\n",
    "def product_profit_sample(prediction, target, max_number=200):\n",
    "    sample = prediction.sample(500, replace=True, random_state=state)\n",
    "    best_sample = sample.sort_values(ascending=False)[:max_number]\n",
    "    best_target = target[best_sample.index]\n",
    "    total_profit = (best_target.sum() * product_price) - budget\n",
    "    return total_profit"
   ]
  },
  {
   "cell_type": "code",
   "execution_count": 29,
   "metadata": {},
   "outputs": [
    {
     "name": "stdout",
     "output_type": "stream",
     "text": [
      "Средняя прибыль первого региона: 380613470.0175977\n",
      "95%-й доверительный интервал первого региона: [-142942739.74041605, 890976833.8485551]\n",
      "Доля убытков для первого региона составляет: 0.077\n"
     ]
    }
   ],
   "source": [
    "# Применяю технику Bootstrap с 1000 повторений, чтобы найти распределение прибыли для первого региона.\n",
    "\n",
    "region_0_total_profit = []\n",
    "\n",
    "for i in range(1000):\n",
    "    region_0_total_profit.append(product_profit_sample(predicted_0_valid, target_0_valid))\n",
    "\n",
    "region_0_total_profit = pd.Series(region_0_total_profit)\n",
    "\n",
    "print('Средняя прибыль первого региона:', region_0_total_profit.mean())\n",
    "\n",
    "region_0_confidence_interval = [region_0_total_profit.quantile(0.025), region_0_total_profit.quantile(0.975)]\n",
    "\n",
    "print('95%-й доверительный интервал первого региона:', region_0_confidence_interval)\n",
    "\n",
    "region_0_total_losses = []\n",
    "\n",
    "for i in region_0_total_profit:\n",
    "    if i < 0:\n",
    "        region_0_total_losses.append(i)\n",
    "        \n",
    "print('Доля убытков для первого региона составляет:', len(region_0_total_losses)/len(region_0_total_profit))\n",
    "        "
   ]
  },
  {
   "cell_type": "code",
   "execution_count": 30,
   "metadata": {},
   "outputs": [
    {
     "name": "stdout",
     "output_type": "stream",
     "text": [
      "Средняя прибыль одной скважины первого региона: 1903067.3500879884\n"
     ]
    }
   ],
   "source": [
    "print('Средняя прибыль одной скважины первого региона:', 380613470.0175977 / 200)"
   ]
  },
  {
   "cell_type": "code",
   "execution_count": 31,
   "metadata": {},
   "outputs": [
    {
     "name": "stdout",
     "output_type": "stream",
     "text": [
      "Средняя прибыль второго региона: 479159869.981588\n",
      "95%-й доверительный интервал второго региона: [73849212.0224793, 917953817.7221825]\n",
      "Доля убытков для второго региона составляет: 0.006\n"
     ]
    }
   ],
   "source": [
    "# Применяю технику Bootstrap с 1000 повторений, чтобы найти распределение прибыли для второго региона.\n",
    "\n",
    "region_1_total_profit = []\n",
    "\n",
    "for i in range(1000):\n",
    "    region_1_total_profit.append(product_profit_sample(predicted_1_valid, target_1_valid))\n",
    "\n",
    "region_1_total_profit = pd.Series(region_1_total_profit)\n",
    "\n",
    "print('Средняя прибыль второго региона:', region_1_total_profit.mean())\n",
    "\n",
    "\n",
    "region_1_confidence_interval = [region_1_total_profit.quantile(0.025), region_1_total_profit.quantile(0.975)]\n",
    "\n",
    "print('95%-й доверительный интервал второго региона:', region_1_confidence_interval)\n",
    "\n",
    "region_1_total_losses = []\n",
    "\n",
    "for i in region_1_total_profit:\n",
    "    if i < 0:\n",
    "        region_1_total_losses.append(i)\n",
    "        \n",
    "print('Доля убытков для второго региона составляет:', len(region_1_total_losses)/len(region_1_total_profit))"
   ]
  },
  {
   "cell_type": "code",
   "execution_count": 32,
   "metadata": {},
   "outputs": [
    {
     "name": "stdout",
     "output_type": "stream",
     "text": [
      "Средняя прибыль одной скважины второго региона: 2395799.3499079403\n"
     ]
    }
   ],
   "source": [
    "print('Средняя прибыль одной скважины второго региона:', 479159869.981588 / 200)"
   ]
  },
  {
   "cell_type": "code",
   "execution_count": 33,
   "metadata": {},
   "outputs": [
    {
     "name": "stdout",
     "output_type": "stream",
     "text": [
      "Средняя прибыль третьего региона: 315441916.0234899\n",
      "95%-й доверительный интервал третьего региона: [-216265050.0341763, 811060708.2365634]\n",
      "Доля убытков для третьего региона составляет: 0.124\n"
     ]
    }
   ],
   "source": [
    "# Применяю технику Bootstrap с 1000 повторений, чтобы найти распределение прибыли для третьего региона.\n",
    "\n",
    "region_2_total_profit = []\n",
    "\n",
    "for i in range(1000):\n",
    "    region_2_total_profit.append(product_profit_sample(predicted_2_valid, target_2_valid))\n",
    "\n",
    "region_2_total_profit = pd.Series(region_2_total_profit)\n",
    "\n",
    "print('Средняя прибыль третьего региона:', region_2_total_profit.mean())\n",
    "\n",
    "region_2_confidence_interval = [region_2_total_profit.quantile(0.025), region_2_total_profit.quantile(0.975)]\n",
    "\n",
    "print('95%-й доверительный интервал третьего региона:', region_2_confidence_interval)\n",
    "\n",
    "region_2_total_losses = []\n",
    "\n",
    "for i in region_2_total_profit:\n",
    "    if i < 0:\n",
    "        region_2_total_losses.append(i)\n",
    "        \n",
    "print('Доля убытков для третьего региона составляет:', len(region_2_total_losses)/len(region_2_total_profit))"
   ]
  },
  {
   "cell_type": "code",
   "execution_count": 34,
   "metadata": {},
   "outputs": [
    {
     "name": "stdout",
     "output_type": "stream",
     "text": [
      "Средняя прибыль одной скважины третьего региона: 1577209.5801174494\n"
     ]
    }
   ],
   "source": [
    "print('Средняя прибыль одной скважины третьего региона:', 315441916.0234899 / 200)"
   ]
  },
  {
   "cell_type": "markdown",
   "metadata": {},
   "source": [
    "Были выполнены следующие действия:\n",
    "\n",
    "1. Загрузка и подготовка данных\n",
    "\n",
    "В данных нет пропусков, они готовы к работе с моделью. Дубликаты удалены. Для обучения модели необходимо исключить id скважины.\n",
    "\n",
    "В данных второго региона наблюдается сильная корреляция между признаком product и f2. В третьем регионе корреляция между этими признаками составляет 0.45, а в первом - 0.48.\n",
    "\n",
    "2.  Обучение и проверка модели\n",
    "\n",
    "Показатели <b>среднего запаса предсказанного сырья</b> в трёх регионах:\n",
    "- Первое место занимает <b>третий регион</b>. Средний запас предсказанного сырья в третьем регионе: <b>94.96504596800489</b>\n",
    "- Второе место занимает <b>первый регион</b>. Средний запас предсказанного сырья в первом регионе: <b>92.59256778438035</b>\n",
    "- Третье место занимает <b>второй регион</b>. Средний запас предсказанного сырья во втором регионе: <b>68.728546895446</b>\n",
    "\n",
    "Показатели <b>RMSE</b> моделей, обученных по данным трёх регионов:\n",
    "Наиболее точной является модель для второго региона, остальные модели склонны завышать объемы сапасов в скважинах: \n",
    "- RMSE модели для <b>второго</b> региона: <b>0.893099286775617</b>\n",
    "- RMSE модели для <b>первого</b> региона: <b>37.5794217150813</b>\n",
    "- RMSE модели для <b>третьего</b> региона: <b>40.02970873393434</b>\n",
    "\n",
    "3.  Подготовка к расчёту прибыли\n",
    "\n",
    "Расчёты показали, что скважина не будет убыточной, если <b>объём запасов в скважине</b> будет не менее <b>111.11111111111111</b> (тыс. баррелей). \n",
    "\n",
    "4.  Расчёт прибыли и рисков\n",
    "\n",
    "- На первом месте по прибыли - <b>первый</b> регион. Суммарная прибыль 200 лучших скважин первого региона: <b>3365187237.700287</b>\n",
    "- Второе место по прибыли занимает <b>третий</b> регион. Суммарная прибыль 200 лучших скважин третьего региона: <b>2501283853.2820625</b>\n",
    "- Третье место по прибыли занимает <b>второй</b> регион. Суммарная прибыль 200 лучших скважин второго региона: <b>2415086696.681511</b>\n",
    "\n",
    "5. Подсчёт рисков и прибыли для каждого региона\n",
    "\n",
    "Первый регион:\n",
    "- Средняя прибыль первого региона: 380613470.0175977\n",
    "- Средняя прибыль одной скважины первого региона: 1903067.3500879884\n",
    "- 95%-й доверительный интервал первого региона: [-142942739.74041605, 890976833.8485551]\n",
    "- Доля убытков для первого региона составляет: 0.077\n",
    "\n",
    "Второй регион:\n",
    "- Средняя прибыль второго региона: 479159869.981588\n",
    "- Средняя прибыль одной скважины второго региона: 2395799.3499079403\n",
    "- 95%-й доверительный интервал второго региона: [73849212.0224793, 917953817.7221825]\n",
    "- Доля убытков для второго региона составляет: 0.006\n",
    "\n",
    "Третий регион:\n",
    "- Средняя прибыль третьего региона: 315441916.0234899\n",
    "- Средняя прибыль одной скважины третьего региона: 1577209.5801174494\n",
    "- 95%-й доверительный интервал третьего региона: [-216265050.0341763, 811060708.2365634]\n",
    "- Доля убытков для третьего региона составляет: 0.124\n",
    "\n",
    "<b>Вывод</b>\n",
    "\n",
    "Регионом с самым высоким значением средней прибыли и минимальными рисками является <b>второй</b>. В первом регионе значение средней прибыли ниже, а риски значительно выше. В третьем регионе средняя прибыль ещё ниже, а риски ещё выше. "
   ]
  }
 ],
 "metadata": {
  "ExecuteTimeLog": [
   {
    "duration": 45,
    "start_time": "2023-01-06T10:09:23.100Z"
   },
   {
    "duration": 1724,
    "start_time": "2023-01-06T10:09:27.247Z"
   },
   {
    "duration": 26,
    "start_time": "2023-01-06T10:09:29.571Z"
   },
   {
    "duration": 20,
    "start_time": "2023-01-06T10:10:01.210Z"
   },
   {
    "duration": 29,
    "start_time": "2023-01-06T10:10:40.619Z"
   },
   {
    "duration": 19,
    "start_time": "2023-01-06T10:11:13.724Z"
   },
   {
    "duration": 333,
    "start_time": "2023-01-06T10:22:51.009Z"
   },
   {
    "duration": 32,
    "start_time": "2023-01-06T10:36:19.018Z"
   },
   {
    "duration": 26,
    "start_time": "2023-01-06T10:37:05.535Z"
   },
   {
    "duration": 28,
    "start_time": "2023-01-06T10:44:30.146Z"
   },
   {
    "duration": 30,
    "start_time": "2023-01-06T10:49:20.319Z"
   },
   {
    "duration": 27,
    "start_time": "2023-01-06T10:50:16.117Z"
   },
   {
    "duration": 3801,
    "start_time": "2023-01-06T12:11:18.711Z"
   },
   {
    "duration": 37,
    "start_time": "2023-01-06T12:11:22.513Z"
   },
   {
    "duration": 42,
    "start_time": "2023-01-06T12:11:22.553Z"
   },
   {
    "duration": 26,
    "start_time": "2023-01-06T12:11:22.597Z"
   },
   {
    "duration": 46,
    "start_time": "2023-01-06T12:11:22.625Z"
   },
   {
    "duration": 140,
    "start_time": "2023-01-06T12:11:22.730Z"
   },
   {
    "duration": 281,
    "start_time": "2023-01-06T12:11:22.873Z"
   },
   {
    "duration": 6,
    "start_time": "2023-01-06T12:31:57.056Z"
   },
   {
    "duration": 8,
    "start_time": "2023-01-06T12:32:43.455Z"
   },
   {
    "duration": 5,
    "start_time": "2023-01-06T12:33:03.440Z"
   },
   {
    "duration": 5,
    "start_time": "2023-01-06T12:35:40.692Z"
   },
   {
    "duration": 106,
    "start_time": "2023-01-06T13:05:11.394Z"
   },
   {
    "duration": 12,
    "start_time": "2023-01-06T13:05:53.998Z"
   },
   {
    "duration": 10,
    "start_time": "2023-01-06T13:06:36.003Z"
   },
   {
    "duration": 3,
    "start_time": "2023-01-06T13:07:34.852Z"
   },
   {
    "duration": 12,
    "start_time": "2023-01-06T13:08:13.066Z"
   },
   {
    "duration": 9,
    "start_time": "2023-01-06T13:11:02.767Z"
   },
   {
    "duration": 9,
    "start_time": "2023-01-06T13:11:23.034Z"
   },
   {
    "duration": 10,
    "start_time": "2023-01-06T13:11:40.958Z"
   },
   {
    "duration": 17,
    "start_time": "2023-01-06T13:11:53.032Z"
   },
   {
    "duration": 19,
    "start_time": "2023-01-06T13:12:09.601Z"
   },
   {
    "duration": 10,
    "start_time": "2023-01-06T13:14:03.636Z"
   },
   {
    "duration": 13,
    "start_time": "2023-01-06T13:15:21.325Z"
   },
   {
    "duration": 14,
    "start_time": "2023-01-06T13:15:31.741Z"
   },
   {
    "duration": 8,
    "start_time": "2023-01-06T13:15:34.311Z"
   },
   {
    "duration": 14,
    "start_time": "2023-01-06T13:16:01.541Z"
   },
   {
    "duration": 9,
    "start_time": "2023-01-06T13:16:27.474Z"
   },
   {
    "duration": 8,
    "start_time": "2023-01-06T13:17:17.608Z"
   },
   {
    "duration": 96,
    "start_time": "2023-01-06T13:22:21.887Z"
   },
   {
    "duration": 77,
    "start_time": "2023-01-06T13:22:30.739Z"
   },
   {
    "duration": 5,
    "start_time": "2023-01-06T13:22:37.790Z"
   },
   {
    "duration": 5,
    "start_time": "2023-01-06T13:25:39.987Z"
   },
   {
    "duration": 6,
    "start_time": "2023-01-06T13:26:49.197Z"
   },
   {
    "duration": 4,
    "start_time": "2023-01-06T13:27:14.197Z"
   },
   {
    "duration": 4,
    "start_time": "2023-01-06T13:27:39.685Z"
   },
   {
    "duration": 24,
    "start_time": "2023-01-06T14:06:09.690Z"
   },
   {
    "duration": 15,
    "start_time": "2023-01-06T14:08:25.284Z"
   },
   {
    "duration": 4,
    "start_time": "2023-01-06T14:08:47.421Z"
   },
   {
    "duration": 5,
    "start_time": "2023-01-06T14:09:06.334Z"
   },
   {
    "duration": 5,
    "start_time": "2023-01-06T14:09:29.056Z"
   },
   {
    "duration": 5,
    "start_time": "2023-01-06T14:09:34.497Z"
   },
   {
    "duration": 5,
    "start_time": "2023-01-06T14:09:35.038Z"
   },
   {
    "duration": 4,
    "start_time": "2023-01-06T14:09:35.976Z"
   },
   {
    "duration": 5,
    "start_time": "2023-01-06T14:09:57.792Z"
   },
   {
    "duration": 380,
    "start_time": "2023-01-06T14:31:09.222Z"
   },
   {
    "duration": 75,
    "start_time": "2023-01-06T14:31:22.681Z"
   },
   {
    "duration": 10,
    "start_time": "2023-01-06T14:31:29.818Z"
   },
   {
    "duration": 15464,
    "start_time": "2023-01-06T14:32:27.190Z"
   },
   {
    "duration": 433,
    "start_time": "2023-01-06T16:09:51.353Z"
   },
   {
    "duration": 12,
    "start_time": "2023-01-06T16:21:53.297Z"
   },
   {
    "duration": 4,
    "start_time": "2023-01-06T16:35:22.503Z"
   },
   {
    "duration": 20,
    "start_time": "2023-01-06T16:35:26.275Z"
   },
   {
    "duration": 4,
    "start_time": "2023-01-06T16:36:02.234Z"
   },
   {
    "duration": 5,
    "start_time": "2023-01-06T16:36:40.372Z"
   },
   {
    "duration": 9,
    "start_time": "2023-01-06T16:36:42.912Z"
   },
   {
    "duration": 10,
    "start_time": "2023-01-06T16:36:54.467Z"
   },
   {
    "duration": 11,
    "start_time": "2023-01-06T16:37:15.630Z"
   },
   {
    "duration": 79,
    "start_time": "2023-01-06T16:37:18.403Z"
   },
   {
    "duration": 4,
    "start_time": "2023-01-06T16:37:35.004Z"
   },
   {
    "duration": 8,
    "start_time": "2023-01-06T16:37:39.633Z"
   },
   {
    "duration": 10,
    "start_time": "2023-01-06T16:38:04.937Z"
   },
   {
    "duration": 8,
    "start_time": "2023-01-06T16:38:39.469Z"
   },
   {
    "duration": 394,
    "start_time": "2023-01-06T16:41:42.087Z"
   },
   {
    "duration": 11,
    "start_time": "2023-01-06T16:44:17.119Z"
   },
   {
    "duration": 12,
    "start_time": "2023-01-06T16:44:57.644Z"
   },
   {
    "duration": 13,
    "start_time": "2023-01-06T16:45:18.337Z"
   },
   {
    "duration": 12,
    "start_time": "2023-01-06T16:46:21.953Z"
   },
   {
    "duration": 10,
    "start_time": "2023-01-06T16:47:13.151Z"
   },
   {
    "duration": 63,
    "start_time": "2023-01-06T16:52:58.464Z"
   },
   {
    "duration": 80,
    "start_time": "2023-01-06T16:53:17.150Z"
   },
   {
    "duration": 25,
    "start_time": "2023-01-06T16:53:33.265Z"
   },
   {
    "duration": 29,
    "start_time": "2023-01-06T16:54:15.814Z"
   },
   {
    "duration": 30,
    "start_time": "2023-01-06T16:55:21.288Z"
   },
   {
    "duration": 23,
    "start_time": "2023-01-06T16:55:51.244Z"
   },
   {
    "duration": 9,
    "start_time": "2023-01-06T16:56:25.425Z"
   },
   {
    "duration": 27,
    "start_time": "2023-01-06T16:56:41.223Z"
   },
   {
    "duration": 28,
    "start_time": "2023-01-06T16:57:06.715Z"
   },
   {
    "duration": 27,
    "start_time": "2023-01-06T16:57:27.408Z"
   },
   {
    "duration": 19,
    "start_time": "2023-01-06T16:57:35.752Z"
   },
   {
    "duration": 32,
    "start_time": "2023-01-06T17:00:42.801Z"
   },
   {
    "duration": 28,
    "start_time": "2023-01-06T17:01:15.260Z"
   },
   {
    "duration": 26,
    "start_time": "2023-01-06T17:01:15.776Z"
   },
   {
    "duration": 24,
    "start_time": "2023-01-06T17:01:16.383Z"
   },
   {
    "duration": 22,
    "start_time": "2023-01-06T17:01:20.554Z"
   },
   {
    "duration": 31,
    "start_time": "2023-01-06T17:02:05.608Z"
   },
   {
    "duration": 28,
    "start_time": "2023-01-06T17:02:10.039Z"
   },
   {
    "duration": 5,
    "start_time": "2023-01-06T17:03:33.177Z"
   },
   {
    "duration": 24,
    "start_time": "2023-01-06T17:03:34.428Z"
   },
   {
    "duration": 5,
    "start_time": "2023-01-06T17:03:55.272Z"
   },
   {
    "duration": 9,
    "start_time": "2023-01-06T17:04:06.501Z"
   },
   {
    "duration": 33,
    "start_time": "2023-01-06T17:04:21.913Z"
   },
   {
    "duration": 3,
    "start_time": "2023-01-06T17:06:09.623Z"
   },
   {
    "duration": 27,
    "start_time": "2023-01-06T17:06:10.655Z"
   },
   {
    "duration": 17,
    "start_time": "2023-01-06T17:06:33.769Z"
   },
   {
    "duration": 16,
    "start_time": "2023-01-06T17:07:06.602Z"
   },
   {
    "duration": 21,
    "start_time": "2023-01-06T17:07:16.078Z"
   },
   {
    "duration": 20,
    "start_time": "2023-01-06T17:07:19.789Z"
   },
   {
    "duration": 4,
    "start_time": "2023-01-06T17:07:27.310Z"
   },
   {
    "duration": 9,
    "start_time": "2023-01-06T17:07:28.558Z"
   },
   {
    "duration": 3,
    "start_time": "2023-01-06T17:07:49.210Z"
   },
   {
    "duration": 16,
    "start_time": "2023-01-06T17:08:00.660Z"
   },
   {
    "duration": 3,
    "start_time": "2023-01-06T17:08:10.855Z"
   },
   {
    "duration": 32,
    "start_time": "2023-01-06T17:08:44.610Z"
   },
   {
    "duration": 62,
    "start_time": "2023-01-06T17:08:57.465Z"
   },
   {
    "duration": 24,
    "start_time": "2023-01-06T17:09:11.157Z"
   },
   {
    "duration": 16,
    "start_time": "2023-01-06T17:09:23.699Z"
   },
   {
    "duration": 26,
    "start_time": "2023-01-06T17:12:02.937Z"
   },
   {
    "duration": 16,
    "start_time": "2023-01-06T17:13:05.336Z"
   },
   {
    "duration": 25,
    "start_time": "2023-01-06T17:14:03.818Z"
   },
   {
    "duration": 364,
    "start_time": "2023-01-06T17:14:21.872Z"
   },
   {
    "duration": 18,
    "start_time": "2023-01-06T17:14:27.877Z"
   },
   {
    "duration": 26,
    "start_time": "2023-01-06T17:32:16.503Z"
   },
   {
    "duration": 27,
    "start_time": "2023-01-06T17:37:38.076Z"
   },
   {
    "duration": 18,
    "start_time": "2023-01-06T17:38:39.643Z"
   },
   {
    "duration": 4,
    "start_time": "2023-01-06T17:48:45.275Z"
   },
   {
    "duration": 79,
    "start_time": "2023-01-06T17:49:55.042Z"
   },
   {
    "duration": 7,
    "start_time": "2023-01-06T17:50:02.290Z"
   },
   {
    "duration": 28,
    "start_time": "2023-01-06T17:51:05.002Z"
   },
   {
    "duration": 29,
    "start_time": "2023-01-06T17:51:49.388Z"
   },
   {
    "duration": 9,
    "start_time": "2023-01-06T17:51:55.847Z"
   },
   {
    "duration": 32,
    "start_time": "2023-01-06T17:51:57.720Z"
   },
   {
    "duration": 4,
    "start_time": "2023-01-06T17:59:47.104Z"
   },
   {
    "duration": 4,
    "start_time": "2023-01-06T18:01:27.378Z"
   },
   {
    "duration": 13,
    "start_time": "2023-01-06T18:02:13.268Z"
   },
   {
    "duration": 5,
    "start_time": "2023-01-06T18:02:46.879Z"
   },
   {
    "duration": 15,
    "start_time": "2023-01-06T18:02:49.534Z"
   },
   {
    "duration": 7,
    "start_time": "2023-01-06T18:03:06.960Z"
   },
   {
    "duration": 1583,
    "start_time": "2023-01-06T18:03:08.076Z"
   },
   {
    "duration": 1314,
    "start_time": "2023-01-06T18:03:58.362Z"
   },
   {
    "duration": 1270,
    "start_time": "2023-01-06T18:08:11.135Z"
   },
   {
    "duration": 1344,
    "start_time": "2023-01-06T18:08:23.222Z"
   },
   {
    "duration": 1123,
    "start_time": "2023-01-06T18:08:37.693Z"
   },
   {
    "duration": 1165,
    "start_time": "2023-01-06T18:08:52.152Z"
   },
   {
    "duration": 103,
    "start_time": "2023-01-06T18:13:36.247Z"
   },
   {
    "duration": 1179,
    "start_time": "2023-01-06T18:13:45.873Z"
   },
   {
    "duration": 1163,
    "start_time": "2023-01-06T18:14:15.104Z"
   },
   {
    "duration": 11,
    "start_time": "2023-01-06T18:16:05.488Z"
   },
   {
    "duration": 1193,
    "start_time": "2023-01-06T18:16:51.507Z"
   },
   {
    "duration": 6,
    "start_time": "2023-01-06T18:17:00.540Z"
   },
   {
    "duration": 1098,
    "start_time": "2023-01-06T18:18:24.884Z"
   },
   {
    "duration": 1204,
    "start_time": "2023-01-06T18:31:39.907Z"
   },
   {
    "duration": 1470,
    "start_time": "2023-01-06T18:33:47.148Z"
   },
   {
    "duration": 1548,
    "start_time": "2023-01-06T18:36:16.441Z"
   },
   {
    "duration": 1226,
    "start_time": "2023-01-06T18:36:26.257Z"
   },
   {
    "duration": 1298,
    "start_time": "2023-01-06T18:37:37.615Z"
   },
   {
    "duration": 1538,
    "start_time": "2023-01-06T19:40:20.201Z"
   },
   {
    "duration": 25,
    "start_time": "2023-01-06T19:40:21.741Z"
   },
   {
    "duration": 20,
    "start_time": "2023-01-06T19:40:21.767Z"
   },
   {
    "duration": 36,
    "start_time": "2023-01-06T19:40:21.789Z"
   },
   {
    "duration": 32,
    "start_time": "2023-01-06T19:40:21.827Z"
   },
   {
    "duration": 174,
    "start_time": "2023-01-06T19:40:21.861Z"
   },
   {
    "duration": 195,
    "start_time": "2023-01-06T19:40:22.037Z"
   },
   {
    "duration": 90,
    "start_time": "2023-01-06T19:40:22.234Z"
   },
   {
    "duration": 94,
    "start_time": "2023-01-06T19:40:22.329Z"
   },
   {
    "duration": 9,
    "start_time": "2023-01-06T19:40:22.426Z"
   },
   {
    "duration": 7,
    "start_time": "2023-01-06T19:40:22.436Z"
   },
   {
    "duration": 8,
    "start_time": "2023-01-06T19:40:22.445Z"
   },
   {
    "duration": 4,
    "start_time": "2023-01-06T19:40:22.454Z"
   },
   {
    "duration": 6,
    "start_time": "2023-01-06T19:40:22.459Z"
   },
   {
    "duration": 1032,
    "start_time": "2023-01-06T19:40:22.467Z"
   },
   {
    "duration": 1021,
    "start_time": "2023-01-06T19:40:23.501Z"
   },
   {
    "duration": 973,
    "start_time": "2023-01-06T19:40:24.524Z"
   },
   {
    "duration": 2270,
    "start_time": "2023-01-07T08:52:36.453Z"
   },
   {
    "duration": 27,
    "start_time": "2023-01-07T08:52:38.725Z"
   },
   {
    "duration": 20,
    "start_time": "2023-01-07T08:52:38.754Z"
   },
   {
    "duration": 23,
    "start_time": "2023-01-07T08:52:38.776Z"
   },
   {
    "duration": 38,
    "start_time": "2023-01-07T08:52:38.802Z"
   },
   {
    "duration": 165,
    "start_time": "2023-01-07T08:52:38.842Z"
   },
   {
    "duration": 199,
    "start_time": "2023-01-07T08:52:39.009Z"
   },
   {
    "duration": 205,
    "start_time": "2023-01-07T08:52:39.209Z"
   },
   {
    "duration": 6,
    "start_time": "2023-01-07T08:52:39.415Z"
   },
   {
    "duration": 9,
    "start_time": "2023-01-07T08:52:39.423Z"
   },
   {
    "duration": 8,
    "start_time": "2023-01-07T08:52:39.434Z"
   },
   {
    "duration": 7,
    "start_time": "2023-01-07T08:52:39.444Z"
   },
   {
    "duration": 5,
    "start_time": "2023-01-07T08:52:39.453Z"
   },
   {
    "duration": 6,
    "start_time": "2023-01-07T08:52:39.460Z"
   },
   {
    "duration": 1117,
    "start_time": "2023-01-07T08:52:39.467Z"
   },
   {
    "duration": 1095,
    "start_time": "2023-01-07T08:52:40.585Z"
   },
   {
    "duration": 1057,
    "start_time": "2023-01-07T08:52:41.682Z"
   },
   {
    "duration": 5,
    "start_time": "2023-01-07T08:53:01.018Z"
   },
   {
    "duration": 6,
    "start_time": "2023-01-07T08:54:03.585Z"
   },
   {
    "duration": 4,
    "start_time": "2023-01-07T08:56:13.479Z"
   },
   {
    "duration": 6,
    "start_time": "2023-01-07T08:56:18.545Z"
   },
   {
    "duration": 5,
    "start_time": "2023-01-07T08:56:29.034Z"
   },
   {
    "duration": 6,
    "start_time": "2023-01-07T08:58:20.723Z"
   },
   {
    "duration": 1090,
    "start_time": "2023-01-07T09:02:28.107Z"
   },
   {
    "duration": 1043,
    "start_time": "2023-01-07T09:04:08.362Z"
   },
   {
    "duration": 1869,
    "start_time": "2023-01-07T09:05:20.663Z"
   },
   {
    "duration": 27,
    "start_time": "2023-01-07T09:05:22.534Z"
   },
   {
    "duration": 35,
    "start_time": "2023-01-07T09:05:22.562Z"
   },
   {
    "duration": 31,
    "start_time": "2023-01-07T09:05:22.600Z"
   },
   {
    "duration": 67,
    "start_time": "2023-01-07T09:05:22.633Z"
   },
   {
    "duration": 195,
    "start_time": "2023-01-07T09:05:22.702Z"
   },
   {
    "duration": 127,
    "start_time": "2023-01-07T09:05:22.901Z"
   },
   {
    "duration": 9,
    "start_time": "2023-01-07T09:05:23.095Z"
   },
   {
    "duration": 101,
    "start_time": "2023-01-07T09:05:23.108Z"
   },
   {
    "duration": 13,
    "start_time": "2023-01-07T09:05:23.213Z"
   },
   {
    "duration": 41,
    "start_time": "2023-01-07T09:05:23.229Z"
   },
   {
    "duration": 20,
    "start_time": "2023-01-07T09:05:23.272Z"
   },
   {
    "duration": 7,
    "start_time": "2023-01-07T09:05:23.295Z"
   },
   {
    "duration": 26,
    "start_time": "2023-01-07T09:05:23.304Z"
   },
   {
    "duration": 16,
    "start_time": "2023-01-07T09:05:23.333Z"
   },
   {
    "duration": 1145,
    "start_time": "2023-01-07T09:05:23.351Z"
   },
   {
    "duration": 1107,
    "start_time": "2023-01-07T09:05:24.498Z"
   },
   {
    "duration": 1137,
    "start_time": "2023-01-07T09:05:25.606Z"
   },
   {
    "duration": 1063,
    "start_time": "2023-01-07T09:05:59.008Z"
   },
   {
    "duration": 4,
    "start_time": "2023-01-07T09:07:47.842Z"
   },
   {
    "duration": 1909,
    "start_time": "2023-01-07T09:08:48.403Z"
   },
   {
    "duration": 38,
    "start_time": "2023-01-07T09:08:50.314Z"
   },
   {
    "duration": 46,
    "start_time": "2023-01-07T09:08:50.355Z"
   },
   {
    "duration": 20,
    "start_time": "2023-01-07T09:08:50.403Z"
   },
   {
    "duration": 173,
    "start_time": "2023-01-07T09:08:50.425Z"
   },
   {
    "duration": 98,
    "start_time": "2023-01-07T09:08:50.600Z"
   },
   {
    "duration": 142,
    "start_time": "2023-01-07T09:08:50.702Z"
   },
   {
    "duration": 4,
    "start_time": "2023-01-07T09:08:50.898Z"
   },
   {
    "duration": 115,
    "start_time": "2023-01-07T09:08:50.904Z"
   },
   {
    "duration": 11,
    "start_time": "2023-01-07T09:08:51.022Z"
   },
   {
    "duration": 15,
    "start_time": "2023-01-07T09:08:51.034Z"
   },
   {
    "duration": 9,
    "start_time": "2023-01-07T09:08:51.052Z"
   },
   {
    "duration": 7,
    "start_time": "2023-01-07T09:08:51.063Z"
   },
   {
    "duration": 15,
    "start_time": "2023-01-07T09:08:51.072Z"
   },
   {
    "duration": 5,
    "start_time": "2023-01-07T09:08:51.090Z"
   },
   {
    "duration": 680,
    "start_time": "2023-01-07T09:08:51.097Z"
   },
   {
    "duration": 655,
    "start_time": "2023-01-07T09:08:51.778Z"
   },
   {
    "duration": 635,
    "start_time": "2023-01-07T09:08:52.435Z"
   },
   {
    "duration": 684,
    "start_time": "2023-01-07T09:10:24.259Z"
   },
   {
    "duration": 10,
    "start_time": "2023-01-07T09:10:53.769Z"
   },
   {
    "duration": 645,
    "start_time": "2023-01-07T09:14:31.138Z"
   },
   {
    "duration": 1940,
    "start_time": "2023-01-07T09:14:47.842Z"
   },
   {
    "duration": 35,
    "start_time": "2023-01-07T09:14:49.784Z"
   },
   {
    "duration": 21,
    "start_time": "2023-01-07T09:14:49.820Z"
   },
   {
    "duration": 59,
    "start_time": "2023-01-07T09:14:49.844Z"
   },
   {
    "duration": 93,
    "start_time": "2023-01-07T09:14:49.905Z"
   },
   {
    "duration": 117,
    "start_time": "2023-01-07T09:14:50.000Z"
   },
   {
    "duration": 214,
    "start_time": "2023-01-07T09:14:50.119Z"
   },
   {
    "duration": 61,
    "start_time": "2023-01-07T09:14:50.336Z"
   },
   {
    "duration": 9,
    "start_time": "2023-01-07T09:14:50.399Z"
   },
   {
    "duration": 108,
    "start_time": "2023-01-07T09:14:50.410Z"
   },
   {
    "duration": 26,
    "start_time": "2023-01-07T09:14:50.519Z"
   },
   {
    "duration": 8,
    "start_time": "2023-01-07T09:14:50.547Z"
   },
   {
    "duration": 11,
    "start_time": "2023-01-07T09:14:50.556Z"
   },
   {
    "duration": 5,
    "start_time": "2023-01-07T09:14:50.569Z"
   },
   {
    "duration": 15,
    "start_time": "2023-01-07T09:14:50.576Z"
   },
   {
    "duration": 687,
    "start_time": "2023-01-07T09:14:50.592Z"
   },
   {
    "duration": 680,
    "start_time": "2023-01-07T09:14:51.280Z"
   },
   {
    "duration": 636,
    "start_time": "2023-01-07T09:14:51.961Z"
   },
   {
    "duration": 2018,
    "start_time": "2023-01-07T09:17:08.764Z"
   },
   {
    "duration": 35,
    "start_time": "2023-01-07T09:17:10.784Z"
   },
   {
    "duration": 36,
    "start_time": "2023-01-07T09:17:10.822Z"
   },
   {
    "duration": 37,
    "start_time": "2023-01-07T09:17:10.860Z"
   },
   {
    "duration": 97,
    "start_time": "2023-01-07T09:17:10.899Z"
   },
   {
    "duration": 119,
    "start_time": "2023-01-07T09:17:10.999Z"
   },
   {
    "duration": 184,
    "start_time": "2023-01-07T09:17:11.120Z"
   },
   {
    "duration": 92,
    "start_time": "2023-01-07T09:17:11.306Z"
   },
   {
    "duration": 98,
    "start_time": "2023-01-07T09:17:11.400Z"
   },
   {
    "duration": 9,
    "start_time": "2023-01-07T09:17:11.500Z"
   },
   {
    "duration": 22,
    "start_time": "2023-01-07T09:17:11.510Z"
   },
   {
    "duration": 23,
    "start_time": "2023-01-07T09:17:11.533Z"
   },
   {
    "duration": 15,
    "start_time": "2023-01-07T09:17:11.558Z"
   },
   {
    "duration": 6,
    "start_time": "2023-01-07T09:17:11.574Z"
   },
   {
    "duration": 23,
    "start_time": "2023-01-07T09:17:11.582Z"
   },
   {
    "duration": 655,
    "start_time": "2023-01-07T09:17:11.607Z"
   },
   {
    "duration": 637,
    "start_time": "2023-01-07T09:17:12.263Z"
   },
   {
    "duration": 621,
    "start_time": "2023-01-07T09:17:12.901Z"
   },
   {
    "duration": 1914,
    "start_time": "2023-01-07T09:28:48.085Z"
   },
   {
    "duration": 32,
    "start_time": "2023-01-07T09:28:50.001Z"
   },
   {
    "duration": 29,
    "start_time": "2023-01-07T09:28:50.034Z"
   },
   {
    "duration": 45,
    "start_time": "2023-01-07T09:28:50.066Z"
   },
   {
    "duration": 87,
    "start_time": "2023-01-07T09:28:50.112Z"
   },
   {
    "duration": 118,
    "start_time": "2023-01-07T09:28:50.200Z"
   },
   {
    "duration": 192,
    "start_time": "2023-01-07T09:28:50.319Z"
   },
   {
    "duration": 86,
    "start_time": "2023-01-07T09:28:50.512Z"
   },
   {
    "duration": 97,
    "start_time": "2023-01-07T09:28:50.600Z"
   },
   {
    "duration": 7,
    "start_time": "2023-01-07T09:28:50.700Z"
   },
   {
    "duration": 11,
    "start_time": "2023-01-07T09:28:50.708Z"
   },
   {
    "duration": 6,
    "start_time": "2023-01-07T09:28:50.720Z"
   },
   {
    "duration": 7,
    "start_time": "2023-01-07T09:28:50.728Z"
   },
   {
    "duration": 6,
    "start_time": "2023-01-07T09:28:50.737Z"
   },
   {
    "duration": 4,
    "start_time": "2023-01-07T09:28:50.744Z"
   },
   {
    "duration": 1067,
    "start_time": "2023-01-07T09:28:50.750Z"
   },
   {
    "duration": 1037,
    "start_time": "2023-01-07T09:28:51.819Z"
   },
   {
    "duration": 1035,
    "start_time": "2023-01-07T09:28:52.857Z"
   },
   {
    "duration": 43,
    "start_time": "2023-01-07T10:04:23.642Z"
   },
   {
    "duration": 984,
    "start_time": "2023-01-07T10:05:48.274Z"
   },
   {
    "duration": 1510,
    "start_time": "2023-01-07T10:05:49.260Z"
   },
   {
    "duration": 24,
    "start_time": "2023-01-07T10:05:50.771Z"
   },
   {
    "duration": 17,
    "start_time": "2023-01-07T10:05:50.797Z"
   },
   {
    "duration": 17,
    "start_time": "2023-01-07T10:05:50.815Z"
   },
   {
    "duration": 27,
    "start_time": "2023-01-07T10:05:50.834Z"
   },
   {
    "duration": 120,
    "start_time": "2023-01-07T10:05:50.915Z"
   },
   {
    "duration": 190,
    "start_time": "2023-01-07T10:05:51.037Z"
   },
   {
    "duration": 84,
    "start_time": "2023-01-07T10:05:51.229Z"
   },
   {
    "duration": 102,
    "start_time": "2023-01-07T10:05:51.315Z"
   },
   {
    "duration": 8,
    "start_time": "2023-01-07T10:05:51.418Z"
   },
   {
    "duration": 16,
    "start_time": "2023-01-07T10:05:51.428Z"
   },
   {
    "duration": 6,
    "start_time": "2023-01-07T10:05:51.445Z"
   },
   {
    "duration": 6,
    "start_time": "2023-01-07T10:05:51.453Z"
   },
   {
    "duration": 4,
    "start_time": "2023-01-07T10:05:51.460Z"
   },
   {
    "duration": 5,
    "start_time": "2023-01-07T10:05:51.465Z"
   },
   {
    "duration": 616,
    "start_time": "2023-01-07T10:05:51.471Z"
   },
   {
    "duration": 572,
    "start_time": "2023-01-07T10:05:52.088Z"
   },
   {
    "duration": 557,
    "start_time": "2023-01-07T10:05:52.662Z"
   },
   {
    "duration": 16,
    "start_time": "2023-01-07T10:16:05.718Z"
   },
   {
    "duration": 13,
    "start_time": "2023-01-07T10:16:20.737Z"
   },
   {
    "duration": 17,
    "start_time": "2023-01-07T10:16:27.989Z"
   },
   {
    "duration": 17,
    "start_time": "2023-01-07T10:16:47.331Z"
   },
   {
    "duration": 104,
    "start_time": "2023-01-07T10:19:04.109Z"
   },
   {
    "duration": 49,
    "start_time": "2023-01-07T10:19:27.816Z"
   },
   {
    "duration": 45,
    "start_time": "2023-01-07T10:19:35.074Z"
   },
   {
    "duration": 50,
    "start_time": "2023-01-07T10:19:42.708Z"
   },
   {
    "duration": 46,
    "start_time": "2023-01-07T10:20:14.037Z"
   },
   {
    "duration": 42,
    "start_time": "2023-01-07T10:20:41.653Z"
   },
   {
    "duration": 45,
    "start_time": "2023-01-07T10:21:34.108Z"
   },
   {
    "duration": 43,
    "start_time": "2023-01-07T10:21:46.168Z"
   },
   {
    "duration": 1025,
    "start_time": "2023-01-07T10:26:15.865Z"
   },
   {
    "duration": 357,
    "start_time": "2023-01-07T10:26:16.892Z"
   },
   {
    "duration": 27,
    "start_time": "2023-01-07T10:26:17.250Z"
   },
   {
    "duration": 60,
    "start_time": "2023-01-07T10:26:17.279Z"
   },
   {
    "duration": 24,
    "start_time": "2023-01-07T10:26:17.341Z"
   },
   {
    "duration": 73,
    "start_time": "2023-01-07T10:26:17.366Z"
   },
   {
    "duration": 20,
    "start_time": "2023-01-07T10:26:17.440Z"
   },
   {
    "duration": 62,
    "start_time": "2023-01-07T10:26:17.462Z"
   },
   {
    "duration": 478,
    "start_time": "2023-01-07T10:26:17.526Z"
   },
   {
    "duration": 35,
    "start_time": "2023-01-07T10:26:18.006Z"
   },
   {
    "duration": 177,
    "start_time": "2023-01-07T10:26:18.042Z"
   },
   {
    "duration": 207,
    "start_time": "2023-01-07T10:26:18.221Z"
   },
   {
    "duration": 91,
    "start_time": "2023-01-07T10:26:18.430Z"
   },
   {
    "duration": 95,
    "start_time": "2023-01-07T10:26:18.523Z"
   },
   {
    "duration": 11,
    "start_time": "2023-01-07T10:26:18.620Z"
   },
   {
    "duration": 14,
    "start_time": "2023-01-07T10:26:18.633Z"
   },
   {
    "duration": 7,
    "start_time": "2023-01-07T10:26:18.649Z"
   },
   {
    "duration": 9,
    "start_time": "2023-01-07T10:26:18.657Z"
   },
   {
    "duration": 7,
    "start_time": "2023-01-07T10:26:18.668Z"
   },
   {
    "duration": 7,
    "start_time": "2023-01-07T10:26:18.676Z"
   },
   {
    "duration": 672,
    "start_time": "2023-01-07T10:26:18.684Z"
   },
   {
    "duration": 617,
    "start_time": "2023-01-07T10:26:19.357Z"
   },
   {
    "duration": 655,
    "start_time": "2023-01-07T10:26:19.976Z"
   },
   {
    "duration": 1292,
    "start_time": "2023-01-07T10:26:32.115Z"
   },
   {
    "duration": 1365,
    "start_time": "2023-01-07T10:28:00.139Z"
   },
   {
    "duration": 227,
    "start_time": "2023-01-07T10:28:13.004Z"
   },
   {
    "duration": 1468,
    "start_time": "2023-01-07T10:28:40.737Z"
   },
   {
    "duration": 1378,
    "start_time": "2023-01-07T10:28:55.408Z"
   },
   {
    "duration": 219,
    "start_time": "2023-01-07T10:29:07.536Z"
   },
   {
    "duration": 1098,
    "start_time": "2023-01-07T10:29:14.910Z"
   },
   {
    "duration": 12990,
    "start_time": "2023-01-07T10:31:01.123Z"
   },
   {
    "duration": 1867,
    "start_time": "2023-01-07T10:31:27.795Z"
   },
   {
    "duration": 100,
    "start_time": "2023-01-07T10:32:08.178Z"
   },
   {
    "duration": 53,
    "start_time": "2023-01-07T10:32:13.896Z"
   },
   {
    "duration": 21,
    "start_time": "2023-01-07T10:32:18.674Z"
   },
   {
    "duration": 258,
    "start_time": "2023-01-07T10:33:26.340Z"
   },
   {
    "duration": 310,
    "start_time": "2023-01-07T10:35:17.181Z"
   },
   {
    "duration": 347,
    "start_time": "2023-01-07T10:36:06.671Z"
   },
   {
    "duration": 13,
    "start_time": "2023-01-07T10:38:36.982Z"
   },
   {
    "duration": 72,
    "start_time": "2023-01-07T10:41:24.595Z"
   },
   {
    "duration": 1299,
    "start_time": "2023-01-07T10:41:45.972Z"
   },
   {
    "duration": 367,
    "start_time": "2023-01-07T10:41:47.273Z"
   },
   {
    "duration": 39,
    "start_time": "2023-01-07T10:41:47.644Z"
   },
   {
    "duration": 65,
    "start_time": "2023-01-07T10:41:47.685Z"
   },
   {
    "duration": 1408,
    "start_time": "2023-01-07T10:41:47.752Z"
   },
   {
    "duration": 334,
    "start_time": "2023-01-07T10:41:49.162Z"
   },
   {
    "duration": 25,
    "start_time": "2023-01-07T10:41:49.499Z"
   },
   {
    "duration": 62,
    "start_time": "2023-01-07T10:41:49.525Z"
   },
   {
    "duration": 1488,
    "start_time": "2023-01-07T10:41:49.589Z"
   },
   {
    "duration": 12,
    "start_time": "2023-01-07T10:41:51.078Z"
   },
   {
    "duration": 309,
    "start_time": "2023-01-07T10:41:51.092Z"
   },
   {
    "duration": 28,
    "start_time": "2023-01-07T10:41:51.403Z"
   },
   {
    "duration": 48,
    "start_time": "2023-01-07T10:41:51.432Z"
   },
   {
    "duration": 1427,
    "start_time": "2023-01-07T10:41:51.483Z"
   },
   {
    "duration": 303,
    "start_time": "2023-01-07T10:41:52.913Z"
   },
   {
    "duration": 98,
    "start_time": "2023-01-07T10:41:53.218Z"
   },
   {
    "duration": 120,
    "start_time": "2023-01-07T10:41:53.318Z"
   },
   {
    "duration": 310,
    "start_time": "2023-01-07T10:41:53.513Z"
   },
   {
    "duration": 6,
    "start_time": "2023-01-07T10:41:53.824Z"
   },
   {
    "duration": 104,
    "start_time": "2023-01-07T10:41:53.914Z"
   },
   {
    "duration": 9,
    "start_time": "2023-01-07T10:41:54.019Z"
   },
   {
    "duration": 14,
    "start_time": "2023-01-07T10:41:54.029Z"
   },
   {
    "duration": 7,
    "start_time": "2023-01-07T10:41:54.044Z"
   },
   {
    "duration": 7,
    "start_time": "2023-01-07T10:41:54.052Z"
   },
   {
    "duration": 5,
    "start_time": "2023-01-07T10:41:54.060Z"
   },
   {
    "duration": 7,
    "start_time": "2023-01-07T10:41:54.067Z"
   },
   {
    "duration": 691,
    "start_time": "2023-01-07T10:41:54.075Z"
   },
   {
    "duration": 632,
    "start_time": "2023-01-07T10:41:54.767Z"
   },
   {
    "duration": 638,
    "start_time": "2023-01-07T10:41:55.400Z"
   },
   {
    "duration": 129,
    "start_time": "2023-01-07T10:46:25.041Z"
   },
   {
    "duration": 22,
    "start_time": "2023-01-07T10:47:24.907Z"
   },
   {
    "duration": 20,
    "start_time": "2023-01-07T10:47:39.477Z"
   },
   {
    "duration": 4,
    "start_time": "2023-01-07T10:47:50.118Z"
   },
   {
    "duration": 21,
    "start_time": "2023-01-07T10:47:53.015Z"
   },
   {
    "duration": 76,
    "start_time": "2023-01-07T10:49:51.824Z"
   },
   {
    "duration": 4,
    "start_time": "2023-01-07T10:50:08.192Z"
   },
   {
    "duration": 21,
    "start_time": "2023-01-07T10:50:16.627Z"
   },
   {
    "duration": 656,
    "start_time": "2023-01-07T10:50:48.789Z"
   },
   {
    "duration": 1354,
    "start_time": "2023-01-07T10:51:11.500Z"
   },
   {
    "duration": 345,
    "start_time": "2023-01-07T10:51:12.856Z"
   },
   {
    "duration": 25,
    "start_time": "2023-01-07T10:51:13.203Z"
   },
   {
    "duration": 43,
    "start_time": "2023-01-07T10:51:13.230Z"
   },
   {
    "duration": 1357,
    "start_time": "2023-01-07T10:51:13.275Z"
   },
   {
    "duration": 335,
    "start_time": "2023-01-07T10:51:14.634Z"
   },
   {
    "duration": 21,
    "start_time": "2023-01-07T10:51:14.972Z"
   },
   {
    "duration": 64,
    "start_time": "2023-01-07T10:51:14.995Z"
   },
   {
    "duration": 1268,
    "start_time": "2023-01-07T10:51:15.061Z"
   },
   {
    "duration": 11,
    "start_time": "2023-01-07T10:51:16.332Z"
   },
   {
    "duration": 274,
    "start_time": "2023-01-07T10:51:16.344Z"
   },
   {
    "duration": 19,
    "start_time": "2023-01-07T10:51:16.620Z"
   },
   {
    "duration": 42,
    "start_time": "2023-01-07T10:51:16.641Z"
   },
   {
    "duration": 1389,
    "start_time": "2023-01-07T10:51:16.685Z"
   },
   {
    "duration": 302,
    "start_time": "2023-01-07T10:51:18.076Z"
   },
   {
    "duration": 134,
    "start_time": "2023-01-07T10:51:18.379Z"
   },
   {
    "duration": 199,
    "start_time": "2023-01-07T10:51:18.515Z"
   },
   {
    "duration": 298,
    "start_time": "2023-01-07T10:51:18.716Z"
   },
   {
    "duration": 113,
    "start_time": "2023-01-07T10:51:19.016Z"
   },
   {
    "duration": 17,
    "start_time": "2023-01-07T10:51:19.131Z"
   },
   {
    "duration": 13,
    "start_time": "2023-01-07T10:51:19.149Z"
   },
   {
    "duration": 20,
    "start_time": "2023-01-07T10:51:19.163Z"
   },
   {
    "duration": 8,
    "start_time": "2023-01-07T10:51:19.212Z"
   },
   {
    "duration": 9,
    "start_time": "2023-01-07T10:51:19.221Z"
   },
   {
    "duration": 8,
    "start_time": "2023-01-07T10:51:19.231Z"
   },
   {
    "duration": 7,
    "start_time": "2023-01-07T10:51:19.240Z"
   },
   {
    "duration": 644,
    "start_time": "2023-01-07T10:51:19.249Z"
   },
   {
    "duration": 677,
    "start_time": "2023-01-07T10:51:19.895Z"
   },
   {
    "duration": 610,
    "start_time": "2023-01-07T10:51:20.573Z"
   },
   {
    "duration": 4,
    "start_time": "2023-01-07T10:55:21.659Z"
   },
   {
    "duration": 3,
    "start_time": "2023-01-07T10:55:24.199Z"
   },
   {
    "duration": 3,
    "start_time": "2023-01-07T10:56:36.258Z"
   },
   {
    "duration": 12,
    "start_time": "2023-01-07T11:01:13.522Z"
   },
   {
    "duration": 89,
    "start_time": "2023-01-07T11:01:46.843Z"
   },
   {
    "duration": 90,
    "start_time": "2023-01-07T11:01:52.280Z"
   },
   {
    "duration": 70,
    "start_time": "2023-01-07T11:02:34.764Z"
   },
   {
    "duration": 51,
    "start_time": "2023-01-07T15:00:42.863Z"
   },
   {
    "duration": 6,
    "start_time": "2023-01-07T15:01:20.249Z"
   },
   {
    "duration": 4,
    "start_time": "2023-01-07T15:02:17.628Z"
   },
   {
    "duration": 4,
    "start_time": "2023-01-07T15:03:14.372Z"
   },
   {
    "duration": 3,
    "start_time": "2023-01-07T15:03:24.972Z"
   },
   {
    "duration": 3,
    "start_time": "2023-01-07T15:04:02.713Z"
   },
   {
    "duration": 55,
    "start_time": "2023-01-07T15:05:48.712Z"
   },
   {
    "duration": 48,
    "start_time": "2023-01-07T15:06:14.947Z"
   },
   {
    "duration": 49,
    "start_time": "2023-01-07T15:09:00.362Z"
   },
   {
    "duration": 2000,
    "start_time": "2023-01-07T15:27:14.428Z"
   },
   {
    "duration": 2,
    "start_time": "2023-01-07T15:27:16.430Z"
   },
   {
    "duration": 702,
    "start_time": "2023-01-07T15:27:16.434Z"
   },
   {
    "duration": 24,
    "start_time": "2023-01-07T15:27:17.138Z"
   },
   {
    "duration": 44,
    "start_time": "2023-01-07T15:27:17.164Z"
   },
   {
    "duration": 1333,
    "start_time": "2023-01-07T15:27:17.210Z"
   },
   {
    "duration": 378,
    "start_time": "2023-01-07T15:27:18.545Z"
   },
   {
    "duration": 22,
    "start_time": "2023-01-07T15:27:18.925Z"
   },
   {
    "duration": 66,
    "start_time": "2023-01-07T15:27:18.949Z"
   },
   {
    "duration": 1401,
    "start_time": "2023-01-07T15:27:19.019Z"
   },
   {
    "duration": 11,
    "start_time": "2023-01-07T15:27:20.422Z"
   },
   {
    "duration": 284,
    "start_time": "2023-01-07T15:27:20.434Z"
   },
   {
    "duration": 19,
    "start_time": "2023-01-07T15:27:20.720Z"
   },
   {
    "duration": 60,
    "start_time": "2023-01-07T15:27:20.741Z"
   },
   {
    "duration": 1474,
    "start_time": "2023-01-07T15:27:20.803Z"
   },
   {
    "duration": 309,
    "start_time": "2023-01-07T15:27:22.278Z"
   },
   {
    "duration": 27,
    "start_time": "2023-01-07T15:27:22.596Z"
   },
   {
    "duration": 300,
    "start_time": "2023-01-07T15:27:22.699Z"
   },
   {
    "duration": 203,
    "start_time": "2023-01-07T15:27:23.002Z"
   },
   {
    "duration": 275,
    "start_time": "2023-01-07T15:27:23.208Z"
   },
   {
    "duration": 0,
    "start_time": "2023-01-07T15:27:23.485Z"
   },
   {
    "duration": 0,
    "start_time": "2023-01-07T15:27:23.497Z"
   },
   {
    "duration": 0,
    "start_time": "2023-01-07T15:27:23.498Z"
   },
   {
    "duration": 0,
    "start_time": "2023-01-07T15:27:23.499Z"
   },
   {
    "duration": 0,
    "start_time": "2023-01-07T15:27:23.500Z"
   },
   {
    "duration": 0,
    "start_time": "2023-01-07T15:27:23.501Z"
   },
   {
    "duration": 0,
    "start_time": "2023-01-07T15:27:23.503Z"
   },
   {
    "duration": 0,
    "start_time": "2023-01-07T15:27:23.503Z"
   },
   {
    "duration": 0,
    "start_time": "2023-01-07T15:27:23.504Z"
   },
   {
    "duration": 0,
    "start_time": "2023-01-07T15:27:23.506Z"
   },
   {
    "duration": 0,
    "start_time": "2023-01-07T15:27:23.507Z"
   },
   {
    "duration": 0,
    "start_time": "2023-01-07T15:27:23.508Z"
   },
   {
    "duration": 0,
    "start_time": "2023-01-07T15:27:23.509Z"
   },
   {
    "duration": 7,
    "start_time": "2023-01-07T15:28:29.335Z"
   },
   {
    "duration": 4,
    "start_time": "2023-01-07T15:31:40.416Z"
   },
   {
    "duration": 1787,
    "start_time": "2023-01-07T15:32:21.825Z"
   },
   {
    "duration": 4,
    "start_time": "2023-01-07T15:32:23.613Z"
   },
   {
    "duration": 375,
    "start_time": "2023-01-07T15:32:23.618Z"
   },
   {
    "duration": 26,
    "start_time": "2023-01-07T15:32:23.995Z"
   },
   {
    "duration": 43,
    "start_time": "2023-01-07T15:32:24.022Z"
   },
   {
    "duration": 1413,
    "start_time": "2023-01-07T15:32:24.067Z"
   },
   {
    "duration": 302,
    "start_time": "2023-01-07T15:32:25.482Z"
   },
   {
    "duration": 20,
    "start_time": "2023-01-07T15:32:25.796Z"
   },
   {
    "duration": 43,
    "start_time": "2023-01-07T15:32:25.818Z"
   },
   {
    "duration": 1407,
    "start_time": "2023-01-07T15:32:25.865Z"
   },
   {
    "duration": 6,
    "start_time": "2023-01-07T15:32:27.274Z"
   },
   {
    "duration": 23,
    "start_time": "2023-01-07T15:32:27.281Z"
   },
   {
    "duration": 280,
    "start_time": "2023-01-07T15:32:27.305Z"
   },
   {
    "duration": 24,
    "start_time": "2023-01-07T15:32:27.588Z"
   },
   {
    "duration": 46,
    "start_time": "2023-01-07T15:32:27.614Z"
   },
   {
    "duration": 1389,
    "start_time": "2023-01-07T15:32:27.662Z"
   },
   {
    "duration": 315,
    "start_time": "2023-01-07T15:32:29.053Z"
   },
   {
    "duration": 39,
    "start_time": "2023-01-07T15:32:29.370Z"
   },
   {
    "duration": 194,
    "start_time": "2023-01-07T15:32:29.411Z"
   },
   {
    "duration": 391,
    "start_time": "2023-01-07T15:32:29.606Z"
   },
   {
    "duration": 3,
    "start_time": "2023-01-07T15:32:29.999Z"
   },
   {
    "duration": 120,
    "start_time": "2023-01-07T15:32:30.004Z"
   },
   {
    "duration": 20,
    "start_time": "2023-01-07T15:32:30.126Z"
   },
   {
    "duration": 115,
    "start_time": "2023-01-07T15:32:30.148Z"
   },
   {
    "duration": 0,
    "start_time": "2023-01-07T15:32:30.265Z"
   },
   {
    "duration": 0,
    "start_time": "2023-01-07T15:32:30.267Z"
   },
   {
    "duration": 0,
    "start_time": "2023-01-07T15:32:30.268Z"
   },
   {
    "duration": 0,
    "start_time": "2023-01-07T15:32:30.270Z"
   },
   {
    "duration": 0,
    "start_time": "2023-01-07T15:32:30.273Z"
   },
   {
    "duration": 0,
    "start_time": "2023-01-07T15:32:30.273Z"
   },
   {
    "duration": 0,
    "start_time": "2023-01-07T15:32:30.274Z"
   },
   {
    "duration": 0,
    "start_time": "2023-01-07T15:32:30.276Z"
   },
   {
    "duration": 0,
    "start_time": "2023-01-07T15:32:30.296Z"
   },
   {
    "duration": 0,
    "start_time": "2023-01-07T15:32:30.298Z"
   },
   {
    "duration": 1816,
    "start_time": "2023-01-07T15:34:07.024Z"
   },
   {
    "duration": 3,
    "start_time": "2023-01-07T15:34:08.842Z"
   },
   {
    "duration": 352,
    "start_time": "2023-01-07T15:34:08.847Z"
   },
   {
    "duration": 23,
    "start_time": "2023-01-07T15:34:09.201Z"
   },
   {
    "duration": 41,
    "start_time": "2023-01-07T15:34:09.225Z"
   },
   {
    "duration": 1515,
    "start_time": "2023-01-07T15:34:09.268Z"
   },
   {
    "duration": 295,
    "start_time": "2023-01-07T15:34:10.785Z"
   },
   {
    "duration": 28,
    "start_time": "2023-01-07T15:34:11.081Z"
   },
   {
    "duration": 42,
    "start_time": "2023-01-07T15:34:11.111Z"
   },
   {
    "duration": 1398,
    "start_time": "2023-01-07T15:34:11.156Z"
   },
   {
    "duration": 6,
    "start_time": "2023-01-07T15:34:12.555Z"
   },
   {
    "duration": 12,
    "start_time": "2023-01-07T15:34:12.562Z"
   },
   {
    "duration": 305,
    "start_time": "2023-01-07T15:34:12.576Z"
   },
   {
    "duration": 28,
    "start_time": "2023-01-07T15:34:12.883Z"
   },
   {
    "duration": 44,
    "start_time": "2023-01-07T15:34:12.912Z"
   },
   {
    "duration": 1409,
    "start_time": "2023-01-07T15:34:12.958Z"
   },
   {
    "duration": 315,
    "start_time": "2023-01-07T15:34:14.369Z"
   },
   {
    "duration": 34,
    "start_time": "2023-01-07T15:34:14.685Z"
   },
   {
    "duration": 377,
    "start_time": "2023-01-07T15:34:14.721Z"
   },
   {
    "duration": 205,
    "start_time": "2023-01-07T15:34:15.100Z"
   },
   {
    "duration": 92,
    "start_time": "2023-01-07T15:34:15.307Z"
   },
   {
    "duration": 97,
    "start_time": "2023-01-07T15:34:15.401Z"
   },
   {
    "duration": 10,
    "start_time": "2023-01-07T15:34:15.499Z"
   },
   {
    "duration": 8,
    "start_time": "2023-01-07T15:34:15.511Z"
   },
   {
    "duration": 34,
    "start_time": "2023-01-07T15:34:15.521Z"
   },
   {
    "duration": 28,
    "start_time": "2023-01-07T15:34:15.556Z"
   },
   {
    "duration": 19,
    "start_time": "2023-01-07T15:34:15.586Z"
   },
   {
    "duration": 30,
    "start_time": "2023-01-07T15:34:15.608Z"
   },
   {
    "duration": 716,
    "start_time": "2023-01-07T15:34:15.640Z"
   },
   {
    "duration": 3,
    "start_time": "2023-01-07T15:34:16.357Z"
   },
   {
    "duration": 662,
    "start_time": "2023-01-07T15:34:16.362Z"
   },
   {
    "duration": 3,
    "start_time": "2023-01-07T15:34:17.026Z"
   },
   {
    "duration": 637,
    "start_time": "2023-01-07T15:34:17.030Z"
   },
   {
    "duration": 3,
    "start_time": "2023-01-07T15:34:17.668Z"
   },
   {
    "duration": 6,
    "start_time": "2023-01-07T15:41:33.176Z"
   }
  ],
  "kernelspec": {
   "display_name": "Python 3 (ipykernel)",
   "language": "python",
   "name": "python3"
  },
  "language_info": {
   "codemirror_mode": {
    "name": "ipython",
    "version": 3
   },
   "file_extension": ".py",
   "mimetype": "text/x-python",
   "name": "python",
   "nbconvert_exporter": "python",
   "pygments_lexer": "ipython3",
   "version": "3.9.12"
  },
  "toc": {
   "base_numbering": 1,
   "nav_menu": {},
   "number_sections": true,
   "sideBar": true,
   "skip_h1_title": true,
   "title_cell": "Table of Contents",
   "title_sidebar": "Contents",
   "toc_cell": false,
   "toc_position": {},
   "toc_section_display": true,
   "toc_window_display": true
  }
 },
 "nbformat": 4,
 "nbformat_minor": 2
}
