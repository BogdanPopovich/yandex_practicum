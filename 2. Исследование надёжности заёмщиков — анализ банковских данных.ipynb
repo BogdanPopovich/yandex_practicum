{
 "cells": [
  {
   "cell_type": "markdown",
   "id": "9d6e4ea3",
   "metadata": {
    "id": "c81daeeb"
   },
   "source": [
    "# Исследование надежности заемщиков\n"
   ]
  },
  {
   "cell_type": "markdown",
   "id": "0d8ce52a",
   "metadata": {},
   "source": [
    "<b>Описание проекта</b>\n",
    "\n",
    "Заказчик — кредитный отдел банка. Нужно разобраться, влияет ли семейное положение и количество детей клиента на факт погашения кредита в срок. Входные данные от банка — статистика о платёжеспособности клиентов.\n",
    "Результаты исследования будут учтены при построении модели кредитного скоринга — специальной системы, которая оценивает способность потенциального заёмщика вернуть кредит банку.\n",
    "\n",
    "<b>Описание данных</b>\n",
    "\n",
    "`children` — количество детей в семье\n",
    "\n",
    "`days_employed` — общий трудовой стаж в днях\n",
    "\n",
    "`dob_years` — возраст клиента в годах\n",
    "\n",
    "`education` — уровень образования клиента\n",
    "\n",
    "`education_id` — идентификатор уровня образования\n",
    "\n",
    "`family_status` — семейное положение\n",
    "\n",
    "`family_status_id` — идентификатор семейного положения\n",
    "\n",
    "`gender` — пол клиента\n",
    "\n",
    "`income_type` — тип занятости\n",
    "\n",
    "`debt` — имел ли задолженность по возврату кредитов\n",
    "\n",
    "`total_income` — ежемесячный доход\n",
    "\n",
    "`purpose` — цель получения кредита"
   ]
  },
  {
   "cell_type": "markdown",
   "id": "0088adbe",
   "metadata": {
    "id": "744d7639"
   },
   "source": [
    "## Знакомство с данными"
   ]
  },
  {
   "cell_type": "code",
   "execution_count": 17,
   "id": "167c2707",
   "metadata": {
    "deletable": false,
    "id": "7bcf75c9"
   },
   "outputs": [],
   "source": [
    "import pandas as pd\n",
    "\n",
    "data = pd.read_csv('C:/datasets/2/data 2.csv')"
   ]
  },
  {
   "cell_type": "code",
   "execution_count": 18,
   "id": "0d296858",
   "metadata": {
    "deletable": false,
    "id": "2a7cab99",
    "outputId": "1a8f3ef2-d323-4ec2-ddf7-89670b5944c4"
   },
   "outputs": [
    {
     "data": {
      "text/html": [
       "<div>\n",
       "<style scoped>\n",
       "    .dataframe tbody tr th:only-of-type {\n",
       "        vertical-align: middle;\n",
       "    }\n",
       "\n",
       "    .dataframe tbody tr th {\n",
       "        vertical-align: top;\n",
       "    }\n",
       "\n",
       "    .dataframe thead th {\n",
       "        text-align: right;\n",
       "    }\n",
       "</style>\n",
       "<table border=\"1\" class=\"dataframe\">\n",
       "  <thead>\n",
       "    <tr style=\"text-align: right;\">\n",
       "      <th></th>\n",
       "      <th>children</th>\n",
       "      <th>days_employed</th>\n",
       "      <th>dob_years</th>\n",
       "      <th>education</th>\n",
       "      <th>education_id</th>\n",
       "      <th>family_status</th>\n",
       "      <th>family_status_id</th>\n",
       "      <th>gender</th>\n",
       "      <th>income_type</th>\n",
       "      <th>debt</th>\n",
       "      <th>total_income</th>\n",
       "      <th>purpose</th>\n",
       "    </tr>\n",
       "  </thead>\n",
       "  <tbody>\n",
       "    <tr>\n",
       "      <th>0</th>\n",
       "      <td>1</td>\n",
       "      <td>-8437.673028</td>\n",
       "      <td>42</td>\n",
       "      <td>высшее</td>\n",
       "      <td>0</td>\n",
       "      <td>женат / замужем</td>\n",
       "      <td>0</td>\n",
       "      <td>F</td>\n",
       "      <td>сотрудник</td>\n",
       "      <td>0</td>\n",
       "      <td>253875.639453</td>\n",
       "      <td>покупка жилья</td>\n",
       "    </tr>\n",
       "    <tr>\n",
       "      <th>1</th>\n",
       "      <td>1</td>\n",
       "      <td>-4024.803754</td>\n",
       "      <td>36</td>\n",
       "      <td>среднее</td>\n",
       "      <td>1</td>\n",
       "      <td>женат / замужем</td>\n",
       "      <td>0</td>\n",
       "      <td>F</td>\n",
       "      <td>сотрудник</td>\n",
       "      <td>0</td>\n",
       "      <td>112080.014102</td>\n",
       "      <td>приобретение автомобиля</td>\n",
       "    </tr>\n",
       "    <tr>\n",
       "      <th>2</th>\n",
       "      <td>0</td>\n",
       "      <td>-5623.422610</td>\n",
       "      <td>33</td>\n",
       "      <td>Среднее</td>\n",
       "      <td>1</td>\n",
       "      <td>женат / замужем</td>\n",
       "      <td>0</td>\n",
       "      <td>M</td>\n",
       "      <td>сотрудник</td>\n",
       "      <td>0</td>\n",
       "      <td>145885.952297</td>\n",
       "      <td>покупка жилья</td>\n",
       "    </tr>\n",
       "    <tr>\n",
       "      <th>3</th>\n",
       "      <td>3</td>\n",
       "      <td>-4124.747207</td>\n",
       "      <td>32</td>\n",
       "      <td>среднее</td>\n",
       "      <td>1</td>\n",
       "      <td>женат / замужем</td>\n",
       "      <td>0</td>\n",
       "      <td>M</td>\n",
       "      <td>сотрудник</td>\n",
       "      <td>0</td>\n",
       "      <td>267628.550329</td>\n",
       "      <td>дополнительное образование</td>\n",
       "    </tr>\n",
       "    <tr>\n",
       "      <th>4</th>\n",
       "      <td>0</td>\n",
       "      <td>340266.072047</td>\n",
       "      <td>53</td>\n",
       "      <td>среднее</td>\n",
       "      <td>1</td>\n",
       "      <td>гражданский брак</td>\n",
       "      <td>1</td>\n",
       "      <td>F</td>\n",
       "      <td>пенсионер</td>\n",
       "      <td>0</td>\n",
       "      <td>158616.077870</td>\n",
       "      <td>сыграть свадьбу</td>\n",
       "    </tr>\n",
       "    <tr>\n",
       "      <th>5</th>\n",
       "      <td>0</td>\n",
       "      <td>-926.185831</td>\n",
       "      <td>27</td>\n",
       "      <td>высшее</td>\n",
       "      <td>0</td>\n",
       "      <td>гражданский брак</td>\n",
       "      <td>1</td>\n",
       "      <td>M</td>\n",
       "      <td>компаньон</td>\n",
       "      <td>0</td>\n",
       "      <td>255763.565419</td>\n",
       "      <td>покупка жилья</td>\n",
       "    </tr>\n",
       "    <tr>\n",
       "      <th>6</th>\n",
       "      <td>0</td>\n",
       "      <td>-2879.202052</td>\n",
       "      <td>43</td>\n",
       "      <td>высшее</td>\n",
       "      <td>0</td>\n",
       "      <td>женат / замужем</td>\n",
       "      <td>0</td>\n",
       "      <td>F</td>\n",
       "      <td>компаньон</td>\n",
       "      <td>0</td>\n",
       "      <td>240525.971920</td>\n",
       "      <td>операции с жильем</td>\n",
       "    </tr>\n",
       "    <tr>\n",
       "      <th>7</th>\n",
       "      <td>0</td>\n",
       "      <td>-152.779569</td>\n",
       "      <td>50</td>\n",
       "      <td>СРЕДНЕЕ</td>\n",
       "      <td>1</td>\n",
       "      <td>женат / замужем</td>\n",
       "      <td>0</td>\n",
       "      <td>M</td>\n",
       "      <td>сотрудник</td>\n",
       "      <td>0</td>\n",
       "      <td>135823.934197</td>\n",
       "      <td>образование</td>\n",
       "    </tr>\n",
       "    <tr>\n",
       "      <th>8</th>\n",
       "      <td>2</td>\n",
       "      <td>-6929.865299</td>\n",
       "      <td>35</td>\n",
       "      <td>ВЫСШЕЕ</td>\n",
       "      <td>0</td>\n",
       "      <td>гражданский брак</td>\n",
       "      <td>1</td>\n",
       "      <td>F</td>\n",
       "      <td>сотрудник</td>\n",
       "      <td>0</td>\n",
       "      <td>95856.832424</td>\n",
       "      <td>на проведение свадьбы</td>\n",
       "    </tr>\n",
       "    <tr>\n",
       "      <th>9</th>\n",
       "      <td>0</td>\n",
       "      <td>-2188.756445</td>\n",
       "      <td>41</td>\n",
       "      <td>среднее</td>\n",
       "      <td>1</td>\n",
       "      <td>женат / замужем</td>\n",
       "      <td>0</td>\n",
       "      <td>M</td>\n",
       "      <td>сотрудник</td>\n",
       "      <td>0</td>\n",
       "      <td>144425.938277</td>\n",
       "      <td>покупка жилья для семьи</td>\n",
       "    </tr>\n",
       "    <tr>\n",
       "      <th>10</th>\n",
       "      <td>2</td>\n",
       "      <td>-4171.483647</td>\n",
       "      <td>36</td>\n",
       "      <td>высшее</td>\n",
       "      <td>0</td>\n",
       "      <td>женат / замужем</td>\n",
       "      <td>0</td>\n",
       "      <td>M</td>\n",
       "      <td>компаньон</td>\n",
       "      <td>0</td>\n",
       "      <td>113943.491460</td>\n",
       "      <td>покупка недвижимости</td>\n",
       "    </tr>\n",
       "    <tr>\n",
       "      <th>11</th>\n",
       "      <td>0</td>\n",
       "      <td>-792.701887</td>\n",
       "      <td>40</td>\n",
       "      <td>среднее</td>\n",
       "      <td>1</td>\n",
       "      <td>женат / замужем</td>\n",
       "      <td>0</td>\n",
       "      <td>F</td>\n",
       "      <td>сотрудник</td>\n",
       "      <td>0</td>\n",
       "      <td>77069.234271</td>\n",
       "      <td>покупка коммерческой недвижимости</td>\n",
       "    </tr>\n",
       "    <tr>\n",
       "      <th>12</th>\n",
       "      <td>0</td>\n",
       "      <td>NaN</td>\n",
       "      <td>65</td>\n",
       "      <td>среднее</td>\n",
       "      <td>1</td>\n",
       "      <td>гражданский брак</td>\n",
       "      <td>1</td>\n",
       "      <td>M</td>\n",
       "      <td>пенсионер</td>\n",
       "      <td>0</td>\n",
       "      <td>NaN</td>\n",
       "      <td>сыграть свадьбу</td>\n",
       "    </tr>\n",
       "    <tr>\n",
       "      <th>13</th>\n",
       "      <td>0</td>\n",
       "      <td>-1846.641941</td>\n",
       "      <td>54</td>\n",
       "      <td>неоконченное высшее</td>\n",
       "      <td>2</td>\n",
       "      <td>женат / замужем</td>\n",
       "      <td>0</td>\n",
       "      <td>F</td>\n",
       "      <td>сотрудник</td>\n",
       "      <td>0</td>\n",
       "      <td>130458.228857</td>\n",
       "      <td>приобретение автомобиля</td>\n",
       "    </tr>\n",
       "    <tr>\n",
       "      <th>14</th>\n",
       "      <td>0</td>\n",
       "      <td>-1844.956182</td>\n",
       "      <td>56</td>\n",
       "      <td>высшее</td>\n",
       "      <td>0</td>\n",
       "      <td>гражданский брак</td>\n",
       "      <td>1</td>\n",
       "      <td>F</td>\n",
       "      <td>компаньон</td>\n",
       "      <td>1</td>\n",
       "      <td>165127.911772</td>\n",
       "      <td>покупка жилой недвижимости</td>\n",
       "    </tr>\n",
       "    <tr>\n",
       "      <th>15</th>\n",
       "      <td>1</td>\n",
       "      <td>-972.364419</td>\n",
       "      <td>26</td>\n",
       "      <td>среднее</td>\n",
       "      <td>1</td>\n",
       "      <td>женат / замужем</td>\n",
       "      <td>0</td>\n",
       "      <td>F</td>\n",
       "      <td>сотрудник</td>\n",
       "      <td>0</td>\n",
       "      <td>116820.904450</td>\n",
       "      <td>строительство собственной недвижимости</td>\n",
       "    </tr>\n",
       "    <tr>\n",
       "      <th>16</th>\n",
       "      <td>0</td>\n",
       "      <td>-1719.934226</td>\n",
       "      <td>35</td>\n",
       "      <td>среднее</td>\n",
       "      <td>1</td>\n",
       "      <td>женат / замужем</td>\n",
       "      <td>0</td>\n",
       "      <td>F</td>\n",
       "      <td>сотрудник</td>\n",
       "      <td>0</td>\n",
       "      <td>289202.704229</td>\n",
       "      <td>недвижимость</td>\n",
       "    </tr>\n",
       "    <tr>\n",
       "      <th>17</th>\n",
       "      <td>0</td>\n",
       "      <td>-2369.999720</td>\n",
       "      <td>33</td>\n",
       "      <td>высшее</td>\n",
       "      <td>0</td>\n",
       "      <td>гражданский брак</td>\n",
       "      <td>1</td>\n",
       "      <td>M</td>\n",
       "      <td>сотрудник</td>\n",
       "      <td>0</td>\n",
       "      <td>90410.586745</td>\n",
       "      <td>строительство недвижимости</td>\n",
       "    </tr>\n",
       "    <tr>\n",
       "      <th>18</th>\n",
       "      <td>0</td>\n",
       "      <td>400281.136913</td>\n",
       "      <td>53</td>\n",
       "      <td>среднее</td>\n",
       "      <td>1</td>\n",
       "      <td>вдовец / вдова</td>\n",
       "      <td>2</td>\n",
       "      <td>F</td>\n",
       "      <td>пенсионер</td>\n",
       "      <td>0</td>\n",
       "      <td>56823.777243</td>\n",
       "      <td>на покупку подержанного автомобиля</td>\n",
       "    </tr>\n",
       "    <tr>\n",
       "      <th>19</th>\n",
       "      <td>0</td>\n",
       "      <td>-10038.818549</td>\n",
       "      <td>48</td>\n",
       "      <td>СРЕДНЕЕ</td>\n",
       "      <td>1</td>\n",
       "      <td>в разводе</td>\n",
       "      <td>3</td>\n",
       "      <td>F</td>\n",
       "      <td>сотрудник</td>\n",
       "      <td>0</td>\n",
       "      <td>242831.107982</td>\n",
       "      <td>на покупку своего автомобиля</td>\n",
       "    </tr>\n",
       "  </tbody>\n",
       "</table>\n",
       "</div>"
      ],
      "text/plain": [
       "    children  days_employed  dob_years            education  education_id  \\\n",
       "0          1   -8437.673028         42               высшее             0   \n",
       "1          1   -4024.803754         36              среднее             1   \n",
       "2          0   -5623.422610         33              Среднее             1   \n",
       "3          3   -4124.747207         32              среднее             1   \n",
       "4          0  340266.072047         53              среднее             1   \n",
       "5          0    -926.185831         27               высшее             0   \n",
       "6          0   -2879.202052         43               высшее             0   \n",
       "7          0    -152.779569         50              СРЕДНЕЕ             1   \n",
       "8          2   -6929.865299         35               ВЫСШЕЕ             0   \n",
       "9          0   -2188.756445         41              среднее             1   \n",
       "10         2   -4171.483647         36               высшее             0   \n",
       "11         0    -792.701887         40              среднее             1   \n",
       "12         0            NaN         65              среднее             1   \n",
       "13         0   -1846.641941         54  неоконченное высшее             2   \n",
       "14         0   -1844.956182         56               высшее             0   \n",
       "15         1    -972.364419         26              среднее             1   \n",
       "16         0   -1719.934226         35              среднее             1   \n",
       "17         0   -2369.999720         33               высшее             0   \n",
       "18         0  400281.136913         53              среднее             1   \n",
       "19         0  -10038.818549         48              СРЕДНЕЕ             1   \n",
       "\n",
       "       family_status  family_status_id gender income_type  debt  \\\n",
       "0    женат / замужем                 0      F   сотрудник     0   \n",
       "1    женат / замужем                 0      F   сотрудник     0   \n",
       "2    женат / замужем                 0      M   сотрудник     0   \n",
       "3    женат / замужем                 0      M   сотрудник     0   \n",
       "4   гражданский брак                 1      F   пенсионер     0   \n",
       "5   гражданский брак                 1      M   компаньон     0   \n",
       "6    женат / замужем                 0      F   компаньон     0   \n",
       "7    женат / замужем                 0      M   сотрудник     0   \n",
       "8   гражданский брак                 1      F   сотрудник     0   \n",
       "9    женат / замужем                 0      M   сотрудник     0   \n",
       "10   женат / замужем                 0      M   компаньон     0   \n",
       "11   женат / замужем                 0      F   сотрудник     0   \n",
       "12  гражданский брак                 1      M   пенсионер     0   \n",
       "13   женат / замужем                 0      F   сотрудник     0   \n",
       "14  гражданский брак                 1      F   компаньон     1   \n",
       "15   женат / замужем                 0      F   сотрудник     0   \n",
       "16   женат / замужем                 0      F   сотрудник     0   \n",
       "17  гражданский брак                 1      M   сотрудник     0   \n",
       "18    вдовец / вдова                 2      F   пенсионер     0   \n",
       "19         в разводе                 3      F   сотрудник     0   \n",
       "\n",
       "     total_income                                 purpose  \n",
       "0   253875.639453                           покупка жилья  \n",
       "1   112080.014102                 приобретение автомобиля  \n",
       "2   145885.952297                           покупка жилья  \n",
       "3   267628.550329              дополнительное образование  \n",
       "4   158616.077870                         сыграть свадьбу  \n",
       "5   255763.565419                           покупка жилья  \n",
       "6   240525.971920                       операции с жильем  \n",
       "7   135823.934197                             образование  \n",
       "8    95856.832424                   на проведение свадьбы  \n",
       "9   144425.938277                 покупка жилья для семьи  \n",
       "10  113943.491460                    покупка недвижимости  \n",
       "11   77069.234271       покупка коммерческой недвижимости  \n",
       "12            NaN                         сыграть свадьбу  \n",
       "13  130458.228857                 приобретение автомобиля  \n",
       "14  165127.911772              покупка жилой недвижимости  \n",
       "15  116820.904450  строительство собственной недвижимости  \n",
       "16  289202.704229                            недвижимость  \n",
       "17   90410.586745              строительство недвижимости  \n",
       "18   56823.777243      на покупку подержанного автомобиля  \n",
       "19  242831.107982            на покупку своего автомобиля  "
      ]
     },
     "execution_count": 18,
     "metadata": {},
     "output_type": "execute_result"
    }
   ],
   "source": [
    "# Вывожу первые 20 строчек датафрейма data на экран.\n",
    "data.head(20)"
   ]
  },
  {
   "cell_type": "code",
   "execution_count": 19,
   "id": "51a7cb33",
   "metadata": {
    "deletable": false,
    "id": "2b757bca",
    "outputId": "15376089-8dad-46c9-b520-c05248d43158"
   },
   "outputs": [
    {
     "name": "stdout",
     "output_type": "stream",
     "text": [
      "<class 'pandas.core.frame.DataFrame'>\n",
      "RangeIndex: 21525 entries, 0 to 21524\n",
      "Data columns (total 12 columns):\n",
      " #   Column            Non-Null Count  Dtype  \n",
      "---  ------            --------------  -----  \n",
      " 0   children          21525 non-null  int64  \n",
      " 1   days_employed     19351 non-null  float64\n",
      " 2   dob_years         21525 non-null  int64  \n",
      " 3   education         21525 non-null  object \n",
      " 4   education_id      21525 non-null  int64  \n",
      " 5   family_status     21525 non-null  object \n",
      " 6   family_status_id  21525 non-null  int64  \n",
      " 7   gender            21525 non-null  object \n",
      " 8   income_type       21525 non-null  object \n",
      " 9   debt              21525 non-null  int64  \n",
      " 10  total_income      19351 non-null  float64\n",
      " 11  purpose           21525 non-null  object \n",
      "dtypes: float64(2), int64(5), object(5)\n",
      "memory usage: 2.0+ MB\n"
     ]
    }
   ],
   "source": [
    "# Вывожу основную информацию о датафрейме\n",
    "data.info()"
   ]
  },
  {
   "cell_type": "markdown",
   "id": "dd273ac5",
   "metadata": {
    "id": "333ec665"
   },
   "source": [
    "## Предобработка данных"
   ]
  },
  {
   "cell_type": "markdown",
   "id": "3113598b",
   "metadata": {
    "id": "02d92d53"
   },
   "source": [
    "### Удаление пропусков"
   ]
  },
  {
   "cell_type": "code",
   "execution_count": 20,
   "id": "09507e8c",
   "metadata": {
    "deletable": false,
    "id": "7f9b2309",
    "outputId": "81f4d817-781c-465c-ed15-91ce4446810d"
   },
   "outputs": [
    {
     "data": {
      "text/plain": [
       "children               0\n",
       "days_employed       2174\n",
       "dob_years              0\n",
       "education              0\n",
       "education_id           0\n",
       "family_status          0\n",
       "family_status_id       0\n",
       "gender                 0\n",
       "income_type            0\n",
       "debt                   0\n",
       "total_income        2174\n",
       "purpose                0\n",
       "dtype: int64"
      ]
     },
     "execution_count": 20,
     "metadata": {},
     "output_type": "execute_result"
    }
   ],
   "source": [
    "# Вывожу количество пропущенных значений для каждого столбца\n",
    "data.isna().sum()"
   ]
  },
  {
   "cell_type": "markdown",
   "id": "28fabf60",
   "metadata": {
    "id": "db86e27b"
   },
   "source": [
    "В двух столбцах есть пропущенные значения. Один из них — `days_employed`. Другой столбец с пропущенными значениями — `total_income` — хранит данные о доходах. На сумму дохода сильнее всего влияет тип занятости, поэтому заполню пропуски в этом столбце медианным значением по каждому типу из столбца `income_type`."
   ]
  },
  {
   "cell_type": "code",
   "execution_count": 21,
   "id": "a66d2b39",
   "metadata": {
    "deletable": false,
    "id": "42006a93"
   },
   "outputs": [],
   "source": [
    "for t in data['income_type'].unique():\n",
    "    data.loc[(data['income_type'] == t) & (data['total_income'].isna()), 'total_income'] = \\\n",
    "    data.loc[(data['income_type'] == t), 'total_income'].median()"
   ]
  },
  {
   "cell_type": "markdown",
   "id": "550b0e91",
   "metadata": {
    "id": "89da5ece"
   },
   "source": [
    "### Обработка аномальных значений"
   ]
  },
  {
   "cell_type": "code",
   "execution_count": 22,
   "id": "58d3a02e",
   "metadata": {
    "deletable": false,
    "id": "f6f055bf"
   },
   "outputs": [],
   "source": [
    "# Заменю все отрицательные значения положительными\n",
    "data['days_employed'] = data['days_employed'].abs()"
   ]
  },
  {
   "cell_type": "code",
   "execution_count": 23,
   "id": "52fee6c9",
   "metadata": {
    "deletable": false,
    "id": "85a5faf6",
    "outputId": "801ef80e-522b-4668-f34e-565af7432bcf"
   },
   "outputs": [
    {
     "data": {
      "text/plain": [
       "income_type\n",
       "безработный        366413.652744\n",
       "в декрете            3296.759962\n",
       "госслужащий          2689.368353\n",
       "компаньон            1547.382223\n",
       "пенсионер          365213.306266\n",
       "предприниматель       520.848083\n",
       "сотрудник            1574.202821\n",
       "студент               578.751554\n",
       "Name: days_employed, dtype: float64"
      ]
     },
     "execution_count": 23,
     "metadata": {},
     "output_type": "execute_result"
    }
   ],
   "source": [
    "# Для каждого типа занятости выведу медианное значение трудового стажа в днях\n",
    "data.groupby('income_type')['days_employed'].agg('median')"
   ]
  },
  {
   "cell_type": "markdown",
   "id": "5d666cde",
   "metadata": {
    "id": "38d1a030"
   },
   "source": [
    "У двух типов (безработные и пенсионеры) получатся аномально большие значения. Однако этот столбец не понадобится вам для исследования."
   ]
  },
  {
   "cell_type": "code",
   "execution_count": 24,
   "id": "04854060",
   "metadata": {
    "deletable": false,
    "id": "ef5056eb",
    "outputId": "6975b15c-7f95-4697-d16d-a0c79b657b03"
   },
   "outputs": [
    {
     "data": {
      "text/plain": [
       "array([ 1,  0,  3,  2, -1,  4, 20,  5], dtype=int64)"
      ]
     },
     "execution_count": 24,
     "metadata": {},
     "output_type": "execute_result"
    }
   ],
   "source": [
    "# Выведу перечень уникальных значений столбца children\n",
    "data['children'].unique()"
   ]
  },
  {
   "cell_type": "code",
   "execution_count": 25,
   "id": "b76c5bdb",
   "metadata": {
    "deletable": false,
    "id": "3ff9801d"
   },
   "outputs": [],
   "source": [
    "# В столбце children есть два аномальных значения. Удалю эти строки из датафрейма.\n",
    "data = data[(data['children'] != -1) & (data['children'] != 20)]"
   ]
  },
  {
   "cell_type": "code",
   "execution_count": 26,
   "id": "2f0b3661",
   "metadata": {
    "deletable": false,
    "id": "ad4fa8b7",
    "outputId": "b2097101-d49d-44d9-901b-32a65c9463d1"
   },
   "outputs": [
    {
     "data": {
      "text/plain": [
       "array([1, 0, 3, 2, 4, 5], dtype=int64)"
      ]
     },
     "execution_count": 26,
     "metadata": {},
     "output_type": "execute_result"
    }
   ],
   "source": [
    "# Вывожу перечень уникальных значений столбца children, чтобы убедиться, что артефакты удалены\n",
    "data['children'].unique()"
   ]
  },
  {
   "cell_type": "markdown",
   "id": "b97b774b",
   "metadata": {
    "deletable": false,
    "editable": false,
    "id": "75440b63"
   },
   "source": [
    "### Удаление пропусков (продолжение)"
   ]
  },
  {
   "cell_type": "code",
   "execution_count": 27,
   "id": "7c3775d2",
   "metadata": {
    "deletable": false,
    "id": "af6b1a7e"
   },
   "outputs": [],
   "source": [
    "# Заполню пропуски в столбце days_employed медианными значениями по каждого типа занятости income_type.\n",
    "for t in data['income_type'].unique():\n",
    "    data.loc[(data['income_type'] == t) & (data['days_employed'].isna()), 'days_employed'] = \\\n",
    "    data.loc[(data['income_type'] == t), 'days_employed'].median()"
   ]
  },
  {
   "cell_type": "markdown",
   "id": "8c2106d5",
   "metadata": {
    "id": "2753f40d"
   },
   "source": [
    "Чтобы убедиться, что все пропуски заполнены. Ещё раз выведу количество пропущенных значений для каждого столбца."
   ]
  },
  {
   "cell_type": "code",
   "execution_count": 28,
   "id": "bf3361db",
   "metadata": {
    "deletable": false,
    "id": "55f78bc2",
    "outputId": "8da1e4e1-358e-4e87-98c9-f261bce0a7b2"
   },
   "outputs": [
    {
     "data": {
      "text/plain": [
       "children            0\n",
       "days_employed       0\n",
       "dob_years           0\n",
       "education           0\n",
       "education_id        0\n",
       "family_status       0\n",
       "family_status_id    0\n",
       "gender              0\n",
       "income_type         0\n",
       "debt                0\n",
       "total_income        0\n",
       "purpose             0\n",
       "dtype: int64"
      ]
     },
     "execution_count": 28,
     "metadata": {},
     "output_type": "execute_result"
    }
   ],
   "source": [
    "data.isna().sum()"
   ]
  },
  {
   "cell_type": "markdown",
   "id": "11e91459",
   "metadata": {
    "deletable": false,
    "editable": false,
    "id": "ddc81e43"
   },
   "source": [
    "### Изменение типов данных"
   ]
  },
  {
   "cell_type": "code",
   "execution_count": 29,
   "id": "7880057a",
   "metadata": {
    "deletable": false,
    "id": "920b65ad"
   },
   "outputs": [],
   "source": [
    "# Заменяю вещественный тип данных в столбце total_income на целочисленный\n",
    "data['total_income'] = data['total_income'].astype(int)"
   ]
  },
  {
   "cell_type": "markdown",
   "id": "e830ebbf",
   "metadata": {
    "deletable": false,
    "editable": false,
    "id": "80c420ba"
   },
   "source": [
    "### Обработка дубликатов"
   ]
  },
  {
   "cell_type": "markdown",
   "id": "ea041ec6",
   "metadata": {},
   "source": [
    "Обработаю неявные дубликаты в столбце `education`. В этом столбце есть одни и те же значения, но записанные по-разному: с использованием заглавных и строчных букв. Приведу их к нижнему регистру и проверю остальные столбцы."
   ]
  },
  {
   "cell_type": "code",
   "execution_count": 30,
   "id": "27823af0",
   "metadata": {
    "deletable": false
   },
   "outputs": [],
   "source": [
    "# Привожу значения в столбце к нижнему регистру\n",
    "data['education'] = data['education'].str.lower()"
   ]
  },
  {
   "cell_type": "code",
   "execution_count": 31,
   "id": "b3993c6d",
   "metadata": {
    "deletable": false,
    "id": "3ee445e4",
    "outputId": "9684deba-1934-42d1-99e1-cda61740f822"
   },
   "outputs": [
    {
     "data": {
      "text/plain": [
       "71"
      ]
     },
     "execution_count": 31,
     "metadata": {},
     "output_type": "execute_result"
    }
   ],
   "source": [
    "# Вывожу на экран количество строк-дубликатов в данных\n",
    "data.duplicated().sum()"
   ]
  },
  {
   "cell_type": "code",
   "execution_count": 32,
   "id": "40a1d02a",
   "metadata": {
    "deletable": false,
    "id": "8575fe05"
   },
   "outputs": [],
   "source": [
    "# Удаляю дубликаты\n",
    "data = data.drop_duplicates()"
   ]
  },
  {
   "cell_type": "markdown",
   "id": "6b530ef6",
   "metadata": {
    "deletable": false,
    "editable": false,
    "id": "9904cf55"
   },
   "source": [
    "### Категоризация данных"
   ]
  },
  {
   "cell_type": "markdown",
   "id": "e1600ee7",
   "metadata": {
    "id": "72fcc8a2"
   },
   "source": [
    "Создам в датафрейме `data` столбец `total_income_category` с категориями на основании диапазонов, указанных ниже:\n",
    "\n",
    "- 0–30000 — `'E'`;\n",
    "- 30001–50000 — `'D'`;\n",
    "- 50001–200000 — `'C'`;\n",
    "- 200001–1000000 — `'B'`;\n",
    "- 1000001 и выше — `'A'`.\n"
   ]
  },
  {
   "cell_type": "code",
   "execution_count": 33,
   "id": "574e06dc",
   "metadata": {
    "deletable": false,
    "id": "e1771346"
   },
   "outputs": [],
   "source": [
    "# Создаю функцию для категоризации\n",
    "def categorize_income(income):\n",
    "    try:\n",
    "        if 0 <= income <= 30000:\n",
    "            return 'E'\n",
    "        elif 30001 <= income <= 50000:\n",
    "            return 'D'\n",
    "        elif 50001 <= income <= 200000:\n",
    "            return 'C'\n",
    "        elif 200001 <= income <= 1000000:\n",
    "            return 'B'\n",
    "        elif income >= 1000001:\n",
    "            return 'A'\n",
    "    except:\n",
    "        pass"
   ]
  },
  {
   "cell_type": "code",
   "execution_count": 34,
   "id": "0d225d3b",
   "metadata": {
    "deletable": false,
    "id": "d5f3586d"
   },
   "outputs": [],
   "source": [
    "# Применяю функцию к столбцу\n",
    "data['total_income_category'] = data['total_income'].apply(categorize_income)"
   ]
  },
  {
   "cell_type": "code",
   "execution_count": 35,
   "id": "e53f13f5",
   "metadata": {
    "deletable": false,
    "id": "f67ce9b3",
    "outputId": "673c12d9-7d7e-4ae0-9812-c622c89dd244"
   },
   "outputs": [
    {
     "data": {
      "text/plain": [
       "array(['покупка жилья', 'приобретение автомобиля',\n",
       "       'дополнительное образование', 'сыграть свадьбу',\n",
       "       'операции с жильем', 'образование', 'на проведение свадьбы',\n",
       "       'покупка жилья для семьи', 'покупка недвижимости',\n",
       "       'покупка коммерческой недвижимости', 'покупка жилой недвижимости',\n",
       "       'строительство собственной недвижимости', 'недвижимость',\n",
       "       'строительство недвижимости', 'на покупку подержанного автомобиля',\n",
       "       'на покупку своего автомобиля',\n",
       "       'операции с коммерческой недвижимостью',\n",
       "       'строительство жилой недвижимости', 'жилье',\n",
       "       'операции со своей недвижимостью', 'автомобили',\n",
       "       'заняться образованием', 'сделка с подержанным автомобилем',\n",
       "       'получение образования', 'автомобиль', 'свадьба',\n",
       "       'получение дополнительного образования', 'покупка своего жилья',\n",
       "       'операции с недвижимостью', 'получение высшего образования',\n",
       "       'свой автомобиль', 'сделка с автомобилем',\n",
       "       'профильное образование', 'высшее образование',\n",
       "       'покупка жилья для сдачи', 'на покупку автомобиля', 'ремонт жилью',\n",
       "       'заняться высшим образованием'], dtype=object)"
      ]
     },
     "execution_count": 35,
     "metadata": {},
     "output_type": "execute_result"
    }
   ],
   "source": [
    "# Вывожу на экран перечень уникальных целей взятия кредита из столбца purpose\n",
    "data['purpose'].unique()"
   ]
  },
  {
   "cell_type": "markdown",
   "id": "71b6faa3",
   "metadata": {
    "id": "85d0aef0"
   },
   "source": [
    "Создам функцию, которая на основании данных из столбца `purpose` сформирует новый столбец `purpose_category`, в который войдут следующие категории:\n",
    "\n",
    "- `'операции с автомобилем'`,\n",
    "- `'операции с недвижимостью'`,\n",
    "- `'проведение свадьбы'`,\n",
    "- `'получение образования'`."
   ]
  },
  {
   "cell_type": "code",
   "execution_count": 36,
   "id": "4391a23b",
   "metadata": {
    "deletable": false,
    "id": "e149fab4"
   },
   "outputs": [],
   "source": [
    "# Создаю функцию для категоризации\n",
    "def categorize_purpose(row):\n",
    "    try:\n",
    "        if 'автом' in row:\n",
    "            return 'операции с автомобилем'\n",
    "        elif 'жил' in row or 'недвиж' in row:\n",
    "            return 'операции с недвижимостью'\n",
    "        elif 'свад' in row:\n",
    "            return 'проведение свадьбы'\n",
    "        elif 'образов' in row:\n",
    "            return 'получение образования'\n",
    "    except:\n",
    "        return 'нет категории'"
   ]
  },
  {
   "cell_type": "code",
   "execution_count": 37,
   "id": "0bd10989",
   "metadata": {
    "deletable": false,
    "id": "bf36e69b"
   },
   "outputs": [],
   "source": [
    "# Применяю функцию к столбцу\n",
    "data['purpose_category'] = data['purpose'].apply(categorize_purpose)"
   ]
  },
  {
   "cell_type": "markdown",
   "id": "08869fa7",
   "metadata": {
    "id": "09b242bf"
   },
   "source": [
    "### Исследование данных"
   ]
  },
  {
   "cell_type": "markdown",
   "id": "4604dc3a",
   "metadata": {
    "id": "c5d66278"
   },
   "source": [
    "**Необходимо понять, есть ли зависимость между количеством детей и возвратом кредита в срок.**"
   ]
  },
  {
   "cell_type": "code",
   "execution_count": 38,
   "id": "29a9becd",
   "metadata": {
    "deletable": false,
    "id": "2cacfc4a",
    "scrolled": true
   },
   "outputs": [
    {
     "name": "stdout",
     "output_type": "stream",
     "text": [
      "              debt\n",
      "children          \n",
      "0         0.075438\n",
      "1         0.092346\n",
      "2         0.094542\n",
      "3         0.081818\n",
      "4         0.097561\n",
      "5         0.000000\n"
     ]
    }
   ],
   "source": [
    "# Группирую данные по количеству детей и нахожу среднее значение задолженности для каждого случая.\n",
    "\n",
    "print(data.groupby('children').agg({'debt':'mean'}))"
   ]
  },
  {
   "cell_type": "markdown",
   "id": "31179330",
   "metadata": {
    "id": "3a6b99ec"
   },
   "source": [
    "**Вывод:** \n",
    "\n",
    "Видно, что отсутствие детей позитивно влияет на уплату долгов.\n",
    "\n",
    "Однако семьи с тремя детьми по какой-то причине имеют меньше долгов, чем семьи с одни ребенком или двумя детьми. Скорее всего, таких семей попросту меньше, поэтому и выборка меньше. Похожая аномалия наблюдается и в отношении семей с 5 детьми.\n",
    "\n",
    "Другим объяснением может быть то, что для обычных семей, рождение ребенка — это некий шок, влияющий на исполнение финансовых обязательств. В то время как для семей с большим количеством детей дети стали обыденностью, поэтому они научились распределять семейный бюджет более качественно"
   ]
  },
  {
   "cell_type": "markdown",
   "id": "dc2ca971",
   "metadata": {
    "id": "97be82ca"
   },
   "source": [
    "**Есть ли зависимость между семейным положением и возвратом кредита в срок.**"
   ]
  },
  {
   "cell_type": "code",
   "execution_count": 39,
   "id": "57130f05",
   "metadata": {
    "deletable": false,
    "id": "dc3f7ee8"
   },
   "outputs": [
    {
     "name": "stdout",
     "output_type": "stream",
     "text": [
      "                           debt\n",
      "family_status                  \n",
      "вдовец / вдова         0.066246\n",
      "в разводе              0.070648\n",
      "женат / замужем        0.075606\n",
      "гражданский брак       0.093130\n",
      "Не женат / не замужем  0.097639\n"
     ]
    }
   ],
   "source": [
    "# Группирую данные по семейному положению и нахожу среднее значение задолженности для каждого случая.\n",
    "\n",
    "print(data.groupby('family_status').agg({'debt':'mean'}).sort_values(by='debt', ascending=True))"
   ]
  },
  {
   "cell_type": "markdown",
   "id": "1f0494d5",
   "metadata": {
    "deletable": false,
    "id": "1cef7837"
   },
   "source": [
    "**Вывод:** \n",
    "\n",
    "Люди, никогда не вступавшие в брачные отношения, хуже возвращают долги.\n",
    "\n",
    "Кредитному отделу следует с осторожностью относиться к клиентам, которые не состоят или не состояли в браке. Согласно данным такие клиенты менее ответственные. Получается, что узаконенные отношения ведут к более ответственному отношению к своим обязательствам. "
   ]
  },
  {
   "cell_type": "markdown",
   "id": "a5a62f0d",
   "metadata": {
    "id": "1e8b2fca"
   },
   "source": [
    "**Существует ли зависимость между уровнем дохода и возвратом кредита в срок?**"
   ]
  },
  {
   "cell_type": "code",
   "execution_count": 40,
   "id": "d96412eb",
   "metadata": {
    "deletable": false,
    "id": "cd7e3720"
   },
   "outputs": [
    {
     "name": "stdout",
     "output_type": "stream",
     "text": [
      "                           debt\n",
      "total_income_category          \n",
      "D                      0.060172\n",
      "B                      0.070602\n",
      "A                      0.080000\n",
      "C                      0.084982\n",
      "E                      0.090909\n"
     ]
    }
   ],
   "source": [
    "# Группирую данные по категориям дохода и нахожу среднее значение задолженности для каждой категории.\n",
    "\n",
    "print(data.groupby('total_income_category').agg({'debt':'mean'}).sort_values(by='debt', ascending=True))"
   ]
  },
  {
   "cell_type": "markdown",
   "id": "411309e0",
   "metadata": {
    "deletable": false,
    "id": "e8593def"
   },
   "source": [
    "**Вывод:** \n",
    "\n",
    "При уровне дохода от 30 001 до 50 000 человек чаще всего выплачивает свои долги, однако, если его доходы ниже категории D, он с наименьшей вероятностью вернет долг. При этом повышение доходов выше категории D тоже негативно сказывается на уплате долгов.\n",
    "\n",
    "Исходя из здравого смысла логично предположить, что чаще всего должниками становятся люди с небольшим доходом, которым финансовые проблемы не позволяют вовремя осуществлять платежи. Однако выборка по заемщикам, как с наименьшим доходом, так и с наибольшим крайне недостаточна для формирования однозначных выводов. Можно думать, что E-категория самая низкооплачиваемая не может корректно распоряжаться деньгами и «влезает» в кредиты, но тогда неясно почему у А-категории также достаточно высокий процент задолженности. Таким образом, по группам А и Е вывод неочевиден, поскольку недостаточно данных.\n",
    "\n",
    "Если же взять для анализа только группы В, С и D, то по полученным данным не наблюдаем зависимости \"те, кто получает больше ЗП, лучше возвращают кредит\". В целом это логично, так как материальный достаток - не единственная переменная, которая влияет на качество кредитной истории.\n",
    "\n",
    "Однако 2174 пропуска в данных столбца \"total_income\" ставят под сомнение полученный нами результат. Сводная таблица (или группировка) с данными о зависимости между уровнем дохода и возвратом кредита в срок возможно могла бы выглядеть иначе, если бы не пропущенные данные."
   ]
  },
  {
   "cell_type": "markdown",
   "id": "a8fc5ea2",
   "metadata": {
    "id": "99ecbd1f"
   },
   "source": [
    "**Как разные цели кредита влияют на его возврат в срок?**"
   ]
  },
  {
   "cell_type": "code",
   "execution_count": 41,
   "id": "9db829bd",
   "metadata": {
    "deletable": false,
    "id": "2b687290"
   },
   "outputs": [
    {
     "name": "stdout",
     "output_type": "stream",
     "text": [
      "                              debt\n",
      "purpose_category                  \n",
      "операции с недвижимостью  0.072551\n",
      "проведение свадьбы        0.079118\n",
      "получение образования     0.092528\n",
      "операции с автомобилем    0.093480\n"
     ]
    }
   ],
   "source": [
    "# Группирую данные по целям взятия кредита и нахожу среднее значение задолженности для каждой цели.\n",
    "\n",
    "print(data.groupby('purpose_category').agg({'debt':'mean'}).sort_values(by='debt', ascending=True))\n"
   ]
  },
  {
   "cell_type": "markdown",
   "id": "d4035be2",
   "metadata": {
    "deletable": false,
    "id": "b4bb2ce6"
   },
   "source": [
    "**Вывод:** \n",
    "\n",
    "Активнее всего клиенты возвращают долги за операции с недвижимостью и проведение свадьбы.\n",
    "\n",
    "Клиенты реже возвращают долги по кредитам, связанным с получением образования. Возможно, потому, что получение образования - длительный процесс и до его завершения сложно устроиться на высокооплачиваемую работу.\n",
    "\n",
    "Клиенты наиболее редко возвращают долги по кредитам, связанным с операциями с автомобилем. Возможно, потому, что содержание автомобиля является дополнительной статьёй расходов."
   ]
  },
  {
   "cell_type": "markdown",
   "id": "ae6b4925",
   "metadata": {
    "id": "09c3ac4c"
   },
   "source": [
    "#### Причины появления пропусков в исходных данных."
   ]
  },
  {
   "cell_type": "markdown",
   "id": "f484a523",
   "metadata": {
    "deletable": false,
    "id": "9da2ceda"
   },
   "source": [
    "Пропуски располагались в столбцах `days_employed` (стаж) и `total_income` (доход), причем количество пропусков в данных столбцах одинаково, пропуски в строках идут попарно, то есть с пропуском в столбце `days_employed` всегда соседствует пропуск в `total_income`. \n",
    "\n",
    "1) Возможно, это связано с тем, что данные клиенты сменили работу и не предоставили банку новой информации. \n",
    "\n",
    "2) Возможно, произошла техническая ошибка при записи или копировании данных, и информация о стаже и доходе данных клиентов пропала."
   ]
  },
  {
   "cell_type": "markdown",
   "id": "2ec85bda",
   "metadata": {
    "id": "7b0487d6"
   },
   "source": [
    "#### Почему заполнить пропуски медианным значением — лучшее решение для количественных переменных?"
   ]
  },
  {
   "cell_type": "markdown",
   "id": "885be2f8",
   "metadata": {
    "deletable": false,
    "id": "7ecf2b8e"
   },
   "source": [
    "Потому что это наиболее верно передаёт реальное положение вещей. Среднее значение, в отличие от медианного, может быть сильно завышено или заниженно, если в данных есть аномально низкие или высокие позиции.\n"
   ]
  },
  {
   "cell_type": "markdown",
   "id": "f5953b70",
   "metadata": {
    "id": "6db5255a"
   },
   "source": [
    "### Общий вывод."
   ]
  },
  {
   "cell_type": "markdown",
   "id": "b7b67c4e",
   "metadata": {
    "deletable": false,
    "id": "bad65432"
   },
   "source": [
    "Было проведено исследование, цель которого - поиск ответов на следующие вопросы:\n",
    "    1)Есть ли зависимость между количеством детей и возвратом кредита в срок?\n",
    "    2)Есть ли зависимость между семейным положением и возвратом кредита в срок?\n",
    "    3)Есть ли зависимость между уровнем дохода и возвратом кредита в срок?\n",
    "    4)Как разные цели кредита влияют на его возврат в срок?\n",
    "\n",
    "<b>1. Зависимость между количеством детей и возвратом кредита в срок существует</b>\n",
    "Отсутствие детей позитивно влияет на уплату долгов.\n",
    "\n",
    "    7,5% - доля задолженностей у клиентов без детей.\n",
    "    9,2% - доля задолженностей у клиентов с одним ребенком.\n",
    "    9,4% - доля задолженностей у клиентов с двумя детьми.\n",
    "\n",
    "Рекомендация: для получения информации о клиентах с 3,4 и 5 детьми необходимо больше данных.\n",
    "\n",
    "<b>2. Зависимость между семейным положением и возвратом кредита в срок существует</b>\n",
    "Люди, никогда не вступавшие в брачные отношения, хуже возвращают долги.\n",
    "\n",
    "    6,6% - доля задолженностей у овдовевших клиентов.\n",
    "    7% - доля задолженностей у разведённых клиентов.\n",
    "    7,5% - доля задолженностей у женатых/замужних клиентов.\n",
    "    9,3% - доля задолженностей у клиентов, состоящих в гражданском браке.\n",
    "    9,7% - - доля задолженностей у неженатых/незамужних клиентов.\n",
    "\n",
    "<b>3. Зависимость между уровнем дохода и возвратом кредита в срок существует</b>\n",
    "При уровне дохода от 30 001 до 50 000 человек чаще всего выплачивает свои долги, однако, если доходы клиента ниже 30 001, он с наименьшей вероятностью вернёт долг. \n",
    "\n",
    "    6% - доля задолженностей у клиентов с доходом от 30 001 до 50 000 р.\n",
    "    9% - доля задолженностей у клиентов с доходом до 30 000 р.\n",
    "\n",
    "Рекомендация: для получения информации о клиентах с более высоким доходом необходимо исследовать больше данных.\n",
    "\n",
    "<b>4. Разные цели кредита влияют на его возврат в срок.</b>\n",
    "Активнее всего клиенты возвращают долги за операции с недвижимостью и проведение свадьбы. Реже возвращают долги по кредитам, связанным с получением образования. Наиболее редко возвращают долги по кредитам, связанным с операциями с автомобилем. \n",
    "\n",
    "    7,2% - доля задолженностей у клиентов, взявших кредит на операции с недвижимостью.  \n",
    "    7,9% - доля задолженностей у клиентов, взявших кредит на проведение свадьбы.\n",
    "    9,2% - доля задолженностей у клиентов, взявших кредит на получение образования.\n",
    "    9,3% - доля задолженностей у клиентов, взявших кредит на операции с автомобилем.\n",
    "\n",
    "<b>Общие рекомендации:</b>\n",
    "Специалистам, которые занимаются построением системы кредитного скоринга, будут полезны выводы, полученные о целях кредита (вопрос №4), о семейном положении (вопрос №2), а также отсутствии детей у клиентов (вопрос №1).\n",
    "\n",
    "Для формулирования более чётких и полных выводов насчёт связи количества детей (вопрос №1) и дохода клиентов (вопрос №3) с их задолженностями необходимо больше данных.\n"
   ]
  }
 ],
 "metadata": {
  "ExecuteTimeLog": [
   {
    "duration": 715,
    "start_time": "2022-10-05T16:03:02.908Z"
   },
   {
    "duration": 23,
    "start_time": "2022-10-05T16:03:03.937Z"
   },
   {
    "duration": 13,
    "start_time": "2022-10-05T16:03:04.984Z"
   },
   {
    "duration": 8,
    "start_time": "2022-10-05T16:03:06.783Z"
   },
   {
    "duration": 32,
    "start_time": "2022-10-05T16:03:07.299Z"
   },
   {
    "duration": 3,
    "start_time": "2022-10-05T16:03:07.893Z"
   },
   {
    "duration": 8,
    "start_time": "2022-10-05T16:03:08.307Z"
   },
   {
    "duration": 4,
    "start_time": "2022-10-05T16:03:09.013Z"
   },
   {
    "duration": 7,
    "start_time": "2022-10-05T16:03:09.471Z"
   },
   {
    "duration": 4,
    "start_time": "2022-10-05T16:03:09.913Z"
   },
   {
    "duration": 30,
    "start_time": "2022-10-05T16:03:10.633Z"
   },
   {
    "duration": 9,
    "start_time": "2022-10-05T16:03:11.100Z"
   },
   {
    "duration": 4,
    "start_time": "2022-10-05T16:03:11.773Z"
   },
   {
    "duration": 11,
    "start_time": "2022-10-05T16:03:12.475Z"
   },
   {
    "duration": 20,
    "start_time": "2022-10-05T16:03:12.919Z"
   },
   {
    "duration": 17,
    "start_time": "2022-10-05T16:03:13.169Z"
   },
   {
    "duration": 4,
    "start_time": "2022-10-05T16:03:13.926Z"
   },
   {
    "duration": 9,
    "start_time": "2022-10-05T16:03:14.707Z"
   },
   {
    "duration": 5,
    "start_time": "2022-10-05T16:03:15.786Z"
   },
   {
    "duration": 3,
    "start_time": "2022-10-05T16:03:18.014Z"
   },
   {
    "duration": 8,
    "start_time": "2022-10-05T16:03:18.640Z"
   },
   {
    "duration": 59,
    "start_time": "2022-10-05T16:04:25.026Z"
   },
   {
    "duration": 20,
    "start_time": "2022-10-05T16:13:08.846Z"
   },
   {
    "duration": 21,
    "start_time": "2022-10-05T16:13:20.269Z"
   },
   {
    "duration": 9,
    "start_time": "2022-10-05T16:13:23.075Z"
   },
   {
    "duration": 19,
    "start_time": "2022-10-05T16:13:24.474Z"
   },
   {
    "duration": 14,
    "start_time": "2022-10-05T16:13:47.868Z"
   },
   {
    "duration": 4,
    "start_time": "2022-10-05T16:14:39.484Z"
   },
   {
    "duration": 4,
    "start_time": "2022-10-05T16:14:45.055Z"
   },
   {
    "duration": 7,
    "start_time": "2022-10-05T16:16:35.884Z"
   },
   {
    "duration": 11,
    "start_time": "2022-10-05T16:17:10.163Z"
   },
   {
    "duration": 7,
    "start_time": "2022-10-05T16:22:43.983Z"
   },
   {
    "duration": 10,
    "start_time": "2022-10-05T16:25:03.450Z"
   },
   {
    "duration": 9,
    "start_time": "2022-10-05T16:27:13.205Z"
   },
   {
    "duration": 10,
    "start_time": "2022-10-05T16:28:10.065Z"
   },
   {
    "duration": 9,
    "start_time": "2022-10-05T16:32:00.354Z"
   },
   {
    "duration": 9,
    "start_time": "2022-10-05T16:37:03.138Z"
   },
   {
    "duration": 8,
    "start_time": "2022-10-05T16:38:25.784Z"
   },
   {
    "duration": 15,
    "start_time": "2022-10-05T16:49:01.490Z"
   },
   {
    "duration": 27,
    "start_time": "2022-10-05T16:49:41.111Z"
   },
   {
    "duration": 68,
    "start_time": "2022-10-05T16:50:14.037Z"
   },
   {
    "duration": 47,
    "start_time": "2022-10-05T16:50:24.731Z"
   },
   {
    "duration": 10,
    "start_time": "2022-10-05T16:50:33.214Z"
   },
   {
    "duration": 744,
    "start_time": "2022-10-06T07:45:02.943Z"
   },
   {
    "duration": 23,
    "start_time": "2022-10-06T07:45:03.690Z"
   },
   {
    "duration": 16,
    "start_time": "2022-10-06T07:45:03.714Z"
   },
   {
    "duration": 27,
    "start_time": "2022-10-06T07:45:03.732Z"
   },
   {
    "duration": 46,
    "start_time": "2022-10-06T07:45:03.762Z"
   },
   {
    "duration": 4,
    "start_time": "2022-10-06T07:45:03.810Z"
   },
   {
    "duration": 36,
    "start_time": "2022-10-06T07:45:03.816Z"
   },
   {
    "duration": 7,
    "start_time": "2022-10-06T07:45:03.854Z"
   },
   {
    "duration": 10,
    "start_time": "2022-10-06T07:45:03.863Z"
   },
   {
    "duration": 5,
    "start_time": "2022-10-06T07:45:03.875Z"
   },
   {
    "duration": 47,
    "start_time": "2022-10-06T07:45:03.882Z"
   },
   {
    "duration": 10,
    "start_time": "2022-10-06T07:45:03.930Z"
   },
   {
    "duration": 8,
    "start_time": "2022-10-06T07:45:03.941Z"
   },
   {
    "duration": 16,
    "start_time": "2022-10-06T07:45:03.952Z"
   },
   {
    "duration": 27,
    "start_time": "2022-10-06T07:45:03.970Z"
   },
   {
    "duration": 32,
    "start_time": "2022-10-06T07:45:03.999Z"
   },
   {
    "duration": 4,
    "start_time": "2022-10-06T07:45:04.033Z"
   },
   {
    "duration": 15,
    "start_time": "2022-10-06T07:45:04.039Z"
   },
   {
    "duration": 13,
    "start_time": "2022-10-06T07:45:04.056Z"
   },
   {
    "duration": 5,
    "start_time": "2022-10-06T07:45:04.072Z"
   },
   {
    "duration": 17,
    "start_time": "2022-10-06T07:45:04.079Z"
   },
   {
    "duration": 9,
    "start_time": "2022-10-06T07:45:04.121Z"
   },
   {
    "duration": 16,
    "start_time": "2022-10-06T07:45:04.131Z"
   },
   {
    "duration": 14,
    "start_time": "2022-10-06T07:45:04.149Z"
   },
   {
    "duration": 15,
    "start_time": "2022-10-06T07:45:04.165Z"
   },
   {
    "duration": 51,
    "start_time": "2022-10-15T08:29:52.942Z"
   },
   {
    "duration": 555,
    "start_time": "2022-10-15T08:30:00.711Z"
   },
   {
    "duration": 29,
    "start_time": "2022-10-15T08:30:01.268Z"
   },
   {
    "duration": 15,
    "start_time": "2022-10-15T08:30:01.404Z"
   },
   {
    "duration": 10,
    "start_time": "2022-10-15T08:30:02.146Z"
   },
   {
    "duration": 33,
    "start_time": "2022-10-15T08:30:02.521Z"
   },
   {
    "duration": 4,
    "start_time": "2022-10-15T08:30:03.129Z"
   },
   {
    "duration": 7,
    "start_time": "2022-10-15T08:30:03.520Z"
   },
   {
    "duration": 5,
    "start_time": "2022-10-15T08:30:04.120Z"
   },
   {
    "duration": 7,
    "start_time": "2022-10-15T08:30:04.518Z"
   },
   {
    "duration": 5,
    "start_time": "2022-10-15T08:30:04.916Z"
   },
   {
    "duration": 33,
    "start_time": "2022-10-15T08:30:05.478Z"
   },
   {
    "duration": 17,
    "start_time": "2022-10-15T08:30:05.781Z"
   },
   {
    "duration": 4,
    "start_time": "2022-10-15T08:30:06.241Z"
   },
   {
    "duration": 12,
    "start_time": "2022-10-15T08:30:07.038Z"
   },
   {
    "duration": 20,
    "start_time": "2022-10-15T08:30:07.498Z"
   },
   {
    "duration": 16,
    "start_time": "2022-10-15T08:30:07.708Z"
   },
   {
    "duration": 3,
    "start_time": "2022-10-15T08:30:09.792Z"
   },
   {
    "duration": 10,
    "start_time": "2022-10-15T08:30:10.251Z"
   },
   {
    "duration": 7,
    "start_time": "2022-10-15T08:30:11.156Z"
   },
   {
    "duration": 3,
    "start_time": "2022-10-15T08:30:11.844Z"
   },
   {
    "duration": 8,
    "start_time": "2022-10-15T08:30:12.046Z"
   },
   {
    "duration": 8,
    "start_time": "2022-10-15T08:30:12.703Z"
   },
   {
    "duration": 11,
    "start_time": "2022-10-15T08:30:17.148Z"
   },
   {
    "duration": 8,
    "start_time": "2022-10-15T08:30:19.146Z"
   },
   {
    "duration": 33,
    "start_time": "2022-10-15T08:30:21.407Z"
   },
   {
    "duration": 14,
    "start_time": "2022-10-15T08:30:32.065Z"
   },
   {
    "duration": 432,
    "start_time": "2022-10-15T08:31:21.620Z"
   },
   {
    "duration": 4,
    "start_time": "2022-10-15T08:32:33.431Z"
   },
   {
    "duration": 40,
    "start_time": "2022-10-15T08:32:41.339Z"
   },
   {
    "duration": 45,
    "start_time": "2022-10-15T08:33:12.508Z"
   },
   {
    "duration": 4,
    "start_time": "2022-10-15T08:33:26.535Z"
   },
   {
    "duration": 4,
    "start_time": "2022-10-15T08:33:46.942Z"
   },
   {
    "duration": 4,
    "start_time": "2022-10-15T08:34:08.580Z"
   },
   {
    "duration": 20,
    "start_time": "2022-10-15T08:39:25.815Z"
   },
   {
    "duration": 13,
    "start_time": "2022-10-15T08:40:09.660Z"
   },
   {
    "duration": 14,
    "start_time": "2022-10-15T08:40:39.068Z"
   },
   {
    "duration": 14,
    "start_time": "2022-10-15T08:40:59.341Z"
   },
   {
    "duration": 20,
    "start_time": "2022-10-15T08:42:22.237Z"
   },
   {
    "duration": 25,
    "start_time": "2022-10-15T08:42:50.260Z"
   },
   {
    "duration": 18,
    "start_time": "2022-10-15T08:43:17.225Z"
   },
   {
    "duration": 12,
    "start_time": "2022-10-15T08:43:29.718Z"
   },
   {
    "duration": 56,
    "start_time": "2022-10-15T08:45:46.434Z"
   },
   {
    "duration": 16,
    "start_time": "2022-10-15T08:45:47.729Z"
   },
   {
    "duration": 26,
    "start_time": "2022-10-15T08:46:58.741Z"
   },
   {
    "duration": 21,
    "start_time": "2022-10-15T08:47:23.783Z"
   },
   {
    "duration": 12,
    "start_time": "2022-10-15T08:51:37.004Z"
   },
   {
    "duration": 11,
    "start_time": "2022-10-15T08:51:54.689Z"
   },
   {
    "duration": 58,
    "start_time": "2022-10-15T08:52:02.384Z"
   },
   {
    "duration": 15,
    "start_time": "2022-10-15T08:52:02.737Z"
   },
   {
    "duration": 16,
    "start_time": "2022-10-15T08:52:03.102Z"
   },
   {
    "duration": 10,
    "start_time": "2022-10-15T08:52:03.875Z"
   },
   {
    "duration": 30,
    "start_time": "2022-10-15T08:52:04.247Z"
   },
   {
    "duration": 4,
    "start_time": "2022-10-15T08:52:04.842Z"
   },
   {
    "duration": 8,
    "start_time": "2022-10-15T08:52:05.217Z"
   },
   {
    "duration": 5,
    "start_time": "2022-10-15T08:52:05.800Z"
   },
   {
    "duration": 6,
    "start_time": "2022-10-15T08:52:06.206Z"
   },
   {
    "duration": 4,
    "start_time": "2022-10-15T08:52:06.635Z"
   },
   {
    "duration": 31,
    "start_time": "2022-10-15T08:52:07.265Z"
   },
   {
    "duration": 9,
    "start_time": "2022-10-15T08:52:07.681Z"
   },
   {
    "duration": 4,
    "start_time": "2022-10-15T08:52:08.246Z"
   },
   {
    "duration": 11,
    "start_time": "2022-10-15T08:52:08.779Z"
   },
   {
    "duration": 28,
    "start_time": "2022-10-15T08:52:09.106Z"
   },
   {
    "duration": 16,
    "start_time": "2022-10-15T08:52:09.325Z"
   },
   {
    "duration": 3,
    "start_time": "2022-10-15T08:52:09.972Z"
   },
   {
    "duration": 10,
    "start_time": "2022-10-15T08:52:10.196Z"
   },
   {
    "duration": 6,
    "start_time": "2022-10-15T08:52:10.610Z"
   },
   {
    "duration": 4,
    "start_time": "2022-10-15T08:52:11.016Z"
   },
   {
    "duration": 8,
    "start_time": "2022-10-15T08:52:11.272Z"
   },
   {
    "duration": 8,
    "start_time": "2022-10-15T08:52:11.922Z"
   },
   {
    "duration": 9,
    "start_time": "2022-10-15T08:52:12.841Z"
   },
   {
    "duration": 9,
    "start_time": "2022-10-15T08:52:13.551Z"
   },
   {
    "duration": 9,
    "start_time": "2022-10-15T08:52:14.355Z"
   },
   {
    "duration": 558,
    "start_time": "2022-10-15T09:04:45.359Z"
   },
   {
    "duration": 43,
    "start_time": "2022-10-18T16:48:58.878Z"
   },
   {
    "duration": 86,
    "start_time": "2022-10-18T16:57:01.137Z"
   },
   {
    "duration": 68,
    "start_time": "2022-10-18T16:57:07.745Z"
   },
   {
    "duration": 1068,
    "start_time": "2022-10-18T16:57:12.939Z"
   },
   {
    "duration": 22,
    "start_time": "2022-10-18T16:57:14.009Z"
   },
   {
    "duration": 15,
    "start_time": "2022-10-18T16:57:14.033Z"
   },
   {
    "duration": 9,
    "start_time": "2022-10-18T16:57:15.218Z"
   },
   {
    "duration": 33,
    "start_time": "2022-10-18T16:57:16.162Z"
   },
   {
    "duration": 4,
    "start_time": "2022-10-18T16:57:16.777Z"
   },
   {
    "duration": 8,
    "start_time": "2022-10-18T16:57:17.151Z"
   },
   {
    "duration": 6,
    "start_time": "2022-10-18T16:57:17.721Z"
   },
   {
    "duration": 7,
    "start_time": "2022-10-18T16:57:18.120Z"
   },
   {
    "duration": 5,
    "start_time": "2022-10-18T16:57:18.531Z"
   },
   {
    "duration": 29,
    "start_time": "2022-10-18T16:57:19.162Z"
   },
   {
    "duration": 11,
    "start_time": "2022-10-18T16:57:19.560Z"
   },
   {
    "duration": 5,
    "start_time": "2022-10-18T16:57:20.231Z"
   },
   {
    "duration": 12,
    "start_time": "2022-10-18T16:57:20.879Z"
   },
   {
    "duration": 18,
    "start_time": "2022-10-18T16:57:21.285Z"
   },
   {
    "duration": 18,
    "start_time": "2022-10-18T16:57:21.527Z"
   },
   {
    "duration": 4,
    "start_time": "2022-10-18T16:57:23.960Z"
   },
   {
    "duration": 11,
    "start_time": "2022-10-18T16:57:24.413Z"
   },
   {
    "duration": 6,
    "start_time": "2022-10-18T16:57:24.865Z"
   },
   {
    "duration": 3,
    "start_time": "2022-10-18T16:57:25.224Z"
   },
   {
    "duration": 8,
    "start_time": "2022-10-18T16:57:25.418Z"
   },
   {
    "duration": 9,
    "start_time": "2022-10-18T16:57:26.020Z"
   },
   {
    "duration": 9,
    "start_time": "2022-10-18T16:57:27.302Z"
   },
   {
    "duration": 61,
    "start_time": "2022-10-18T21:41:46.609Z"
   },
   {
    "duration": 52,
    "start_time": "2022-10-18T21:41:51.726Z"
   },
   {
    "duration": 45,
    "start_time": "2022-10-18T21:42:17.890Z"
   }
  ],
  "celltoolbar": "Редактировать метаданные",
  "colab": {
   "name": "dpp_template_part2.ipynb",
   "provenance": []
  },
  "kernelspec": {
   "display_name": "Python 3 (ipykernel)",
   "language": "python",
   "name": "python3"
  },
  "language_info": {
   "codemirror_mode": {
    "name": "ipython",
    "version": 3
   },
   "file_extension": ".py",
   "mimetype": "text/x-python",
   "name": "python",
   "nbconvert_exporter": "python",
   "pygments_lexer": "ipython3",
   "version": "3.9.12"
  },
  "toc": {
   "base_numbering": 1,
   "nav_menu": {},
   "number_sections": true,
   "sideBar": true,
   "skip_h1_title": true,
   "title_cell": "Table of Contents",
   "title_sidebar": "Contents",
   "toc_cell": false,
   "toc_position": {},
   "toc_section_display": true,
   "toc_window_display": true
  }
 },
 "nbformat": 4,
 "nbformat_minor": 5
}
