{
 "cells": [
  {
   "cell_type": "markdown",
   "metadata": {},
   "source": [
    "# Защита персональных данных клиентов"
   ]
  },
  {
   "cell_type": "markdown",
   "metadata": {},
   "source": [
    "Вам нужно защитить данные клиентов страховой компании «Хоть потоп». Разработайте такой метод преобразования данных, чтобы по ним было сложно восстановить персональную информацию. Обоснуйте корректность его работы.\n",
    "\n",
    "Нужно защитить данные, чтобы при преобразовании качество моделей машинного обучения не ухудшилось. Подбирать наилучшую модель не требуется."
   ]
  },
  {
   "cell_type": "markdown",
   "metadata": {},
   "source": [
    "## Загрузка данных"
   ]
  },
  {
   "cell_type": "code",
   "execution_count": 2,
   "metadata": {},
   "outputs": [],
   "source": [
    "import pandas as pd\n",
    "import numpy as np\n",
    "from sklearn.model_selection import train_test_split\n",
    "from sklearn.linear_model import LinearRegression\n",
    "from sklearn.metrics import r2_score"
   ]
  },
  {
   "cell_type": "code",
   "execution_count": 3,
   "metadata": {},
   "outputs": [
    {
     "data": {
      "text/html": [
       "<div>\n",
       "<style scoped>\n",
       "    .dataframe tbody tr th:only-of-type {\n",
       "        vertical-align: middle;\n",
       "    }\n",
       "\n",
       "    .dataframe tbody tr th {\n",
       "        vertical-align: top;\n",
       "    }\n",
       "\n",
       "    .dataframe thead th {\n",
       "        text-align: right;\n",
       "    }\n",
       "</style>\n",
       "<table border=\"1\" class=\"dataframe\">\n",
       "  <thead>\n",
       "    <tr style=\"text-align: right;\">\n",
       "      <th></th>\n",
       "      <th>Пол</th>\n",
       "      <th>Возраст</th>\n",
       "      <th>Зарплата</th>\n",
       "      <th>Члены семьи</th>\n",
       "      <th>Страховые выплаты</th>\n",
       "    </tr>\n",
       "  </thead>\n",
       "  <tbody>\n",
       "    <tr>\n",
       "      <th>0</th>\n",
       "      <td>1</td>\n",
       "      <td>41.0</td>\n",
       "      <td>49600.0</td>\n",
       "      <td>1</td>\n",
       "      <td>0</td>\n",
       "    </tr>\n",
       "    <tr>\n",
       "      <th>1</th>\n",
       "      <td>0</td>\n",
       "      <td>46.0</td>\n",
       "      <td>38000.0</td>\n",
       "      <td>1</td>\n",
       "      <td>1</td>\n",
       "    </tr>\n",
       "    <tr>\n",
       "      <th>2</th>\n",
       "      <td>0</td>\n",
       "      <td>29.0</td>\n",
       "      <td>21000.0</td>\n",
       "      <td>0</td>\n",
       "      <td>0</td>\n",
       "    </tr>\n",
       "    <tr>\n",
       "      <th>3</th>\n",
       "      <td>0</td>\n",
       "      <td>21.0</td>\n",
       "      <td>41700.0</td>\n",
       "      <td>2</td>\n",
       "      <td>0</td>\n",
       "    </tr>\n",
       "    <tr>\n",
       "      <th>4</th>\n",
       "      <td>1</td>\n",
       "      <td>28.0</td>\n",
       "      <td>26100.0</td>\n",
       "      <td>0</td>\n",
       "      <td>0</td>\n",
       "    </tr>\n",
       "    <tr>\n",
       "      <th>5</th>\n",
       "      <td>1</td>\n",
       "      <td>43.0</td>\n",
       "      <td>41000.0</td>\n",
       "      <td>2</td>\n",
       "      <td>1</td>\n",
       "    </tr>\n",
       "    <tr>\n",
       "      <th>6</th>\n",
       "      <td>1</td>\n",
       "      <td>39.0</td>\n",
       "      <td>39700.0</td>\n",
       "      <td>2</td>\n",
       "      <td>0</td>\n",
       "    </tr>\n",
       "    <tr>\n",
       "      <th>7</th>\n",
       "      <td>1</td>\n",
       "      <td>25.0</td>\n",
       "      <td>38600.0</td>\n",
       "      <td>4</td>\n",
       "      <td>0</td>\n",
       "    </tr>\n",
       "    <tr>\n",
       "      <th>8</th>\n",
       "      <td>1</td>\n",
       "      <td>36.0</td>\n",
       "      <td>49700.0</td>\n",
       "      <td>1</td>\n",
       "      <td>0</td>\n",
       "    </tr>\n",
       "    <tr>\n",
       "      <th>9</th>\n",
       "      <td>1</td>\n",
       "      <td>32.0</td>\n",
       "      <td>51700.0</td>\n",
       "      <td>1</td>\n",
       "      <td>0</td>\n",
       "    </tr>\n",
       "    <tr>\n",
       "      <th>10</th>\n",
       "      <td>1</td>\n",
       "      <td>25.0</td>\n",
       "      <td>36600.0</td>\n",
       "      <td>1</td>\n",
       "      <td>0</td>\n",
       "    </tr>\n",
       "    <tr>\n",
       "      <th>11</th>\n",
       "      <td>1</td>\n",
       "      <td>38.0</td>\n",
       "      <td>29300.0</td>\n",
       "      <td>0</td>\n",
       "      <td>0</td>\n",
       "    </tr>\n",
       "    <tr>\n",
       "      <th>12</th>\n",
       "      <td>0</td>\n",
       "      <td>23.0</td>\n",
       "      <td>39500.0</td>\n",
       "      <td>3</td>\n",
       "      <td>0</td>\n",
       "    </tr>\n",
       "    <tr>\n",
       "      <th>13</th>\n",
       "      <td>0</td>\n",
       "      <td>21.0</td>\n",
       "      <td>55000.0</td>\n",
       "      <td>0</td>\n",
       "      <td>0</td>\n",
       "    </tr>\n",
       "    <tr>\n",
       "      <th>14</th>\n",
       "      <td>0</td>\n",
       "      <td>40.0</td>\n",
       "      <td>43700.0</td>\n",
       "      <td>1</td>\n",
       "      <td>0</td>\n",
       "    </tr>\n",
       "    <tr>\n",
       "      <th>15</th>\n",
       "      <td>1</td>\n",
       "      <td>34.0</td>\n",
       "      <td>23300.0</td>\n",
       "      <td>0</td>\n",
       "      <td>0</td>\n",
       "    </tr>\n",
       "    <tr>\n",
       "      <th>16</th>\n",
       "      <td>1</td>\n",
       "      <td>26.0</td>\n",
       "      <td>48900.0</td>\n",
       "      <td>2</td>\n",
       "      <td>0</td>\n",
       "    </tr>\n",
       "    <tr>\n",
       "      <th>17</th>\n",
       "      <td>1</td>\n",
       "      <td>41.0</td>\n",
       "      <td>33200.0</td>\n",
       "      <td>2</td>\n",
       "      <td>0</td>\n",
       "    </tr>\n",
       "    <tr>\n",
       "      <th>18</th>\n",
       "      <td>1</td>\n",
       "      <td>42.0</td>\n",
       "      <td>49700.0</td>\n",
       "      <td>0</td>\n",
       "      <td>1</td>\n",
       "    </tr>\n",
       "    <tr>\n",
       "      <th>19</th>\n",
       "      <td>1</td>\n",
       "      <td>27.0</td>\n",
       "      <td>36900.0</td>\n",
       "      <td>0</td>\n",
       "      <td>0</td>\n",
       "    </tr>\n",
       "  </tbody>\n",
       "</table>\n",
       "</div>"
      ],
      "text/plain": [
       "    Пол  Возраст  Зарплата  Члены семьи  Страховые выплаты\n",
       "0     1     41.0   49600.0            1                  0\n",
       "1     0     46.0   38000.0            1                  1\n",
       "2     0     29.0   21000.0            0                  0\n",
       "3     0     21.0   41700.0            2                  0\n",
       "4     1     28.0   26100.0            0                  0\n",
       "5     1     43.0   41000.0            2                  1\n",
       "6     1     39.0   39700.0            2                  0\n",
       "7     1     25.0   38600.0            4                  0\n",
       "8     1     36.0   49700.0            1                  0\n",
       "9     1     32.0   51700.0            1                  0\n",
       "10    1     25.0   36600.0            1                  0\n",
       "11    1     38.0   29300.0            0                  0\n",
       "12    0     23.0   39500.0            3                  0\n",
       "13    0     21.0   55000.0            0                  0\n",
       "14    0     40.0   43700.0            1                  0\n",
       "15    1     34.0   23300.0            0                  0\n",
       "16    1     26.0   48900.0            2                  0\n",
       "17    1     41.0   33200.0            2                  0\n",
       "18    1     42.0   49700.0            0                  1\n",
       "19    1     27.0   36900.0            0                  0"
      ]
     },
     "execution_count": 3,
     "metadata": {},
     "output_type": "execute_result"
    }
   ],
   "source": [
    "data = pd.read_csv('C:/datasets/10/insurance.csv')\n",
    "\n",
    "data.head(20)\n"
   ]
  },
  {
   "cell_type": "code",
   "execution_count": 4,
   "metadata": {
    "scrolled": true
   },
   "outputs": [
    {
     "name": "stdout",
     "output_type": "stream",
     "text": [
      "<class 'pandas.core.frame.DataFrame'>\n",
      "RangeIndex: 5000 entries, 0 to 4999\n",
      "Data columns (total 5 columns):\n",
      " #   Column             Non-Null Count  Dtype  \n",
      "---  ------             --------------  -----  \n",
      " 0   Пол                5000 non-null   int64  \n",
      " 1   Возраст            5000 non-null   float64\n",
      " 2   Зарплата           5000 non-null   float64\n",
      " 3   Члены семьи        5000 non-null   int64  \n",
      " 4   Страховые выплаты  5000 non-null   int64  \n",
      "dtypes: float64(2), int64(3)\n",
      "memory usage: 195.4 KB\n"
     ]
    }
   ],
   "source": [
    "\n",
    "data.info()"
   ]
  },
  {
   "cell_type": "markdown",
   "metadata": {},
   "source": [
    "<b>Итог изучения данных:</b> В данных отсутствуют пропуски и какие либо аномалии."
   ]
  },
  {
   "cell_type": "markdown",
   "metadata": {},
   "source": [
    "## Умножение матриц"
   ]
  },
  {
   "cell_type": "markdown",
   "metadata": {},
   "source": [
    "В этом задании вы можете записывать формулы в *Jupyter Notebook.*\n",
    "\n",
    "Чтобы записать формулу внутри текста, окружите её символами доллара \\\\$; если снаружи —  двойными символами \\\\$\\\\$. Эти формулы записываются на языке вёрстки *LaTeX.* \n",
    "\n",
    "Для примера мы записали формулы линейной регрессии. Можете их скопировать и отредактировать, чтобы решить задачу.\n",
    "\n",
    "Работать в *LaTeX* необязательно."
   ]
  },
  {
   "cell_type": "markdown",
   "metadata": {},
   "source": [
    "Обозначения:\n",
    "\n",
    "- $X$ — матрица признаков (нулевой столбец состоит из единиц)\n",
    "\n",
    "- $y$ — вектор целевого признака\n",
    "\n",
    "- $P$ — матрица, на которую умножаются признаки\n",
    "\n",
    "- $w$ — вектор весов линейной регрессии (нулевой элемент равен сдвигу)"
   ]
  },
  {
   "cell_type": "markdown",
   "metadata": {},
   "source": [
    "Предсказания:\n",
    "\n",
    "$$\n",
    "a = Xw\n",
    "$$\n",
    "\n",
    "Задача обучения:\n",
    "\n",
    "$$\n",
    "w = \\arg\\min_w MSE(Xw, y)\n",
    "$$\n",
    "\n",
    "Формула обучения:\n",
    "\n",
    "$$\n",
    "w = (X^T X)^{-1} X^T y\n",
    "$$"
   ]
  },
  {
   "cell_type": "markdown",
   "metadata": {},
   "source": [
    "<b>Признаки умножают на обратимую матрицу. Изменится ли качество линейной регрессии? (Её можно обучить заново.)</b>\n",
    "\n",
    "**Ответ:** не изменится\n",
    "\n",
    "**Обоснование:** \n",
    "Вспомним, что если матрица умножается на единичную матрицу, то получается та же матрица:\n",
    "\n",
    "Пусть 𝑃 — обратимая матрица, на которую умножаются признаки. Умножим матрицу признаков Х на обратимую матрицу Р и запишем новую формулу предсказаний.\n",
    "$$\n",
    "a = XPw = XP((XP)^T XP)^{-1} (XP)^T y\n",
    "$$\n",
    "Попробуем сократить формулу.\n",
    "\n",
    "$$\n",
    "XP((XP)^T XP)^{-1} (XP)^T y =\n",
    "$$\n",
    "$$\n",
    "= XP(P^T X^T XP)^{-1} P^T X^T y =\n",
    "$$\n",
    "$$\n",
    "= XPP^{-1}(X^T X)^{-1}(P^T)^{-1} P^T X^T y =\n",
    "$$\n",
    "$$\n",
    "= XPP^{-1}(X^T X)^{-1}(P^T)^{-1}P^T X^T y =\n",
    "$$\n",
    "\n",
    "Если квардратная матрица умножается на обратную, получается единичная матрица:\n",
    "$$\n",
    "= XE(X^T X)^{-1}EX^T y =\n",
    "$$\n",
    "\n",
    "Вспомним, что если матрица умножается на единичную матрицу, то получается та же матрица:\n",
    "$$\n",
    "= X(X^T X)^{-1}X^T y \n",
    "$$\n",
    "\n",
    "Полученная в результате сокращения формула равна изначальной формуле предсказания:\n",
    "$$\n",
    "a = Xw = Х(X^T X)^{-1} X^T y\n",
    "$$"
   ]
  },
  {
   "cell_type": "markdown",
   "metadata": {},
   "source": [
    "## Алгоритм преобразования"
   ]
  },
  {
   "cell_type": "markdown",
   "metadata": {},
   "source": [
    "**Алгоритм**\n",
    "\n",
    "В качестве алгоритма преобразования данных для решения задачи предлагаю умножение на обратимую матрицу."
   ]
  },
  {
   "cell_type": "markdown",
   "metadata": {},
   "source": [
    "**Обоснование**\n",
    "\n",
    "При умножениии на обратимую матрицу качество линейной регрессии не поменяется, что доказано выше, во втором пункте \"Умножение матриц\"."
   ]
  },
  {
   "cell_type": "markdown",
   "metadata": {},
   "source": [
    "## Проверка алгоритма"
   ]
  },
  {
   "cell_type": "code",
   "execution_count": 5,
   "metadata": {},
   "outputs": [],
   "source": [
    "# Создаю обучающую и тестовую выборки\n",
    "\n",
    "target = data['Страховые выплаты']\n",
    "features = data.drop('Страховые выплаты', axis=1)"
   ]
  },
  {
   "cell_type": "code",
   "execution_count": 14,
   "metadata": {},
   "outputs": [],
   "source": [
    "# Создаю функцию для шифрования признаков\n",
    "\n",
    "def encrypt(features):\n",
    "    inversable_matrix = np.random.normal(0, 1, (features.shape[1], features.shape[1]))\n",
    "    features_encrypted = features @ inversable_matrix\n",
    "    return features_encrypted"
   ]
  },
  {
   "cell_type": "code",
   "execution_count": 21,
   "metadata": {},
   "outputs": [
    {
     "name": "stdout",
     "output_type": "stream",
     "text": [
      "0.4249455028666801\n"
     ]
    }
   ],
   "source": [
    "model = LinearRegression()\n",
    "model.fit(features, target)\n",
    "predictions = model.predict(features)\n",
    "print(r2_score(target, predictions))"
   ]
  },
  {
   "cell_type": "code",
   "execution_count": 20,
   "metadata": {},
   "outputs": [
    {
     "name": "stdout",
     "output_type": "stream",
     "text": [
      "0.4249455028666833\n"
     ]
    }
   ],
   "source": [
    "features_encrypted = encrypt(features)\n",
    "\n",
    "model_encrypted = LinearRegression()\n",
    "model_encrypted.fit(features_encrypted, target)\n",
    "predictions_encrypted = model_encrypted.predict(features_encrypted)\n",
    "print(r2_score(target, predictions_encrypted))"
   ]
  },
  {
   "cell_type": "markdown",
   "metadata": {},
   "source": [
    "<b>Вывод:</b>\n",
    "\n",
    "Таким образом, после преобразования умножением признаков на обратимую матрицу качество линейной регрессии из sklearn не отличается до и после преобразования, что подтверждается метрикой R2."
   ]
  },
  {
   "cell_type": "markdown",
   "metadata": {},
   "source": [
    "## Итоги проекта\n",
    "\n",
    "\n",
    "<b>Итог изучения данных:</b> В данных отсутствуют пропуски и какие либо аномалии.\n",
    "\n",
    "Было установлено, что при умножении признаков на обратимую матрицу качество линейной регрессии не изменится, поэтому в качестве алгоритма преобразования данных для решения задачи можно использовать умножение на обратимую матрицу.\n",
    "\n",
    "Таким образом, после преобразования умножением признаков на обратимую матрицу качество линейной регрессии из sklearn не отличается до и после преобразования, что подтверждается метрикой R2:\n",
    "\n",
    "- R2 линейной регрессии до шифрования: <b>0.4249455028666801</b>\n",
    "- R2 линейной регрессии после шифрования: <b>0.4249455028666833</b>\n"
   ]
  }
 ],
 "metadata": {
  "ExecuteTimeLog": [
   {
    "duration": 403,
    "start_time": "2023-02-27T21:46:46.129Z"
   },
   {
    "duration": 96,
    "start_time": "2023-02-27T21:47:33.542Z"
   },
   {
    "duration": 38,
    "start_time": "2023-02-27T21:47:55.910Z"
   },
   {
    "duration": 42,
    "start_time": "2023-02-27T21:48:01.906Z"
   },
   {
    "duration": 35,
    "start_time": "2023-02-27T21:48:13.489Z"
   },
   {
    "duration": 12,
    "start_time": "2023-02-27T21:48:14.052Z"
   },
   {
    "duration": 46,
    "start_time": "2023-02-28T21:34:02.589Z"
   },
   {
    "duration": 366,
    "start_time": "2023-02-28T21:34:07.394Z"
   },
   {
    "duration": 109,
    "start_time": "2023-02-28T21:34:08.032Z"
   },
   {
    "duration": 3,
    "start_time": "2023-02-28T21:34:12.984Z"
   },
   {
    "duration": 29,
    "start_time": "2023-02-28T21:36:45.605Z"
   },
   {
    "duration": 9,
    "start_time": "2023-02-28T21:37:29.575Z"
   },
   {
    "duration": 646,
    "start_time": "2023-02-28T21:37:33.763Z"
   },
   {
    "duration": 37,
    "start_time": "2023-02-28T21:37:34.411Z"
   },
   {
    "duration": 7,
    "start_time": "2023-02-28T21:37:36.944Z"
   },
   {
    "duration": 26,
    "start_time": "2023-02-28T21:52:33.925Z"
   },
   {
    "duration": 43,
    "start_time": "2023-02-28T21:52:35.133Z"
   },
   {
    "duration": 13,
    "start_time": "2023-02-28T21:52:37.581Z"
   },
   {
    "duration": 8,
    "start_time": "2023-02-28T21:52:40.829Z"
   },
   {
    "duration": 4,
    "start_time": "2023-02-28T21:52:41.401Z"
   },
   {
    "duration": 8,
    "start_time": "2023-02-28T21:52:42.428Z"
   },
   {
    "duration": 8,
    "start_time": "2023-02-28T21:54:44.771Z"
   },
   {
    "duration": 248,
    "start_time": "2023-02-28T21:55:25.329Z"
   },
   {
    "duration": 9,
    "start_time": "2023-02-28T21:55:41.043Z"
   },
   {
    "duration": 11,
    "start_time": "2023-02-28T21:55:54.401Z"
   },
   {
    "duration": 10,
    "start_time": "2023-02-28T21:57:21.375Z"
   },
   {
    "duration": 10,
    "start_time": "2023-02-28T21:57:23.370Z"
   },
   {
    "duration": 63,
    "start_time": "2023-02-28T21:57:44.701Z"
   },
   {
    "duration": 73,
    "start_time": "2023-03-01T10:45:04.829Z"
   },
   {
    "duration": 1053,
    "start_time": "2023-03-01T10:45:13.457Z"
   },
   {
    "duration": 58,
    "start_time": "2023-03-01T10:45:19.155Z"
   },
   {
    "duration": 46,
    "start_time": "2023-03-01T13:35:32.536Z"
   },
   {
    "duration": 1101,
    "start_time": "2023-03-01T13:35:37.421Z"
   },
   {
    "duration": 105,
    "start_time": "2023-03-01T13:35:38.525Z"
   },
   {
    "duration": 14,
    "start_time": "2023-03-01T13:35:42.206Z"
   },
   {
    "duration": 4,
    "start_time": "2023-03-01T13:35:47.748Z"
   },
   {
    "duration": 2,
    "start_time": "2023-03-01T13:35:49.145Z"
   },
   {
    "duration": 62,
    "start_time": "2023-03-01T13:35:52.166Z"
   },
   {
    "duration": 4,
    "start_time": "2023-03-01T13:35:59.682Z"
   },
   {
    "duration": 73,
    "start_time": "2023-03-01T13:37:47.777Z"
   },
   {
    "duration": 108,
    "start_time": "2023-03-01T13:38:10.100Z"
   },
   {
    "duration": 68,
    "start_time": "2023-03-01T13:38:50.059Z"
   },
   {
    "duration": 89,
    "start_time": "2023-03-01T13:39:04.496Z"
   },
   {
    "duration": 73,
    "start_time": "2023-03-01T13:39:39.857Z"
   },
   {
    "duration": 5,
    "start_time": "2023-03-01T13:39:44.139Z"
   }
  ],
  "kernelspec": {
   "display_name": "Python 3 (ipykernel)",
   "language": "python",
   "name": "python3"
  },
  "language_info": {
   "codemirror_mode": {
    "name": "ipython",
    "version": 3
   },
   "file_extension": ".py",
   "mimetype": "text/x-python",
   "name": "python",
   "nbconvert_exporter": "python",
   "pygments_lexer": "ipython3",
   "version": "3.9.12"
  },
  "toc": {
   "base_numbering": 1,
   "nav_menu": {},
   "number_sections": true,
   "sideBar": true,
   "skip_h1_title": true,
   "title_cell": "Содержание",
   "title_sidebar": "Contents",
   "toc_cell": true,
   "toc_position": {},
   "toc_section_display": true,
   "toc_window_display": true
  }
 },
 "nbformat": 4,
 "nbformat_minor": 2
}
