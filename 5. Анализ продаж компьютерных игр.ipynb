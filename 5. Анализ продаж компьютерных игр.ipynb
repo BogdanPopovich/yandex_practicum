{
 "cells": [
  {
   "cell_type": "markdown",
   "metadata": {},
   "source": [
    "# Анализ продаж компьютерных игр"
   ]
  },
  {
   "cell_type": "markdown",
   "metadata": {},
   "source": [
    "## Описание проекта\n",
    "\n",
    "Из открытых источников доступны исторические данные о продажах игр, оценки пользователей и экспертов, жанры и платформы (например, Xbox или PlayStation). Нужно выявить определяющие успешность игры закономерности. Это позволит сделать ставку на потенциально популярный продукт и спланировать рекламные кампании.\n",
    "\n",
    "Необходимо проанализировать исторические данные о продажах игр (до 2016 года включительно), в которые включены оценки пользователей и экспертов, информация о жанрах и платформах. \n",
    "\n",
    "\n",
    "### План работы\n",
    "\n",
    "- Шаг 1. Просмотр данных и изучение общей информации\n",
    "- Шаг 2. Подготовка данных\n",
    "\n",
    "\n",
    "- Шаг 3. Проведение исследовательского анализа данных\n",
    "    - Выбор платформы с наибольшими суммарными продажами.\n",
    "    - Срок появления новых и исчезновения старых платформ.\n",
    "    - Выбор актуального периода исследоавания.\n",
    "    - Анализ лидирующих платформ.\n",
    "    - Вычисление корреляции между продажами и отзывами пользователей и критиков.\n",
    "    - Анализ показателей разных жанров видеоигр.\n",
    "\n",
    "\n",
    "- Шаг 4. Составление портрета пользователя каждого региона (Северная Америка, Европа, Япония)\n",
    "    - Самые популярные платформы (топ-5). \n",
    "    - Самые популярные жанры (топ-5). \n",
    "    - Влияние рейтинга ESRB на продажи в отдельном регионе.\n",
    "\n",
    "\n",
    "- Шаг 5. Проверка гипотез\n",
    "  - Средние пользовательские рейтинги платформ Xbox One и PC одинаковые;\n",
    "  - Средние пользовательские рейтинги жанров Action (англ. «действие», экшен-игры) и Sports (англ. «спортивные соревнования») разные.\n",
    "\n"
   ]
  },
  {
   "cell_type": "markdown",
   "metadata": {},
   "source": [
    "<b> Шаг 1. Открываю файл с данными и изучаю общую информацию </b>"
   ]
  },
  {
   "cell_type": "code",
   "execution_count": 1,
   "metadata": {},
   "outputs": [],
   "source": [
    "# Импорт библиотек\n",
    "\n",
    "import pandas as pd\n",
    "\n",
    "import numpy as np\n",
    "\n",
    "import matplotlib.pyplot as plt\n",
    "\n",
    "import seaborn as sns\n",
    "\n",
    "from scipy import stats as st"
   ]
  },
  {
   "cell_type": "code",
   "execution_count": 2,
   "metadata": {},
   "outputs": [],
   "source": [
    "data = pd.read_csv('C:/datasets/5/games.csv')"
   ]
  },
  {
   "cell_type": "code",
   "execution_count": 3,
   "metadata": {},
   "outputs": [
    {
     "data": {
      "text/html": [
       "<div>\n",
       "<style scoped>\n",
       "    .dataframe tbody tr th:only-of-type {\n",
       "        vertical-align: middle;\n",
       "    }\n",
       "\n",
       "    .dataframe tbody tr th {\n",
       "        vertical-align: top;\n",
       "    }\n",
       "\n",
       "    .dataframe thead th {\n",
       "        text-align: right;\n",
       "    }\n",
       "</style>\n",
       "<table border=\"1\" class=\"dataframe\">\n",
       "  <thead>\n",
       "    <tr style=\"text-align: right;\">\n",
       "      <th></th>\n",
       "      <th>Name</th>\n",
       "      <th>Platform</th>\n",
       "      <th>Year_of_Release</th>\n",
       "      <th>Genre</th>\n",
       "      <th>NA_sales</th>\n",
       "      <th>EU_sales</th>\n",
       "      <th>JP_sales</th>\n",
       "      <th>Other_sales</th>\n",
       "      <th>Critic_Score</th>\n",
       "      <th>User_Score</th>\n",
       "      <th>Rating</th>\n",
       "    </tr>\n",
       "  </thead>\n",
       "  <tbody>\n",
       "    <tr>\n",
       "      <th>0</th>\n",
       "      <td>Wii Sports</td>\n",
       "      <td>Wii</td>\n",
       "      <td>2006.0</td>\n",
       "      <td>Sports</td>\n",
       "      <td>41.36</td>\n",
       "      <td>28.96</td>\n",
       "      <td>3.77</td>\n",
       "      <td>8.45</td>\n",
       "      <td>76.0</td>\n",
       "      <td>8</td>\n",
       "      <td>E</td>\n",
       "    </tr>\n",
       "    <tr>\n",
       "      <th>1</th>\n",
       "      <td>Super Mario Bros.</td>\n",
       "      <td>NES</td>\n",
       "      <td>1985.0</td>\n",
       "      <td>Platform</td>\n",
       "      <td>29.08</td>\n",
       "      <td>3.58</td>\n",
       "      <td>6.81</td>\n",
       "      <td>0.77</td>\n",
       "      <td>NaN</td>\n",
       "      <td>NaN</td>\n",
       "      <td>NaN</td>\n",
       "    </tr>\n",
       "    <tr>\n",
       "      <th>2</th>\n",
       "      <td>Mario Kart Wii</td>\n",
       "      <td>Wii</td>\n",
       "      <td>2008.0</td>\n",
       "      <td>Racing</td>\n",
       "      <td>15.68</td>\n",
       "      <td>12.76</td>\n",
       "      <td>3.79</td>\n",
       "      <td>3.29</td>\n",
       "      <td>82.0</td>\n",
       "      <td>8.3</td>\n",
       "      <td>E</td>\n",
       "    </tr>\n",
       "    <tr>\n",
       "      <th>3</th>\n",
       "      <td>Wii Sports Resort</td>\n",
       "      <td>Wii</td>\n",
       "      <td>2009.0</td>\n",
       "      <td>Sports</td>\n",
       "      <td>15.61</td>\n",
       "      <td>10.93</td>\n",
       "      <td>3.28</td>\n",
       "      <td>2.95</td>\n",
       "      <td>80.0</td>\n",
       "      <td>8</td>\n",
       "      <td>E</td>\n",
       "    </tr>\n",
       "    <tr>\n",
       "      <th>4</th>\n",
       "      <td>Pokemon Red/Pokemon Blue</td>\n",
       "      <td>GB</td>\n",
       "      <td>1996.0</td>\n",
       "      <td>Role-Playing</td>\n",
       "      <td>11.27</td>\n",
       "      <td>8.89</td>\n",
       "      <td>10.22</td>\n",
       "      <td>1.00</td>\n",
       "      <td>NaN</td>\n",
       "      <td>NaN</td>\n",
       "      <td>NaN</td>\n",
       "    </tr>\n",
       "    <tr>\n",
       "      <th>5</th>\n",
       "      <td>Tetris</td>\n",
       "      <td>GB</td>\n",
       "      <td>1989.0</td>\n",
       "      <td>Puzzle</td>\n",
       "      <td>23.20</td>\n",
       "      <td>2.26</td>\n",
       "      <td>4.22</td>\n",
       "      <td>0.58</td>\n",
       "      <td>NaN</td>\n",
       "      <td>NaN</td>\n",
       "      <td>NaN</td>\n",
       "    </tr>\n",
       "    <tr>\n",
       "      <th>6</th>\n",
       "      <td>New Super Mario Bros.</td>\n",
       "      <td>DS</td>\n",
       "      <td>2006.0</td>\n",
       "      <td>Platform</td>\n",
       "      <td>11.28</td>\n",
       "      <td>9.14</td>\n",
       "      <td>6.50</td>\n",
       "      <td>2.88</td>\n",
       "      <td>89.0</td>\n",
       "      <td>8.5</td>\n",
       "      <td>E</td>\n",
       "    </tr>\n",
       "    <tr>\n",
       "      <th>7</th>\n",
       "      <td>Wii Play</td>\n",
       "      <td>Wii</td>\n",
       "      <td>2006.0</td>\n",
       "      <td>Misc</td>\n",
       "      <td>13.96</td>\n",
       "      <td>9.18</td>\n",
       "      <td>2.93</td>\n",
       "      <td>2.84</td>\n",
       "      <td>58.0</td>\n",
       "      <td>6.6</td>\n",
       "      <td>E</td>\n",
       "    </tr>\n",
       "    <tr>\n",
       "      <th>8</th>\n",
       "      <td>New Super Mario Bros. Wii</td>\n",
       "      <td>Wii</td>\n",
       "      <td>2009.0</td>\n",
       "      <td>Platform</td>\n",
       "      <td>14.44</td>\n",
       "      <td>6.94</td>\n",
       "      <td>4.70</td>\n",
       "      <td>2.24</td>\n",
       "      <td>87.0</td>\n",
       "      <td>8.4</td>\n",
       "      <td>E</td>\n",
       "    </tr>\n",
       "    <tr>\n",
       "      <th>9</th>\n",
       "      <td>Duck Hunt</td>\n",
       "      <td>NES</td>\n",
       "      <td>1984.0</td>\n",
       "      <td>Shooter</td>\n",
       "      <td>26.93</td>\n",
       "      <td>0.63</td>\n",
       "      <td>0.28</td>\n",
       "      <td>0.47</td>\n",
       "      <td>NaN</td>\n",
       "      <td>NaN</td>\n",
       "      <td>NaN</td>\n",
       "    </tr>\n",
       "    <tr>\n",
       "      <th>10</th>\n",
       "      <td>Nintendogs</td>\n",
       "      <td>DS</td>\n",
       "      <td>2005.0</td>\n",
       "      <td>Simulation</td>\n",
       "      <td>9.05</td>\n",
       "      <td>10.95</td>\n",
       "      <td>1.93</td>\n",
       "      <td>2.74</td>\n",
       "      <td>NaN</td>\n",
       "      <td>NaN</td>\n",
       "      <td>NaN</td>\n",
       "    </tr>\n",
       "    <tr>\n",
       "      <th>11</th>\n",
       "      <td>Mario Kart DS</td>\n",
       "      <td>DS</td>\n",
       "      <td>2005.0</td>\n",
       "      <td>Racing</td>\n",
       "      <td>9.71</td>\n",
       "      <td>7.47</td>\n",
       "      <td>4.13</td>\n",
       "      <td>1.90</td>\n",
       "      <td>91.0</td>\n",
       "      <td>8.6</td>\n",
       "      <td>E</td>\n",
       "    </tr>\n",
       "    <tr>\n",
       "      <th>12</th>\n",
       "      <td>Pokemon Gold/Pokemon Silver</td>\n",
       "      <td>GB</td>\n",
       "      <td>1999.0</td>\n",
       "      <td>Role-Playing</td>\n",
       "      <td>9.00</td>\n",
       "      <td>6.18</td>\n",
       "      <td>7.20</td>\n",
       "      <td>0.71</td>\n",
       "      <td>NaN</td>\n",
       "      <td>NaN</td>\n",
       "      <td>NaN</td>\n",
       "    </tr>\n",
       "    <tr>\n",
       "      <th>13</th>\n",
       "      <td>Wii Fit</td>\n",
       "      <td>Wii</td>\n",
       "      <td>2007.0</td>\n",
       "      <td>Sports</td>\n",
       "      <td>8.92</td>\n",
       "      <td>8.03</td>\n",
       "      <td>3.60</td>\n",
       "      <td>2.15</td>\n",
       "      <td>80.0</td>\n",
       "      <td>7.7</td>\n",
       "      <td>E</td>\n",
       "    </tr>\n",
       "    <tr>\n",
       "      <th>14</th>\n",
       "      <td>Kinect Adventures!</td>\n",
       "      <td>X360</td>\n",
       "      <td>2010.0</td>\n",
       "      <td>Misc</td>\n",
       "      <td>15.00</td>\n",
       "      <td>4.89</td>\n",
       "      <td>0.24</td>\n",
       "      <td>1.69</td>\n",
       "      <td>61.0</td>\n",
       "      <td>6.3</td>\n",
       "      <td>E</td>\n",
       "    </tr>\n",
       "    <tr>\n",
       "      <th>15</th>\n",
       "      <td>Wii Fit Plus</td>\n",
       "      <td>Wii</td>\n",
       "      <td>2009.0</td>\n",
       "      <td>Sports</td>\n",
       "      <td>9.01</td>\n",
       "      <td>8.49</td>\n",
       "      <td>2.53</td>\n",
       "      <td>1.77</td>\n",
       "      <td>80.0</td>\n",
       "      <td>7.4</td>\n",
       "      <td>E</td>\n",
       "    </tr>\n",
       "    <tr>\n",
       "      <th>16</th>\n",
       "      <td>Grand Theft Auto V</td>\n",
       "      <td>PS3</td>\n",
       "      <td>2013.0</td>\n",
       "      <td>Action</td>\n",
       "      <td>7.02</td>\n",
       "      <td>9.09</td>\n",
       "      <td>0.98</td>\n",
       "      <td>3.96</td>\n",
       "      <td>97.0</td>\n",
       "      <td>8.2</td>\n",
       "      <td>M</td>\n",
       "    </tr>\n",
       "    <tr>\n",
       "      <th>17</th>\n",
       "      <td>Grand Theft Auto: San Andreas</td>\n",
       "      <td>PS2</td>\n",
       "      <td>2004.0</td>\n",
       "      <td>Action</td>\n",
       "      <td>9.43</td>\n",
       "      <td>0.40</td>\n",
       "      <td>0.41</td>\n",
       "      <td>10.57</td>\n",
       "      <td>95.0</td>\n",
       "      <td>9</td>\n",
       "      <td>M</td>\n",
       "    </tr>\n",
       "    <tr>\n",
       "      <th>18</th>\n",
       "      <td>Super Mario World</td>\n",
       "      <td>SNES</td>\n",
       "      <td>1990.0</td>\n",
       "      <td>Platform</td>\n",
       "      <td>12.78</td>\n",
       "      <td>3.75</td>\n",
       "      <td>3.54</td>\n",
       "      <td>0.55</td>\n",
       "      <td>NaN</td>\n",
       "      <td>NaN</td>\n",
       "      <td>NaN</td>\n",
       "    </tr>\n",
       "    <tr>\n",
       "      <th>19</th>\n",
       "      <td>Brain Age: Train Your Brain in Minutes a Day</td>\n",
       "      <td>DS</td>\n",
       "      <td>2005.0</td>\n",
       "      <td>Misc</td>\n",
       "      <td>4.74</td>\n",
       "      <td>9.20</td>\n",
       "      <td>4.16</td>\n",
       "      <td>2.04</td>\n",
       "      <td>77.0</td>\n",
       "      <td>7.9</td>\n",
       "      <td>E</td>\n",
       "    </tr>\n",
       "  </tbody>\n",
       "</table>\n",
       "</div>"
      ],
      "text/plain": [
       "                                            Name Platform  Year_of_Release  \\\n",
       "0                                     Wii Sports      Wii           2006.0   \n",
       "1                              Super Mario Bros.      NES           1985.0   \n",
       "2                                 Mario Kart Wii      Wii           2008.0   \n",
       "3                              Wii Sports Resort      Wii           2009.0   \n",
       "4                       Pokemon Red/Pokemon Blue       GB           1996.0   \n",
       "5                                         Tetris       GB           1989.0   \n",
       "6                          New Super Mario Bros.       DS           2006.0   \n",
       "7                                       Wii Play      Wii           2006.0   \n",
       "8                      New Super Mario Bros. Wii      Wii           2009.0   \n",
       "9                                      Duck Hunt      NES           1984.0   \n",
       "10                                    Nintendogs       DS           2005.0   \n",
       "11                                 Mario Kart DS       DS           2005.0   \n",
       "12                   Pokemon Gold/Pokemon Silver       GB           1999.0   \n",
       "13                                       Wii Fit      Wii           2007.0   \n",
       "14                            Kinect Adventures!     X360           2010.0   \n",
       "15                                  Wii Fit Plus      Wii           2009.0   \n",
       "16                            Grand Theft Auto V      PS3           2013.0   \n",
       "17                 Grand Theft Auto: San Andreas      PS2           2004.0   \n",
       "18                             Super Mario World     SNES           1990.0   \n",
       "19  Brain Age: Train Your Brain in Minutes a Day       DS           2005.0   \n",
       "\n",
       "           Genre  NA_sales  EU_sales  JP_sales  Other_sales  Critic_Score  \\\n",
       "0         Sports     41.36     28.96      3.77         8.45          76.0   \n",
       "1       Platform     29.08      3.58      6.81         0.77           NaN   \n",
       "2         Racing     15.68     12.76      3.79         3.29          82.0   \n",
       "3         Sports     15.61     10.93      3.28         2.95          80.0   \n",
       "4   Role-Playing     11.27      8.89     10.22         1.00           NaN   \n",
       "5         Puzzle     23.20      2.26      4.22         0.58           NaN   \n",
       "6       Platform     11.28      9.14      6.50         2.88          89.0   \n",
       "7           Misc     13.96      9.18      2.93         2.84          58.0   \n",
       "8       Platform     14.44      6.94      4.70         2.24          87.0   \n",
       "9        Shooter     26.93      0.63      0.28         0.47           NaN   \n",
       "10    Simulation      9.05     10.95      1.93         2.74           NaN   \n",
       "11        Racing      9.71      7.47      4.13         1.90          91.0   \n",
       "12  Role-Playing      9.00      6.18      7.20         0.71           NaN   \n",
       "13        Sports      8.92      8.03      3.60         2.15          80.0   \n",
       "14          Misc     15.00      4.89      0.24         1.69          61.0   \n",
       "15        Sports      9.01      8.49      2.53         1.77          80.0   \n",
       "16        Action      7.02      9.09      0.98         3.96          97.0   \n",
       "17        Action      9.43      0.40      0.41        10.57          95.0   \n",
       "18      Platform     12.78      3.75      3.54         0.55           NaN   \n",
       "19          Misc      4.74      9.20      4.16         2.04          77.0   \n",
       "\n",
       "   User_Score Rating  \n",
       "0           8      E  \n",
       "1         NaN    NaN  \n",
       "2         8.3      E  \n",
       "3           8      E  \n",
       "4         NaN    NaN  \n",
       "5         NaN    NaN  \n",
       "6         8.5      E  \n",
       "7         6.6      E  \n",
       "8         8.4      E  \n",
       "9         NaN    NaN  \n",
       "10        NaN    NaN  \n",
       "11        8.6      E  \n",
       "12        NaN    NaN  \n",
       "13        7.7      E  \n",
       "14        6.3      E  \n",
       "15        7.4      E  \n",
       "16        8.2      M  \n",
       "17          9      M  \n",
       "18        NaN    NaN  \n",
       "19        7.9      E  "
      ]
     },
     "execution_count": 3,
     "metadata": {},
     "output_type": "execute_result"
    }
   ],
   "source": [
    "data.head(20)"
   ]
  },
  {
   "cell_type": "code",
   "execution_count": 4,
   "metadata": {
    "scrolled": false
   },
   "outputs": [
    {
     "name": "stdout",
     "output_type": "stream",
     "text": [
      "<class 'pandas.core.frame.DataFrame'>\n",
      "RangeIndex: 16715 entries, 0 to 16714\n",
      "Data columns (total 11 columns):\n",
      " #   Column           Non-Null Count  Dtype  \n",
      "---  ------           --------------  -----  \n",
      " 0   Name             16713 non-null  object \n",
      " 1   Platform         16715 non-null  object \n",
      " 2   Year_of_Release  16446 non-null  float64\n",
      " 3   Genre            16713 non-null  object \n",
      " 4   NA_sales         16715 non-null  float64\n",
      " 5   EU_sales         16715 non-null  float64\n",
      " 6   JP_sales         16715 non-null  float64\n",
      " 7   Other_sales      16715 non-null  float64\n",
      " 8   Critic_Score     8137 non-null   float64\n",
      " 9   User_Score       10014 non-null  object \n",
      " 10  Rating           9949 non-null   object \n",
      "dtypes: float64(6), object(5)\n",
      "memory usage: 1.4+ MB\n"
     ]
    }
   ],
   "source": [
    "# Получаю первичное представление о данных\n",
    "data.info()"
   ]
  },
  {
   "cell_type": "markdown",
   "metadata": {},
   "source": [
    "<b> Шаг 2. Подготавливаю данные </b>"
   ]
  },
  {
   "cell_type": "markdown",
   "metadata": {},
   "source": [
    "Заменяю названия столбцов (привожу к нижнему регистру)"
   ]
  },
  {
   "cell_type": "code",
   "execution_count": 5,
   "metadata": {},
   "outputs": [
    {
     "data": {
      "text/html": [
       "<div>\n",
       "<style scoped>\n",
       "    .dataframe tbody tr th:only-of-type {\n",
       "        vertical-align: middle;\n",
       "    }\n",
       "\n",
       "    .dataframe tbody tr th {\n",
       "        vertical-align: top;\n",
       "    }\n",
       "\n",
       "    .dataframe thead th {\n",
       "        text-align: right;\n",
       "    }\n",
       "</style>\n",
       "<table border=\"1\" class=\"dataframe\">\n",
       "  <thead>\n",
       "    <tr style=\"text-align: right;\">\n",
       "      <th></th>\n",
       "      <th>name</th>\n",
       "      <th>platform</th>\n",
       "      <th>year_of_release</th>\n",
       "      <th>genre</th>\n",
       "      <th>na_sales</th>\n",
       "      <th>eu_sales</th>\n",
       "      <th>jp_sales</th>\n",
       "      <th>other_sales</th>\n",
       "      <th>critic_score</th>\n",
       "      <th>user_score</th>\n",
       "      <th>rating</th>\n",
       "    </tr>\n",
       "  </thead>\n",
       "  <tbody>\n",
       "    <tr>\n",
       "      <th>0</th>\n",
       "      <td>Wii Sports</td>\n",
       "      <td>Wii</td>\n",
       "      <td>2006.0</td>\n",
       "      <td>Sports</td>\n",
       "      <td>41.36</td>\n",
       "      <td>28.96</td>\n",
       "      <td>3.77</td>\n",
       "      <td>8.45</td>\n",
       "      <td>76.0</td>\n",
       "      <td>8</td>\n",
       "      <td>E</td>\n",
       "    </tr>\n",
       "    <tr>\n",
       "      <th>1</th>\n",
       "      <td>Super Mario Bros.</td>\n",
       "      <td>NES</td>\n",
       "      <td>1985.0</td>\n",
       "      <td>Platform</td>\n",
       "      <td>29.08</td>\n",
       "      <td>3.58</td>\n",
       "      <td>6.81</td>\n",
       "      <td>0.77</td>\n",
       "      <td>NaN</td>\n",
       "      <td>NaN</td>\n",
       "      <td>NaN</td>\n",
       "    </tr>\n",
       "    <tr>\n",
       "      <th>2</th>\n",
       "      <td>Mario Kart Wii</td>\n",
       "      <td>Wii</td>\n",
       "      <td>2008.0</td>\n",
       "      <td>Racing</td>\n",
       "      <td>15.68</td>\n",
       "      <td>12.76</td>\n",
       "      <td>3.79</td>\n",
       "      <td>3.29</td>\n",
       "      <td>82.0</td>\n",
       "      <td>8.3</td>\n",
       "      <td>E</td>\n",
       "    </tr>\n",
       "    <tr>\n",
       "      <th>3</th>\n",
       "      <td>Wii Sports Resort</td>\n",
       "      <td>Wii</td>\n",
       "      <td>2009.0</td>\n",
       "      <td>Sports</td>\n",
       "      <td>15.61</td>\n",
       "      <td>10.93</td>\n",
       "      <td>3.28</td>\n",
       "      <td>2.95</td>\n",
       "      <td>80.0</td>\n",
       "      <td>8</td>\n",
       "      <td>E</td>\n",
       "    </tr>\n",
       "    <tr>\n",
       "      <th>4</th>\n",
       "      <td>Pokemon Red/Pokemon Blue</td>\n",
       "      <td>GB</td>\n",
       "      <td>1996.0</td>\n",
       "      <td>Role-Playing</td>\n",
       "      <td>11.27</td>\n",
       "      <td>8.89</td>\n",
       "      <td>10.22</td>\n",
       "      <td>1.00</td>\n",
       "      <td>NaN</td>\n",
       "      <td>NaN</td>\n",
       "      <td>NaN</td>\n",
       "    </tr>\n",
       "  </tbody>\n",
       "</table>\n",
       "</div>"
      ],
      "text/plain": [
       "                       name platform  year_of_release         genre  na_sales  \\\n",
       "0                Wii Sports      Wii           2006.0        Sports     41.36   \n",
       "1         Super Mario Bros.      NES           1985.0      Platform     29.08   \n",
       "2            Mario Kart Wii      Wii           2008.0        Racing     15.68   \n",
       "3         Wii Sports Resort      Wii           2009.0        Sports     15.61   \n",
       "4  Pokemon Red/Pokemon Blue       GB           1996.0  Role-Playing     11.27   \n",
       "\n",
       "   eu_sales  jp_sales  other_sales  critic_score user_score rating  \n",
       "0     28.96      3.77         8.45          76.0          8      E  \n",
       "1      3.58      6.81         0.77           NaN        NaN    NaN  \n",
       "2     12.76      3.79         3.29          82.0        8.3      E  \n",
       "3     10.93      3.28         2.95          80.0          8      E  \n",
       "4      8.89     10.22         1.00           NaN        NaN    NaN  "
      ]
     },
     "execution_count": 5,
     "metadata": {},
     "output_type": "execute_result"
    }
   ],
   "source": [
    "data.columns = data.columns.str.lower()\n",
    "\n",
    "data.head()"
   ]
  },
  {
   "cell_type": "markdown",
   "metadata": {},
   "source": [
    "Преобразовываю данные в нужные типы."
   ]
  },
  {
   "cell_type": "code",
   "execution_count": 6,
   "metadata": {},
   "outputs": [
    {
     "name": "stdout",
     "output_type": "stream",
     "text": [
      "<class 'pandas.core.frame.DataFrame'>\n",
      "RangeIndex: 16715 entries, 0 to 16714\n",
      "Data columns (total 11 columns):\n",
      " #   Column           Non-Null Count  Dtype  \n",
      "---  ------           --------------  -----  \n",
      " 0   name             16713 non-null  object \n",
      " 1   platform         16715 non-null  object \n",
      " 2   year_of_release  16446 non-null  float64\n",
      " 3   genre            16713 non-null  object \n",
      " 4   na_sales         16715 non-null  float64\n",
      " 5   eu_sales         16715 non-null  float64\n",
      " 6   jp_sales         16715 non-null  float64\n",
      " 7   other_sales      16715 non-null  float64\n",
      " 8   critic_score     8137 non-null   float64\n",
      " 9   user_score       7590 non-null   float64\n",
      " 10  rating           9949 non-null   object \n",
      "dtypes: float64(7), object(4)\n",
      "memory usage: 1.4+ MB\n"
     ]
    }
   ],
   "source": [
    "# Меняю формат пользовательского рейтинга с object на float, чтобы можно было сравнивать значения и выполнять арифметические операции с ними.\n",
    "data['user_score'] = data['user_score'].replace('tbd', np.nan)\n",
    "data['user_score'] = data['user_score'].astype('float')\n",
    "\n",
    "data.info()"
   ]
  },
  {
   "cell_type": "markdown",
   "metadata": {},
   "source": [
    "Изменил формат пользовательского рейтинга с object на float, чтобы можно было в дальнейшем работать с данными значениями, сопоставлять их и выполнять с ними арифметические операции."
   ]
  },
  {
   "cell_type": "markdown",
   "metadata": {},
   "source": [
    "Обрабатываю пропуски"
   ]
  },
  {
   "cell_type": "code",
   "execution_count": 7,
   "metadata": {
    "scrolled": false
   },
   "outputs": [
    {
     "name": "stdout",
     "output_type": "stream",
     "text": [
      "name                  2\n",
      "platform              0\n",
      "year_of_release     269\n",
      "genre                 2\n",
      "na_sales              0\n",
      "eu_sales              0\n",
      "jp_sales              0\n",
      "other_sales           0\n",
      "critic_score       8578\n",
      "user_score         9125\n",
      "rating             6766\n",
      "dtype: int64\n"
     ]
    }
   ],
   "source": [
    "print(data.isna().sum())"
   ]
  },
  {
   "cell_type": "markdown",
   "metadata": {},
   "source": [
    "<b> О пропущенных значениях </b>\n",
    "\n",
    "Я не хочу выбрасывать строки с пропусками в столбцах с оценками пользователей, критиков и возрастным рейтингом, потому что это сократит количество данных вдвое. Менять значение на среднее или медианное тоже не вижу смысла, поскольку оценки пользователей и критиков - вещь субъективная. Менять пропущенные значения на 0 тоже не вариант, потому что 0 равен худшей оценке. Выброшу их позже, если они помешают мне найти p-значение.\n",
    "\n",
    "Строки с возрастным рейтингом ничем не получится заполнить, потому что это формат object, категориальная переменная. И их слишком много, чтобы выбрасывать.\n",
    "\n",
    "Возникновение пропущенных значений, возможно, связано с технической ошибкой при копировании данных, потому что пропуски присутствуют не только в период зарождения видеоигровой индустрии, когда критиков и пользователей было намного меньше, но и после 2010-х, тогда пропусков тоже остаётся примерно половина от всех значений."
   ]
  },
  {
   "cell_type": "code",
   "execution_count": 8,
   "metadata": {},
   "outputs": [],
   "source": [
    "# Удаляю строки с пропущенными названиями\n",
    "\n",
    "data = data.dropna(subset=['name']).reset_index(drop=True)"
   ]
  },
  {
   "cell_type": "markdown",
   "metadata": {},
   "source": [
    "Удалил строки с пропущенными названиями, потому что не удалось восстановить, что это за игры."
   ]
  },
  {
   "cell_type": "code",
   "execution_count": 9,
   "metadata": {},
   "outputs": [
    {
     "name": "stdout",
     "output_type": "stream",
     "text": [
      "name                  0\n",
      "platform              0\n",
      "year_of_release     269\n",
      "genre                 0\n",
      "na_sales              0\n",
      "eu_sales              0\n",
      "jp_sales              0\n",
      "other_sales           0\n",
      "critic_score       8576\n",
      "user_score         9123\n",
      "rating             6764\n",
      "dtype: int64\n"
     ]
    }
   ],
   "source": [
    "print(data.isna().sum())"
   ]
  },
  {
   "cell_type": "markdown",
   "metadata": {},
   "source": [
    "Считаю суммарные продажи во всех регионах и записываю их в отдельный столбец."
   ]
  },
  {
   "cell_type": "code",
   "execution_count": 10,
   "metadata": {},
   "outputs": [],
   "source": [
    "data['sales_sum'] = data[['na_sales','eu_sales','jp_sales', 'other_sales']].sum(axis = 1)"
   ]
  },
  {
   "cell_type": "code",
   "execution_count": 11,
   "metadata": {},
   "outputs": [],
   "source": [
    "# Меняю пропуски в столбце с возрастным рейтингом на \"unknown\"\n",
    "\n",
    "data['rating'] = data['rating'].fillna('unknown')"
   ]
  },
  {
   "cell_type": "code",
   "execution_count": 12,
   "metadata": {},
   "outputs": [
    {
     "data": {
      "text/html": [
       "<div>\n",
       "<style scoped>\n",
       "    .dataframe tbody tr th:only-of-type {\n",
       "        vertical-align: middle;\n",
       "    }\n",
       "\n",
       "    .dataframe tbody tr th {\n",
       "        vertical-align: top;\n",
       "    }\n",
       "\n",
       "    .dataframe thead th {\n",
       "        text-align: right;\n",
       "    }\n",
       "</style>\n",
       "<table border=\"1\" class=\"dataframe\">\n",
       "  <thead>\n",
       "    <tr style=\"text-align: right;\">\n",
       "      <th></th>\n",
       "      <th>name</th>\n",
       "      <th>platform</th>\n",
       "      <th>year_of_release</th>\n",
       "      <th>genre</th>\n",
       "      <th>na_sales</th>\n",
       "      <th>eu_sales</th>\n",
       "      <th>jp_sales</th>\n",
       "      <th>other_sales</th>\n",
       "      <th>critic_score</th>\n",
       "      <th>user_score</th>\n",
       "      <th>rating</th>\n",
       "      <th>sales_sum</th>\n",
       "    </tr>\n",
       "  </thead>\n",
       "  <tbody>\n",
       "    <tr>\n",
       "      <th>0</th>\n",
       "      <td>Wii Sports</td>\n",
       "      <td>Wii</td>\n",
       "      <td>2006.0</td>\n",
       "      <td>Sports</td>\n",
       "      <td>41.36</td>\n",
       "      <td>28.96</td>\n",
       "      <td>3.77</td>\n",
       "      <td>8.45</td>\n",
       "      <td>76.0</td>\n",
       "      <td>8.0</td>\n",
       "      <td>E</td>\n",
       "      <td>82.54</td>\n",
       "    </tr>\n",
       "    <tr>\n",
       "      <th>1</th>\n",
       "      <td>Super Mario Bros.</td>\n",
       "      <td>NES</td>\n",
       "      <td>1985.0</td>\n",
       "      <td>Platform</td>\n",
       "      <td>29.08</td>\n",
       "      <td>3.58</td>\n",
       "      <td>6.81</td>\n",
       "      <td>0.77</td>\n",
       "      <td>NaN</td>\n",
       "      <td>NaN</td>\n",
       "      <td>unknown</td>\n",
       "      <td>40.24</td>\n",
       "    </tr>\n",
       "    <tr>\n",
       "      <th>2</th>\n",
       "      <td>Mario Kart Wii</td>\n",
       "      <td>Wii</td>\n",
       "      <td>2008.0</td>\n",
       "      <td>Racing</td>\n",
       "      <td>15.68</td>\n",
       "      <td>12.76</td>\n",
       "      <td>3.79</td>\n",
       "      <td>3.29</td>\n",
       "      <td>82.0</td>\n",
       "      <td>8.3</td>\n",
       "      <td>E</td>\n",
       "      <td>35.52</td>\n",
       "    </tr>\n",
       "    <tr>\n",
       "      <th>3</th>\n",
       "      <td>Wii Sports Resort</td>\n",
       "      <td>Wii</td>\n",
       "      <td>2009.0</td>\n",
       "      <td>Sports</td>\n",
       "      <td>15.61</td>\n",
       "      <td>10.93</td>\n",
       "      <td>3.28</td>\n",
       "      <td>2.95</td>\n",
       "      <td>80.0</td>\n",
       "      <td>8.0</td>\n",
       "      <td>E</td>\n",
       "      <td>32.77</td>\n",
       "    </tr>\n",
       "    <tr>\n",
       "      <th>4</th>\n",
       "      <td>Pokemon Red/Pokemon Blue</td>\n",
       "      <td>GB</td>\n",
       "      <td>1996.0</td>\n",
       "      <td>Role-Playing</td>\n",
       "      <td>11.27</td>\n",
       "      <td>8.89</td>\n",
       "      <td>10.22</td>\n",
       "      <td>1.00</td>\n",
       "      <td>NaN</td>\n",
       "      <td>NaN</td>\n",
       "      <td>unknown</td>\n",
       "      <td>31.38</td>\n",
       "    </tr>\n",
       "    <tr>\n",
       "      <th>5</th>\n",
       "      <td>Tetris</td>\n",
       "      <td>GB</td>\n",
       "      <td>1989.0</td>\n",
       "      <td>Puzzle</td>\n",
       "      <td>23.20</td>\n",
       "      <td>2.26</td>\n",
       "      <td>4.22</td>\n",
       "      <td>0.58</td>\n",
       "      <td>NaN</td>\n",
       "      <td>NaN</td>\n",
       "      <td>unknown</td>\n",
       "      <td>30.26</td>\n",
       "    </tr>\n",
       "    <tr>\n",
       "      <th>6</th>\n",
       "      <td>New Super Mario Bros.</td>\n",
       "      <td>DS</td>\n",
       "      <td>2006.0</td>\n",
       "      <td>Platform</td>\n",
       "      <td>11.28</td>\n",
       "      <td>9.14</td>\n",
       "      <td>6.50</td>\n",
       "      <td>2.88</td>\n",
       "      <td>89.0</td>\n",
       "      <td>8.5</td>\n",
       "      <td>E</td>\n",
       "      <td>29.80</td>\n",
       "    </tr>\n",
       "    <tr>\n",
       "      <th>7</th>\n",
       "      <td>Wii Play</td>\n",
       "      <td>Wii</td>\n",
       "      <td>2006.0</td>\n",
       "      <td>Misc</td>\n",
       "      <td>13.96</td>\n",
       "      <td>9.18</td>\n",
       "      <td>2.93</td>\n",
       "      <td>2.84</td>\n",
       "      <td>58.0</td>\n",
       "      <td>6.6</td>\n",
       "      <td>E</td>\n",
       "      <td>28.91</td>\n",
       "    </tr>\n",
       "    <tr>\n",
       "      <th>8</th>\n",
       "      <td>New Super Mario Bros. Wii</td>\n",
       "      <td>Wii</td>\n",
       "      <td>2009.0</td>\n",
       "      <td>Platform</td>\n",
       "      <td>14.44</td>\n",
       "      <td>6.94</td>\n",
       "      <td>4.70</td>\n",
       "      <td>2.24</td>\n",
       "      <td>87.0</td>\n",
       "      <td>8.4</td>\n",
       "      <td>E</td>\n",
       "      <td>28.32</td>\n",
       "    </tr>\n",
       "    <tr>\n",
       "      <th>9</th>\n",
       "      <td>Duck Hunt</td>\n",
       "      <td>NES</td>\n",
       "      <td>1984.0</td>\n",
       "      <td>Shooter</td>\n",
       "      <td>26.93</td>\n",
       "      <td>0.63</td>\n",
       "      <td>0.28</td>\n",
       "      <td>0.47</td>\n",
       "      <td>NaN</td>\n",
       "      <td>NaN</td>\n",
       "      <td>unknown</td>\n",
       "      <td>28.31</td>\n",
       "    </tr>\n",
       "  </tbody>\n",
       "</table>\n",
       "</div>"
      ],
      "text/plain": [
       "                        name platform  year_of_release         genre  \\\n",
       "0                 Wii Sports      Wii           2006.0        Sports   \n",
       "1          Super Mario Bros.      NES           1985.0      Platform   \n",
       "2             Mario Kart Wii      Wii           2008.0        Racing   \n",
       "3          Wii Sports Resort      Wii           2009.0        Sports   \n",
       "4   Pokemon Red/Pokemon Blue       GB           1996.0  Role-Playing   \n",
       "5                     Tetris       GB           1989.0        Puzzle   \n",
       "6      New Super Mario Bros.       DS           2006.0      Platform   \n",
       "7                   Wii Play      Wii           2006.0          Misc   \n",
       "8  New Super Mario Bros. Wii      Wii           2009.0      Platform   \n",
       "9                  Duck Hunt      NES           1984.0       Shooter   \n",
       "\n",
       "   na_sales  eu_sales  jp_sales  other_sales  critic_score  user_score  \\\n",
       "0     41.36     28.96      3.77         8.45          76.0         8.0   \n",
       "1     29.08      3.58      6.81         0.77           NaN         NaN   \n",
       "2     15.68     12.76      3.79         3.29          82.0         8.3   \n",
       "3     15.61     10.93      3.28         2.95          80.0         8.0   \n",
       "4     11.27      8.89     10.22         1.00           NaN         NaN   \n",
       "5     23.20      2.26      4.22         0.58           NaN         NaN   \n",
       "6     11.28      9.14      6.50         2.88          89.0         8.5   \n",
       "7     13.96      9.18      2.93         2.84          58.0         6.6   \n",
       "8     14.44      6.94      4.70         2.24          87.0         8.4   \n",
       "9     26.93      0.63      0.28         0.47           NaN         NaN   \n",
       "\n",
       "    rating  sales_sum  \n",
       "0        E      82.54  \n",
       "1  unknown      40.24  \n",
       "2        E      35.52  \n",
       "3        E      32.77  \n",
       "4  unknown      31.38  \n",
       "5  unknown      30.26  \n",
       "6        E      29.80  \n",
       "7        E      28.91  \n",
       "8        E      28.32  \n",
       "9  unknown      28.31  "
      ]
     },
     "execution_count": 12,
     "metadata": {},
     "output_type": "execute_result"
    }
   ],
   "source": [
    "data.head(10)"
   ]
  },
  {
   "cell_type": "markdown",
   "metadata": {},
   "source": [
    "<b> Шаг 3. Провожу исследовательский анализ данных </b>"
   ]
  },
  {
   "cell_type": "markdown",
   "metadata": {},
   "source": [
    "Необходимо посмотреть, сколько игр выпускалось в разные годы и важны ли данные за все периоды."
   ]
  },
  {
   "cell_type": "code",
   "execution_count": 13,
   "metadata": {
    "scrolled": false
   },
   "outputs": [
    {
     "name": "stdout",
     "output_type": "stream",
     "text": [
      "year_of_release\n",
      "2008.0    1427\n",
      "2009.0    1426\n",
      "2010.0    1255\n",
      "2007.0    1197\n",
      "2011.0    1136\n",
      "2006.0    1006\n",
      "2005.0     939\n",
      "2002.0     829\n",
      "2003.0     775\n",
      "2004.0     762\n",
      "2012.0     653\n",
      "2015.0     606\n",
      "2014.0     581\n",
      "2013.0     544\n",
      "2016.0     502\n",
      "2001.0     482\n",
      "1998.0     379\n",
      "2000.0     350\n",
      "1999.0     338\n",
      "1997.0     289\n",
      "1996.0     263\n",
      "1995.0     219\n",
      "1994.0     121\n",
      "1993.0      60\n",
      "1981.0      46\n",
      "1992.0      43\n",
      "1991.0      41\n",
      "1982.0      36\n",
      "1986.0      21\n",
      "1989.0      17\n",
      "1983.0      17\n",
      "1990.0      16\n",
      "1987.0      16\n",
      "1988.0      15\n",
      "1985.0      14\n",
      "1984.0      14\n",
      "1980.0       9\n",
      "Name: name, dtype: int64\n"
     ]
    }
   ],
   "source": [
    "print(data.groupby('year_of_release')['name'].count().sort_values(ascending=False))"
   ]
  },
  {
   "cell_type": "markdown",
   "metadata": {},
   "source": [
    "Рынок видеоигр и сообщество геймеров возникли не так давно, поэтому количество значений в период с 1980 по 1993 гг. включительно не превышает двузначные числа. Данный период не является достаточно важным ещё и потому, что индустрия видеоигр только формировалась и многие закономерности современного рынка видеоигр могли появиться позднее."
   ]
  },
  {
   "cell_type": "code",
   "execution_count": 14,
   "metadata": {},
   "outputs": [
    {
     "data": {
      "text/html": [
       "<div>\n",
       "<style scoped>\n",
       "    .dataframe tbody tr th:only-of-type {\n",
       "        vertical-align: middle;\n",
       "    }\n",
       "\n",
       "    .dataframe tbody tr th {\n",
       "        vertical-align: top;\n",
       "    }\n",
       "\n",
       "    .dataframe thead th {\n",
       "        text-align: right;\n",
       "    }\n",
       "</style>\n",
       "<table border=\"1\" class=\"dataframe\">\n",
       "  <thead>\n",
       "    <tr style=\"text-align: right;\">\n",
       "      <th>platform</th>\n",
       "      <th>2600</th>\n",
       "      <th>3DO</th>\n",
       "      <th>3DS</th>\n",
       "      <th>DC</th>\n",
       "      <th>DS</th>\n",
       "      <th>GB</th>\n",
       "      <th>GBA</th>\n",
       "      <th>GC</th>\n",
       "      <th>GEN</th>\n",
       "      <th>GG</th>\n",
       "      <th>...</th>\n",
       "      <th>SAT</th>\n",
       "      <th>SCD</th>\n",
       "      <th>SNES</th>\n",
       "      <th>TG16</th>\n",
       "      <th>WS</th>\n",
       "      <th>Wii</th>\n",
       "      <th>WiiU</th>\n",
       "      <th>X360</th>\n",
       "      <th>XB</th>\n",
       "      <th>XOne</th>\n",
       "    </tr>\n",
       "    <tr>\n",
       "      <th>year_of_release</th>\n",
       "      <th></th>\n",
       "      <th></th>\n",
       "      <th></th>\n",
       "      <th></th>\n",
       "      <th></th>\n",
       "      <th></th>\n",
       "      <th></th>\n",
       "      <th></th>\n",
       "      <th></th>\n",
       "      <th></th>\n",
       "      <th></th>\n",
       "      <th></th>\n",
       "      <th></th>\n",
       "      <th></th>\n",
       "      <th></th>\n",
       "      <th></th>\n",
       "      <th></th>\n",
       "      <th></th>\n",
       "      <th></th>\n",
       "      <th></th>\n",
       "      <th></th>\n",
       "    </tr>\n",
       "  </thead>\n",
       "  <tbody>\n",
       "    <tr>\n",
       "      <th>1980.0</th>\n",
       "      <td>9.0</td>\n",
       "      <td>NaN</td>\n",
       "      <td>NaN</td>\n",
       "      <td>NaN</td>\n",
       "      <td>NaN</td>\n",
       "      <td>NaN</td>\n",
       "      <td>NaN</td>\n",
       "      <td>NaN</td>\n",
       "      <td>NaN</td>\n",
       "      <td>NaN</td>\n",
       "      <td>...</td>\n",
       "      <td>NaN</td>\n",
       "      <td>NaN</td>\n",
       "      <td>NaN</td>\n",
       "      <td>NaN</td>\n",
       "      <td>NaN</td>\n",
       "      <td>NaN</td>\n",
       "      <td>NaN</td>\n",
       "      <td>NaN</td>\n",
       "      <td>NaN</td>\n",
       "      <td>NaN</td>\n",
       "    </tr>\n",
       "    <tr>\n",
       "      <th>1981.0</th>\n",
       "      <td>46.0</td>\n",
       "      <td>NaN</td>\n",
       "      <td>NaN</td>\n",
       "      <td>NaN</td>\n",
       "      <td>NaN</td>\n",
       "      <td>NaN</td>\n",
       "      <td>NaN</td>\n",
       "      <td>NaN</td>\n",
       "      <td>NaN</td>\n",
       "      <td>NaN</td>\n",
       "      <td>...</td>\n",
       "      <td>NaN</td>\n",
       "      <td>NaN</td>\n",
       "      <td>NaN</td>\n",
       "      <td>NaN</td>\n",
       "      <td>NaN</td>\n",
       "      <td>NaN</td>\n",
       "      <td>NaN</td>\n",
       "      <td>NaN</td>\n",
       "      <td>NaN</td>\n",
       "      <td>NaN</td>\n",
       "    </tr>\n",
       "    <tr>\n",
       "      <th>1982.0</th>\n",
       "      <td>36.0</td>\n",
       "      <td>NaN</td>\n",
       "      <td>NaN</td>\n",
       "      <td>NaN</td>\n",
       "      <td>NaN</td>\n",
       "      <td>NaN</td>\n",
       "      <td>NaN</td>\n",
       "      <td>NaN</td>\n",
       "      <td>NaN</td>\n",
       "      <td>NaN</td>\n",
       "      <td>...</td>\n",
       "      <td>NaN</td>\n",
       "      <td>NaN</td>\n",
       "      <td>NaN</td>\n",
       "      <td>NaN</td>\n",
       "      <td>NaN</td>\n",
       "      <td>NaN</td>\n",
       "      <td>NaN</td>\n",
       "      <td>NaN</td>\n",
       "      <td>NaN</td>\n",
       "      <td>NaN</td>\n",
       "    </tr>\n",
       "    <tr>\n",
       "      <th>1983.0</th>\n",
       "      <td>11.0</td>\n",
       "      <td>NaN</td>\n",
       "      <td>NaN</td>\n",
       "      <td>NaN</td>\n",
       "      <td>NaN</td>\n",
       "      <td>NaN</td>\n",
       "      <td>NaN</td>\n",
       "      <td>NaN</td>\n",
       "      <td>NaN</td>\n",
       "      <td>NaN</td>\n",
       "      <td>...</td>\n",
       "      <td>NaN</td>\n",
       "      <td>NaN</td>\n",
       "      <td>NaN</td>\n",
       "      <td>NaN</td>\n",
       "      <td>NaN</td>\n",
       "      <td>NaN</td>\n",
       "      <td>NaN</td>\n",
       "      <td>NaN</td>\n",
       "      <td>NaN</td>\n",
       "      <td>NaN</td>\n",
       "    </tr>\n",
       "    <tr>\n",
       "      <th>1984.0</th>\n",
       "      <td>1.0</td>\n",
       "      <td>NaN</td>\n",
       "      <td>NaN</td>\n",
       "      <td>NaN</td>\n",
       "      <td>NaN</td>\n",
       "      <td>NaN</td>\n",
       "      <td>NaN</td>\n",
       "      <td>NaN</td>\n",
       "      <td>NaN</td>\n",
       "      <td>NaN</td>\n",
       "      <td>...</td>\n",
       "      <td>NaN</td>\n",
       "      <td>NaN</td>\n",
       "      <td>NaN</td>\n",
       "      <td>NaN</td>\n",
       "      <td>NaN</td>\n",
       "      <td>NaN</td>\n",
       "      <td>NaN</td>\n",
       "      <td>NaN</td>\n",
       "      <td>NaN</td>\n",
       "      <td>NaN</td>\n",
       "    </tr>\n",
       "    <tr>\n",
       "      <th>1985.0</th>\n",
       "      <td>1.0</td>\n",
       "      <td>NaN</td>\n",
       "      <td>NaN</td>\n",
       "      <td>NaN</td>\n",
       "      <td>1.0</td>\n",
       "      <td>NaN</td>\n",
       "      <td>NaN</td>\n",
       "      <td>NaN</td>\n",
       "      <td>NaN</td>\n",
       "      <td>NaN</td>\n",
       "      <td>...</td>\n",
       "      <td>NaN</td>\n",
       "      <td>NaN</td>\n",
       "      <td>NaN</td>\n",
       "      <td>NaN</td>\n",
       "      <td>NaN</td>\n",
       "      <td>NaN</td>\n",
       "      <td>NaN</td>\n",
       "      <td>NaN</td>\n",
       "      <td>NaN</td>\n",
       "      <td>NaN</td>\n",
       "    </tr>\n",
       "    <tr>\n",
       "      <th>1986.0</th>\n",
       "      <td>2.0</td>\n",
       "      <td>NaN</td>\n",
       "      <td>NaN</td>\n",
       "      <td>NaN</td>\n",
       "      <td>NaN</td>\n",
       "      <td>NaN</td>\n",
       "      <td>NaN</td>\n",
       "      <td>NaN</td>\n",
       "      <td>NaN</td>\n",
       "      <td>NaN</td>\n",
       "      <td>...</td>\n",
       "      <td>NaN</td>\n",
       "      <td>NaN</td>\n",
       "      <td>NaN</td>\n",
       "      <td>NaN</td>\n",
       "      <td>NaN</td>\n",
       "      <td>NaN</td>\n",
       "      <td>NaN</td>\n",
       "      <td>NaN</td>\n",
       "      <td>NaN</td>\n",
       "      <td>NaN</td>\n",
       "    </tr>\n",
       "    <tr>\n",
       "      <th>1987.0</th>\n",
       "      <td>6.0</td>\n",
       "      <td>NaN</td>\n",
       "      <td>NaN</td>\n",
       "      <td>NaN</td>\n",
       "      <td>NaN</td>\n",
       "      <td>NaN</td>\n",
       "      <td>NaN</td>\n",
       "      <td>NaN</td>\n",
       "      <td>NaN</td>\n",
       "      <td>NaN</td>\n",
       "      <td>...</td>\n",
       "      <td>NaN</td>\n",
       "      <td>NaN</td>\n",
       "      <td>NaN</td>\n",
       "      <td>NaN</td>\n",
       "      <td>NaN</td>\n",
       "      <td>NaN</td>\n",
       "      <td>NaN</td>\n",
       "      <td>NaN</td>\n",
       "      <td>NaN</td>\n",
       "      <td>NaN</td>\n",
       "    </tr>\n",
       "    <tr>\n",
       "      <th>1988.0</th>\n",
       "      <td>2.0</td>\n",
       "      <td>NaN</td>\n",
       "      <td>NaN</td>\n",
       "      <td>NaN</td>\n",
       "      <td>NaN</td>\n",
       "      <td>1.0</td>\n",
       "      <td>NaN</td>\n",
       "      <td>NaN</td>\n",
       "      <td>NaN</td>\n",
       "      <td>NaN</td>\n",
       "      <td>...</td>\n",
       "      <td>NaN</td>\n",
       "      <td>NaN</td>\n",
       "      <td>NaN</td>\n",
       "      <td>NaN</td>\n",
       "      <td>NaN</td>\n",
       "      <td>NaN</td>\n",
       "      <td>NaN</td>\n",
       "      <td>NaN</td>\n",
       "      <td>NaN</td>\n",
       "      <td>NaN</td>\n",
       "    </tr>\n",
       "    <tr>\n",
       "      <th>1989.0</th>\n",
       "      <td>2.0</td>\n",
       "      <td>NaN</td>\n",
       "      <td>NaN</td>\n",
       "      <td>NaN</td>\n",
       "      <td>NaN</td>\n",
       "      <td>10.0</td>\n",
       "      <td>NaN</td>\n",
       "      <td>NaN</td>\n",
       "      <td>NaN</td>\n",
       "      <td>NaN</td>\n",
       "      <td>...</td>\n",
       "      <td>NaN</td>\n",
       "      <td>NaN</td>\n",
       "      <td>NaN</td>\n",
       "      <td>NaN</td>\n",
       "      <td>NaN</td>\n",
       "      <td>NaN</td>\n",
       "      <td>NaN</td>\n",
       "      <td>NaN</td>\n",
       "      <td>NaN</td>\n",
       "      <td>NaN</td>\n",
       "    </tr>\n",
       "    <tr>\n",
       "      <th>1990.0</th>\n",
       "      <td>NaN</td>\n",
       "      <td>NaN</td>\n",
       "      <td>NaN</td>\n",
       "      <td>NaN</td>\n",
       "      <td>NaN</td>\n",
       "      <td>3.0</td>\n",
       "      <td>NaN</td>\n",
       "      <td>NaN</td>\n",
       "      <td>1.0</td>\n",
       "      <td>NaN</td>\n",
       "      <td>...</td>\n",
       "      <td>NaN</td>\n",
       "      <td>NaN</td>\n",
       "      <td>4.0</td>\n",
       "      <td>NaN</td>\n",
       "      <td>NaN</td>\n",
       "      <td>NaN</td>\n",
       "      <td>NaN</td>\n",
       "      <td>NaN</td>\n",
       "      <td>NaN</td>\n",
       "      <td>NaN</td>\n",
       "    </tr>\n",
       "    <tr>\n",
       "      <th>1991.0</th>\n",
       "      <td>NaN</td>\n",
       "      <td>NaN</td>\n",
       "      <td>NaN</td>\n",
       "      <td>NaN</td>\n",
       "      <td>NaN</td>\n",
       "      <td>9.0</td>\n",
       "      <td>NaN</td>\n",
       "      <td>NaN</td>\n",
       "      <td>1.0</td>\n",
       "      <td>NaN</td>\n",
       "      <td>...</td>\n",
       "      <td>NaN</td>\n",
       "      <td>NaN</td>\n",
       "      <td>24.0</td>\n",
       "      <td>NaN</td>\n",
       "      <td>NaN</td>\n",
       "      <td>NaN</td>\n",
       "      <td>NaN</td>\n",
       "      <td>NaN</td>\n",
       "      <td>NaN</td>\n",
       "      <td>NaN</td>\n",
       "    </tr>\n",
       "    <tr>\n",
       "      <th>1992.0</th>\n",
       "      <td>NaN</td>\n",
       "      <td>NaN</td>\n",
       "      <td>NaN</td>\n",
       "      <td>NaN</td>\n",
       "      <td>NaN</td>\n",
       "      <td>7.0</td>\n",
       "      <td>NaN</td>\n",
       "      <td>NaN</td>\n",
       "      <td>6.0</td>\n",
       "      <td>1.0</td>\n",
       "      <td>...</td>\n",
       "      <td>NaN</td>\n",
       "      <td>NaN</td>\n",
       "      <td>21.0</td>\n",
       "      <td>NaN</td>\n",
       "      <td>NaN</td>\n",
       "      <td>NaN</td>\n",
       "      <td>NaN</td>\n",
       "      <td>NaN</td>\n",
       "      <td>NaN</td>\n",
       "      <td>NaN</td>\n",
       "    </tr>\n",
       "    <tr>\n",
       "      <th>1993.0</th>\n",
       "      <td>NaN</td>\n",
       "      <td>NaN</td>\n",
       "      <td>NaN</td>\n",
       "      <td>NaN</td>\n",
       "      <td>NaN</td>\n",
       "      <td>NaN</td>\n",
       "      <td>NaN</td>\n",
       "      <td>NaN</td>\n",
       "      <td>7.0</td>\n",
       "      <td>NaN</td>\n",
       "      <td>...</td>\n",
       "      <td>NaN</td>\n",
       "      <td>1.0</td>\n",
       "      <td>46.0</td>\n",
       "      <td>NaN</td>\n",
       "      <td>NaN</td>\n",
       "      <td>NaN</td>\n",
       "      <td>NaN</td>\n",
       "      <td>NaN</td>\n",
       "      <td>NaN</td>\n",
       "      <td>NaN</td>\n",
       "    </tr>\n",
       "    <tr>\n",
       "      <th>1994.0</th>\n",
       "      <td>NaN</td>\n",
       "      <td>1.0</td>\n",
       "      <td>NaN</td>\n",
       "      <td>NaN</td>\n",
       "      <td>NaN</td>\n",
       "      <td>3.0</td>\n",
       "      <td>NaN</td>\n",
       "      <td>NaN</td>\n",
       "      <td>12.0</td>\n",
       "      <td>NaN</td>\n",
       "      <td>...</td>\n",
       "      <td>19.0</td>\n",
       "      <td>5.0</td>\n",
       "      <td>53.0</td>\n",
       "      <td>NaN</td>\n",
       "      <td>NaN</td>\n",
       "      <td>NaN</td>\n",
       "      <td>NaN</td>\n",
       "      <td>NaN</td>\n",
       "      <td>NaN</td>\n",
       "      <td>NaN</td>\n",
       "    </tr>\n",
       "    <tr>\n",
       "      <th>1995.0</th>\n",
       "      <td>NaN</td>\n",
       "      <td>2.0</td>\n",
       "      <td>NaN</td>\n",
       "      <td>NaN</td>\n",
       "      <td>NaN</td>\n",
       "      <td>4.0</td>\n",
       "      <td>NaN</td>\n",
       "      <td>NaN</td>\n",
       "      <td>NaN</td>\n",
       "      <td>NaN</td>\n",
       "      <td>...</td>\n",
       "      <td>52.0</td>\n",
       "      <td>NaN</td>\n",
       "      <td>54.0</td>\n",
       "      <td>2.0</td>\n",
       "      <td>NaN</td>\n",
       "      <td>NaN</td>\n",
       "      <td>NaN</td>\n",
       "      <td>NaN</td>\n",
       "      <td>NaN</td>\n",
       "      <td>NaN</td>\n",
       "    </tr>\n",
       "    <tr>\n",
       "      <th>1996.0</th>\n",
       "      <td>NaN</td>\n",
       "      <td>NaN</td>\n",
       "      <td>NaN</td>\n",
       "      <td>NaN</td>\n",
       "      <td>NaN</td>\n",
       "      <td>6.0</td>\n",
       "      <td>NaN</td>\n",
       "      <td>NaN</td>\n",
       "      <td>NaN</td>\n",
       "      <td>NaN</td>\n",
       "      <td>...</td>\n",
       "      <td>38.0</td>\n",
       "      <td>NaN</td>\n",
       "      <td>30.0</td>\n",
       "      <td>NaN</td>\n",
       "      <td>NaN</td>\n",
       "      <td>NaN</td>\n",
       "      <td>NaN</td>\n",
       "      <td>NaN</td>\n",
       "      <td>NaN</td>\n",
       "      <td>NaN</td>\n",
       "    </tr>\n",
       "    <tr>\n",
       "      <th>1997.0</th>\n",
       "      <td>NaN</td>\n",
       "      <td>NaN</td>\n",
       "      <td>NaN</td>\n",
       "      <td>NaN</td>\n",
       "      <td>NaN</td>\n",
       "      <td>8.0</td>\n",
       "      <td>NaN</td>\n",
       "      <td>NaN</td>\n",
       "      <td>NaN</td>\n",
       "      <td>NaN</td>\n",
       "      <td>...</td>\n",
       "      <td>34.0</td>\n",
       "      <td>NaN</td>\n",
       "      <td>4.0</td>\n",
       "      <td>NaN</td>\n",
       "      <td>NaN</td>\n",
       "      <td>NaN</td>\n",
       "      <td>NaN</td>\n",
       "      <td>NaN</td>\n",
       "      <td>NaN</td>\n",
       "      <td>NaN</td>\n",
       "    </tr>\n",
       "    <tr>\n",
       "      <th>1998.0</th>\n",
       "      <td>NaN</td>\n",
       "      <td>NaN</td>\n",
       "      <td>NaN</td>\n",
       "      <td>7.0</td>\n",
       "      <td>NaN</td>\n",
       "      <td>8.0</td>\n",
       "      <td>NaN</td>\n",
       "      <td>NaN</td>\n",
       "      <td>NaN</td>\n",
       "      <td>NaN</td>\n",
       "      <td>...</td>\n",
       "      <td>29.0</td>\n",
       "      <td>NaN</td>\n",
       "      <td>2.0</td>\n",
       "      <td>NaN</td>\n",
       "      <td>NaN</td>\n",
       "      <td>NaN</td>\n",
       "      <td>NaN</td>\n",
       "      <td>NaN</td>\n",
       "      <td>NaN</td>\n",
       "      <td>NaN</td>\n",
       "    </tr>\n",
       "    <tr>\n",
       "      <th>1999.0</th>\n",
       "      <td>NaN</td>\n",
       "      <td>NaN</td>\n",
       "      <td>NaN</td>\n",
       "      <td>14.0</td>\n",
       "      <td>NaN</td>\n",
       "      <td>11.0</td>\n",
       "      <td>NaN</td>\n",
       "      <td>NaN</td>\n",
       "      <td>NaN</td>\n",
       "      <td>NaN</td>\n",
       "      <td>...</td>\n",
       "      <td>1.0</td>\n",
       "      <td>NaN</td>\n",
       "      <td>1.0</td>\n",
       "      <td>NaN</td>\n",
       "      <td>2.0</td>\n",
       "      <td>NaN</td>\n",
       "      <td>NaN</td>\n",
       "      <td>NaN</td>\n",
       "      <td>NaN</td>\n",
       "      <td>NaN</td>\n",
       "    </tr>\n",
       "    <tr>\n",
       "      <th>2000.0</th>\n",
       "      <td>NaN</td>\n",
       "      <td>NaN</td>\n",
       "      <td>NaN</td>\n",
       "      <td>20.0</td>\n",
       "      <td>NaN</td>\n",
       "      <td>17.0</td>\n",
       "      <td>1.0</td>\n",
       "      <td>NaN</td>\n",
       "      <td>NaN</td>\n",
       "      <td>NaN</td>\n",
       "      <td>...</td>\n",
       "      <td>NaN</td>\n",
       "      <td>NaN</td>\n",
       "      <td>NaN</td>\n",
       "      <td>NaN</td>\n",
       "      <td>2.0</td>\n",
       "      <td>NaN</td>\n",
       "      <td>NaN</td>\n",
       "      <td>NaN</td>\n",
       "      <td>1.0</td>\n",
       "      <td>NaN</td>\n",
       "    </tr>\n",
       "    <tr>\n",
       "      <th>2001.0</th>\n",
       "      <td>NaN</td>\n",
       "      <td>NaN</td>\n",
       "      <td>NaN</td>\n",
       "      <td>8.0</td>\n",
       "      <td>NaN</td>\n",
       "      <td>10.0</td>\n",
       "      <td>107.0</td>\n",
       "      <td>22.0</td>\n",
       "      <td>NaN</td>\n",
       "      <td>NaN</td>\n",
       "      <td>...</td>\n",
       "      <td>NaN</td>\n",
       "      <td>NaN</td>\n",
       "      <td>NaN</td>\n",
       "      <td>NaN</td>\n",
       "      <td>2.0</td>\n",
       "      <td>NaN</td>\n",
       "      <td>NaN</td>\n",
       "      <td>NaN</td>\n",
       "      <td>33.0</td>\n",
       "      <td>NaN</td>\n",
       "    </tr>\n",
       "    <tr>\n",
       "      <th>2002.0</th>\n",
       "      <td>NaN</td>\n",
       "      <td>NaN</td>\n",
       "      <td>NaN</td>\n",
       "      <td>1.0</td>\n",
       "      <td>NaN</td>\n",
       "      <td>NaN</td>\n",
       "      <td>198.0</td>\n",
       "      <td>152.0</td>\n",
       "      <td>NaN</td>\n",
       "      <td>NaN</td>\n",
       "      <td>...</td>\n",
       "      <td>NaN</td>\n",
       "      <td>NaN</td>\n",
       "      <td>NaN</td>\n",
       "      <td>NaN</td>\n",
       "      <td>NaN</td>\n",
       "      <td>NaN</td>\n",
       "      <td>NaN</td>\n",
       "      <td>NaN</td>\n",
       "      <td>158.0</td>\n",
       "      <td>NaN</td>\n",
       "    </tr>\n",
       "    <tr>\n",
       "      <th>2003.0</th>\n",
       "      <td>NaN</td>\n",
       "      <td>NaN</td>\n",
       "      <td>NaN</td>\n",
       "      <td>NaN</td>\n",
       "      <td>NaN</td>\n",
       "      <td>NaN</td>\n",
       "      <td>150.0</td>\n",
       "      <td>144.0</td>\n",
       "      <td>NaN</td>\n",
       "      <td>NaN</td>\n",
       "      <td>...</td>\n",
       "      <td>NaN</td>\n",
       "      <td>NaN</td>\n",
       "      <td>NaN</td>\n",
       "      <td>NaN</td>\n",
       "      <td>NaN</td>\n",
       "      <td>NaN</td>\n",
       "      <td>NaN</td>\n",
       "      <td>NaN</td>\n",
       "      <td>189.0</td>\n",
       "      <td>NaN</td>\n",
       "    </tr>\n",
       "    <tr>\n",
       "      <th>2004.0</th>\n",
       "      <td>NaN</td>\n",
       "      <td>NaN</td>\n",
       "      <td>NaN</td>\n",
       "      <td>NaN</td>\n",
       "      <td>23.0</td>\n",
       "      <td>NaN</td>\n",
       "      <td>175.0</td>\n",
       "      <td>83.0</td>\n",
       "      <td>NaN</td>\n",
       "      <td>NaN</td>\n",
       "      <td>...</td>\n",
       "      <td>NaN</td>\n",
       "      <td>NaN</td>\n",
       "      <td>NaN</td>\n",
       "      <td>NaN</td>\n",
       "      <td>NaN</td>\n",
       "      <td>NaN</td>\n",
       "      <td>NaN</td>\n",
       "      <td>NaN</td>\n",
       "      <td>177.0</td>\n",
       "      <td>NaN</td>\n",
       "    </tr>\n",
       "    <tr>\n",
       "      <th>2005.0</th>\n",
       "      <td>NaN</td>\n",
       "      <td>NaN</td>\n",
       "      <td>NaN</td>\n",
       "      <td>NaN</td>\n",
       "      <td>118.0</td>\n",
       "      <td>NaN</td>\n",
       "      <td>135.0</td>\n",
       "      <td>97.0</td>\n",
       "      <td>NaN</td>\n",
       "      <td>NaN</td>\n",
       "      <td>...</td>\n",
       "      <td>NaN</td>\n",
       "      <td>NaN</td>\n",
       "      <td>NaN</td>\n",
       "      <td>NaN</td>\n",
       "      <td>NaN</td>\n",
       "      <td>NaN</td>\n",
       "      <td>NaN</td>\n",
       "      <td>18.0</td>\n",
       "      <td>179.0</td>\n",
       "      <td>NaN</td>\n",
       "    </tr>\n",
       "    <tr>\n",
       "      <th>2006.0</th>\n",
       "      <td>NaN</td>\n",
       "      <td>NaN</td>\n",
       "      <td>NaN</td>\n",
       "      <td>NaN</td>\n",
       "      <td>201.0</td>\n",
       "      <td>NaN</td>\n",
       "      <td>39.0</td>\n",
       "      <td>40.0</td>\n",
       "      <td>NaN</td>\n",
       "      <td>NaN</td>\n",
       "      <td>...</td>\n",
       "      <td>NaN</td>\n",
       "      <td>NaN</td>\n",
       "      <td>NaN</td>\n",
       "      <td>NaN</td>\n",
       "      <td>NaN</td>\n",
       "      <td>44.0</td>\n",
       "      <td>NaN</td>\n",
       "      <td>93.0</td>\n",
       "      <td>62.0</td>\n",
       "      <td>NaN</td>\n",
       "    </tr>\n",
       "    <tr>\n",
       "      <th>2007.0</th>\n",
       "      <td>NaN</td>\n",
       "      <td>NaN</td>\n",
       "      <td>NaN</td>\n",
       "      <td>1.0</td>\n",
       "      <td>376.0</td>\n",
       "      <td>NaN</td>\n",
       "      <td>6.0</td>\n",
       "      <td>4.0</td>\n",
       "      <td>NaN</td>\n",
       "      <td>NaN</td>\n",
       "      <td>...</td>\n",
       "      <td>NaN</td>\n",
       "      <td>NaN</td>\n",
       "      <td>NaN</td>\n",
       "      <td>NaN</td>\n",
       "      <td>NaN</td>\n",
       "      <td>185.0</td>\n",
       "      <td>NaN</td>\n",
       "      <td>123.0</td>\n",
       "      <td>3.0</td>\n",
       "      <td>NaN</td>\n",
       "    </tr>\n",
       "    <tr>\n",
       "      <th>2008.0</th>\n",
       "      <td>NaN</td>\n",
       "      <td>NaN</td>\n",
       "      <td>NaN</td>\n",
       "      <td>1.0</td>\n",
       "      <td>492.0</td>\n",
       "      <td>NaN</td>\n",
       "      <td>NaN</td>\n",
       "      <td>NaN</td>\n",
       "      <td>NaN</td>\n",
       "      <td>NaN</td>\n",
       "      <td>...</td>\n",
       "      <td>NaN</td>\n",
       "      <td>NaN</td>\n",
       "      <td>NaN</td>\n",
       "      <td>NaN</td>\n",
       "      <td>NaN</td>\n",
       "      <td>282.0</td>\n",
       "      <td>NaN</td>\n",
       "      <td>146.0</td>\n",
       "      <td>1.0</td>\n",
       "      <td>NaN</td>\n",
       "    </tr>\n",
       "    <tr>\n",
       "      <th>2009.0</th>\n",
       "      <td>NaN</td>\n",
       "      <td>NaN</td>\n",
       "      <td>NaN</td>\n",
       "      <td>NaN</td>\n",
       "      <td>403.0</td>\n",
       "      <td>NaN</td>\n",
       "      <td>NaN</td>\n",
       "      <td>NaN</td>\n",
       "      <td>NaN</td>\n",
       "      <td>NaN</td>\n",
       "      <td>...</td>\n",
       "      <td>NaN</td>\n",
       "      <td>NaN</td>\n",
       "      <td>NaN</td>\n",
       "      <td>NaN</td>\n",
       "      <td>NaN</td>\n",
       "      <td>325.0</td>\n",
       "      <td>NaN</td>\n",
       "      <td>172.0</td>\n",
       "      <td>NaN</td>\n",
       "      <td>NaN</td>\n",
       "    </tr>\n",
       "    <tr>\n",
       "      <th>2010.0</th>\n",
       "      <td>NaN</td>\n",
       "      <td>NaN</td>\n",
       "      <td>NaN</td>\n",
       "      <td>NaN</td>\n",
       "      <td>323.0</td>\n",
       "      <td>NaN</td>\n",
       "      <td>NaN</td>\n",
       "      <td>NaN</td>\n",
       "      <td>NaN</td>\n",
       "      <td>NaN</td>\n",
       "      <td>...</td>\n",
       "      <td>NaN</td>\n",
       "      <td>NaN</td>\n",
       "      <td>NaN</td>\n",
       "      <td>NaN</td>\n",
       "      <td>NaN</td>\n",
       "      <td>253.0</td>\n",
       "      <td>NaN</td>\n",
       "      <td>182.0</td>\n",
       "      <td>NaN</td>\n",
       "      <td>NaN</td>\n",
       "    </tr>\n",
       "    <tr>\n",
       "      <th>2011.0</th>\n",
       "      <td>NaN</td>\n",
       "      <td>NaN</td>\n",
       "      <td>116.0</td>\n",
       "      <td>NaN</td>\n",
       "      <td>153.0</td>\n",
       "      <td>NaN</td>\n",
       "      <td>NaN</td>\n",
       "      <td>NaN</td>\n",
       "      <td>NaN</td>\n",
       "      <td>NaN</td>\n",
       "      <td>...</td>\n",
       "      <td>NaN</td>\n",
       "      <td>NaN</td>\n",
       "      <td>NaN</td>\n",
       "      <td>NaN</td>\n",
       "      <td>NaN</td>\n",
       "      <td>143.0</td>\n",
       "      <td>NaN</td>\n",
       "      <td>206.0</td>\n",
       "      <td>NaN</td>\n",
       "      <td>NaN</td>\n",
       "    </tr>\n",
       "    <tr>\n",
       "      <th>2012.0</th>\n",
       "      <td>NaN</td>\n",
       "      <td>NaN</td>\n",
       "      <td>93.0</td>\n",
       "      <td>NaN</td>\n",
       "      <td>23.0</td>\n",
       "      <td>NaN</td>\n",
       "      <td>NaN</td>\n",
       "      <td>NaN</td>\n",
       "      <td>NaN</td>\n",
       "      <td>NaN</td>\n",
       "      <td>...</td>\n",
       "      <td>NaN</td>\n",
       "      <td>NaN</td>\n",
       "      <td>NaN</td>\n",
       "      <td>NaN</td>\n",
       "      <td>NaN</td>\n",
       "      <td>31.0</td>\n",
       "      <td>32.0</td>\n",
       "      <td>106.0</td>\n",
       "      <td>NaN</td>\n",
       "      <td>NaN</td>\n",
       "    </tr>\n",
       "    <tr>\n",
       "      <th>2013.0</th>\n",
       "      <td>NaN</td>\n",
       "      <td>NaN</td>\n",
       "      <td>91.0</td>\n",
       "      <td>NaN</td>\n",
       "      <td>8.0</td>\n",
       "      <td>NaN</td>\n",
       "      <td>NaN</td>\n",
       "      <td>NaN</td>\n",
       "      <td>NaN</td>\n",
       "      <td>NaN</td>\n",
       "      <td>...</td>\n",
       "      <td>NaN</td>\n",
       "      <td>NaN</td>\n",
       "      <td>NaN</td>\n",
       "      <td>NaN</td>\n",
       "      <td>NaN</td>\n",
       "      <td>12.0</td>\n",
       "      <td>42.0</td>\n",
       "      <td>75.0</td>\n",
       "      <td>NaN</td>\n",
       "      <td>19.0</td>\n",
       "    </tr>\n",
       "    <tr>\n",
       "      <th>2014.0</th>\n",
       "      <td>NaN</td>\n",
       "      <td>NaN</td>\n",
       "      <td>80.0</td>\n",
       "      <td>NaN</td>\n",
       "      <td>NaN</td>\n",
       "      <td>NaN</td>\n",
       "      <td>NaN</td>\n",
       "      <td>NaN</td>\n",
       "      <td>NaN</td>\n",
       "      <td>NaN</td>\n",
       "      <td>...</td>\n",
       "      <td>NaN</td>\n",
       "      <td>NaN</td>\n",
       "      <td>NaN</td>\n",
       "      <td>NaN</td>\n",
       "      <td>NaN</td>\n",
       "      <td>6.0</td>\n",
       "      <td>31.0</td>\n",
       "      <td>63.0</td>\n",
       "      <td>NaN</td>\n",
       "      <td>61.0</td>\n",
       "    </tr>\n",
       "    <tr>\n",
       "      <th>2015.0</th>\n",
       "      <td>NaN</td>\n",
       "      <td>NaN</td>\n",
       "      <td>86.0</td>\n",
       "      <td>NaN</td>\n",
       "      <td>NaN</td>\n",
       "      <td>NaN</td>\n",
       "      <td>NaN</td>\n",
       "      <td>NaN</td>\n",
       "      <td>NaN</td>\n",
       "      <td>NaN</td>\n",
       "      <td>...</td>\n",
       "      <td>NaN</td>\n",
       "      <td>NaN</td>\n",
       "      <td>NaN</td>\n",
       "      <td>NaN</td>\n",
       "      <td>NaN</td>\n",
       "      <td>4.0</td>\n",
       "      <td>28.0</td>\n",
       "      <td>35.0</td>\n",
       "      <td>NaN</td>\n",
       "      <td>80.0</td>\n",
       "    </tr>\n",
       "    <tr>\n",
       "      <th>2016.0</th>\n",
       "      <td>NaN</td>\n",
       "      <td>NaN</td>\n",
       "      <td>46.0</td>\n",
       "      <td>NaN</td>\n",
       "      <td>NaN</td>\n",
       "      <td>NaN</td>\n",
       "      <td>NaN</td>\n",
       "      <td>NaN</td>\n",
       "      <td>NaN</td>\n",
       "      <td>NaN</td>\n",
       "      <td>...</td>\n",
       "      <td>NaN</td>\n",
       "      <td>NaN</td>\n",
       "      <td>NaN</td>\n",
       "      <td>NaN</td>\n",
       "      <td>NaN</td>\n",
       "      <td>1.0</td>\n",
       "      <td>14.0</td>\n",
       "      <td>13.0</td>\n",
       "      <td>NaN</td>\n",
       "      <td>87.0</td>\n",
       "    </tr>\n",
       "  </tbody>\n",
       "</table>\n",
       "<p>37 rows × 31 columns</p>\n",
       "</div>"
      ],
      "text/plain": [
       "platform         2600  3DO    3DS    DC     DS    GB    GBA     GC   GEN   GG  \\\n",
       "year_of_release                                                                 \n",
       "1980.0            9.0  NaN    NaN   NaN    NaN   NaN    NaN    NaN   NaN  NaN   \n",
       "1981.0           46.0  NaN    NaN   NaN    NaN   NaN    NaN    NaN   NaN  NaN   \n",
       "1982.0           36.0  NaN    NaN   NaN    NaN   NaN    NaN    NaN   NaN  NaN   \n",
       "1983.0           11.0  NaN    NaN   NaN    NaN   NaN    NaN    NaN   NaN  NaN   \n",
       "1984.0            1.0  NaN    NaN   NaN    NaN   NaN    NaN    NaN   NaN  NaN   \n",
       "1985.0            1.0  NaN    NaN   NaN    1.0   NaN    NaN    NaN   NaN  NaN   \n",
       "1986.0            2.0  NaN    NaN   NaN    NaN   NaN    NaN    NaN   NaN  NaN   \n",
       "1987.0            6.0  NaN    NaN   NaN    NaN   NaN    NaN    NaN   NaN  NaN   \n",
       "1988.0            2.0  NaN    NaN   NaN    NaN   1.0    NaN    NaN   NaN  NaN   \n",
       "1989.0            2.0  NaN    NaN   NaN    NaN  10.0    NaN    NaN   NaN  NaN   \n",
       "1990.0            NaN  NaN    NaN   NaN    NaN   3.0    NaN    NaN   1.0  NaN   \n",
       "1991.0            NaN  NaN    NaN   NaN    NaN   9.0    NaN    NaN   1.0  NaN   \n",
       "1992.0            NaN  NaN    NaN   NaN    NaN   7.0    NaN    NaN   6.0  1.0   \n",
       "1993.0            NaN  NaN    NaN   NaN    NaN   NaN    NaN    NaN   7.0  NaN   \n",
       "1994.0            NaN  1.0    NaN   NaN    NaN   3.0    NaN    NaN  12.0  NaN   \n",
       "1995.0            NaN  2.0    NaN   NaN    NaN   4.0    NaN    NaN   NaN  NaN   \n",
       "1996.0            NaN  NaN    NaN   NaN    NaN   6.0    NaN    NaN   NaN  NaN   \n",
       "1997.0            NaN  NaN    NaN   NaN    NaN   8.0    NaN    NaN   NaN  NaN   \n",
       "1998.0            NaN  NaN    NaN   7.0    NaN   8.0    NaN    NaN   NaN  NaN   \n",
       "1999.0            NaN  NaN    NaN  14.0    NaN  11.0    NaN    NaN   NaN  NaN   \n",
       "2000.0            NaN  NaN    NaN  20.0    NaN  17.0    1.0    NaN   NaN  NaN   \n",
       "2001.0            NaN  NaN    NaN   8.0    NaN  10.0  107.0   22.0   NaN  NaN   \n",
       "2002.0            NaN  NaN    NaN   1.0    NaN   NaN  198.0  152.0   NaN  NaN   \n",
       "2003.0            NaN  NaN    NaN   NaN    NaN   NaN  150.0  144.0   NaN  NaN   \n",
       "2004.0            NaN  NaN    NaN   NaN   23.0   NaN  175.0   83.0   NaN  NaN   \n",
       "2005.0            NaN  NaN    NaN   NaN  118.0   NaN  135.0   97.0   NaN  NaN   \n",
       "2006.0            NaN  NaN    NaN   NaN  201.0   NaN   39.0   40.0   NaN  NaN   \n",
       "2007.0            NaN  NaN    NaN   1.0  376.0   NaN    6.0    4.0   NaN  NaN   \n",
       "2008.0            NaN  NaN    NaN   1.0  492.0   NaN    NaN    NaN   NaN  NaN   \n",
       "2009.0            NaN  NaN    NaN   NaN  403.0   NaN    NaN    NaN   NaN  NaN   \n",
       "2010.0            NaN  NaN    NaN   NaN  323.0   NaN    NaN    NaN   NaN  NaN   \n",
       "2011.0            NaN  NaN  116.0   NaN  153.0   NaN    NaN    NaN   NaN  NaN   \n",
       "2012.0            NaN  NaN   93.0   NaN   23.0   NaN    NaN    NaN   NaN  NaN   \n",
       "2013.0            NaN  NaN   91.0   NaN    8.0   NaN    NaN    NaN   NaN  NaN   \n",
       "2014.0            NaN  NaN   80.0   NaN    NaN   NaN    NaN    NaN   NaN  NaN   \n",
       "2015.0            NaN  NaN   86.0   NaN    NaN   NaN    NaN    NaN   NaN  NaN   \n",
       "2016.0            NaN  NaN   46.0   NaN    NaN   NaN    NaN    NaN   NaN  NaN   \n",
       "\n",
       "platform         ...   SAT  SCD  SNES  TG16   WS    Wii  WiiU   X360     XB  \\\n",
       "year_of_release  ...                                                          \n",
       "1980.0           ...   NaN  NaN   NaN   NaN  NaN    NaN   NaN    NaN    NaN   \n",
       "1981.0           ...   NaN  NaN   NaN   NaN  NaN    NaN   NaN    NaN    NaN   \n",
       "1982.0           ...   NaN  NaN   NaN   NaN  NaN    NaN   NaN    NaN    NaN   \n",
       "1983.0           ...   NaN  NaN   NaN   NaN  NaN    NaN   NaN    NaN    NaN   \n",
       "1984.0           ...   NaN  NaN   NaN   NaN  NaN    NaN   NaN    NaN    NaN   \n",
       "1985.0           ...   NaN  NaN   NaN   NaN  NaN    NaN   NaN    NaN    NaN   \n",
       "1986.0           ...   NaN  NaN   NaN   NaN  NaN    NaN   NaN    NaN    NaN   \n",
       "1987.0           ...   NaN  NaN   NaN   NaN  NaN    NaN   NaN    NaN    NaN   \n",
       "1988.0           ...   NaN  NaN   NaN   NaN  NaN    NaN   NaN    NaN    NaN   \n",
       "1989.0           ...   NaN  NaN   NaN   NaN  NaN    NaN   NaN    NaN    NaN   \n",
       "1990.0           ...   NaN  NaN   4.0   NaN  NaN    NaN   NaN    NaN    NaN   \n",
       "1991.0           ...   NaN  NaN  24.0   NaN  NaN    NaN   NaN    NaN    NaN   \n",
       "1992.0           ...   NaN  NaN  21.0   NaN  NaN    NaN   NaN    NaN    NaN   \n",
       "1993.0           ...   NaN  1.0  46.0   NaN  NaN    NaN   NaN    NaN    NaN   \n",
       "1994.0           ...  19.0  5.0  53.0   NaN  NaN    NaN   NaN    NaN    NaN   \n",
       "1995.0           ...  52.0  NaN  54.0   2.0  NaN    NaN   NaN    NaN    NaN   \n",
       "1996.0           ...  38.0  NaN  30.0   NaN  NaN    NaN   NaN    NaN    NaN   \n",
       "1997.0           ...  34.0  NaN   4.0   NaN  NaN    NaN   NaN    NaN    NaN   \n",
       "1998.0           ...  29.0  NaN   2.0   NaN  NaN    NaN   NaN    NaN    NaN   \n",
       "1999.0           ...   1.0  NaN   1.0   NaN  2.0    NaN   NaN    NaN    NaN   \n",
       "2000.0           ...   NaN  NaN   NaN   NaN  2.0    NaN   NaN    NaN    1.0   \n",
       "2001.0           ...   NaN  NaN   NaN   NaN  2.0    NaN   NaN    NaN   33.0   \n",
       "2002.0           ...   NaN  NaN   NaN   NaN  NaN    NaN   NaN    NaN  158.0   \n",
       "2003.0           ...   NaN  NaN   NaN   NaN  NaN    NaN   NaN    NaN  189.0   \n",
       "2004.0           ...   NaN  NaN   NaN   NaN  NaN    NaN   NaN    NaN  177.0   \n",
       "2005.0           ...   NaN  NaN   NaN   NaN  NaN    NaN   NaN   18.0  179.0   \n",
       "2006.0           ...   NaN  NaN   NaN   NaN  NaN   44.0   NaN   93.0   62.0   \n",
       "2007.0           ...   NaN  NaN   NaN   NaN  NaN  185.0   NaN  123.0    3.0   \n",
       "2008.0           ...   NaN  NaN   NaN   NaN  NaN  282.0   NaN  146.0    1.0   \n",
       "2009.0           ...   NaN  NaN   NaN   NaN  NaN  325.0   NaN  172.0    NaN   \n",
       "2010.0           ...   NaN  NaN   NaN   NaN  NaN  253.0   NaN  182.0    NaN   \n",
       "2011.0           ...   NaN  NaN   NaN   NaN  NaN  143.0   NaN  206.0    NaN   \n",
       "2012.0           ...   NaN  NaN   NaN   NaN  NaN   31.0  32.0  106.0    NaN   \n",
       "2013.0           ...   NaN  NaN   NaN   NaN  NaN   12.0  42.0   75.0    NaN   \n",
       "2014.0           ...   NaN  NaN   NaN   NaN  NaN    6.0  31.0   63.0    NaN   \n",
       "2015.0           ...   NaN  NaN   NaN   NaN  NaN    4.0  28.0   35.0    NaN   \n",
       "2016.0           ...   NaN  NaN   NaN   NaN  NaN    1.0  14.0   13.0    NaN   \n",
       "\n",
       "platform         XOne  \n",
       "year_of_release        \n",
       "1980.0            NaN  \n",
       "1981.0            NaN  \n",
       "1982.0            NaN  \n",
       "1983.0            NaN  \n",
       "1984.0            NaN  \n",
       "1985.0            NaN  \n",
       "1986.0            NaN  \n",
       "1987.0            NaN  \n",
       "1988.0            NaN  \n",
       "1989.0            NaN  \n",
       "1990.0            NaN  \n",
       "1991.0            NaN  \n",
       "1992.0            NaN  \n",
       "1993.0            NaN  \n",
       "1994.0            NaN  \n",
       "1995.0            NaN  \n",
       "1996.0            NaN  \n",
       "1997.0            NaN  \n",
       "1998.0            NaN  \n",
       "1999.0            NaN  \n",
       "2000.0            NaN  \n",
       "2001.0            NaN  \n",
       "2002.0            NaN  \n",
       "2003.0            NaN  \n",
       "2004.0            NaN  \n",
       "2005.0            NaN  \n",
       "2006.0            NaN  \n",
       "2007.0            NaN  \n",
       "2008.0            NaN  \n",
       "2009.0            NaN  \n",
       "2010.0            NaN  \n",
       "2011.0            NaN  \n",
       "2012.0            NaN  \n",
       "2013.0           19.0  \n",
       "2014.0           61.0  \n",
       "2015.0           80.0  \n",
       "2016.0           87.0  \n",
       "\n",
       "[37 rows x 31 columns]"
      ]
     },
     "metadata": {},
     "output_type": "display_data"
    }
   ],
   "source": [
    "# Строю сводную таблицу по годам и платформам.\n",
    "\n",
    "platform_year_sales = data.pivot_table(index='year_of_release', columns='platform', values='name', aggfunc='count')\n",
    "\n",
    "display(platform_year_sales)"
   ]
  },
  {
   "cell_type": "code",
   "execution_count": 15,
   "metadata": {
    "scrolled": false
   },
   "outputs": [
    {
     "data": {
      "image/png": "[encoded data removed]",
      "text/plain": [
       "<Figure size 1080x1080 with 1 Axes>"
      ]
     },
     "metadata": {
      "needs_background": "light"
     },
     "output_type": "display_data"
    }
   ],
   "source": [
    "platform_year_sales.plot(figsize=(15,15), grid=True)\n",
    "\n",
    "plt.xlabel('Год', fontsize=14)\n",
    "plt.ylabel('Количество игр', fontsize=14)\n",
    "plt.title('Распределение релизов игр по годам и платформам', fontsize=14);"
   ]
  },
  {
   "cell_type": "code",
   "execution_count": 16,
   "metadata": {
    "scrolled": true
   },
   "outputs": [
    {
     "name": "stdout",
     "output_type": "stream",
     "text": [
      "platform\n",
      "PS2     1255.77\n",
      "X360     971.42\n",
      "PS3      939.65\n",
      "Wii      907.51\n",
      "DS       806.12\n",
      "PS       730.86\n",
      "Name: sales_sum, dtype: float64\n"
     ]
    }
   ],
   "source": [
    "# Платформы с самой большой выручкой за игры\n",
    "\n",
    "print(data.groupby('platform')['sales_sum'].sum().sort_values(ascending=False).head(6))"
   ]
  },
  {
   "cell_type": "code",
   "execution_count": 17,
   "metadata": {},
   "outputs": [
    {
     "name": "stdout",
     "output_type": "stream",
     "text": [
      "platform\n",
      "PC      26\n",
      "GB      13\n",
      "NES     12\n",
      "X360    12\n",
      "PSP     12\n",
      "PS2     12\n",
      "Wii     11\n",
      "DS      11\n",
      "PS3     11\n",
      "2600    10\n",
      "SNES    10\n",
      "dtype: int64\n"
     ]
    }
   ],
   "source": [
    "# Вычисляю число лет, на протяжении которых выходили игры для разных платформ.\n",
    "\n",
    "print(platform_year_sales.count().sort_values(ascending=False).head(11))"
   ]
  },
  {
   "cell_type": "code",
   "execution_count": 18,
   "metadata": {},
   "outputs": [
    {
     "name": "stdout",
     "output_type": "stream",
     "text": [
      "38\n"
     ]
    }
   ],
   "source": [
    "print(len(data['year_of_release'].unique()))"
   ]
  },
  {
   "cell_type": "markdown",
   "metadata": {},
   "source": [
    "Игры для самых популярных платформ могут выходить на протяжении от 10 до 13 лет. Исключение составляет персональный компьютер, для которого игры выходят 26 лет из 37 "
   ]
  },
  {
   "cell_type": "code",
   "execution_count": 19,
   "metadata": {
    "scrolled": true
   },
   "outputs": [
    {
     "name": "stdout",
     "output_type": "stream",
     "text": [
      "7.0\n"
     ]
    }
   ],
   "source": [
    "# Вычисляю медианное значение существования одной платформы.\n",
    "\n",
    "print(platform_year_sales.count().median())"
   ]
  },
  {
   "cell_type": "markdown",
   "metadata": {},
   "source": [
    "Платформы зачастую существуют около 7 лет, после чего их сменяют другие. Для такой быстроразвивающийся индустрии 3 года - наиболее подходящий актуальный период, поэтому, чтобы построить прогноз на 2017 год, берем данные за последние 3 года."
   ]
  },
  {
   "cell_type": "code",
   "execution_count": 20,
   "metadata": {},
   "outputs": [],
   "source": [
    "# Оставляю данные за последние 3 года\n",
    "\n",
    "last_data = data.query('year_of_release >= 2014')"
   ]
  },
  {
   "cell_type": "code",
   "execution_count": 21,
   "metadata": {},
   "outputs": [
    {
     "name": "stdout",
     "output_type": "stream",
     "text": [
      "<class 'pandas.core.frame.DataFrame'>\n",
      "Int64Index: 1689 entries, 31 to 16712\n",
      "Data columns (total 12 columns):\n",
      " #   Column           Non-Null Count  Dtype  \n",
      "---  ------           --------------  -----  \n",
      " 0   name             1689 non-null   object \n",
      " 1   platform         1689 non-null   object \n",
      " 2   year_of_release  1689 non-null   float64\n",
      " 3   genre            1689 non-null   object \n",
      " 4   na_sales         1689 non-null   float64\n",
      " 5   eu_sales         1689 non-null   float64\n",
      " 6   jp_sales         1689 non-null   float64\n",
      " 7   other_sales      1689 non-null   float64\n",
      " 8   critic_score     718 non-null    float64\n",
      " 9   user_score       888 non-null    float64\n",
      " 10  rating           1689 non-null   object \n",
      " 11  sales_sum        1689 non-null   float64\n",
      "dtypes: float64(8), object(4)\n",
      "memory usage: 171.5+ KB\n"
     ]
    }
   ],
   "source": [
    "last_data.info()"
   ]
  },
  {
   "cell_type": "code",
   "execution_count": 22,
   "metadata": {},
   "outputs": [
    {
     "data": {
      "image/png": "[encoded data removed]",
      "text/plain": [
       "<Figure size 1080x1080 with 1 Axes>"
      ]
     },
     "metadata": {
      "needs_background": "light"
     },
     "output_type": "display_data"
    }
   ],
   "source": [
    "last_data.pivot_table(\n",
    "    index='year_of_release', \n",
    "    columns='platform', \n",
    "    values='sales_sum', \n",
    "    aggfunc='sum'\n",
    ").plot(grid=True, figsize=(15,15))\n",
    "\n",
    "plt.xlabel('Год', fontsize=14)\n",
    "plt.ylabel('Суммарные продажи (в млн. копий)', fontsize=14)\n",
    "plt.title('Распределение продаж по платформам за последние три года', fontsize=14);"
   ]
  },
  {
   "cell_type": "code",
   "execution_count": 23,
   "metadata": {},
   "outputs": [
    {
     "data": {
      "text/html": [
       "<div>\n",
       "<style scoped>\n",
       "    .dataframe tbody tr th:only-of-type {\n",
       "        vertical-align: middle;\n",
       "    }\n",
       "\n",
       "    .dataframe tbody tr th {\n",
       "        vertical-align: top;\n",
       "    }\n",
       "\n",
       "    .dataframe thead th {\n",
       "        text-align: right;\n",
       "    }\n",
       "</style>\n",
       "<table border=\"1\" class=\"dataframe\">\n",
       "  <thead>\n",
       "    <tr style=\"text-align: right;\">\n",
       "      <th>platform</th>\n",
       "      <th>3DS</th>\n",
       "      <th>PC</th>\n",
       "      <th>PS3</th>\n",
       "      <th>PS4</th>\n",
       "      <th>PSP</th>\n",
       "      <th>PSV</th>\n",
       "      <th>Wii</th>\n",
       "      <th>WiiU</th>\n",
       "      <th>X360</th>\n",
       "      <th>XOne</th>\n",
       "    </tr>\n",
       "    <tr>\n",
       "      <th>year_of_release</th>\n",
       "      <th></th>\n",
       "      <th></th>\n",
       "      <th></th>\n",
       "      <th></th>\n",
       "      <th></th>\n",
       "      <th></th>\n",
       "      <th></th>\n",
       "      <th></th>\n",
       "      <th></th>\n",
       "      <th></th>\n",
       "    </tr>\n",
       "  </thead>\n",
       "  <tbody>\n",
       "    <tr>\n",
       "      <th>2014.0</th>\n",
       "      <td>43.76</td>\n",
       "      <td>13.28</td>\n",
       "      <td>47.76</td>\n",
       "      <td>100.00</td>\n",
       "      <td>0.24</td>\n",
       "      <td>11.90</td>\n",
       "      <td>3.75</td>\n",
       "      <td>22.03</td>\n",
       "      <td>34.74</td>\n",
       "      <td>54.07</td>\n",
       "    </tr>\n",
       "    <tr>\n",
       "      <th>2015.0</th>\n",
       "      <td>27.78</td>\n",
       "      <td>8.52</td>\n",
       "      <td>16.82</td>\n",
       "      <td>118.90</td>\n",
       "      <td>0.12</td>\n",
       "      <td>6.25</td>\n",
       "      <td>1.14</td>\n",
       "      <td>16.35</td>\n",
       "      <td>11.96</td>\n",
       "      <td>60.14</td>\n",
       "    </tr>\n",
       "    <tr>\n",
       "      <th>2016.0</th>\n",
       "      <td>15.14</td>\n",
       "      <td>5.25</td>\n",
       "      <td>3.60</td>\n",
       "      <td>69.25</td>\n",
       "      <td>NaN</td>\n",
       "      <td>4.25</td>\n",
       "      <td>0.18</td>\n",
       "      <td>4.60</td>\n",
       "      <td>1.52</td>\n",
       "      <td>26.15</td>\n",
       "    </tr>\n",
       "  </tbody>\n",
       "</table>\n",
       "</div>"
      ],
      "text/plain": [
       "platform           3DS     PC    PS3     PS4   PSP    PSV   Wii   WiiU   X360  \\\n",
       "year_of_release                                                                 \n",
       "2014.0           43.76  13.28  47.76  100.00  0.24  11.90  3.75  22.03  34.74   \n",
       "2015.0           27.78   8.52  16.82  118.90  0.12   6.25  1.14  16.35  11.96   \n",
       "2016.0           15.14   5.25   3.60   69.25   NaN   4.25  0.18   4.60   1.52   \n",
       "\n",
       "platform          XOne  \n",
       "year_of_release         \n",
       "2014.0           54.07  \n",
       "2015.0           60.14  \n",
       "2016.0           26.15  "
      ]
     },
     "metadata": {},
     "output_type": "display_data"
    }
   ],
   "source": [
    "# Распределение продаж по платформам за последние три года\n",
    "display(last_data.pivot_table(index='year_of_release', columns='platform', values='sales_sum', aggfunc='sum'))"
   ]
  },
  {
   "cell_type": "markdown",
   "metadata": {},
   "source": [
    "По числу продаж лидируют на 2016 год PS4, XOne и 3DS. При этом продажи на всех платформх падают по сравнению с 2015 годом, который оказался наиболее прибыльным для PS4 и XOne, их продажи возрастали с 2013 по 2015 годы и резко упали в 2016 году. XOne - на 34 миллиона копий и PS4 на 49,65 миллионов копий. Продажи 3DS падают с 2013 года. На четвертом месте в топ-5 платформ - PC, который в 2016 году также переживает спад 5,25 миллионов копий в 2016 году по сравнению с 8,52 миллионами проданных копий в 2015 году, при этом в отличие от PS4 и XOne продажи на PC падают с 2014 года. Замыкает топ-5 платформа WiiU, продажи на которую упали более чем в 3 раза, больше, чем у PS4, XOne, 3DS и PC: 4,6 миллионов проданных копий в 2016 году по сравнению с 16.35 миллионами в 2015 году; продажи WiiU на так же как и на 3DS и PC падают с 2014 года.\n",
    "\n",
    "Таким образом, самые перспективные платформы на 2017 - **PS4**, **XOne** и **3DS**."
   ]
  },
  {
   "cell_type": "code",
   "execution_count": 24,
   "metadata": {
    "scrolled": false
   },
   "outputs": [
    {
     "data": {
      "image/png": "[encoded data removed]",
      "text/plain": [
       "<Figure size 1080x1440 with 1 Axes>"
      ]
     },
     "metadata": {
      "needs_background": "light"
     },
     "output_type": "display_data"
    }
   ],
   "source": [
    "# Строю диаграмму размаха для всех платформ\n",
    "\n",
    "plt.figure(figsize=(15, 20))\n",
    "(sns.boxplot(data=last_data, y='sales_sum', x='platform')\n",
    "    .set(title = 'Продажи по платформам', xlabel = 'Платформы', ylabel = 'Общие продажи', ylim=(0, 3)))\n",
    "\n",
    "plt.show()"
   ]
  },
  {
   "cell_type": "markdown",
   "metadata": {},
   "source": [
    "Самой высокой вариативностью по числу проданных копий из топ-5 платформ обладает PS4, XOne и WiiU, вариантивность в количестве продаж у них значительно выше, чем у 3DS и PC. При этом у большинства платформ на графике медиана смещена первому квартилю, что говорит о том, что игры по своей успешности распределяются неравномерно и существует большое количество менее успешных игр и меньшее количество мегауспешных игр, которые оттягивают третий квартиль вверх."
   ]
  },
  {
   "cell_type": "code",
   "execution_count": 25,
   "metadata": {},
   "outputs": [
    {
     "data": {
      "text/plain": [
       "<AxesSubplot:>"
      ]
     },
     "execution_count": 25,
     "metadata": {},
     "output_type": "execute_result"
    },
    {
     "data": {
      "image/png": "[encoded data removed]",
      "text/plain": [
       "<Figure size 1080x1440 with 1 Axes>"
      ]
     },
     "metadata": {
      "needs_background": "light"
     },
     "output_type": "display_data"
    }
   ],
   "source": [
    "# Строю диаграмму размаха для PS4\n",
    "\n",
    "last_data.query('platform == \"PS4\"').boxplot(column='sales_sum', figsize=(15,20))"
   ]
  },
  {
   "cell_type": "code",
   "execution_count": 26,
   "metadata": {},
   "outputs": [
    {
     "name": "stdout",
     "output_type": "stream",
     "text": [
      "count    376.000000\n",
      "mean       0.766356\n",
      "std        1.614969\n",
      "min        0.010000\n",
      "25%        0.057500\n",
      "50%        0.185000\n",
      "75%        0.690000\n",
      "max       14.630000\n",
      "Name: sales_sum, dtype: float64\n"
     ]
    }
   ],
   "source": [
    "print(last_data.query('platform == \"PS4\"')['sales_sum'].describe())"
   ]
  },
  {
   "cell_type": "markdown",
   "metadata": {},
   "source": [
    "75% выпущенных для PS4 игр по числу проданных копий не превышают 690 000, 50% не превышают 185 000"
   ]
  },
  {
   "cell_type": "code",
   "execution_count": 27,
   "metadata": {},
   "outputs": [
    {
     "data": {
      "text/plain": [
       "<AxesSubplot:>"
      ]
     },
     "execution_count": 27,
     "metadata": {},
     "output_type": "execute_result"
    },
    {
     "data": {
      "image/png": "[encoded data removed]",
      "text/plain": [
       "<Figure size 1080x1440 with 1 Axes>"
      ]
     },
     "metadata": {
      "needs_background": "light"
     },
     "output_type": "display_data"
    }
   ],
   "source": [
    "# Строю диаграмму размаха для XOne\n",
    "\n",
    "last_data.query('platform == \"XOne\"').boxplot(column='sales_sum', figsize=(15,20))"
   ]
  },
  {
   "cell_type": "code",
   "execution_count": 28,
   "metadata": {},
   "outputs": [
    {
     "name": "stdout",
     "output_type": "stream",
     "text": [
      "count    228.000000\n",
      "mean       0.615614\n",
      "std        1.046513\n",
      "min        0.010000\n",
      "25%        0.050000\n",
      "50%        0.205000\n",
      "75%        0.632500\n",
      "max        7.390000\n",
      "Name: sales_sum, dtype: float64\n"
     ]
    }
   ],
   "source": [
    "print(last_data.query('platform == \"XOne\"')['sales_sum'].describe())"
   ]
  },
  {
   "cell_type": "markdown",
   "metadata": {},
   "source": [
    "75% выпущенных для XOne игр по числу проданных копий не превышают 632 500, 50% не превышают 205 000. Стоит отметить, что в данных об XOne значительно меньше выбросов и самая успешная игра по числу проданных копий в два раза уступает самой успешной игре на PS4."
   ]
  },
  {
   "cell_type": "code",
   "execution_count": 29,
   "metadata": {},
   "outputs": [
    {
     "data": {
      "text/plain": [
       "<AxesSubplot:>"
      ]
     },
     "execution_count": 29,
     "metadata": {},
     "output_type": "execute_result"
    },
    {
     "data": {
      "image/png": "[encoded data removed]",
      "text/plain": [
       "<Figure size 1080x1440 with 1 Axes>"
      ]
     },
     "metadata": {
      "needs_background": "light"
     },
     "output_type": "display_data"
    }
   ],
   "source": [
    "# Строю диаграмму размаха для 3DS\n",
    "\n",
    "last_data.query('platform == \"3DS\"').boxplot(column='sales_sum', figsize=(15,20))"
   ]
  },
  {
   "cell_type": "code",
   "execution_count": 30,
   "metadata": {},
   "outputs": [
    {
     "name": "stdout",
     "output_type": "stream",
     "text": [
      "count    212.000000\n",
      "mean       0.408868\n",
      "std        1.188368\n",
      "min        0.010000\n",
      "25%        0.030000\n",
      "50%        0.090000\n",
      "75%        0.250000\n",
      "max       11.680000\n",
      "Name: sales_sum, dtype: float64\n"
     ]
    }
   ],
   "source": [
    "print(last_data.query('platform == \"3DS\"')['sales_sum'].describe())"
   ]
  },
  {
   "cell_type": "markdown",
   "metadata": {},
   "source": [
    "75% выпущенных для 3DS игр по числу проданных копий не превышают 250 000, 50% не превышают 90 000. Однако при менее высоких показателях большинства игр для 3DS были выпущены такие игры, которые по популярности не уступают релизам на PS4: максимальное значение проданных копий за одну игру - 11 680 000, что значительно превышает показатели самой успешной игры для XOne - 7 390 000.\n",
    "\n",
    "Характерной чертой игровой отрасли является то, что в интервале с небольшими продажами находится очень много игр, однако существуют невероятно популярные игры (обозначенные в выбросах), продажи которых могут быть выше чем остальные игры вместе взятые. "
   ]
  },
  {
   "cell_type": "code",
   "execution_count": 31,
   "metadata": {},
   "outputs": [
    {
     "data": {
      "text/plain": [
       "<AxesSubplot:xlabel='sales_sum', ylabel='critic_score'>"
      ]
     },
     "execution_count": 31,
     "metadata": {},
     "output_type": "execute_result"
    },
    {
     "data": {
      "image/png": "[encoded data removed]",
      "text/plain": [
       "<Figure size 1080x1440 with 1 Axes>"
      ]
     },
     "metadata": {
      "needs_background": "light"
     },
     "output_type": "display_data"
    }
   ],
   "source": [
    "# Строю диаграмму рассеяния для оценок критиков и числа проданных копий по данным о релизах для PS4\n",
    "\n",
    "last_data.query('platform == \"PS4\"').plot(x='sales_sum', y='critic_score', kind='scatter', grid=True, figsize=(15,20))"
   ]
  },
  {
   "cell_type": "code",
   "execution_count": 32,
   "metadata": {},
   "outputs": [
    {
     "data": {
      "text/plain": [
       "<AxesSubplot:xlabel='sales_sum', ylabel='user_score'>"
      ]
     },
     "execution_count": 32,
     "metadata": {},
     "output_type": "execute_result"
    },
    {
     "data": {
      "image/png": "[encoded data removed]",
      "text/plain": [
       "<Figure size 1080x1440 with 1 Axes>"
      ]
     },
     "metadata": {
      "needs_background": "light"
     },
     "output_type": "display_data"
    }
   ],
   "source": [
    "# Строю диаграмму рассеяния для оценок пользователей и числа проданных копий по данным о релизах для PS4\n",
    "\n",
    "last_data.query('platform == \"PS4\"').plot(x='sales_sum', y='user_score', kind='scatter', grid=True, figsize=(15,20))"
   ]
  },
  {
   "cell_type": "code",
   "execution_count": 33,
   "metadata": {},
   "outputs": [
    {
     "name": "stdout",
     "output_type": "stream",
     "text": [
      "0.4026614106810408\n"
     ]
    }
   ],
   "source": [
    "# Смотрю корреляцию между оценками критиков и числом проданных копий\n",
    "\n",
    "print(last_data.query('platform == \"PS4\"')['sales_sum'].corr(last_data.query('platform == \"PS4\"')['critic_score']))"
   ]
  },
  {
   "cell_type": "code",
   "execution_count": 34,
   "metadata": {},
   "outputs": [
    {
     "name": "stdout",
     "output_type": "stream",
     "text": [
      "-0.040131589472697266\n"
     ]
    }
   ],
   "source": [
    "# Смотрю корреляцию между оценками пользователей и числом проданных копий\n",
    "\n",
    "print(last_data.query('platform == \"PS4\"')['sales_sum'].corr(last_data.query('platform == \"PS4\"')['user_score']))"
   ]
  },
  {
   "cell_type": "markdown",
   "metadata": {},
   "source": [
    "Корреляции между оценками пользователей и числом проданных копий нет.\n",
    "\n",
    "Существует слабая корреляция между оценками критиков и числом проданных копий. Коэффициент корреляции - 0.4. При этом важно отметить, что вторая по продажам на ps4 игра Grand Theft Auto V имеет самую высокую оценку критиков - 97 из 100."
   ]
  },
  {
   "cell_type": "code",
   "execution_count": 35,
   "metadata": {},
   "outputs": [
    {
     "data": {
      "text/plain": [
       "<AxesSubplot:xlabel='sales_sum', ylabel='critic_score'>"
      ]
     },
     "execution_count": 35,
     "metadata": {},
     "output_type": "execute_result"
    },
    {
     "data": {
      "image/png": "[encoded data removed]",
      "text/plain": [
       "<Figure size 1080x1440 with 1 Axes>"
      ]
     },
     "metadata": {
      "needs_background": "light"
     },
     "output_type": "display_data"
    }
   ],
   "source": [
    "# Строю диаграмму рассеяния для оценок критиков и числа проданных копий по данным о релизах для XOne\n",
    "\n",
    "last_data.query('platform == \"XOne\"').plot(x='sales_sum', y='critic_score', kind='scatter', grid=True, figsize=(15,20))"
   ]
  },
  {
   "cell_type": "code",
   "execution_count": 36,
   "metadata": {},
   "outputs": [
    {
     "data": {
      "text/plain": [
       "<AxesSubplot:xlabel='sales_sum', ylabel='user_score'>"
      ]
     },
     "execution_count": 36,
     "metadata": {},
     "output_type": "execute_result"
    },
    {
     "data": {
      "image/png": "[encoded data removed]",
      "text/plain": [
       "<Figure size 1080x1440 with 1 Axes>"
      ]
     },
     "metadata": {
      "needs_background": "light"
     },
     "output_type": "display_data"
    }
   ],
   "source": [
    "# Строю диаграмму рассеяния для оценок критиков и числа проданных копий по данным о релизах для XOne\n",
    "\n",
    "last_data.query('platform == \"XOne\"').plot(x='sales_sum', y='user_score', kind='scatter', grid=True, figsize=(15,20))"
   ]
  },
  {
   "cell_type": "code",
   "execution_count": 37,
   "metadata": {},
   "outputs": [
    {
     "name": "stdout",
     "output_type": "stream",
     "text": [
      "0.428676943703332\n"
     ]
    }
   ],
   "source": [
    "# Смотрю корреляцию между оценками критиков и числом проданных копий\n",
    "\n",
    "print(last_data.query('platform == \"XOne\"')['sales_sum'].corr(last_data.query('platform == \"XOne\"')['critic_score']))"
   ]
  },
  {
   "cell_type": "code",
   "execution_count": 38,
   "metadata": {},
   "outputs": [
    {
     "name": "stdout",
     "output_type": "stream",
     "text": [
      "-0.07038392806475817\n"
     ]
    }
   ],
   "source": [
    "# Смотрю корреляцию между оценками пользователей и числом проданных копий\n",
    "\n",
    "print(last_data.query('platform == \"XOne\"')['sales_sum'].corr(last_data.query('platform == \"XOne\"')['user_score']))"
   ]
  },
  {
   "cell_type": "markdown",
   "metadata": {},
   "source": [
    "Показатели корреляции в случае релизов для XOne совпадают с играми выпущенными для PS4:\n",
    "- Корреляции между оценками пользователей и числом проданных копий нет.\n",
    "- Существует слабая корреляция между оценками критиков и числом проданных копий. Коэффициент корреляции также составляет 0.4. "
   ]
  },
  {
   "cell_type": "code",
   "execution_count": 39,
   "metadata": {},
   "outputs": [
    {
     "data": {
      "text/plain": [
       "<AxesSubplot:xlabel='sales_sum', ylabel='critic_score'>"
      ]
     },
     "execution_count": 39,
     "metadata": {},
     "output_type": "execute_result"
    },
    {
     "data": {
      "image/png": "[encoded data removed]",
      "text/plain": [
       "<Figure size 1080x1440 with 1 Axes>"
      ]
     },
     "metadata": {
      "needs_background": "light"
     },
     "output_type": "display_data"
    }
   ],
   "source": [
    "# Строю диаграмму рассеяния для оценок критиков и числа проданных копий по данным о релизах для 3DS\n",
    "\n",
    "last_data.query('platform == \"3DS\"').plot(x='sales_sum', y='critic_score', kind='scatter', grid=True, figsize=(15,20))"
   ]
  },
  {
   "cell_type": "code",
   "execution_count": 40,
   "metadata": {},
   "outputs": [
    {
     "data": {
      "text/plain": [
       "<AxesSubplot:xlabel='sales_sum', ylabel='user_score'>"
      ]
     },
     "execution_count": 40,
     "metadata": {},
     "output_type": "execute_result"
    },
    {
     "data": {
      "image/png": "[encoded data removed]",
      "text/plain": [
       "<Figure size 1080x1440 with 1 Axes>"
      ]
     },
     "metadata": {
      "needs_background": "light"
     },
     "output_type": "display_data"
    }
   ],
   "source": [
    "# Строю диаграмму рассеяния для оценок критиков и числа проданных копий по данным о релизах для 3DS\n",
    "\n",
    "last_data.query('platform == \"3DS\"').plot(x='sales_sum', y='user_score', kind='scatter', grid=True, figsize=(15,20))"
   ]
  },
  {
   "cell_type": "code",
   "execution_count": 41,
   "metadata": {},
   "outputs": [
    {
     "name": "stdout",
     "output_type": "stream",
     "text": [
      "0.314117492869051\n"
     ]
    }
   ],
   "source": [
    "# Смотрю корреляцию между оценками критиков и числом проданных копий\n",
    "\n",
    "print(last_data.query('platform == \"3DS\"')['sales_sum'].corr(last_data.query('platform == \"3DS\"')['critic_score']))"
   ]
  },
  {
   "cell_type": "code",
   "execution_count": 42,
   "metadata": {},
   "outputs": [
    {
     "name": "stdout",
     "output_type": "stream",
     "text": [
      "0.21519327185270273\n"
     ]
    }
   ],
   "source": [
    "# Смотрю корреляцию между оценками пользователей и числом проданных копий\n",
    "\n",
    "print(last_data.query('platform == \"3DS\"')['sales_sum'].corr(last_data.query('platform == \"3DS\"')['user_score']))"
   ]
  },
  {
   "cell_type": "markdown",
   "metadata": {},
   "source": [
    "Показатели корреляции в случае релизов для 3DS отличаются PS4 и XOne:\n",
    "\n",
    "- Существует слабая корреляция между оценками пользователей и числом проданных копий. Коэффициент корреляции - 0.2. Компания Nintendo знаменита в видеоигровой индустрии тем, что ей удалось сформировать преданное сообщество игроков. Поэтому, возможно, что отличается именно сама пользовательская база. \n",
    "\n",
    "\n",
    "- Существует слабая корреляция между оценками критиков и числом проданных копий, причем она нииже, чем у PS4 и XOne. Коэффициент корреляции составляет 0.34."
   ]
  },
  {
   "cell_type": "code",
   "execution_count": 43,
   "metadata": {
    "scrolled": true
   },
   "outputs": [
    {
     "name": "stdout",
     "output_type": "stream",
     "text": [
      "Корреляция между оценками пользователей и числом проданных копий на WiiU: 0.40792645792170795\n",
      "Корреляция между оценками критиков и числом проданных копий на WiiU: 0.37020141248088406\n",
      "\n",
      "Корреляция между оценками пользователей и числом проданных копий на PS3: -0.16676141347662102\n",
      "Корреляция между оценками критиков и числом проданных копий на PS3: 0.4465746049319071\n",
      "\n",
      "Корреляция между оценками пользователей и числом проданных копий на X360: -0.13844457094566506\n",
      "Корреляция между оценками критиков и числом проданных копий на X360: 0.5257228356581523\n",
      "\n",
      "Корреляция между оценками пользователей и числом проданных копий на PC: -0.07159665703472452\n",
      "Корреляция между оценками критиков и числом проданных копий на PC: 0.17463413769350034\n",
      "\n",
      "Корреляция между оценками пользователей и числом проданных копий на Wii: 1.0\n",
      "Корреляция между оценками критиков и числом проданных копий на Wii: nan\n",
      "\n",
      "Корреляция между оценками пользователей и числом проданных копий на PSV: -0.16845504978064438\n",
      "Корреляция между оценками критиков и числом проданных копий на PSV: 0.042664906570095286\n",
      "\n",
      "Корреляция между оценками пользователей и числом проданных копий на PSP: nan\n",
      "Корреляция между оценками критиков и числом проданных копий на PSP: nan\n",
      "\n"
     ]
    }
   ],
   "source": [
    "# Смотрю корреляцию для оставшихся платформ\n",
    "\n",
    "all_platforms = ['PS4', 'XOne', '3DS']\n",
    "\n",
    "for index in last_data['platform'].unique():\n",
    "    if index not in all_platforms:\n",
    "        all_platforms.append(index)\n",
    "        print(f'Корреляция между оценками пользователей и числом проданных копий на {index}:', last_data.loc[last_data['platform'] == index,'sales_sum'].corr(last_data.loc[last_data['platform'] == index, 'user_score']))\n",
    "        print(f'Корреляция между оценками критиков и числом проданных копий на {index}:', last_data.loc[last_data['platform'] == index,'sales_sum'].corr(last_data.loc[last_data['platform'] == index, 'critic_score']))\n",
    "        print()"
   ]
  },
  {
   "cell_type": "markdown",
   "metadata": {},
   "source": [
    "В случае всех этих платформ, кроме PSV и PS2, существует слабая корреляция между оценками критиков и числом проданных копий. При этом ближайшими платформами к PS4 и XOne по коэффициенту данной корреляции являются их консоли-\"предшественники\" PS3 и X360. \n",
    "\n",
    "Самые высокие коэффициенты корреляции между оценками пользователей и числом проданных копий можно наблюдать у консолей той же компании Nintendo. В отличие от других платформ в их случае можно говорить о существовании слабой корреляции: \n",
    "- на DS коэффициент корреляции - 0.2\n",
    "- на WiiU самый высокий коэффициент корреляции между этими показателями - 0.4"
   ]
  },
  {
   "cell_type": "code",
   "execution_count": 44,
   "metadata": {},
   "outputs": [
    {
     "data": {
      "text/plain": [
       "<AxesSubplot:xlabel='sales_sum', ylabel='genre'>"
      ]
     },
     "execution_count": 44,
     "metadata": {},
     "output_type": "execute_result"
    },
    {
     "data": {
      "image/png": "[encoded data removed]",
      "text/plain": [
       "<Figure size 432x288 with 1 Axes>"
      ]
     },
     "metadata": {
      "needs_background": "light"
     },
     "output_type": "display_data"
    }
   ],
   "source": [
    "# Строю столбчатую диаграмму, чтобы посмотреть распределение продаж игр по жанрам\n",
    "\n",
    "genre_sales_sum = last_data.pivot_table(index='genre', values='sales_sum', aggfunc='sum').sort_values(by='sales_sum', ascending=False)\n",
    "\n",
    "sns.barplot(data=genre_sales_sum, y=genre_sales_sum.index, x=genre_sales_sum.sales_sum)"
   ]
  },
  {
   "cell_type": "code",
   "execution_count": 45,
   "metadata": {},
   "outputs": [
    {
     "data": {
      "text/plain": [
       "genre\n",
       "Action          199.36\n",
       "Shooter         170.94\n",
       "Sports          109.48\n",
       "Role-Playing    101.44\n",
       "Misc             37.55\n",
       "Fighting         28.22\n",
       "Racing           27.52\n",
       "Platform         18.09\n",
       "Adventure        17.55\n",
       "Simulation       13.13\n",
       "Strategy          3.96\n",
       "Puzzle            2.21\n",
       "Name: sales_sum, dtype: float64"
      ]
     },
     "execution_count": 45,
     "metadata": {},
     "output_type": "execute_result"
    }
   ],
   "source": [
    "# Нахожу суммарное количество проданных игр по жанрам\n",
    "\n",
    "last_data.groupby('genre')['sales_sum'].sum().sort_values(ascending=False)"
   ]
  },
  {
   "cell_type": "code",
   "execution_count": 46,
   "metadata": {},
   "outputs": [
    {
     "data": {
      "text/plain": [
       "<AxesSubplot:xlabel='sales_sum', ylabel='genre'>"
      ]
     },
     "execution_count": 46,
     "metadata": {},
     "output_type": "execute_result"
    },
    {
     "data": {
      "image/png": "[encoded data removed]",
      "text/plain": [
       "<Figure size 432x288 with 1 Axes>"
      ]
     },
     "metadata": {
      "needs_background": "light"
     },
     "output_type": "display_data"
    }
   ],
   "source": [
    "# Строю столбчатую диаграмму, чтобы посмотреть распределение количество опубликованных игр по жанрам\n",
    "\n",
    "genre_sales_count = last_data.pivot_table(index='genre', values='sales_sum', aggfunc='count').sort_values(by='sales_sum', ascending=False)\n",
    "\n",
    "sns.barplot(data=genre_sales_count, y=genre_sales_count.index, x=genre_sales_count.sales_sum)"
   ]
  },
  {
   "cell_type": "code",
   "execution_count": 47,
   "metadata": {
    "scrolled": true
   },
   "outputs": [
    {
     "data": {
      "text/plain": [
       "genre\n",
       "Action          619\n",
       "Role-Playing    221\n",
       "Adventure       185\n",
       "Sports          161\n",
       "Shooter         128\n",
       "Misc            113\n",
       "Racing           69\n",
       "Fighting         60\n",
       "Simulation       44\n",
       "Platform         38\n",
       "Strategy         37\n",
       "Puzzle           14\n",
       "Name: sales_sum, dtype: int64"
      ]
     },
     "execution_count": 47,
     "metadata": {},
     "output_type": "execute_result"
    }
   ],
   "source": [
    "# Нахожу количество опубликованных игр по жанрам\n",
    "\n",
    "last_data.groupby('genre')['sales_sum'].count().sort_values(ascending=False)"
   ]
  },
  {
   "cell_type": "code",
   "execution_count": 48,
   "metadata": {},
   "outputs": [
    {
     "data": {
      "text/plain": [
       "genre\n",
       "Shooter         0.515\n",
       "Sports          0.180\n",
       "Platform        0.140\n",
       "Fighting        0.125\n",
       "Role-Playing    0.110\n",
       "Simulation      0.100\n",
       "Action          0.090\n",
       "Misc            0.090\n",
       "Racing          0.090\n",
       "Strategy        0.060\n",
       "Puzzle          0.045\n",
       "Adventure       0.030\n",
       "Name: sales_sum, dtype: float64"
      ]
     },
     "execution_count": 48,
     "metadata": {},
     "output_type": "execute_result"
    }
   ],
   "source": [
    "# Нахожу медианное значение проданных игр для каждого жанра\n",
    "\n",
    "last_data.groupby('genre')['sales_sum'].median().sort_values(ascending=False)"
   ]
  },
  {
   "cell_type": "code",
   "execution_count": 49,
   "metadata": {},
   "outputs": [
    {
     "data": {
      "text/plain": [
       "genre\n",
       "Shooter         1.335469\n",
       "Sports          0.680000\n",
       "Platform        0.476053\n",
       "Fighting        0.470333\n",
       "Role-Playing    0.459005\n",
       "Racing          0.398841\n",
       "Misc            0.332301\n",
       "Action          0.322068\n",
       "Simulation      0.298409\n",
       "Puzzle          0.157857\n",
       "Strategy        0.107027\n",
       "Adventure       0.094865\n",
       "Name: sales_sum, dtype: float64"
      ]
     },
     "execution_count": 49,
     "metadata": {},
     "output_type": "execute_result"
    }
   ],
   "source": [
    "# Нахожу среднее значение проданных игр для каждого жанра\n",
    "\n",
    "last_data.groupby('genre')['sales_sum'].mean().sort_values(ascending=False)"
   ]
  },
  {
   "cell_type": "markdown",
   "metadata": {},
   "source": [
    "По медианному значению количества проданных копий жанры распределяются следующим образом:\n",
    "\n",
    "- Самым продаваемым является жанр Shooter. Медианное значение количества продаж для данного жанра - 515 000, что превышает более чем в два раза медианные значения других жанров.\n",
    "\n",
    "- На втором месте по медианному значению продаж жанр Sports. Медианное значение количества продаж для данного жанра - 180 000.\n",
    "\n",
    "- На третьем месте по медианному значению продаж жанр Platform. Медианное значение количества продаж для данного жанра - 140 000.\n",
    "\n",
    "По количеству выпущенных игр жанры распределяются следующим образом:\n",
    "- Самым популярным среди разработчиков игр является жанр Action. В этом жанре за последние три года выпустили 619 игр. Благодаря этому жанр Action также лидирует по суммарному числу проданных игровых копий - 557 800 000\n",
    "\n",
    "- На втором месте по популярности среди разработчиков - жанр Role-Playing. В этом жанре за последние три года выпустили 221 игру что почти в три раза уступает количеству игр в жанре Action. При этом по суммарному числу проданных игровых копий жанр Role-Playing занимает четвертое - 101 440 000.\n",
    "\n",
    "- На третьем месте по популярности среди разработчиков - жанр Adventure. В этом жанре за последние три года выпустили 185 игр, что также в три раза меньше количества игр в жанре Action. При этом по суммарному числу проданных игровых копий жанр Adventure занимает девятое место - 17 550 000.    \n",
    "\n",
    "- На четвертом месте по популярности среди разработчиков - жанр Sports. В этом жанре за последние три года выпустили 161 игру что также более чем в три раза меньше количества игр в жанре Action. При этом по суммарному числу проданных игровых копий жанр Sports занимает третье место - 109 480 000.\n",
    "\n",
    "Аномальным является жанр Shooter, поскольку по популярности среди разработчиков он на пятом месте - 128 опубликованных в этом жанре игр. Однако по суммарному числу проданных копий игр этого жанра он располагается на втором месте - 170 940 000, под жанром Action, в котором опубликовано в 4 раза больше игр. "
   ]
  },
  {
   "cell_type": "markdown",
   "metadata": {},
   "source": [
    "<b> Шаг 4. Составляю портрет пользователя каждого региона </b>"
   ]
  },
  {
   "cell_type": "code",
   "execution_count": 50,
   "metadata": {},
   "outputs": [
    {
     "data": {
      "text/plain": [
       "<AxesSubplot:xlabel='na_sales', ylabel='platform'>"
      ]
     },
     "execution_count": 50,
     "metadata": {},
     "output_type": "execute_result"
    },
    {
     "data": {
      "image/png": "[encoded data removed]",
      "text/plain": [
       "<Figure size 432x288 with 1 Axes>"
      ]
     },
     "metadata": {
      "needs_background": "light"
     },
     "output_type": "display_data"
    }
   ],
   "source": [
    "# Строю столбчатую диаграмму, чтобы посмотреть самые популярные платформы в Северной Америке\n",
    "\n",
    "na_platform = last_data.pivot_table(index='platform', values='na_sales', aggfunc='sum').sort_values(by='na_sales', ascending=False)\n",
    "\n",
    "sns.barplot(data=na_platform, y=na_platform.index, x=na_platform.na_sales)"
   ]
  },
  {
   "cell_type": "code",
   "execution_count": 51,
   "metadata": {
    "scrolled": true
   },
   "outputs": [
    {
     "data": {
      "text/plain": [
       "platform\n",
       "PS4     98.61\n",
       "XOne    81.27\n",
       "X360    28.30\n",
       "3DS     22.64\n",
       "PS3     22.05\n",
       "Name: na_sales, dtype: float64"
      ]
     },
     "execution_count": 51,
     "metadata": {},
     "output_type": "execute_result"
    }
   ],
   "source": [
    "# Смотрю самые популярные платформы в Северной Америке\n",
    "\n",
    "last_data.groupby('platform')['na_sales'].sum().sort_values(ascending=False).head()"
   ]
  },
  {
   "cell_type": "code",
   "execution_count": 52,
   "metadata": {},
   "outputs": [
    {
     "data": {
      "text/plain": [
       "<AxesSubplot:xlabel='eu_sales', ylabel='platform'>"
      ]
     },
     "execution_count": 52,
     "metadata": {},
     "output_type": "execute_result"
    },
    {
     "data": {
      "image/png": "[encoded data removed]",
      "text/plain": [
       "<Figure size 432x288 with 1 Axes>"
      ]
     },
     "metadata": {
      "needs_background": "light"
     },
     "output_type": "display_data"
    }
   ],
   "source": [
    "# Строю столбчатую диаграмму, чтобы посмотреть самые популярные платформы в Европе\n",
    "\n",
    "eu_platform = last_data.pivot_table(index='platform', values='eu_sales', aggfunc='sum').sort_values(by='eu_sales', ascending=False)\n",
    "\n",
    "sns.barplot(data=eu_platform, y=eu_platform.index, x=eu_platform.eu_sales)"
   ]
  },
  {
   "cell_type": "code",
   "execution_count": 53,
   "metadata": {
    "scrolled": true
   },
   "outputs": [
    {
     "data": {
      "text/plain": [
       "platform\n",
       "PS4     130.04\n",
       "XOne     46.25\n",
       "PS3      25.54\n",
       "PC       17.97\n",
       "3DS      16.12\n",
       "Name: eu_sales, dtype: float64"
      ]
     },
     "execution_count": 53,
     "metadata": {},
     "output_type": "execute_result"
    }
   ],
   "source": [
    "# Смотрю самые популярные платформы в Европе\n",
    "\n",
    "last_data.groupby('platform')['eu_sales'].sum().sort_values(ascending=False).head()"
   ]
  },
  {
   "cell_type": "code",
   "execution_count": 54,
   "metadata": {},
   "outputs": [
    {
     "data": {
      "text/plain": [
       "<AxesSubplot:xlabel='jp_sales', ylabel='platform'>"
      ]
     },
     "execution_count": 54,
     "metadata": {},
     "output_type": "execute_result"
    },
    {
     "data": {
      "image/png": "[encoded data removed]",
      "text/plain": [
       "<Figure size 432x288 with 1 Axes>"
      ]
     },
     "metadata": {
      "needs_background": "light"
     },
     "output_type": "display_data"
    }
   ],
   "source": [
    "# Строю столбчатую диаграмму, чтобы посмотреть самые популярные платформы в Японии\n",
    "\n",
    "jp_platform = last_data.pivot_table(index='platform', values='jp_sales', aggfunc='sum').sort_values(by='jp_sales', ascending=False)\n",
    "\n",
    "sns.barplot(data=jp_platform, y=jp_platform.index, x=jp_platform.jp_sales)"
   ]
  },
  {
   "cell_type": "code",
   "execution_count": 55,
   "metadata": {
    "scrolled": false
   },
   "outputs": [
    {
     "data": {
      "text/plain": [
       "platform\n",
       "3DS     44.24\n",
       "PS4     15.02\n",
       "PSV     14.54\n",
       "PS3     11.22\n",
       "WiiU     7.31\n",
       "Name: jp_sales, dtype: float64"
      ]
     },
     "execution_count": 55,
     "metadata": {},
     "output_type": "execute_result"
    }
   ],
   "source": [
    "# Смотрю самые популярные платформы в Японии\n",
    "\n",
    "last_data.groupby('platform')['jp_sales'].sum().sort_values(ascending=False).head()"
   ]
  },
  {
   "cell_type": "markdown",
   "metadata": {},
   "source": [
    "Самой популярной платформой в Северной Америке является PS4 японской корпорации Sony. Для этой платформы было продано 98.61 млн. игровых копий. Покупатели в Северной Америке и Европе также отдают предпочтение и XOne, в отличие от и Японии, где эта платформа не входит в топ-5.\n",
    "\n",
    "Самой популярной платформой в Европе является PS4 японской корпорации Sony. Для этой платформы было продано 130.04 млн. игровых копий.\n",
    "\n",
    "Самой популярной платформой в Японии является 3DS японской корпорации Nintendo. Для этой платформы было продано 44.24 млн. игровых копий. При этом в Японии PC и XOne не входят в топ-5 платформ, в отличие от Европы и Северной Америки. Японцы отдают предпочтение платформам японского производства. Число продаж в Японии ниже, потому что значительно меньше население. \n"
   ]
  },
  {
   "cell_type": "code",
   "execution_count": 56,
   "metadata": {},
   "outputs": [
    {
     "data": {
      "text/plain": [
       "<AxesSubplot:xlabel='na_sales', ylabel='genre'>"
      ]
     },
     "execution_count": 56,
     "metadata": {},
     "output_type": "execute_result"
    },
    {
     "data": {
      "image/png": "[encoded data removed]",
      "text/plain": [
       "<Figure size 432x288 with 1 Axes>"
      ]
     },
     "metadata": {
      "needs_background": "light"
     },
     "output_type": "display_data"
    }
   ],
   "source": [
    "# Строю столбчатую диаграмму, чтобы посмотреть самые популярные жанры в Северной Америке\n",
    "\n",
    "na_genre = last_data.pivot_table(index='genre', values='na_sales', aggfunc='sum').sort_values(by='na_sales', ascending=False)\n",
    "\n",
    "sns.barplot(data=na_genre, y=na_genre.index, x=na_genre.na_sales)"
   ]
  },
  {
   "cell_type": "code",
   "execution_count": 57,
   "metadata": {
    "scrolled": false
   },
   "outputs": [
    {
     "data": {
      "text/plain": [
       "genre\n",
       "Shooter         79.02\n",
       "Action          72.53\n",
       "Sports          46.13\n",
       "Role-Playing    33.47\n",
       "Misc            15.05\n",
       "Name: na_sales, dtype: float64"
      ]
     },
     "execution_count": 57,
     "metadata": {},
     "output_type": "execute_result"
    }
   ],
   "source": [
    "# Смотрю самые популярные жанры в Северной Америке\n",
    "\n",
    "last_data.groupby('genre')['na_sales'].sum().sort_values(ascending=False).head()"
   ]
  },
  {
   "cell_type": "code",
   "execution_count": 58,
   "metadata": {},
   "outputs": [
    {
     "data": {
      "text/plain": [
       "<AxesSubplot:xlabel='eu_sales', ylabel='genre'>"
      ]
     },
     "execution_count": 58,
     "metadata": {},
     "output_type": "execute_result"
    },
    {
     "data": {
      "image/png": "[encoded data removed]",
      "text/plain": [
       "<Figure size 432x288 with 1 Axes>"
      ]
     },
     "metadata": {
      "needs_background": "light"
     },
     "output_type": "display_data"
    }
   ],
   "source": [
    "# Строю столбчатую диаграмму, чтобы посмотреть самые популярные жанры в Европе\n",
    "\n",
    "eu_genre = last_data.pivot_table(index='genre', values='eu_sales', aggfunc='sum').sort_values(by='eu_sales', ascending=False)\n",
    "\n",
    "sns.barplot(data=eu_genre, y=eu_genre.index, x=eu_genre.eu_sales)"
   ]
  },
  {
   "cell_type": "code",
   "execution_count": 59,
   "metadata": {
    "scrolled": false
   },
   "outputs": [
    {
     "data": {
      "text/plain": [
       "genre\n",
       "Action          74.68\n",
       "Shooter         65.52\n",
       "Sports          45.73\n",
       "Role-Playing    28.17\n",
       "Racing          14.13\n",
       "Name: eu_sales, dtype: float64"
      ]
     },
     "execution_count": 59,
     "metadata": {},
     "output_type": "execute_result"
    }
   ],
   "source": [
    "# Смотрю самые популярные жанры в Европе\n",
    "\n",
    "last_data.groupby('genre')['eu_sales'].sum().sort_values(ascending=False).head()"
   ]
  },
  {
   "cell_type": "code",
   "execution_count": 60,
   "metadata": {},
   "outputs": [
    {
     "data": {
      "text/plain": [
       "<AxesSubplot:xlabel='jp_sales', ylabel='genre'>"
      ]
     },
     "execution_count": 60,
     "metadata": {},
     "output_type": "execute_result"
    },
    {
     "data": {
      "image/png": "[encoded data removed]",
      "text/plain": [
       "<Figure size 432x288 with 1 Axes>"
      ]
     },
     "metadata": {
      "needs_background": "light"
     },
     "output_type": "display_data"
    }
   ],
   "source": [
    "# Строю столбчатую диаграмму, чтобы посмотреть самые популярные жанры в Японии\n",
    "\n",
    "jp_genre = last_data.pivot_table(index='genre', values='jp_sales', aggfunc='sum').sort_values(by='jp_sales', ascending=False)\n",
    "\n",
    "sns.barplot(data=jp_genre, y=jp_genre.index, x=jp_genre.jp_sales)"
   ]
  },
  {
   "cell_type": "code",
   "execution_count": 61,
   "metadata": {
    "scrolled": false
   },
   "outputs": [
    {
     "data": {
      "text/plain": [
       "genre\n",
       "Role-Playing    31.16\n",
       "Action          29.58\n",
       "Fighting         6.37\n",
       "Misc             5.61\n",
       "Shooter          4.87\n",
       "Name: jp_sales, dtype: float64"
      ]
     },
     "execution_count": 61,
     "metadata": {},
     "output_type": "execute_result"
    }
   ],
   "source": [
    "# Смотрю самые популярные жанры в Японии\n",
    "\n",
    "last_data.groupby('genre')['jp_sales'].sum().sort_values(ascending=False).head()"
   ]
  },
  {
   "cell_type": "markdown",
   "metadata": {},
   "source": [
    "Топ-4 жанров в Европе и Северной Америке не отличается:\n",
    "- Первое место в Северной Америке занимает жанр Shooter. Продано 79.02 млн. копий. В Европе первое место занимает жанр Action. Продано 74.68 млн. копий. \n",
    "- Второе место в Северной Америке занимает жанр Action. Продано 72.53 млн. копий. В Европе второе место занимает жанр Shooter. Продано 65.52 млн. копий.\n",
    "- Третье место в Европе и Северной Америке занимает жанр Sports. В Северной Америке продано 46.13 млн. копий. В Европе продано 45.73 млн. копий.\n",
    "- Четвертое место занимает жанр Role-Playing. В Северной Америке продано 33.47 млн. копий. В Европе продано 28.17 млн. копий.\n",
    "Это совпадение можно объяснить сходством культур.\n",
    "\n",
    "Топ-5 жанров в Японии значительно отличается от Европы и Северной Америки:\n",
    "- Первое место занимает жанр Role-Playing, продано 31.16 млн. копий. Это можно объяснить тем, что в Японии очень популярен жанр CRPG, точнее его японский вариант.\n",
    "\n",
    "- Второе место занимает жанр Action, который лидирует в Северной Америке и Европе, продано 29.58 млн. копий.  \n",
    "\n",
    "- Третье место занимает жанр Fighting, который не входит в топ-5 в Северной Америке и Европе, продано 6.37 млн. копий.\n",
    "\n",
    "- Четвертое место занимает жанр Misc, который занимает пятое место в Северной Америке и не входит в топ-5 в Европе, продано 5.61 млн. копий.\n",
    "\n",
    "- Пятое место занимает жанр Shooter, который занимает первое место в Северной Америке и второе - в Европе, продано 4.87 млн. копий.\n",
    "\n",
    "Интересно, что в топ-5 жанров всех регионов продажи жанров первого и второго мест всегда значительно больше остальных."
   ]
  },
  {
   "cell_type": "code",
   "execution_count": 62,
   "metadata": {
    "scrolled": false
   },
   "outputs": [
    {
     "data": {
      "text/plain": [
       "rating\n",
       "M          96.42\n",
       "unknown    64.72\n",
       "E          50.74\n",
       "T          38.95\n",
       "E10+       33.23\n",
       "Name: na_sales, dtype: float64"
      ]
     },
     "execution_count": 62,
     "metadata": {},
     "output_type": "execute_result"
    }
   ],
   "source": [
    "# Смотрю, как возрастной рейтинг влияет на число продаж в Северной Америке\n",
    "\n",
    "last_data.groupby('rating')['na_sales'].sum().sort_values(ascending=False).head()"
   ]
  },
  {
   "cell_type": "code",
   "execution_count": 63,
   "metadata": {},
   "outputs": [
    {
     "data": {
      "text/plain": [
       "<AxesSubplot:xlabel='na_sales', ylabel='rating'>"
      ]
     },
     "execution_count": 63,
     "metadata": {},
     "output_type": "execute_result"
    },
    {
     "data": {
      "image/png": "[encoded data removed]",
      "text/plain": [
       "<Figure size 432x288 with 1 Axes>"
      ]
     },
     "metadata": {
      "needs_background": "light"
     },
     "output_type": "display_data"
    }
   ],
   "source": [
    "na_rating = last_data.pivot_table(index='rating', values='na_sales', aggfunc='sum').sort_values(by='na_sales', ascending=False)\n",
    "\n",
    "sns.barplot(data=na_rating, y=na_rating.index, x=na_rating.na_sales)"
   ]
  },
  {
   "cell_type": "code",
   "execution_count": 64,
   "metadata": {
    "scrolled": true
   },
   "outputs": [
    {
     "data": {
      "text/plain": [
       "rating\n",
       "M          93.44\n",
       "unknown    58.95\n",
       "E          58.06\n",
       "T          34.07\n",
       "E10+       26.16\n",
       "Name: eu_sales, dtype: float64"
      ]
     },
     "execution_count": 64,
     "metadata": {},
     "output_type": "execute_result"
    }
   ],
   "source": [
    "# Смотрю, как возрастной рейтинг влияет на число продаж в Европе\n",
    "\n",
    "last_data.groupby('rating')['eu_sales'].sum().sort_values(ascending=False).head()"
   ]
  },
  {
   "cell_type": "code",
   "execution_count": 65,
   "metadata": {},
   "outputs": [
    {
     "data": {
      "text/plain": [
       "<AxesSubplot:xlabel='eu_sales', ylabel='rating'>"
      ]
     },
     "execution_count": 65,
     "metadata": {},
     "output_type": "execute_result"
    },
    {
     "data": {
      "image/png": "[encoded data removed]",
      "text/plain": [
       "<Figure size 432x288 with 1 Axes>"
      ]
     },
     "metadata": {
      "needs_background": "light"
     },
     "output_type": "display_data"
    }
   ],
   "source": [
    "eu_rating = last_data.pivot_table(index='rating', values='eu_sales', aggfunc='sum').sort_values(by='eu_sales', ascending=False)\n",
    "\n",
    "sns.barplot(data=eu_rating, y=eu_rating.index, x=eu_rating.eu_sales)"
   ]
  },
  {
   "cell_type": "code",
   "execution_count": 66,
   "metadata": {},
   "outputs": [
    {
     "data": {
      "text/plain": [
       "rating\n",
       "unknown    56.90\n",
       "T          14.78\n",
       "E           8.94\n",
       "M           8.01\n",
       "E10+        4.46\n",
       "Name: jp_sales, dtype: float64"
      ]
     },
     "execution_count": 66,
     "metadata": {},
     "output_type": "execute_result"
    }
   ],
   "source": [
    "# Смотрю, как возрастной рейтинг влияет на число продаж в Японии\n",
    "\n",
    "last_data.groupby('rating')['jp_sales'].sum().sort_values(ascending=False).head()"
   ]
  },
  {
   "cell_type": "code",
   "execution_count": 67,
   "metadata": {},
   "outputs": [
    {
     "data": {
      "text/plain": [
       "<AxesSubplot:xlabel='jp_sales', ylabel='rating'>"
      ]
     },
     "execution_count": 67,
     "metadata": {},
     "output_type": "execute_result"
    },
    {
     "data": {
      "image/png": "[encoded data removed]",
      "text/plain": [
       "<Figure size 432x288 with 1 Axes>"
      ]
     },
     "metadata": {
      "needs_background": "light"
     },
     "output_type": "display_data"
    }
   ],
   "source": [
    "jp_rating = last_data.pivot_table(index='rating', values='jp_sales', aggfunc='sum').sort_values(by='jp_sales', ascending=False)\n",
    "\n",
    "sns.barplot(data=jp_rating, y=jp_rating.index, x=jp_rating.jp_sales)"
   ]
  },
  {
   "cell_type": "markdown",
   "metadata": {},
   "source": [
    "О влиянии возрастных рейтингов можно сказать следующее:\n",
    "\n",
    "- В Северной Америке и Европе наибольшей популярностью пользуются игры с рейтингом \"для взрослых\" - M. В Северной Америке продано 96.42 млн. копий. В Европе продано 93.44 млн. копий.\n",
    "\n",
    "- На втором месте и в Северной Америке и в Европе игры с неизвестным рейтингом - Е. В Северной Америке продано 64.72 млн. копий. В Европе продано 58.95 млн. копий.\n",
    "\n",
    "- В Японии же игры с рейтингом \"для взрослых\" - M - пользуются значительно меньшей популярностью и стоят только на четвертом месте. Продано 8.01 млн. копий. Лидирующую позицию в Японии занимают игры с неизвестным рейтингом. Продано 56.90 млн. копий. На втором месте игры с рейтингом для подростков - Т. Продано 14.78 млн. копий. На третьем месте игры с рейтингом для всех - Е. Продано 8.94 млн. копий. При этом между нет существенного различия в числе проданных копий, в отличие от Северной Америке и Европы.\n",
    "\n",
    "Таким образом, возрастные ограничения влияют только на продажи в Японии, хотя, более вероятно, что в Японии более популярен бренд Nintendo, который специализируется на играх с рейтингом Е и T, и тогда можно сказать, что возрастные ограничения влияют скорее на принятие решений в компаниях по разработке тех или иных игр.\n",
    "\n",
    "Однако для формулирования точных выводов необходимо провести дополнительное исследование данных без такого значительного количества пропусков. Значение unknown может рассредотачиваться равномерно, а может тяготеть к какому-то конкретному возрастному рейтингу, и тогда выводы будут совершенно другими."
   ]
  },
  {
   "cell_type": "markdown",
   "metadata": {},
   "source": [
    "<b> Шаг 5. Проверяю гипотезы </b>"
   ]
  },
  {
   "cell_type": "markdown",
   "metadata": {},
   "source": [
    "Первая двусторонняя гипотеза:\n",
    "\n",
    "   - H0 Средние пользовательские рейтинги платформ Xbox One и PC одинаковые;\n",
    "\n",
    "\n",
    "   - H1 Средние пользовательские рейтинги платформ Xbox One и PC различаются.\n",
    "   \n",
    "Вторая двусторонняя гипотеза:\n",
    "\n",
    " - H0 Средние пользовательские рейтинги жанров Action (англ. «действие», экшен-игры) и Sports (англ. «спортивные соревнования») разные;\n",
    " \n",
    " \n",
    " - H1 Средние пользовательские рейтинги жанров Action (англ. «действие», экшен-игры) и Sports (англ. «спортивные соревнования») одинаковы."
   ]
  },
  {
   "cell_type": "code",
   "execution_count": 68,
   "metadata": {},
   "outputs": [
    {
     "name": "stdout",
     "output_type": "stream",
     "text": [
      "p-значение: 0.10450507919348415\n",
      "Не получилось отвергнуть нулевую гипотезу\n"
     ]
    }
   ],
   "source": [
    "# Проверяю гипотезу о равенстве средних пользовательских рейтингов платформ Xbox One и PC\n",
    "\n",
    "xbox_rating = last_data.query('platform == \"XOne\"')['user_score'].dropna()\n",
    "\n",
    "pc_rating = last_data.query('platform == \"PC\"')['user_score'].dropna()\n",
    "\n",
    "alpha = 0.05\n",
    "\n",
    "results = st.ttest_ind(xbox_rating, pc_rating)\n",
    "\n",
    "print('p-значение:', results.pvalue)\n",
    "\n",
    "if results.pvalue < alpha:\n",
    "    print(\"Отвергаем нулевую гипотезу\")\n",
    "else:\n",
    "    print(\"Не получилось отвергнуть нулевую гипотезу\")\n",
    "    "
   ]
  },
  {
   "cell_type": "markdown",
   "metadata": {},
   "source": [
    "Значение p-value показывает, что вероятность случайно получить такое или большее различие равно почти 63%. Это  слишком большая вероятность, чтобы делать вывод о значимом различии между пользовательскими рейтингами платформ Xbox One и PC."
   ]
  },
  {
   "cell_type": "code",
   "execution_count": 69,
   "metadata": {
    "scrolled": true
   },
   "outputs": [
    {
     "name": "stdout",
     "output_type": "stream",
     "text": [
      "p-значение: 2.8711147985105864e-19\n",
      "Не получилось отвергнуть нулевую гипотезу\n"
     ]
    }
   ],
   "source": [
    "# Проверяю гипотезу о различии средних пользовательских рейтингов жанров Action и Sports\n",
    "\n",
    "action_rating = last_data.query('genre == \"Action\"')['user_score'].dropna()\n",
    "\n",
    "sports_rating = last_data.query('genre == \"Sports\"')['user_score'].dropna()\n",
    "\n",
    "alpha = 0.05\n",
    "\n",
    "results = st.ttest_ind(action_rating, sports_rating)\n",
    "\n",
    "print('p-значение:', results.pvalue)\n",
    "\n",
    "if results.pvalue < alpha:\n",
    "    print(\"Не получилось отвергнуть нулевую гипотезу\")\n",
    "else:\n",
    "    print(\"Отвергаем нулевую гипотезу\")"
   ]
  },
  {
   "cell_type": "markdown",
   "metadata": {},
   "source": [
    "Значение p-value показывает, что вероятность случайно получить такое или большее различие крайне мала, поэтому можно говорить о том, что средние пользовательские рейтинги жанров Action и Sports действительно различаются."
   ]
  },
  {
   "cell_type": "markdown",
   "metadata": {},
   "source": [
    "<b> Шаг 6. Вывод </b>"
   ]
  },
  {
   "cell_type": "markdown",
   "metadata": {},
   "source": [
    "<b> 1) Результаты исследовательского анализа данных. </b>\n",
    "\n",
    "Анализ рынка видеоигр за 1980-2016 гг. показал следующее:\n",
    "\n",
    "- Количество проданных копий видеоигр в период с 1980 по 1993 гг. включительно не превышает 60 000 000. К тому же данный период не является достаточно важным ещё и потому, что молодая индустрия видеоигр только формировалась в то время, и многие закономерности современного рынка видеоигр могли появиться позднее.\n",
    "\n",
    "- Игры для самых популярных платформ могли выходить на протяжении от 10 до 13 лет. Исключение составляет персональный компьютер, для которого игры выходят 26 лет из 37.\n",
    "\n",
    "- Платформы зачастую существуют около 7 лет, после чего их сменяют другие. Для такой быстроразвивающийся индустрии 3 года - наиболее подходящий актуальный период, поэтому, чтобы построить прогноз на 2017 год, берем данные за последние 3 года.\n",
    "\n",
    "- По числу продаж лидируют на 2016 год PS4, XOne и 3DS. При этом продажи на всех платформх падают по сравнению с 2015 годом, который оказался наиболее прибыльным для PS4 и XOne, их продажи возрастали с 2013 по 2015 годы и резко упали в 2016 году. XOne - на 34 миллиона копий и PS4 на 49,65 миллионов копий. Продажи 3DS падают с 2013 года. На четвертом месте в топ-5 платформ - PC, который в 2016 году также переживает спад 5,25 миллионов копий в 2016 году по сравнению с 8,52 миллионами проданных копий в 2015 году, при этом в отличие от PS4 и XOne продажи на PC падают с 2014 года. Замыкает топ-5 платформа WiiU, продажи на которую упали более чем в 3 раза, больше, чем у PS4, XOne, 3DS и PC: 4,6 миллионов проданных копий в 2016 году по сравнению с 16.35 миллионами в 2015 году; продажи WiiU на так же как и на 3DS и PC падают с 2014 года.\n",
    "\n",
    "Были также подробно проанализированны значения самых популярных платформ на 2016 год PS4, XOne, 3DS, PC, WiiU:\n",
    "\n",
    "- Самой высокой вариативностью по числу проданных копий из топ-5 платформ обладает PS4, XOne и WiiU, вариантивность в количестве продаж у них значительно выше, чем у 3DS и PC. При этом у большинства платформ на графике медиана смещена первому квартилю, что говорит о том, что игры по своей успешности распределяются неравномерно и существует большое количество менее успешных игр и меньшее количество мегауспешных игр, которые оттягивают третий квартиль вверх.\n",
    "\n",
    "- 75% выпущенных для PS4 игр по числу проданных копий не превышают 690 000, 50% не превышают 185 000.\n",
    "\n",
    "- 75% выпущенных для XOne игр по числу проданных копий не превышают 632 500, 50% не превышают 205 000. Стоит отметить, что в данных об XOne значительно меньше выбросов и самая успешная игра по числу проданных копий в два раза уступает самой успешной игре на PS4.\n",
    "\n",
    "- 75% выпущенных для 3DS игр по числу проданных копий не превышают 250 000, 50% не превышают 90 000. Однако при менее высоких показателях большинства игр для 3DS были выпущены такие игры, которые по популярности не уступают релизам на PS4: максимальное значение проданных копий за одну игру - 11 680 000, что значительно превышает показатели самой успешной игры для XOne - 7 390 000.\n",
    "\n",
    "Исследование корреляции между оценками пользователей и критиков и продажами игр на для PS4 показало:\n",
    "\n",
    "- Корреляции между оценками пользователей и числом проданных копий нет.\n",
    "\n",
    "- Существует слабая корреляция между оценками критиков и числом проданных копий. Коэффициент корреляции - 0.4. При этом важно отметить, что вторая по продажам на ps4 игра Grand Theft Auto V имеет самую высокую оценку критиков - 97 из 100.\n",
    "\n",
    "Показатели корреляции в случае релизов для XOne совпадают с играми выпущенными для PS4:\n",
    "\n",
    "- Корреляции между оценками пользователей и числом проданных копий нет.\n",
    "\n",
    "- Существует слабая корреляция между оценками критиков и числом проданных копий. Коэффициент корреляции также составляет 0.4.\n",
    "\n",
    "Показатели корреляции в случае релизов для 3DS отличаются PS4 и XOne:\n",
    "\n",
    "- Существует слабая корреляция между оценками пользователей и числом проданных копий. Коэффициент корреляции - 0.2. Компания Nintendo знаменита в видеоигровой индустрии тем, что ей удалось сформировать преданное сообщество игроков. Поэтому, возможно, что отличается именно сама пользовательская база.\n",
    "\n",
    "- Существует слабая корреляция между оценками критиков и числом проданных копий, причем она нииже, чем у PS4 и XOne. Коэффициент корреляции составляет 0.34.\n",
    "\n",
    "Исследование корреляции между оценками пользователей и критиков и продажами игр для остальных платформ показало следующие результаты:\n",
    "\n",
    "- Корреляция между оценками пользователей и числом проданных копий на WiiU: 0.4079264579217078\n",
    "- Корреляция между оценками критиков и числом проданных копий на WiiU: 0.370201412480884\n",
    "\n",
    "- Корреляция между оценками пользователей и числом проданных копий на PS3: -0.16676141347662116\n",
    "- Корреляция между оценками критиков и числом проданных копий на PS3: 0.44657460493190704\n",
    "\n",
    "- Корреляция между оценками пользователей и числом проданных копий на X360: -0.138444570945665\n",
    "- Корреляция между оценками критиков и числом проданных копий на X360: 0.5257228356581523\n",
    "\n",
    "- Корреляция между оценками пользователей и числом проданных копий на PC: -0.07159665703472452\n",
    "- Корреляция между оценками критиков и числом проданных копий на PC: 0.17463413769350036\n",
    "\n",
    "- Корреляция между оценками пользователей и числом проданных копий на Wii: 1.0\n",
    "- Корреляция между оценками критиков и числом проданных копий на Wii: nan\n",
    "\n",
    "- Корреляция между оценками пользователей и числом проданных копий на PSV: -0.16845504978064446\n",
    "- Корреляция между оценками критиков и числом проданных копий на PSV: 0.04266490657009526\n",
    "\n",
    "Таким образом, в случае всех этих платформ, кроме PSV и PS2, существует слабая корреляция между оценками критиков и числом проданных копий. При этом ближайшими платформами к PS4 и XOne по коэффициенту данной корреляции являются их консоли-\"предшественники\" PS3 и X360.\n",
    "\n",
    "Самые высокие коэффициенты корреляции между оценками пользователей и числом проданных копий можно наблюдать у консолей той же компании Nintendo. В отличие от других платформ в их случае можно говорить о существовании слабой корреляции:\n",
    "\n",
    "- на DS коэффициент корреляции - 0.2\n",
    "- на WiiU самый высокий коэффициент корреляции между этими показателями - 0.4\n",
    "\n",
    "Исследование продаж игр по жанрам показало следующие результаты:\n",
    "\n",
    "По медианному значению количества проданных копий жанры распределяются следующим образом:\n",
    "По медианному значению количества проданных копий жанры распределяются следующим образом:\n",
    "\n",
    "- Самым продаваемым является жанр Shooter. Медианное значение количества продаж для данного жанра - 515 000, что превышает более чем в два раза медианные значения других жанров.\n",
    "\n",
    "- На втором месте по медианному значению продаж жанр Sports. Медианное значение количества продаж для данного жанра - 180 000.\n",
    "\n",
    "- На третьем месте по медианному значению продаж жанр Platform. Медианное значение количества продаж для данного жанра - 140 000.\n",
    "\n",
    "По количеству выпущенных игр жанры распределяются следующим образом:\n",
    "- Самым популярным среди разработчиков игр является жанр Action. В этом жанре за последние три года выпустили 619 игр. Благодаря этому жанр Action также лидирует по суммарному числу проданных игровых копий - 557 800 000\n",
    "\n",
    "- На втором месте по популярности среди разработчиков - жанр Role-Playing. В этом жанре за последние три года выпустили 221 игру что почти в три раза уступает количеству игр в жанре Action. При этом по суммарному числу проданных игровых копий жанр Role-Playing занимает четвертое - 101 440 000.\n",
    "\n",
    "- На третьем месте по популярности среди разработчиков - жанр Adventure. В этом жанре за последние три года выпустили 185 игр, что также в три раза меньше количества игр в жанре Action. При этом по суммарному числу проданных игровых копий жанр Adventure занимает девятое место - 17 550 000.    \n",
    "\n",
    "- На четвертом месте по популярности среди разработчиков - жанр Sports. В этом жанре за последние три года выпустили 161 игру что также более чем в три раза меньше количества игр в жанре Action. При этом по суммарному числу проданных игровых копий жанр Sports занимает третье место - 109 480 000.\n",
    "\n",
    "Аномальным является жанр Shooter, поскольку по популярности среди разработчиков он на пятом месте - 128 опубликованных в этом жанре игр. Однако по суммарному числу проданных копий игр этого жанра он располагается на втором месте - 170 940 000, под жанром Action, в котором опубликовано в 4 раза больше игр. \n",
    "\n",
    "<b> 2) Результаты составления портрета пользователя для каждого региона (Северная Америка, Европа, Япония). </b>\n",
    "\n",
    "Анализ популярности игровых платформ в регионах показал:\n",
    "\n",
    "- Самой популярной платформой в Северной Америке является PS4 японской корпорации Sony. Для этой платформы было продано 98.61 млн. игровых копий. Покупатели в Северной Америке и Европе также отдают предпочтение и XOne, в отличие от и Японии, где эта платформа не входит в топ-5.\n",
    "\n",
    "- Самой популярной платформой в Европе является PS4 японской корпорации Sony. Для этой платформы было продано 130.04 млн. игровых копий.\n",
    "\n",
    "- Самой популярной платформой в Японии является 3DS японской корпорации Nintendo. Для этой платформы было продано 44.24 млн. игровых копий. При этом в Японии PC и XOne не входят в топ-5 платформ, в отличие от Европы и Северной Америки. Японцы отдают предпочтение платформам японского производства. Число продаж в Японии ниже, потому что значительно меньше население. \n",
    "\n",
    "\n",
    "\n",
    "Анализ популярности игровых жанров в регионах показал:\n",
    "\n",
    "Топ-4 жанров в Европе и Северной Америке не отличается:\n",
    "- Первое место в Северной Америке занимает жанр Shooter. Продано 79.02 млн. копий. В Европе первое место занимает жанр Action. Продано 74.68 млн. копий. \n",
    "- Второе место в Северной Америке занимает жанр Action. Продано 72.53 млн. копий. В Европе второе место занимает жанр Shooter. Продано 65.52 млн. копий.\n",
    "- Третье место в Европе и Северной Америке занимает жанр Sports. В Северной Америке продано 46.13 млн. копий. В Европе продано 45.73 млн. копий.\n",
    "- Четвертое место занимает жанр Role-Playing. В Северной Америке продано 33.47 млн. копий. В Европе продано 28.17 млн. копий.\n",
    "Это совпадение можно объяснить сходством культур.\n",
    "\n",
    "Топ-5 жанров в Японии значительно отличается от Европы и Северной Америки:\n",
    "- Первое место занимает жанр Role-Playing, продано 31.16 млн. копий. Это можно объяснить тем, что в Японии очень популярен жанр CRPG, точнее его японский вариант.\n",
    "\n",
    "- Второе место занимает жанр Action, который лидирует в Северной Америке и Европе, продано 29.58 млн. копий.  \n",
    "\n",
    "- Третье место занимает жанр Fighting, который не входит в топ-5 в Северной Америке и Европе, продано 6.37 млн. копий.\n",
    "\n",
    "- Четвертое место занимает жанр Misc, который занимает пятое место в Северной Америке и не входит в топ-5 в Европе, продано 5.61 млн. копий.\n",
    "\n",
    "- Пятое место занимает жанр Shooter, который занимает первое место в Северной Америке и второе - в Европе, продано 4.87 млн. копий.\n",
    "\n",
    "Интересно, что в топ-5 жанров всех регионов продажи жанров первого и второго мест всегда значительно больше остальных.\n",
    "\n",
    "\n",
    "Анализ влияния возрастных рейтингов на популярность игр в разных регионах показал:\n",
    "\n",
    "О влиянии возрастных рейтингов можно сказать следующее:\n",
    "\n",
    "- В Северной Америке и Европе наибольшей популярностью пользуются игры с рейтингом \"для взрослых\" - M. В Северной Америке продано 96.42 млн. копий. В Европе продано 93.44 млн. копий.\n",
    "\n",
    "- На втором месте и в Северной Америке и в Европе игры с неизвестным рейтингом - Е. В Северной Америке продано 64.72 млн. копий. В Европе продано 58.95 млн. копий.\n",
    "\n",
    "- В Японии же игры с рейтингом \"для взрослых\" - M - пользуются значительно меньшей популярностью и стоят только на четвертом месте. Продано 8.01 млн. копий. Лидирующую позицию в Японии занимают игры с неизвестным рейтингом. Продано 56.90 млн. копий. На втором месте игры с рейтингом для подростков - Т. Продано 14.78 млн. копий. На третьем месте игры с рейтингом для всех - Е. Продано 8.94 млн. копий. При этом между нет существенного различия в числе проданных копий, в отличие от Северной Америке и Европы.\n",
    "\n",
    "Таким образом, возрастные ограничения влияют только на продажи в Японии, хотя, более вероятно, что в Японии более популярен бренд Nintendo, который специализируется на играх с рейтингом Е и T, и тогда можно сказать, что возрастные ограничения влияют скорее на принятие решений в компаниях по разработке тех или иных игр.\n",
    "\n",
    "Однако для формулирования точных выводов необходимо провести дополнительное исследование данных без такого значительного количества пропусков. Значение unknown может рассредотачиваться равномерно, а может тяготеть к какому-то конкретному возрастному рейтингу, и тогда выводы будут совершенно другими.\n",
    "\n",
    "<b> 3) Результаты проверки гипотез: </b>\n",
    "\n",
    "Первую гипотезу о том, что средние пользовательские рейтинги платформ Xbox One и PC одинаковые не удалось отвергнуть. Значение p-value показало, что вероятность случайно получить такое или большее различие равно почти 63%. Это слишком большая вероятность, чтобы делать вывод о значимом различии между пользовательскими рейтингами платформ Xbox One и PC.\n",
    "\n",
    "Вторую гипотезу о том, что средние пользовательские рейтинги жанров Action (англ. «действие», экшен-игры) и Sports (англ. «спортивные соревнования») разные также не удалось отвергнуть. Значение p-value показало, что вероятность случайно получить такое или большее различие крайне мала, поэтому можно говорить о том, что средние пользовательские рейтинги жанров Action и Sports действительно различаются.\n",
    "\n"
   ]
  },
  {
   "cell_type": "code",
   "execution_count": null,
   "metadata": {},
   "outputs": [],
   "source": []
  }
 ],
 "metadata": {
  "ExecuteTimeLog": [
   {
    "duration": 397,
    "start_time": "2022-11-08T17:49:55.163Z"
   },
   {
    "duration": 178,
    "start_time": "2022-11-08T17:50:37.223Z"
   },
   {
    "duration": 25,
    "start_time": "2022-11-08T17:50:47.338Z"
   },
   {
    "duration": 734,
    "start_time": "2022-11-08T17:51:25.762Z"
   },
   {
    "duration": 507,
    "start_time": "2022-11-08T17:51:33.245Z"
   },
   {
    "duration": 14,
    "start_time": "2022-11-08T17:51:49.335Z"
   },
   {
    "duration": 12,
    "start_time": "2022-11-08T17:51:52.543Z"
   },
   {
    "duration": 53,
    "start_time": "2022-11-08T18:50:20.113Z"
   },
   {
    "duration": 81,
    "start_time": "2022-11-08T18:53:15.544Z"
   },
   {
    "duration": 56,
    "start_time": "2022-11-08T18:53:39.539Z"
   },
   {
    "duration": 11,
    "start_time": "2022-11-08T18:54:43.839Z"
   },
   {
    "duration": 7,
    "start_time": "2022-11-08T18:58:28.394Z"
   },
   {
    "duration": 7,
    "start_time": "2022-11-08T18:58:42.990Z"
   },
   {
    "duration": 7,
    "start_time": "2022-11-08T18:59:57.653Z"
   },
   {
    "duration": 5,
    "start_time": "2022-11-08T19:00:11.185Z"
   },
   {
    "duration": 47,
    "start_time": "2022-11-08T19:00:11.560Z"
   },
   {
    "duration": 19,
    "start_time": "2022-11-08T19:00:12.097Z"
   },
   {
    "duration": 12,
    "start_time": "2022-11-08T19:00:12.544Z"
   },
   {
    "duration": 16,
    "start_time": "2022-11-08T19:00:13.768Z"
   },
   {
    "duration": 16,
    "start_time": "2022-11-08T19:01:42.010Z"
   },
   {
    "duration": 12,
    "start_time": "2022-11-08T19:01:49.798Z"
   },
   {
    "duration": 21,
    "start_time": "2022-11-08T19:01:50.975Z"
   },
   {
    "duration": 15,
    "start_time": "2022-11-08T19:02:09.421Z"
   },
   {
    "duration": 14,
    "start_time": "2022-11-08T19:04:55.768Z"
   },
   {
    "duration": 295,
    "start_time": "2022-11-08T19:09:10.984Z"
   },
   {
    "duration": 16,
    "start_time": "2022-11-08T19:09:23.286Z"
   },
   {
    "duration": 9,
    "start_time": "2022-11-08T19:16:08.890Z"
   },
   {
    "duration": 8,
    "start_time": "2022-11-08T19:16:11.362Z"
   },
   {
    "duration": 7,
    "start_time": "2022-11-08T19:17:49.588Z"
   },
   {
    "duration": 3,
    "start_time": "2022-11-08T19:17:57.129Z"
   },
   {
    "duration": 55,
    "start_time": "2022-11-08T19:17:57.133Z"
   },
   {
    "duration": 19,
    "start_time": "2022-11-08T19:17:57.189Z"
   },
   {
    "duration": 14,
    "start_time": "2022-11-08T19:17:57.210Z"
   },
   {
    "duration": 14,
    "start_time": "2022-11-08T19:17:57.226Z"
   },
   {
    "duration": 27,
    "start_time": "2022-11-08T19:17:57.241Z"
   },
   {
    "duration": 10,
    "start_time": "2022-11-08T19:24:36.100Z"
   },
   {
    "duration": 15,
    "start_time": "2022-11-08T19:25:05.568Z"
   },
   {
    "duration": 7,
    "start_time": "2022-11-08T19:25:12.891Z"
   },
   {
    "duration": 6,
    "start_time": "2022-11-08T19:31:19.585Z"
   },
   {
    "duration": 9,
    "start_time": "2022-11-08T19:34:36.596Z"
   },
   {
    "duration": 6,
    "start_time": "2022-11-08T19:34:40.264Z"
   },
   {
    "duration": 9,
    "start_time": "2022-11-08T19:34:41.336Z"
   },
   {
    "duration": 10,
    "start_time": "2022-11-08T19:35:07.074Z"
   },
   {
    "duration": 7,
    "start_time": "2022-11-08T19:35:07.724Z"
   },
   {
    "duration": 4,
    "start_time": "2022-11-08T19:37:59.048Z"
   },
   {
    "duration": 16,
    "start_time": "2022-11-08T19:38:06.827Z"
   },
   {
    "duration": 4,
    "start_time": "2022-11-08T19:38:39.761Z"
   },
   {
    "duration": 16,
    "start_time": "2022-11-08T19:38:40.359Z"
   },
   {
    "duration": 5,
    "start_time": "2022-11-08T19:39:30.568Z"
   },
   {
    "duration": 17,
    "start_time": "2022-11-08T19:39:31.757Z"
   },
   {
    "duration": 57,
    "start_time": "2022-11-08T19:40:56.540Z"
   },
   {
    "duration": 43,
    "start_time": "2022-11-08T19:41:08.644Z"
   },
   {
    "duration": 8,
    "start_time": "2022-11-08T19:42:24.970Z"
   },
   {
    "duration": 7,
    "start_time": "2022-11-08T19:42:35.211Z"
   },
   {
    "duration": 7,
    "start_time": "2022-11-08T19:43:13.168Z"
   },
   {
    "duration": 15,
    "start_time": "2022-11-08T20:01:03.648Z"
   },
   {
    "duration": 14,
    "start_time": "2022-11-08T20:01:19.660Z"
   },
   {
    "duration": 8,
    "start_time": "2022-11-08T20:02:02.280Z"
   },
   {
    "duration": 7,
    "start_time": "2022-11-08T20:02:17.578Z"
   },
   {
    "duration": 8,
    "start_time": "2022-11-08T20:02:34.618Z"
   },
   {
    "duration": 43,
    "start_time": "2022-11-08T20:02:50.149Z"
   },
   {
    "duration": 22,
    "start_time": "2022-11-08T20:03:30.460Z"
   },
   {
    "duration": 9,
    "start_time": "2022-11-08T20:06:51.859Z"
   },
   {
    "duration": 8,
    "start_time": "2022-11-08T20:07:12.963Z"
   },
   {
    "duration": 11,
    "start_time": "2022-11-08T20:07:18.547Z"
   },
   {
    "duration": 14,
    "start_time": "2022-11-08T20:07:41.119Z"
   },
   {
    "duration": 10,
    "start_time": "2022-11-08T20:07:41.758Z"
   },
   {
    "duration": 13,
    "start_time": "2022-11-08T20:08:02.407Z"
   },
   {
    "duration": 11,
    "start_time": "2022-11-08T20:08:02.811Z"
   },
   {
    "duration": 17,
    "start_time": "2022-11-08T20:08:36.590Z"
   },
   {
    "duration": 7,
    "start_time": "2022-11-08T20:11:12.411Z"
   },
   {
    "duration": 8,
    "start_time": "2022-11-08T20:11:28.000Z"
   },
   {
    "duration": 7,
    "start_time": "2022-11-08T20:11:51.550Z"
   },
   {
    "duration": 5,
    "start_time": "2022-11-08T20:11:56.058Z"
   },
   {
    "duration": 13,
    "start_time": "2022-11-08T20:12:04.968Z"
   },
   {
    "duration": 7,
    "start_time": "2022-11-08T20:12:05.208Z"
   },
   {
    "duration": 26,
    "start_time": "2022-11-08T20:12:18.961Z"
   },
   {
    "duration": 124,
    "start_time": "2022-11-08T20:13:54.659Z"
   },
   {
    "duration": 2745,
    "start_time": "2022-11-08T20:15:41.040Z"
   },
   {
    "duration": 3392,
    "start_time": "2022-11-08T20:15:57.341Z"
   },
   {
    "duration": 3220,
    "start_time": "2022-11-08T20:16:10.699Z"
   },
   {
    "duration": 32,
    "start_time": "2022-11-08T20:17:24.552Z"
   },
   {
    "duration": 6,
    "start_time": "2022-11-08T20:17:54.605Z"
   },
   {
    "duration": 3004,
    "start_time": "2022-11-08T20:17:55.679Z"
   },
   {
    "duration": 20980,
    "start_time": "2022-11-08T20:21:52.721Z"
   },
   {
    "duration": 11,
    "start_time": "2022-11-08T20:24:35.896Z"
   },
   {
    "duration": 16,
    "start_time": "2022-11-08T20:26:12.503Z"
   },
   {
    "duration": 12,
    "start_time": "2022-11-08T20:26:20.282Z"
   },
   {
    "duration": 9,
    "start_time": "2022-11-08T20:28:16.320Z"
   },
   {
    "duration": 6,
    "start_time": "2022-11-08T20:28:25.391Z"
   },
   {
    "duration": 6,
    "start_time": "2022-11-08T20:29:20.997Z"
   },
   {
    "duration": 7,
    "start_time": "2022-11-08T20:29:35.124Z"
   },
   {
    "duration": 5,
    "start_time": "2022-11-08T20:30:10.666Z"
   },
   {
    "duration": 6,
    "start_time": "2022-11-08T20:30:19.537Z"
   },
   {
    "duration": 6,
    "start_time": "2022-11-08T20:30:34.292Z"
   },
   {
    "duration": 7,
    "start_time": "2022-11-08T20:31:03.136Z"
   },
   {
    "duration": 4,
    "start_time": "2022-11-08T20:33:43.823Z"
   },
   {
    "duration": 8,
    "start_time": "2022-11-08T20:33:50.422Z"
   },
   {
    "duration": 4,
    "start_time": "2022-11-08T20:34:11.436Z"
   },
   {
    "duration": 8,
    "start_time": "2022-11-08T20:35:19.749Z"
   },
   {
    "duration": 3,
    "start_time": "2022-11-08T20:35:33.587Z"
   },
   {
    "duration": 4,
    "start_time": "2022-11-08T20:35:41.607Z"
   },
   {
    "duration": 4,
    "start_time": "2022-11-08T20:38:06.020Z"
   },
   {
    "duration": 3,
    "start_time": "2022-11-08T20:39:06.981Z"
   },
   {
    "duration": 756,
    "start_time": "2022-11-08T20:40:18.433Z"
   },
   {
    "duration": 715,
    "start_time": "2022-11-08T20:40:45.818Z"
   },
   {
    "duration": 32,
    "start_time": "2022-11-08T20:40:55.720Z"
   },
   {
    "duration": 8,
    "start_time": "2022-11-08T20:40:56.300Z"
   },
   {
    "duration": 6,
    "start_time": "2022-11-08T20:40:56.873Z"
   },
   {
    "duration": 4,
    "start_time": "2022-11-08T20:40:57.446Z"
   },
   {
    "duration": 903,
    "start_time": "2022-11-08T20:40:58.023Z"
   },
   {
    "duration": 8,
    "start_time": "2022-11-08T20:41:36.449Z"
   },
   {
    "duration": 703,
    "start_time": "2022-11-08T20:41:49.479Z"
   },
   {
    "duration": 3,
    "start_time": "2022-11-08T20:41:58.552Z"
   },
   {
    "duration": 51,
    "start_time": "2022-11-08T20:41:58.557Z"
   },
   {
    "duration": 23,
    "start_time": "2022-11-08T20:41:58.610Z"
   },
   {
    "duration": 18,
    "start_time": "2022-11-08T20:41:58.635Z"
   },
   {
    "duration": 13,
    "start_time": "2022-11-08T20:41:58.656Z"
   },
   {
    "duration": 18,
    "start_time": "2022-11-08T20:41:58.671Z"
   },
   {
    "duration": 9,
    "start_time": "2022-11-08T20:41:58.690Z"
   },
   {
    "duration": 10,
    "start_time": "2022-11-08T20:41:58.700Z"
   },
   {
    "duration": 7,
    "start_time": "2022-11-08T20:41:58.711Z"
   },
   {
    "duration": 6,
    "start_time": "2022-11-08T20:41:58.720Z"
   },
   {
    "duration": 45,
    "start_time": "2022-11-08T20:41:58.727Z"
   },
   {
    "duration": 10,
    "start_time": "2022-11-08T20:41:58.774Z"
   },
   {
    "duration": 32,
    "start_time": "2022-11-08T20:41:58.786Z"
   },
   {
    "duration": 6,
    "start_time": "2022-11-08T20:41:58.820Z"
   },
   {
    "duration": 8,
    "start_time": "2022-11-08T20:41:58.828Z"
   },
   {
    "duration": 32,
    "start_time": "2022-11-08T20:41:58.837Z"
   },
   {
    "duration": 770,
    "start_time": "2022-11-08T20:41:58.870Z"
   },
   {
    "duration": 11,
    "start_time": "2022-11-08T20:43:21.249Z"
   },
   {
    "duration": 3,
    "start_time": "2022-11-08T20:44:15.796Z"
   },
   {
    "duration": 11,
    "start_time": "2022-11-08T20:44:24.397Z"
   },
   {
    "duration": 132,
    "start_time": "2022-11-08T20:44:31.055Z"
   },
   {
    "duration": 4583,
    "start_time": "2022-11-08T20:46:18.747Z"
   },
   {
    "duration": 3079,
    "start_time": "2022-11-08T20:46:31.151Z"
   },
   {
    "duration": 389,
    "start_time": "2022-11-08T20:46:47.573Z"
   },
   {
    "duration": 69,
    "start_time": "2022-11-08T20:49:26.669Z"
   },
   {
    "duration": 6,
    "start_time": "2022-11-08T20:49:31.402Z"
   },
   {
    "duration": 5,
    "start_time": "2022-11-08T20:50:52.384Z"
   },
   {
    "duration": 29,
    "start_time": "2022-11-08T20:56:11.041Z"
   },
   {
    "duration": 6,
    "start_time": "2022-11-08T21:32:49.500Z"
   },
   {
    "duration": 11,
    "start_time": "2022-11-08T21:32:55.509Z"
   },
   {
    "duration": 5,
    "start_time": "2022-11-08T21:34:30.585Z"
   },
   {
    "duration": 12,
    "start_time": "2022-11-08T21:34:30.957Z"
   },
   {
    "duration": 12,
    "start_time": "2022-11-08T21:36:27.305Z"
   },
   {
    "duration": 42,
    "start_time": "2022-11-08T21:38:26.967Z"
   },
   {
    "duration": 255,
    "start_time": "2022-11-08T21:38:41.134Z"
   },
   {
    "duration": 526,
    "start_time": "2022-11-08T21:39:14.456Z"
   },
   {
    "duration": 558,
    "start_time": "2022-11-08T21:40:23.681Z"
   },
   {
    "duration": 527,
    "start_time": "2022-11-08T21:40:52.309Z"
   },
   {
    "duration": 186,
    "start_time": "2022-11-08T21:41:25.452Z"
   },
   {
    "duration": 527,
    "start_time": "2022-11-08T21:41:29.573Z"
   },
   {
    "duration": 325,
    "start_time": "2022-11-08T21:42:31.903Z"
   },
   {
    "duration": 51,
    "start_time": "2022-11-08T21:42:49.942Z"
   },
   {
    "duration": 55,
    "start_time": "2022-11-08T21:42:57.046Z"
   },
   {
    "duration": 348,
    "start_time": "2022-11-08T21:43:11.950Z"
   },
   {
    "duration": 17,
    "start_time": "2022-11-08T21:43:29.802Z"
   },
   {
    "duration": 324,
    "start_time": "2022-11-08T21:43:32.810Z"
   },
   {
    "duration": 3,
    "start_time": "2022-11-08T21:44:01.979Z"
   },
   {
    "duration": 53,
    "start_time": "2022-11-08T21:44:01.985Z"
   },
   {
    "duration": 21,
    "start_time": "2022-11-08T21:44:02.039Z"
   },
   {
    "duration": 22,
    "start_time": "2022-11-08T21:44:02.061Z"
   },
   {
    "duration": 19,
    "start_time": "2022-11-08T21:44:02.088Z"
   },
   {
    "duration": 45,
    "start_time": "2022-11-08T21:44:02.109Z"
   },
   {
    "duration": 7,
    "start_time": "2022-11-08T21:44:02.155Z"
   },
   {
    "duration": 27,
    "start_time": "2022-11-08T21:44:02.163Z"
   },
   {
    "duration": 13,
    "start_time": "2022-11-08T21:44:02.192Z"
   },
   {
    "duration": 13,
    "start_time": "2022-11-08T21:44:02.206Z"
   },
   {
    "duration": 49,
    "start_time": "2022-11-08T21:44:02.221Z"
   },
   {
    "duration": 18,
    "start_time": "2022-11-08T21:44:02.271Z"
   },
   {
    "duration": 31,
    "start_time": "2022-11-08T21:44:02.291Z"
   },
   {
    "duration": 521,
    "start_time": "2022-11-08T21:44:02.323Z"
   },
   {
    "duration": 8,
    "start_time": "2022-11-08T21:44:02.846Z"
   },
   {
    "duration": 6,
    "start_time": "2022-11-08T21:44:02.868Z"
   },
   {
    "duration": 7,
    "start_time": "2022-11-08T21:44:02.876Z"
   },
   {
    "duration": 8,
    "start_time": "2022-11-08T21:44:02.885Z"
   },
   {
    "duration": 7,
    "start_time": "2022-11-08T21:44:02.895Z"
   },
   {
    "duration": 30,
    "start_time": "2022-11-08T21:44:02.904Z"
   },
   {
    "duration": 368,
    "start_time": "2022-11-08T21:44:02.936Z"
   },
   {
    "duration": 379,
    "start_time": "2022-11-08T21:44:25.893Z"
   },
   {
    "duration": 18,
    "start_time": "2022-11-08T21:46:54.968Z"
   },
   {
    "duration": 339,
    "start_time": "2022-11-08T21:51:56.329Z"
   },
   {
    "duration": 383,
    "start_time": "2022-11-08T21:52:12.660Z"
   },
   {
    "duration": 183,
    "start_time": "2022-11-08T22:06:21.912Z"
   },
   {
    "duration": 10,
    "start_time": "2022-11-08T22:06:43.993Z"
   },
   {
    "duration": 103,
    "start_time": "2022-11-08T22:09:41.504Z"
   },
   {
    "duration": 3,
    "start_time": "2022-11-08T22:13:09.915Z"
   },
   {
    "duration": 52,
    "start_time": "2022-11-08T22:13:09.920Z"
   },
   {
    "duration": 18,
    "start_time": "2022-11-08T22:13:09.974Z"
   },
   {
    "duration": 19,
    "start_time": "2022-11-08T22:13:09.994Z"
   },
   {
    "duration": 14,
    "start_time": "2022-11-08T22:13:10.015Z"
   },
   {
    "duration": 38,
    "start_time": "2022-11-08T22:13:10.030Z"
   },
   {
    "duration": 7,
    "start_time": "2022-11-08T22:13:10.070Z"
   },
   {
    "duration": 8,
    "start_time": "2022-11-08T22:13:10.079Z"
   },
   {
    "duration": 7,
    "start_time": "2022-11-08T22:13:10.089Z"
   },
   {
    "duration": 9,
    "start_time": "2022-11-08T22:13:10.098Z"
   },
   {
    "duration": 23,
    "start_time": "2022-11-08T22:13:10.108Z"
   },
   {
    "duration": 9,
    "start_time": "2022-11-08T22:13:10.132Z"
   },
   {
    "duration": 56,
    "start_time": "2022-11-08T22:13:10.143Z"
   },
   {
    "duration": 519,
    "start_time": "2022-11-08T22:13:10.201Z"
   },
   {
    "duration": 7,
    "start_time": "2022-11-08T22:13:10.721Z"
   },
   {
    "duration": 6,
    "start_time": "2022-11-08T22:13:10.729Z"
   },
   {
    "duration": 6,
    "start_time": "2022-11-08T22:13:10.736Z"
   },
   {
    "duration": 6,
    "start_time": "2022-11-08T22:13:10.767Z"
   },
   {
    "duration": 8,
    "start_time": "2022-11-08T22:13:10.774Z"
   },
   {
    "duration": 11,
    "start_time": "2022-11-08T22:13:10.783Z"
   },
   {
    "duration": 393,
    "start_time": "2022-11-08T22:13:10.796Z"
   },
   {
    "duration": 20,
    "start_time": "2022-11-08T22:13:11.191Z"
   },
   {
    "duration": 119,
    "start_time": "2022-11-08T22:13:11.213Z"
   },
   {
    "duration": 3,
    "start_time": "2022-11-08T22:16:50.477Z"
   },
   {
    "duration": 51,
    "start_time": "2022-11-08T22:16:50.482Z"
   },
   {
    "duration": 18,
    "start_time": "2022-11-08T22:16:50.534Z"
   },
   {
    "duration": 13,
    "start_time": "2022-11-08T22:16:50.554Z"
   },
   {
    "duration": 12,
    "start_time": "2022-11-08T22:16:50.570Z"
   },
   {
    "duration": 17,
    "start_time": "2022-11-08T22:16:50.584Z"
   },
   {
    "duration": 7,
    "start_time": "2022-11-08T22:16:50.603Z"
   },
   {
    "duration": 9,
    "start_time": "2022-11-08T22:16:50.611Z"
   },
   {
    "duration": 7,
    "start_time": "2022-11-08T22:16:50.621Z"
   },
   {
    "duration": 7,
    "start_time": "2022-11-08T22:16:50.629Z"
   },
   {
    "duration": 42,
    "start_time": "2022-11-08T22:16:50.638Z"
   },
   {
    "duration": 12,
    "start_time": "2022-11-08T22:16:50.681Z"
   },
   {
    "duration": 27,
    "start_time": "2022-11-08T22:16:50.694Z"
   },
   {
    "duration": 525,
    "start_time": "2022-11-08T22:16:50.723Z"
   },
   {
    "duration": 6,
    "start_time": "2022-11-08T22:16:51.250Z"
   },
   {
    "duration": 6,
    "start_time": "2022-11-08T22:16:51.268Z"
   },
   {
    "duration": 11,
    "start_time": "2022-11-08T22:16:51.275Z"
   },
   {
    "duration": 6,
    "start_time": "2022-11-08T22:16:51.287Z"
   },
   {
    "duration": 7,
    "start_time": "2022-11-08T22:16:51.295Z"
   },
   {
    "duration": 10,
    "start_time": "2022-11-08T22:16:51.304Z"
   },
   {
    "duration": 396,
    "start_time": "2022-11-08T22:16:51.315Z"
   },
   {
    "duration": 17,
    "start_time": "2022-11-08T22:16:51.713Z"
   },
   {
    "duration": 115,
    "start_time": "2022-11-08T22:16:51.732Z"
   },
   {
    "duration": 105,
    "start_time": "2022-11-08T22:17:15.344Z"
   },
   {
    "duration": 181,
    "start_time": "2022-11-08T22:17:49.039Z"
   },
   {
    "duration": 9,
    "start_time": "2022-11-08T22:18:30.536Z"
   },
   {
    "duration": 15,
    "start_time": "2022-11-08T22:20:26.286Z"
   },
   {
    "duration": 640,
    "start_time": "2022-11-08T22:21:17.586Z"
   },
   {
    "duration": 15,
    "start_time": "2022-11-08T22:21:31.187Z"
   },
   {
    "duration": 875,
    "start_time": "2022-11-09T17:12:51.149Z"
   },
   {
    "duration": 205,
    "start_time": "2022-11-09T17:12:52.027Z"
   },
   {
    "duration": 35,
    "start_time": "2022-11-09T17:12:52.234Z"
   },
   {
    "duration": 17,
    "start_time": "2022-11-09T17:12:52.271Z"
   },
   {
    "duration": 16,
    "start_time": "2022-11-09T17:12:52.291Z"
   },
   {
    "duration": 19,
    "start_time": "2022-11-09T17:12:52.328Z"
   },
   {
    "duration": 8,
    "start_time": "2022-11-09T17:12:52.349Z"
   },
   {
    "duration": 29,
    "start_time": "2022-11-09T17:12:52.359Z"
   },
   {
    "duration": 17,
    "start_time": "2022-11-09T17:12:52.390Z"
   },
   {
    "duration": 24,
    "start_time": "2022-11-09T17:12:52.409Z"
   },
   {
    "duration": 30,
    "start_time": "2022-11-09T17:12:52.435Z"
   },
   {
    "duration": 20,
    "start_time": "2022-11-09T17:12:52.468Z"
   },
   {
    "duration": 41,
    "start_time": "2022-11-09T17:12:52.490Z"
   },
   {
    "duration": 644,
    "start_time": "2022-11-09T17:12:52.534Z"
   },
   {
    "duration": 8,
    "start_time": "2022-11-09T17:12:53.179Z"
   },
   {
    "duration": 20,
    "start_time": "2022-11-09T17:12:53.189Z"
   },
   {
    "duration": 10,
    "start_time": "2022-11-09T17:12:53.211Z"
   },
   {
    "duration": 12,
    "start_time": "2022-11-09T17:12:53.222Z"
   },
   {
    "duration": 9,
    "start_time": "2022-11-09T17:12:53.236Z"
   },
   {
    "duration": 12,
    "start_time": "2022-11-09T17:12:53.247Z"
   },
   {
    "duration": 511,
    "start_time": "2022-11-09T17:12:53.261Z"
   },
   {
    "duration": 22,
    "start_time": "2022-11-09T17:12:53.774Z"
   },
   {
    "duration": 38,
    "start_time": "2022-11-09T17:12:53.799Z"
   },
   {
    "duration": 337,
    "start_time": "2022-11-09T17:12:53.839Z"
   },
   {
    "duration": 13,
    "start_time": "2022-11-09T17:12:54.178Z"
   },
   {
    "duration": 193,
    "start_time": "2022-11-09T17:16:55.194Z"
   },
   {
    "duration": 225,
    "start_time": "2022-11-09T17:18:46.217Z"
   },
   {
    "duration": 33,
    "start_time": "2022-11-09T17:19:36.618Z"
   },
   {
    "duration": 11,
    "start_time": "2022-11-09T17:19:53.941Z"
   },
   {
    "duration": 204,
    "start_time": "2022-11-09T17:25:25.513Z"
   },
   {
    "duration": 11,
    "start_time": "2022-11-09T17:26:29.398Z"
   },
   {
    "duration": 186,
    "start_time": "2022-11-09T17:44:52.327Z"
   },
   {
    "duration": 274,
    "start_time": "2022-11-09T17:45:33.995Z"
   },
   {
    "duration": 235,
    "start_time": "2022-11-09T17:47:47.091Z"
   },
   {
    "duration": 302,
    "start_time": "2022-11-09T17:49:24.131Z"
   },
   {
    "duration": 10,
    "start_time": "2022-11-09T17:51:23.810Z"
   },
   {
    "duration": 9,
    "start_time": "2022-11-09T17:52:31.414Z"
   },
   {
    "duration": 22,
    "start_time": "2022-11-09T17:58:05.842Z"
   },
   {
    "duration": 24,
    "start_time": "2022-11-09T17:59:02.473Z"
   },
   {
    "duration": 257,
    "start_time": "2022-11-09T18:00:27.294Z"
   },
   {
    "duration": 257,
    "start_time": "2022-11-09T18:01:03.722Z"
   },
   {
    "duration": 10,
    "start_time": "2022-11-09T18:01:32.557Z"
   },
   {
    "duration": 10,
    "start_time": "2022-11-09T18:01:44.413Z"
   },
   {
    "duration": 12,
    "start_time": "2022-11-09T18:02:10.218Z"
   },
   {
    "duration": 56,
    "start_time": "2022-11-09T18:03:18.456Z"
   },
   {
    "duration": 239,
    "start_time": "2022-11-09T18:05:14.885Z"
   },
   {
    "duration": 315,
    "start_time": "2022-11-09T18:05:48.968Z"
   },
   {
    "duration": 9,
    "start_time": "2022-11-09T18:06:35.353Z"
   },
   {
    "duration": 12,
    "start_time": "2022-11-09T18:06:58.286Z"
   },
   {
    "duration": 93,
    "start_time": "2022-11-09T18:26:58.175Z"
   },
   {
    "duration": 13,
    "start_time": "2022-11-09T18:28:10.171Z"
   },
   {
    "duration": 12,
    "start_time": "2022-11-09T18:28:19.553Z"
   },
   {
    "duration": 12,
    "start_time": "2022-11-09T18:28:37.676Z"
   },
   {
    "duration": 11,
    "start_time": "2022-11-09T18:30:31.408Z"
   },
   {
    "duration": 13,
    "start_time": "2022-11-09T18:31:58.416Z"
   },
   {
    "duration": 48,
    "start_time": "2022-11-09T18:34:23.950Z"
   },
   {
    "duration": 15,
    "start_time": "2022-11-09T18:34:28.062Z"
   },
   {
    "duration": 22161,
    "start_time": "2022-11-09T18:34:56.697Z"
   },
   {
    "duration": 66,
    "start_time": "2022-11-09T18:36:47.643Z"
   },
   {
    "duration": 67,
    "start_time": "2022-11-09T18:37:00.424Z"
   },
   {
    "duration": 127,
    "start_time": "2022-11-09T18:37:58.373Z"
   },
   {
    "duration": 50,
    "start_time": "2022-11-09T18:39:10.679Z"
   },
   {
    "duration": 87,
    "start_time": "2022-11-09T18:39:45.741Z"
   },
   {
    "duration": 37,
    "start_time": "2022-11-09T18:39:54.286Z"
   },
   {
    "duration": 77,
    "start_time": "2022-11-09T18:40:55.787Z"
   },
   {
    "duration": 44,
    "start_time": "2022-11-09T18:41:08.314Z"
   },
   {
    "duration": 29,
    "start_time": "2022-11-09T18:41:14.930Z"
   },
   {
    "duration": 45,
    "start_time": "2022-11-09T18:41:41.962Z"
   },
   {
    "duration": 38,
    "start_time": "2022-11-09T18:41:57.629Z"
   },
   {
    "duration": 86,
    "start_time": "2022-11-09T18:43:10.792Z"
   },
   {
    "duration": 56,
    "start_time": "2022-11-09T18:45:51.194Z"
   },
   {
    "duration": 60,
    "start_time": "2022-11-09T18:47:05.301Z"
   },
   {
    "duration": 49,
    "start_time": "2022-11-09T18:47:28.561Z"
   },
   {
    "duration": 53,
    "start_time": "2022-11-09T18:48:23.092Z"
   },
   {
    "duration": 39,
    "start_time": "2022-11-09T18:49:02.075Z"
   },
   {
    "duration": 515,
    "start_time": "2022-11-09T19:50:09.991Z"
   },
   {
    "duration": 46,
    "start_time": "2022-11-09T19:50:10.508Z"
   },
   {
    "duration": 20,
    "start_time": "2022-11-09T19:50:10.556Z"
   },
   {
    "duration": 18,
    "start_time": "2022-11-09T19:50:10.578Z"
   },
   {
    "duration": 15,
    "start_time": "2022-11-09T19:50:10.598Z"
   },
   {
    "duration": 18,
    "start_time": "2022-11-09T19:50:10.628Z"
   },
   {
    "duration": 9,
    "start_time": "2022-11-09T19:50:10.647Z"
   },
   {
    "duration": 8,
    "start_time": "2022-11-09T19:50:10.658Z"
   },
   {
    "duration": 7,
    "start_time": "2022-11-09T19:50:10.668Z"
   },
   {
    "duration": 10,
    "start_time": "2022-11-09T19:50:10.677Z"
   },
   {
    "duration": 51,
    "start_time": "2022-11-09T19:50:10.688Z"
   },
   {
    "duration": 9,
    "start_time": "2022-11-09T19:50:10.741Z"
   },
   {
    "duration": 33,
    "start_time": "2022-11-09T19:50:10.752Z"
   },
   {
    "duration": 664,
    "start_time": "2022-11-09T19:50:10.788Z"
   },
   {
    "duration": 8,
    "start_time": "2022-11-09T19:50:11.454Z"
   },
   {
    "duration": 6,
    "start_time": "2022-11-09T19:50:11.463Z"
   },
   {
    "duration": 4,
    "start_time": "2022-11-09T19:50:11.471Z"
   },
   {
    "duration": 9,
    "start_time": "2022-11-09T19:50:11.477Z"
   },
   {
    "duration": 21,
    "start_time": "2022-11-09T19:50:11.487Z"
   },
   {
    "duration": 25,
    "start_time": "2022-11-09T19:50:11.509Z"
   },
   {
    "duration": 435,
    "start_time": "2022-11-09T19:50:11.536Z"
   },
   {
    "duration": 20,
    "start_time": "2022-11-09T19:50:11.973Z"
   },
   {
    "duration": 209,
    "start_time": "2022-11-09T19:50:11.995Z"
   },
   {
    "duration": 9,
    "start_time": "2022-11-09T19:50:12.206Z"
   },
   {
    "duration": 213,
    "start_time": "2022-11-09T19:50:12.217Z"
   },
   {
    "duration": 10,
    "start_time": "2022-11-09T19:50:12.432Z"
   },
   {
    "duration": 204,
    "start_time": "2022-11-09T19:50:12.444Z"
   },
   {
    "duration": 11,
    "start_time": "2022-11-09T19:50:12.649Z"
   },
   {
    "duration": 261,
    "start_time": "2022-11-09T19:50:12.661Z"
   },
   {
    "duration": 254,
    "start_time": "2022-11-09T19:50:12.924Z"
   },
   {
    "duration": 9,
    "start_time": "2022-11-09T19:50:13.179Z"
   },
   {
    "duration": 11,
    "start_time": "2022-11-09T19:50:13.190Z"
   },
   {
    "duration": 260,
    "start_time": "2022-11-09T19:50:13.203Z"
   },
   {
    "duration": 247,
    "start_time": "2022-11-09T19:50:13.465Z"
   },
   {
    "duration": 16,
    "start_time": "2022-11-09T19:50:13.714Z"
   },
   {
    "duration": 16,
    "start_time": "2022-11-09T19:50:13.732Z"
   },
   {
    "duration": 256,
    "start_time": "2022-11-09T19:50:13.750Z"
   },
   {
    "duration": 249,
    "start_time": "2022-11-09T19:50:14.007Z"
   },
   {
    "duration": 10,
    "start_time": "2022-11-09T19:50:14.258Z"
   },
   {
    "duration": 8,
    "start_time": "2022-11-09T19:50:14.270Z"
   },
   {
    "duration": 61,
    "start_time": "2022-11-09T19:50:14.282Z"
   },
   {
    "duration": 42,
    "start_time": "2022-11-09T19:53:19.499Z"
   },
   {
    "duration": 422,
    "start_time": "2022-11-09T19:53:36.306Z"
   },
   {
    "duration": 364,
    "start_time": "2022-11-09T19:54:46.785Z"
   },
   {
    "duration": 442,
    "start_time": "2022-11-09T19:56:19.375Z"
   },
   {
    "duration": 11,
    "start_time": "2022-11-09T19:57:33.092Z"
   },
   {
    "duration": 7,
    "start_time": "2022-11-09T19:58:03.766Z"
   },
   {
    "duration": 9,
    "start_time": "2022-11-09T19:58:24.040Z"
   },
   {
    "duration": 8,
    "start_time": "2022-11-09T19:58:50.454Z"
   },
   {
    "duration": 436,
    "start_time": "2022-11-09T19:59:43.952Z"
   },
   {
    "duration": 10,
    "start_time": "2022-11-09T19:59:44.391Z"
   },
   {
    "duration": 43,
    "start_time": "2022-11-09T20:35:44.087Z"
   },
   {
    "duration": 264,
    "start_time": "2022-11-09T20:39:01.739Z"
   },
   {
    "duration": 7,
    "start_time": "2022-11-09T20:39:12.473Z"
   },
   {
    "duration": 10,
    "start_time": "2022-11-09T20:41:40.476Z"
   },
   {
    "duration": 9,
    "start_time": "2022-11-09T20:41:42.558Z"
   },
   {
    "duration": 7,
    "start_time": "2022-11-09T20:56:06.263Z"
   },
   {
    "duration": 8,
    "start_time": "2022-11-09T20:56:07.084Z"
   },
   {
    "duration": 8,
    "start_time": "2022-11-09T20:56:07.820Z"
   },
   {
    "duration": 10,
    "start_time": "2022-11-09T21:12:40.807Z"
   },
   {
    "duration": 8,
    "start_time": "2022-11-09T21:13:15.749Z"
   },
   {
    "duration": 16,
    "start_time": "2022-11-09T21:13:38.349Z"
   },
   {
    "duration": 8,
    "start_time": "2022-11-09T21:13:47.084Z"
   },
   {
    "duration": 412,
    "start_time": "2022-11-09T21:42:20.852Z"
   },
   {
    "duration": 415,
    "start_time": "2022-11-09T21:43:04.554Z"
   },
   {
    "duration": 412,
    "start_time": "2022-11-09T21:43:28.437Z"
   },
   {
    "duration": 409,
    "start_time": "2022-11-09T21:44:24.502Z"
   },
   {
    "duration": 413,
    "start_time": "2022-11-09T21:44:34.611Z"
   },
   {
    "duration": 402,
    "start_time": "2022-11-09T21:44:57.733Z"
   },
   {
    "duration": 1427,
    "start_time": "2022-11-10T17:07:02.755Z"
   },
   {
    "duration": 103,
    "start_time": "2022-11-10T17:07:04.185Z"
   },
   {
    "duration": 34,
    "start_time": "2022-11-10T17:07:04.290Z"
   },
   {
    "duration": 26,
    "start_time": "2022-11-10T17:07:04.326Z"
   },
   {
    "duration": 15,
    "start_time": "2022-11-10T17:07:04.355Z"
   },
   {
    "duration": 34,
    "start_time": "2022-11-10T17:07:04.371Z"
   },
   {
    "duration": 9,
    "start_time": "2022-11-10T17:07:04.407Z"
   },
   {
    "duration": 28,
    "start_time": "2022-11-10T17:07:04.417Z"
   },
   {
    "duration": 30,
    "start_time": "2022-11-10T17:07:04.446Z"
   },
   {
    "duration": 15,
    "start_time": "2022-11-10T17:07:04.478Z"
   },
   {
    "duration": 30,
    "start_time": "2022-11-10T17:07:04.495Z"
   },
   {
    "duration": 12,
    "start_time": "2022-11-10T17:07:04.527Z"
   },
   {
    "duration": 39,
    "start_time": "2022-11-10T17:07:04.541Z"
   },
   {
    "duration": 658,
    "start_time": "2022-11-10T17:07:04.583Z"
   },
   {
    "duration": 9,
    "start_time": "2022-11-10T17:07:05.244Z"
   },
   {
    "duration": 57,
    "start_time": "2022-11-10T17:07:05.254Z"
   },
   {
    "duration": 35,
    "start_time": "2022-11-10T17:07:05.314Z"
   },
   {
    "duration": 21,
    "start_time": "2022-11-10T17:07:05.351Z"
   },
   {
    "duration": 10,
    "start_time": "2022-11-10T17:07:05.374Z"
   },
   {
    "duration": 17,
    "start_time": "2022-11-10T17:07:05.386Z"
   },
   {
    "duration": 460,
    "start_time": "2022-11-10T17:07:05.405Z"
   },
   {
    "duration": 23,
    "start_time": "2022-11-10T17:07:05.867Z"
   },
   {
    "duration": 224,
    "start_time": "2022-11-10T17:07:05.892Z"
   },
   {
    "duration": 9,
    "start_time": "2022-11-10T17:07:06.118Z"
   },
   {
    "duration": 280,
    "start_time": "2022-11-10T17:07:06.129Z"
   },
   {
    "duration": 9,
    "start_time": "2022-11-10T17:07:06.410Z"
   },
   {
    "duration": 209,
    "start_time": "2022-11-10T17:07:06.421Z"
   },
   {
    "duration": 10,
    "start_time": "2022-11-10T17:07:06.632Z"
   },
   {
    "duration": 266,
    "start_time": "2022-11-10T17:07:06.644Z"
   },
   {
    "duration": 314,
    "start_time": "2022-11-10T17:07:06.911Z"
   },
   {
    "duration": 9,
    "start_time": "2022-11-10T17:07:07.227Z"
   },
   {
    "duration": 32,
    "start_time": "2022-11-10T17:07:07.238Z"
   },
   {
    "duration": 250,
    "start_time": "2022-11-10T17:07:07.272Z"
   },
   {
    "duration": 228,
    "start_time": "2022-11-10T17:07:07.524Z"
   },
   {
    "duration": 25,
    "start_time": "2022-11-10T17:07:07.754Z"
   },
   {
    "duration": 20,
    "start_time": "2022-11-10T17:07:07.780Z"
   },
   {
    "duration": 242,
    "start_time": "2022-11-10T17:07:07.801Z"
   },
   {
    "duration": 242,
    "start_time": "2022-11-10T17:07:08.044Z"
   },
   {
    "duration": 9,
    "start_time": "2022-11-10T17:07:08.289Z"
   },
   {
    "duration": 20,
    "start_time": "2022-11-10T17:07:08.300Z"
   },
   {
    "duration": 43,
    "start_time": "2022-11-10T17:07:08.324Z"
   },
   {
    "duration": 411,
    "start_time": "2022-11-10T17:07:08.368Z"
   },
   {
    "duration": 7,
    "start_time": "2022-11-10T17:07:08.781Z"
   },
   {
    "duration": 25,
    "start_time": "2022-11-10T17:07:08.789Z"
   },
   {
    "duration": 40,
    "start_time": "2022-11-10T17:07:08.816Z"
   },
   {
    "duration": 25,
    "start_time": "2022-11-10T17:07:08.858Z"
   },
   {
    "duration": 38,
    "start_time": "2022-11-10T17:07:08.886Z"
   },
   {
    "duration": 17,
    "start_time": "2022-11-10T17:07:08.926Z"
   },
   {
    "duration": 25,
    "start_time": "2022-11-10T17:07:08.945Z"
   },
   {
    "duration": 31,
    "start_time": "2022-11-10T17:07:08.972Z"
   },
   {
    "duration": 25,
    "start_time": "2022-11-10T17:07:09.005Z"
   },
   {
    "duration": 38,
    "start_time": "2022-11-10T17:07:09.032Z"
   },
   {
    "duration": 15,
    "start_time": "2022-11-10T17:07:09.072Z"
   },
   {
    "duration": 20,
    "start_time": "2022-11-10T17:07:09.089Z"
   },
   {
    "duration": 26,
    "start_time": "2022-11-10T17:07:09.111Z"
   },
   {
    "duration": 10,
    "start_time": "2022-11-10T17:13:53.000Z"
   },
   {
    "duration": 11,
    "start_time": "2022-11-10T17:14:49.330Z"
   },
   {
    "duration": 10,
    "start_time": "2022-11-10T17:14:58.993Z"
   },
   {
    "duration": 10,
    "start_time": "2022-11-10T17:15:15.294Z"
   },
   {
    "duration": 101,
    "start_time": "2022-11-10T17:15:51.209Z"
   },
   {
    "duration": 11,
    "start_time": "2022-11-10T17:16:00.809Z"
   },
   {
    "duration": 11,
    "start_time": "2022-11-10T17:16:34.659Z"
   },
   {
    "duration": 11,
    "start_time": "2022-11-10T17:17:03.496Z"
   },
   {
    "duration": 10,
    "start_time": "2022-11-10T17:19:16.699Z"
   },
   {
    "duration": 9,
    "start_time": "2022-11-10T17:23:59.462Z"
   },
   {
    "duration": 10,
    "start_time": "2022-11-10T17:24:04.762Z"
   },
   {
    "duration": 10,
    "start_time": "2022-11-10T17:24:16.989Z"
   },
   {
    "duration": 12,
    "start_time": "2022-11-10T17:27:23.518Z"
   },
   {
    "duration": 24,
    "start_time": "2022-11-10T17:34:41.766Z"
   },
   {
    "duration": 25,
    "start_time": "2022-11-10T17:35:00.610Z"
   },
   {
    "duration": 8,
    "start_time": "2022-11-10T17:39:41.714Z"
   },
   {
    "duration": 15,
    "start_time": "2022-11-10T17:41:21.344Z"
   },
   {
    "duration": 130,
    "start_time": "2022-11-10T17:42:11.906Z"
   },
   {
    "duration": 17,
    "start_time": "2022-11-10T17:42:21.794Z"
   },
   {
    "duration": 19,
    "start_time": "2022-11-10T17:42:28.701Z"
   },
   {
    "duration": 17,
    "start_time": "2022-11-10T17:42:52.510Z"
   },
   {
    "duration": 22,
    "start_time": "2022-11-10T17:42:57.113Z"
   },
   {
    "duration": 18,
    "start_time": "2022-11-10T17:43:06.093Z"
   },
   {
    "duration": 15,
    "start_time": "2022-11-10T17:43:13.771Z"
   },
   {
    "duration": 17,
    "start_time": "2022-11-10T17:44:39.396Z"
   },
   {
    "duration": 18,
    "start_time": "2022-11-10T17:44:46.704Z"
   },
   {
    "duration": 127,
    "start_time": "2022-11-10T17:45:11.528Z"
   },
   {
    "duration": 16,
    "start_time": "2022-11-10T17:45:44.292Z"
   },
   {
    "duration": 20,
    "start_time": "2022-11-10T17:45:50.008Z"
   },
   {
    "duration": 17,
    "start_time": "2022-11-10T17:46:09.835Z"
   },
   {
    "duration": 7,
    "start_time": "2022-11-10T17:46:10.296Z"
   },
   {
    "duration": 118,
    "start_time": "2022-11-10T17:46:59.805Z"
   },
   {
    "duration": 15,
    "start_time": "2022-11-10T17:47:54.264Z"
   },
   {
    "duration": 18,
    "start_time": "2022-11-10T17:48:27.034Z"
   },
   {
    "duration": 155,
    "start_time": "2022-11-10T17:48:33.166Z"
   },
   {
    "duration": 126,
    "start_time": "2022-11-10T17:48:49.722Z"
   },
   {
    "duration": 147,
    "start_time": "2022-11-10T17:49:16.326Z"
   },
   {
    "duration": 284,
    "start_time": "2022-11-10T17:50:23.790Z"
   },
   {
    "duration": 178,
    "start_time": "2022-11-10T17:52:42.187Z"
   },
   {
    "duration": 167,
    "start_time": "2022-11-10T17:53:13.503Z"
   },
   {
    "duration": 222,
    "start_time": "2022-11-10T17:55:13.990Z"
   },
   {
    "duration": 172,
    "start_time": "2022-11-10T17:55:28.940Z"
   },
   {
    "duration": 178,
    "start_time": "2022-11-10T17:56:16.026Z"
   },
   {
    "duration": 159,
    "start_time": "2022-11-10T17:56:55.762Z"
   },
   {
    "duration": 170,
    "start_time": "2022-11-10T17:59:01.648Z"
   },
   {
    "duration": 193,
    "start_time": "2022-11-10T17:59:42.783Z"
   },
   {
    "duration": 191,
    "start_time": "2022-11-10T18:00:22.092Z"
   },
   {
    "duration": 68,
    "start_time": "2022-11-10T18:01:14.818Z"
   },
   {
    "duration": 69,
    "start_time": "2022-11-10T18:41:55.944Z"
   },
   {
    "duration": 1220,
    "start_time": "2022-11-10T19:04:23.284Z"
   },
   {
    "duration": 58,
    "start_time": "2022-11-10T19:04:24.508Z"
   },
   {
    "duration": 26,
    "start_time": "2022-11-10T19:04:24.568Z"
   },
   {
    "duration": 37,
    "start_time": "2022-11-10T19:04:24.597Z"
   },
   {
    "duration": 20,
    "start_time": "2022-11-10T19:04:24.636Z"
   },
   {
    "duration": 73,
    "start_time": "2022-11-10T19:04:24.659Z"
   },
   {
    "duration": 10,
    "start_time": "2022-11-10T19:04:25.103Z"
   },
   {
    "duration": 10,
    "start_time": "2022-11-10T19:04:25.432Z"
   },
   {
    "duration": 7,
    "start_time": "2022-11-10T19:04:25.775Z"
   },
   {
    "duration": 7,
    "start_time": "2022-11-10T19:04:26.103Z"
   },
   {
    "duration": 17,
    "start_time": "2022-11-10T19:04:26.265Z"
   },
   {
    "duration": 7,
    "start_time": "2022-11-10T19:04:26.775Z"
   },
   {
    "duration": 30,
    "start_time": "2022-11-10T19:04:27.112Z"
   },
   {
    "duration": 557,
    "start_time": "2022-11-10T19:04:27.288Z"
   },
   {
    "duration": 20,
    "start_time": "2022-11-10T19:04:27.848Z"
   },
   {
    "duration": 6,
    "start_time": "2022-11-10T19:04:27.870Z"
   },
   {
    "duration": 25,
    "start_time": "2022-11-10T19:04:27.878Z"
   },
   {
    "duration": 1347,
    "start_time": "2022-11-11T02:12:01.549Z"
   },
   {
    "duration": 220,
    "start_time": "2022-11-11T02:12:02.898Z"
   },
   {
    "duration": 24,
    "start_time": "2022-11-11T02:12:03.120Z"
   },
   {
    "duration": 20,
    "start_time": "2022-11-11T02:12:03.146Z"
   },
   {
    "duration": 19,
    "start_time": "2022-11-11T02:12:03.167Z"
   },
   {
    "duration": 18,
    "start_time": "2022-11-11T02:12:03.409Z"
   },
   {
    "duration": 10,
    "start_time": "2022-11-11T02:12:04.106Z"
   },
   {
    "duration": 12,
    "start_time": "2022-11-11T02:12:04.854Z"
   },
   {
    "duration": 10,
    "start_time": "2022-11-11T02:12:05.748Z"
   },
   {
    "duration": 5,
    "start_time": "2022-11-11T02:12:06.130Z"
   },
   {
    "duration": 17,
    "start_time": "2022-11-11T02:12:06.506Z"
   },
   {
    "duration": 102,
    "start_time": "2022-11-11T02:12:06.730Z"
   },
   {
    "duration": 30,
    "start_time": "2022-11-11T02:12:14.195Z"
   },
   {
    "duration": 1159,
    "start_time": "2022-11-11T02:29:11.030Z"
   },
   {
    "duration": 54,
    "start_time": "2022-11-11T02:29:12.191Z"
   },
   {
    "duration": 29,
    "start_time": "2022-11-11T02:29:12.247Z"
   },
   {
    "duration": 23,
    "start_time": "2022-11-11T02:29:12.279Z"
   },
   {
    "duration": 22,
    "start_time": "2022-11-11T02:29:12.304Z"
   },
   {
    "duration": 24,
    "start_time": "2022-11-11T02:29:12.348Z"
   },
   {
    "duration": 7,
    "start_time": "2022-11-11T02:29:12.373Z"
   },
   {
    "duration": 15,
    "start_time": "2022-11-11T02:29:12.382Z"
   },
   {
    "duration": 7,
    "start_time": "2022-11-11T02:29:12.399Z"
   },
   {
    "duration": 7,
    "start_time": "2022-11-11T02:29:12.408Z"
   },
   {
    "duration": 25,
    "start_time": "2022-11-11T02:29:12.449Z"
   },
   {
    "duration": 7,
    "start_time": "2022-11-11T02:29:12.475Z"
   },
   {
    "duration": 28,
    "start_time": "2022-11-11T02:29:12.484Z"
   },
   {
    "duration": 577,
    "start_time": "2022-11-11T02:29:12.514Z"
   },
   {
    "duration": 7,
    "start_time": "2022-11-11T02:29:13.093Z"
   },
   {
    "duration": 9,
    "start_time": "2022-11-11T02:29:13.102Z"
   },
   {
    "duration": 6,
    "start_time": "2022-11-11T02:29:13.113Z"
   },
   {
    "duration": 12,
    "start_time": "2022-11-11T02:29:13.120Z"
   },
   {
    "duration": 7,
    "start_time": "2022-11-11T02:29:13.134Z"
   },
   {
    "duration": 25,
    "start_time": "2022-11-11T02:29:13.143Z"
   },
   {
    "duration": 426,
    "start_time": "2022-11-11T02:29:13.169Z"
   },
   {
    "duration": 20,
    "start_time": "2022-11-11T02:29:13.597Z"
   },
   {
    "duration": 217,
    "start_time": "2022-11-11T02:29:13.619Z"
   },
   {
    "duration": 22,
    "start_time": "2022-11-11T02:29:13.838Z"
   },
   {
    "duration": 205,
    "start_time": "2022-11-11T02:29:13.862Z"
   },
   {
    "duration": 8,
    "start_time": "2022-11-11T02:29:14.069Z"
   },
   {
    "duration": 197,
    "start_time": "2022-11-11T02:29:14.080Z"
   },
   {
    "duration": 12,
    "start_time": "2022-11-11T02:29:14.281Z"
   },
   {
    "duration": 249,
    "start_time": "2022-11-11T02:29:14.295Z"
   },
   {
    "duration": 319,
    "start_time": "2022-11-11T02:29:14.545Z"
   },
   {
    "duration": 8,
    "start_time": "2022-11-11T02:29:14.866Z"
   },
   {
    "duration": 11,
    "start_time": "2022-11-11T02:29:14.876Z"
   },
   {
    "duration": 240,
    "start_time": "2022-11-11T02:29:14.889Z"
   },
   {
    "duration": 270,
    "start_time": "2022-11-11T02:29:15.132Z"
   },
   {
    "duration": 12,
    "start_time": "2022-11-11T02:29:15.404Z"
   },
   {
    "duration": 11,
    "start_time": "2022-11-11T02:29:15.420Z"
   },
   {
    "duration": 243,
    "start_time": "2022-11-11T02:29:15.448Z"
   },
   {
    "duration": 230,
    "start_time": "2022-11-11T02:29:15.692Z"
   },
   {
    "duration": 8,
    "start_time": "2022-11-11T02:29:15.924Z"
   },
   {
    "duration": 20,
    "start_time": "2022-11-11T02:29:15.933Z"
   },
   {
    "duration": 53,
    "start_time": "2022-11-11T02:29:15.966Z"
   },
   {
    "duration": 177,
    "start_time": "2022-11-11T02:29:16.021Z"
   },
   {
    "duration": 8,
    "start_time": "2022-11-11T02:29:16.200Z"
   },
   {
    "duration": 187,
    "start_time": "2022-11-11T02:29:16.210Z"
   },
   {
    "duration": 7,
    "start_time": "2022-11-11T02:29:16.398Z"
   },
   {
    "duration": 8,
    "start_time": "2022-11-11T02:29:16.407Z"
   },
   {
    "duration": 11,
    "start_time": "2022-11-11T02:29:16.417Z"
   },
   {
    "duration": 192,
    "start_time": "2022-11-11T02:29:16.430Z"
   },
   {
    "duration": 8,
    "start_time": "2022-11-11T02:29:16.623Z"
   },
   {
    "duration": 190,
    "start_time": "2022-11-11T02:29:16.633Z"
   },
   {
    "duration": 7,
    "start_time": "2022-11-11T02:29:16.824Z"
   },
   {
    "duration": 201,
    "start_time": "2022-11-11T02:29:16.833Z"
   },
   {
    "duration": 22,
    "start_time": "2022-11-11T02:29:17.035Z"
   },
   {
    "duration": 188,
    "start_time": "2022-11-11T02:29:17.060Z"
   },
   {
    "duration": 13,
    "start_time": "2022-11-11T02:29:17.250Z"
   },
   {
    "duration": 314,
    "start_time": "2022-11-11T02:29:17.265Z"
   },
   {
    "duration": 8,
    "start_time": "2022-11-11T02:29:17.581Z"
   },
   {
    "duration": 233,
    "start_time": "2022-11-11T02:29:17.591Z"
   },
   {
    "duration": 8,
    "start_time": "2022-11-11T02:29:17.827Z"
   },
   {
    "duration": 35,
    "start_time": "2022-11-11T02:29:17.836Z"
   },
   {
    "duration": 133,
    "start_time": "2022-11-11T02:29:17.873Z"
   },
   {
    "duration": 7,
    "start_time": "2022-11-11T02:29:18.008Z"
   },
   {
    "duration": 162,
    "start_time": "2022-11-11T02:29:18.017Z"
   },
   {
    "duration": 7,
    "start_time": "2022-11-11T02:29:18.181Z"
   },
   {
    "duration": 193,
    "start_time": "2022-11-11T02:29:18.190Z"
   },
   {
    "duration": 12,
    "start_time": "2022-11-11T02:29:18.384Z"
   },
   {
    "duration": 15,
    "start_time": "2022-11-11T02:29:18.397Z"
   },
   {
    "duration": 51,
    "start_time": "2022-11-11T14:50:06.104Z"
   },
   {
    "duration": 1457,
    "start_time": "2022-11-11T14:50:10.966Z"
   },
   {
    "duration": 92,
    "start_time": "2022-11-11T14:50:12.426Z"
   },
   {
    "duration": 27,
    "start_time": "2022-11-11T14:50:12.519Z"
   },
   {
    "duration": 21,
    "start_time": "2022-11-11T14:50:12.549Z"
   },
   {
    "duration": 15,
    "start_time": "2022-11-11T14:50:12.572Z"
   },
   {
    "duration": 33,
    "start_time": "2022-11-11T14:50:12.588Z"
   },
   {
    "duration": 8,
    "start_time": "2022-11-11T14:50:12.622Z"
   },
   {
    "duration": 24,
    "start_time": "2022-11-11T14:50:12.632Z"
   },
   {
    "duration": 15,
    "start_time": "2022-11-11T14:50:12.658Z"
   },
   {
    "duration": 20,
    "start_time": "2022-11-11T14:50:12.676Z"
   },
   {
    "duration": 8,
    "start_time": "2022-11-11T14:50:12.698Z"
   },
   {
    "duration": 39,
    "start_time": "2022-11-11T14:50:12.708Z"
   },
   {
    "duration": 26,
    "start_time": "2022-11-11T14:50:12.748Z"
   },
   {
    "duration": 68,
    "start_time": "2022-11-11T14:50:12.776Z"
   },
   {
    "duration": 632,
    "start_time": "2022-11-11T14:50:12.846Z"
   },
   {
    "duration": 8,
    "start_time": "2022-11-11T14:50:13.479Z"
   },
   {
    "duration": 20,
    "start_time": "2022-11-11T14:50:13.488Z"
   },
   {
    "duration": 20,
    "start_time": "2022-11-11T14:50:13.510Z"
   },
   {
    "duration": 22,
    "start_time": "2022-11-11T14:50:13.532Z"
   },
   {
    "duration": 32,
    "start_time": "2022-11-11T14:50:13.556Z"
   },
   {
    "duration": 26,
    "start_time": "2022-11-11T14:50:13.589Z"
   },
   {
    "duration": 488,
    "start_time": "2022-11-11T14:50:13.617Z"
   },
   {
    "duration": 28,
    "start_time": "2022-11-11T14:50:14.107Z"
   },
   {
    "duration": 231,
    "start_time": "2022-11-11T14:50:14.136Z"
   },
   {
    "duration": 15,
    "start_time": "2022-11-11T14:50:14.369Z"
   },
   {
    "duration": 209,
    "start_time": "2022-11-11T14:50:14.385Z"
   },
   {
    "duration": 9,
    "start_time": "2022-11-11T14:50:14.596Z"
   },
   {
    "duration": 213,
    "start_time": "2022-11-11T14:50:14.609Z"
   },
   {
    "duration": 11,
    "start_time": "2022-11-11T14:50:14.824Z"
   },
   {
    "duration": 288,
    "start_time": "2022-11-11T14:50:14.837Z"
   },
   {
    "duration": 318,
    "start_time": "2022-11-11T14:50:15.127Z"
   },
   {
    "duration": 8,
    "start_time": "2022-11-11T14:50:15.447Z"
   },
   {
    "duration": 22,
    "start_time": "2022-11-11T14:50:15.457Z"
   },
   {
    "duration": 247,
    "start_time": "2022-11-11T14:50:15.480Z"
   },
   {
    "duration": 251,
    "start_time": "2022-11-11T14:50:15.729Z"
   },
   {
    "duration": 9,
    "start_time": "2022-11-11T14:50:15.981Z"
   },
   {
    "duration": 12,
    "start_time": "2022-11-11T14:50:15.992Z"
   },
   {
    "duration": 266,
    "start_time": "2022-11-11T14:50:16.005Z"
   },
   {
    "duration": 245,
    "start_time": "2022-11-11T14:50:16.273Z"
   },
   {
    "duration": 9,
    "start_time": "2022-11-11T14:50:16.519Z"
   },
   {
    "duration": 12,
    "start_time": "2022-11-11T14:50:16.530Z"
   },
   {
    "duration": 53,
    "start_time": "2022-11-11T14:50:16.544Z"
   },
   {
    "duration": 209,
    "start_time": "2022-11-11T14:50:16.599Z"
   },
   {
    "duration": 8,
    "start_time": "2022-11-11T14:50:16.810Z"
   },
   {
    "duration": 213,
    "start_time": "2022-11-11T14:50:16.820Z"
   },
   {
    "duration": 7,
    "start_time": "2022-11-11T14:50:17.035Z"
   },
   {
    "duration": 27,
    "start_time": "2022-11-11T14:50:17.044Z"
   },
   {
    "duration": 26,
    "start_time": "2022-11-11T14:50:17.073Z"
   },
   {
    "duration": 198,
    "start_time": "2022-11-11T14:50:17.100Z"
   },
   {
    "duration": 8,
    "start_time": "2022-11-11T14:50:17.300Z"
   },
   {
    "duration": 210,
    "start_time": "2022-11-11T14:50:17.310Z"
   },
   {
    "duration": 8,
    "start_time": "2022-11-11T14:50:17.522Z"
   },
   {
    "duration": 199,
    "start_time": "2022-11-11T14:50:17.532Z"
   },
   {
    "duration": 8,
    "start_time": "2022-11-11T14:50:17.733Z"
   },
   {
    "duration": 202,
    "start_time": "2022-11-11T14:50:17.743Z"
   },
   {
    "duration": 7,
    "start_time": "2022-11-11T14:50:17.947Z"
   },
   {
    "duration": 305,
    "start_time": "2022-11-11T14:50:17.956Z"
   },
   {
    "duration": 6,
    "start_time": "2022-11-11T14:50:18.263Z"
   },
   {
    "duration": 215,
    "start_time": "2022-11-11T14:50:18.271Z"
   },
   {
    "duration": 7,
    "start_time": "2022-11-11T14:50:18.488Z"
   },
   {
    "duration": 15,
    "start_time": "2022-11-11T14:50:18.496Z"
   },
   {
    "duration": 166,
    "start_time": "2022-11-11T14:50:18.513Z"
   },
   {
    "duration": 8,
    "start_time": "2022-11-11T14:50:18.681Z"
   },
   {
    "duration": 156,
    "start_time": "2022-11-11T14:50:18.691Z"
   },
   {
    "duration": 8,
    "start_time": "2022-11-11T14:50:18.849Z"
   },
   {
    "duration": 163,
    "start_time": "2022-11-11T14:50:18.859Z"
   },
   {
    "duration": 13,
    "start_time": "2022-11-11T14:50:19.024Z"
   },
   {
    "duration": 19,
    "start_time": "2022-11-11T14:50:19.040Z"
   },
   {
    "duration": 4,
    "start_time": "2022-11-11T14:50:40.891Z"
   },
   {
    "duration": 3,
    "start_time": "2022-11-11T15:04:08.483Z"
   },
   {
    "duration": 55,
    "start_time": "2022-11-11T15:04:08.496Z"
   },
   {
    "duration": 33,
    "start_time": "2022-11-11T15:04:08.553Z"
   },
   {
    "duration": 37,
    "start_time": "2022-11-11T15:04:08.588Z"
   },
   {
    "duration": 31,
    "start_time": "2022-11-11T15:04:08.627Z"
   },
   {
    "duration": 48,
    "start_time": "2022-11-11T15:04:08.662Z"
   },
   {
    "duration": 12,
    "start_time": "2022-11-11T15:04:08.712Z"
   },
   {
    "duration": 13,
    "start_time": "2022-11-11T15:04:08.727Z"
   },
   {
    "duration": 14,
    "start_time": "2022-11-11T15:04:08.742Z"
   },
   {
    "duration": 7,
    "start_time": "2022-11-11T15:04:08.758Z"
   },
   {
    "duration": 7,
    "start_time": "2022-11-11T15:04:08.777Z"
   },
   {
    "duration": 35,
    "start_time": "2022-11-11T15:04:08.787Z"
   },
   {
    "duration": 16,
    "start_time": "2022-11-11T15:04:08.824Z"
   },
   {
    "duration": 58,
    "start_time": "2022-11-11T15:04:08.841Z"
   },
   {
    "duration": 678,
    "start_time": "2022-11-11T15:04:08.904Z"
   },
   {
    "duration": 10,
    "start_time": "2022-11-11T15:04:09.584Z"
   },
   {
    "duration": 9,
    "start_time": "2022-11-11T15:04:09.596Z"
   },
   {
    "duration": 10,
    "start_time": "2022-11-11T15:04:09.607Z"
   },
   {
    "duration": 12,
    "start_time": "2022-11-11T15:04:09.619Z"
   },
   {
    "duration": 11,
    "start_time": "2022-11-11T15:04:09.633Z"
   },
   {
    "duration": 42,
    "start_time": "2022-11-11T15:04:09.645Z"
   },
   {
    "duration": 430,
    "start_time": "2022-11-11T15:04:09.689Z"
   },
   {
    "duration": 19,
    "start_time": "2022-11-11T15:04:10.121Z"
   },
   {
    "duration": 234,
    "start_time": "2022-11-11T15:04:10.141Z"
   },
   {
    "duration": 9,
    "start_time": "2022-11-11T15:04:10.378Z"
   },
   {
    "duration": 214,
    "start_time": "2022-11-11T15:04:10.389Z"
   },
   {
    "duration": 11,
    "start_time": "2022-11-11T15:04:10.605Z"
   },
   {
    "duration": 298,
    "start_time": "2022-11-11T15:04:10.618Z"
   },
   {
    "duration": 10,
    "start_time": "2022-11-11T15:04:10.917Z"
   },
   {
    "duration": 289,
    "start_time": "2022-11-11T15:04:10.928Z"
   },
   {
    "duration": 268,
    "start_time": "2022-11-11T15:04:11.219Z"
   },
   {
    "duration": 10,
    "start_time": "2022-11-11T15:04:11.489Z"
   },
   {
    "duration": 11,
    "start_time": "2022-11-11T15:04:11.501Z"
   },
   {
    "duration": 385,
    "start_time": "2022-11-11T15:04:11.514Z"
   },
   {
    "duration": 252,
    "start_time": "2022-11-11T15:04:11.901Z"
   },
   {
    "duration": 9,
    "start_time": "2022-11-11T15:04:12.154Z"
   },
   {
    "duration": 19,
    "start_time": "2022-11-11T15:04:12.165Z"
   },
   {
    "duration": 272,
    "start_time": "2022-11-11T15:04:12.186Z"
   },
   {
    "duration": 262,
    "start_time": "2022-11-11T15:04:12.460Z"
   },
   {
    "duration": 10,
    "start_time": "2022-11-11T15:04:12.724Z"
   },
   {
    "duration": 10,
    "start_time": "2022-11-11T15:04:12.736Z"
   },
   {
    "duration": 46,
    "start_time": "2022-11-11T15:04:12.751Z"
   },
   {
    "duration": 245,
    "start_time": "2022-11-11T15:04:12.800Z"
   },
   {
    "duration": 8,
    "start_time": "2022-11-11T15:04:13.048Z"
   },
   {
    "duration": 215,
    "start_time": "2022-11-11T15:04:13.058Z"
   },
   {
    "duration": 8,
    "start_time": "2022-11-11T15:04:13.278Z"
   },
   {
    "duration": 12,
    "start_time": "2022-11-11T15:04:13.288Z"
   },
   {
    "duration": 11,
    "start_time": "2022-11-11T15:04:13.302Z"
   },
   {
    "duration": 192,
    "start_time": "2022-11-11T15:04:13.315Z"
   },
   {
    "duration": 7,
    "start_time": "2022-11-11T15:04:13.509Z"
   },
   {
    "duration": 191,
    "start_time": "2022-11-11T15:04:13.518Z"
   },
   {
    "duration": 7,
    "start_time": "2022-11-11T15:04:13.711Z"
   },
   {
    "duration": 177,
    "start_time": "2022-11-11T15:04:13.720Z"
   },
   {
    "duration": 7,
    "start_time": "2022-11-11T15:04:13.898Z"
   },
   {
    "duration": 290,
    "start_time": "2022-11-11T15:04:13.907Z"
   },
   {
    "duration": 13,
    "start_time": "2022-11-11T15:04:14.199Z"
   },
   {
    "duration": 226,
    "start_time": "2022-11-11T15:04:14.214Z"
   },
   {
    "duration": 8,
    "start_time": "2022-11-11T15:04:14.441Z"
   },
   {
    "duration": 231,
    "start_time": "2022-11-11T15:04:14.451Z"
   },
   {
    "duration": 8,
    "start_time": "2022-11-11T15:04:14.684Z"
   },
   {
    "duration": 17,
    "start_time": "2022-11-11T15:04:14.693Z"
   },
   {
    "duration": 146,
    "start_time": "2022-11-11T15:04:14.711Z"
   },
   {
    "duration": 7,
    "start_time": "2022-11-11T15:04:14.858Z"
   },
   {
    "duration": 146,
    "start_time": "2022-11-11T15:04:14.867Z"
   },
   {
    "duration": 8,
    "start_time": "2022-11-11T15:04:15.015Z"
   },
   {
    "duration": 162,
    "start_time": "2022-11-11T15:04:15.025Z"
   },
   {
    "duration": 10,
    "start_time": "2022-11-11T15:04:15.189Z"
   },
   {
    "duration": 13,
    "start_time": "2022-11-11T15:04:15.201Z"
   },
   {
    "duration": 150,
    "start_time": "2022-11-11T15:22:37.635Z"
   },
   {
    "duration": 401,
    "start_time": "2022-11-11T15:22:59.266Z"
   },
   {
    "duration": 349,
    "start_time": "2022-11-11T15:23:54.580Z"
   },
   {
    "duration": 325,
    "start_time": "2022-11-11T15:30:26.347Z"
   },
   {
    "duration": 188,
    "start_time": "2022-11-11T15:33:50.042Z"
   },
   {
    "duration": 198,
    "start_time": "2022-11-11T15:33:59.863Z"
   },
   {
    "duration": 192,
    "start_time": "2022-11-11T15:34:03.404Z"
   },
   {
    "duration": 222,
    "start_time": "2022-11-11T15:34:33.804Z"
   },
   {
    "duration": 202,
    "start_time": "2022-11-11T15:35:18.871Z"
   }
  ],
  "kernelspec": {
   "display_name": "Python 3 (ipykernel)",
   "language": "python",
   "name": "python3"
  },
  "language_info": {
   "codemirror_mode": {
    "name": "ipython",
    "version": 3
   },
   "file_extension": ".py",
   "mimetype": "text/x-python",
   "name": "python",
   "nbconvert_exporter": "python",
   "pygments_lexer": "ipython3",
   "version": "3.9.12"
  },
  "toc": {
   "base_numbering": 1,
   "nav_menu": {},
   "number_sections": true,
   "sideBar": true,
   "skip_h1_title": true,
   "title_cell": "Table of Contents",
   "title_sidebar": "Contents",
   "toc_cell": false,
   "toc_position": {},
   "toc_section_display": true,
   "toc_window_display": false
  }
 },
 "nbformat": 4,
 "nbformat_minor": 2
}
