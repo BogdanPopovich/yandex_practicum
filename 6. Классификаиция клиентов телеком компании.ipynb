{
 "cells": [
  {
   "cell_type": "markdown",
   "metadata": {},
   "source": [
    "# Рекомендация тарифов"
   ]
  },
  {
   "cell_type": "markdown",
   "metadata": {},
   "source": [
    "В вашем распоряжении данные о поведении клиентов, которые уже перешли на эти тарифы (из проекта курса «Статистический анализ данных»). Нужно построить модель для задачи классификации, которая выберет подходящий тариф. Предобработка данных не понадобится — вы её уже сделали.\n",
    "\n",
    "Постройте модель с максимально большим значением *accuracy*. Чтобы сдать проект успешно, нужно довести долю правильных ответов по крайней мере до 0.75. Проверьте *accuracy* на тестовой выборке самостоятельно."
   ]
  },
  {
   "cell_type": "markdown",
   "metadata": {},
   "source": [
    "<b>План работы</b>\n",
    "\n",
    "1. Изучение датафрейма с данными клиентов.\n",
    "2. Разделение данных на тренировочную (60%), валидационную (20%) и тестовую (20%) выборки.\n",
    "3. Обучение на тренировочной выборке разных моделей для задачи классификации по выбору подходящего тарифа:\n",
    "    - случайный лес\n",
    "    - дерево решений\n",
    "    - логистическая регрессия\n",
    "   Проверка точности моделей на валидационной выборке.\n",
    "4. Проверка моделей на тестовой выборке.\n",
    "5. Проверка моделей на адекватность.\n"
   ]
  },
  {
   "cell_type": "markdown",
   "metadata": {},
   "source": [
    "## 1. Изучаю файл"
   ]
  },
  {
   "cell_type": "code",
   "execution_count": 25,
   "metadata": {},
   "outputs": [
    {
     "data": {
      "text/html": [
       "<div>\n",
       "<style scoped>\n",
       "    .dataframe tbody tr th:only-of-type {\n",
       "        vertical-align: middle;\n",
       "    }\n",
       "\n",
       "    .dataframe tbody tr th {\n",
       "        vertical-align: top;\n",
       "    }\n",
       "\n",
       "    .dataframe thead th {\n",
       "        text-align: right;\n",
       "    }\n",
       "</style>\n",
       "<table border=\"1\" class=\"dataframe\">\n",
       "  <thead>\n",
       "    <tr style=\"text-align: right;\">\n",
       "      <th></th>\n",
       "      <th>calls</th>\n",
       "      <th>minutes</th>\n",
       "      <th>messages</th>\n",
       "      <th>mb_used</th>\n",
       "      <th>is_ultra</th>\n",
       "    </tr>\n",
       "  </thead>\n",
       "  <tbody>\n",
       "    <tr>\n",
       "      <th>0</th>\n",
       "      <td>40.0</td>\n",
       "      <td>311.90</td>\n",
       "      <td>83.0</td>\n",
       "      <td>19915.42</td>\n",
       "      <td>0</td>\n",
       "    </tr>\n",
       "    <tr>\n",
       "      <th>1</th>\n",
       "      <td>85.0</td>\n",
       "      <td>516.75</td>\n",
       "      <td>56.0</td>\n",
       "      <td>22696.96</td>\n",
       "      <td>0</td>\n",
       "    </tr>\n",
       "    <tr>\n",
       "      <th>2</th>\n",
       "      <td>77.0</td>\n",
       "      <td>467.66</td>\n",
       "      <td>86.0</td>\n",
       "      <td>21060.45</td>\n",
       "      <td>0</td>\n",
       "    </tr>\n",
       "    <tr>\n",
       "      <th>3</th>\n",
       "      <td>106.0</td>\n",
       "      <td>745.53</td>\n",
       "      <td>81.0</td>\n",
       "      <td>8437.39</td>\n",
       "      <td>1</td>\n",
       "    </tr>\n",
       "    <tr>\n",
       "      <th>4</th>\n",
       "      <td>66.0</td>\n",
       "      <td>418.74</td>\n",
       "      <td>1.0</td>\n",
       "      <td>14502.75</td>\n",
       "      <td>0</td>\n",
       "    </tr>\n",
       "    <tr>\n",
       "      <th>5</th>\n",
       "      <td>58.0</td>\n",
       "      <td>344.56</td>\n",
       "      <td>21.0</td>\n",
       "      <td>15823.37</td>\n",
       "      <td>0</td>\n",
       "    </tr>\n",
       "    <tr>\n",
       "      <th>6</th>\n",
       "      <td>57.0</td>\n",
       "      <td>431.64</td>\n",
       "      <td>20.0</td>\n",
       "      <td>3738.90</td>\n",
       "      <td>1</td>\n",
       "    </tr>\n",
       "    <tr>\n",
       "      <th>7</th>\n",
       "      <td>15.0</td>\n",
       "      <td>132.40</td>\n",
       "      <td>6.0</td>\n",
       "      <td>21911.60</td>\n",
       "      <td>0</td>\n",
       "    </tr>\n",
       "    <tr>\n",
       "      <th>8</th>\n",
       "      <td>7.0</td>\n",
       "      <td>43.39</td>\n",
       "      <td>3.0</td>\n",
       "      <td>2538.67</td>\n",
       "      <td>1</td>\n",
       "    </tr>\n",
       "    <tr>\n",
       "      <th>9</th>\n",
       "      <td>90.0</td>\n",
       "      <td>665.41</td>\n",
       "      <td>38.0</td>\n",
       "      <td>17358.61</td>\n",
       "      <td>0</td>\n",
       "    </tr>\n",
       "    <tr>\n",
       "      <th>10</th>\n",
       "      <td>82.0</td>\n",
       "      <td>560.51</td>\n",
       "      <td>20.0</td>\n",
       "      <td>9619.53</td>\n",
       "      <td>1</td>\n",
       "    </tr>\n",
       "    <tr>\n",
       "      <th>11</th>\n",
       "      <td>45.0</td>\n",
       "      <td>344.32</td>\n",
       "      <td>13.0</td>\n",
       "      <td>19898.81</td>\n",
       "      <td>0</td>\n",
       "    </tr>\n",
       "    <tr>\n",
       "      <th>12</th>\n",
       "      <td>51.0</td>\n",
       "      <td>437.13</td>\n",
       "      <td>61.0</td>\n",
       "      <td>21523.58</td>\n",
       "      <td>0</td>\n",
       "    </tr>\n",
       "    <tr>\n",
       "      <th>13</th>\n",
       "      <td>56.0</td>\n",
       "      <td>433.07</td>\n",
       "      <td>16.0</td>\n",
       "      <td>16702.36</td>\n",
       "      <td>0</td>\n",
       "    </tr>\n",
       "    <tr>\n",
       "      <th>14</th>\n",
       "      <td>108.0</td>\n",
       "      <td>587.90</td>\n",
       "      <td>0.0</td>\n",
       "      <td>14406.50</td>\n",
       "      <td>1</td>\n",
       "    </tr>\n",
       "    <tr>\n",
       "      <th>15</th>\n",
       "      <td>6.0</td>\n",
       "      <td>22.13</td>\n",
       "      <td>0.0</td>\n",
       "      <td>2710.09</td>\n",
       "      <td>0</td>\n",
       "    </tr>\n",
       "    <tr>\n",
       "      <th>16</th>\n",
       "      <td>2.0</td>\n",
       "      <td>18.73</td>\n",
       "      <td>0.0</td>\n",
       "      <td>588.89</td>\n",
       "      <td>0</td>\n",
       "    </tr>\n",
       "    <tr>\n",
       "      <th>17</th>\n",
       "      <td>26.0</td>\n",
       "      <td>163.62</td>\n",
       "      <td>4.0</td>\n",
       "      <td>16870.34</td>\n",
       "      <td>0</td>\n",
       "    </tr>\n",
       "    <tr>\n",
       "      <th>18</th>\n",
       "      <td>79.0</td>\n",
       "      <td>532.62</td>\n",
       "      <td>90.0</td>\n",
       "      <td>19908.31</td>\n",
       "      <td>0</td>\n",
       "    </tr>\n",
       "    <tr>\n",
       "      <th>19</th>\n",
       "      <td>49.0</td>\n",
       "      <td>341.67</td>\n",
       "      <td>81.0</td>\n",
       "      <td>11770.28</td>\n",
       "      <td>1</td>\n",
       "    </tr>\n",
       "  </tbody>\n",
       "</table>\n",
       "</div>"
      ],
      "text/plain": [
       "    calls  minutes  messages   mb_used  is_ultra\n",
       "0    40.0   311.90      83.0  19915.42         0\n",
       "1    85.0   516.75      56.0  22696.96         0\n",
       "2    77.0   467.66      86.0  21060.45         0\n",
       "3   106.0   745.53      81.0   8437.39         1\n",
       "4    66.0   418.74       1.0  14502.75         0\n",
       "5    58.0   344.56      21.0  15823.37         0\n",
       "6    57.0   431.64      20.0   3738.90         1\n",
       "7    15.0   132.40       6.0  21911.60         0\n",
       "8     7.0    43.39       3.0   2538.67         1\n",
       "9    90.0   665.41      38.0  17358.61         0\n",
       "10   82.0   560.51      20.0   9619.53         1\n",
       "11   45.0   344.32      13.0  19898.81         0\n",
       "12   51.0   437.13      61.0  21523.58         0\n",
       "13   56.0   433.07      16.0  16702.36         0\n",
       "14  108.0   587.90       0.0  14406.50         1\n",
       "15    6.0    22.13       0.0   2710.09         0\n",
       "16    2.0    18.73       0.0    588.89         0\n",
       "17   26.0   163.62       4.0  16870.34         0\n",
       "18   79.0   532.62      90.0  19908.31         0\n",
       "19   49.0   341.67      81.0  11770.28         1"
      ]
     },
     "execution_count": 25,
     "metadata": {},
     "output_type": "execute_result"
    }
   ],
   "source": [
    "import pandas as pd\n",
    "from sklearn.model_selection import train_test_split\n",
    "from sklearn.ensemble import RandomForestClassifier\n",
    "from sklearn.linear_model import LogisticRegression\n",
    "from sklearn.tree import DecisionTreeClassifier\n",
    "from sklearn.metrics import plot_confusion_matrix\n",
    "from sklearn.dummy import DummyClassifier\n",
    "\n",
    "\n",
    "data = pd.read_csv('C:/datasets/6/users_behavior.csv')\n",
    "\n",
    "data.head(20)"
   ]
  },
  {
   "cell_type": "code",
   "execution_count": 2,
   "metadata": {},
   "outputs": [
    {
     "name": "stdout",
     "output_type": "stream",
     "text": [
      "<class 'pandas.core.frame.DataFrame'>\n",
      "RangeIndex: 3214 entries, 0 to 3213\n",
      "Data columns (total 5 columns):\n",
      " #   Column    Non-Null Count  Dtype  \n",
      "---  ------    --------------  -----  \n",
      " 0   calls     3214 non-null   float64\n",
      " 1   minutes   3214 non-null   float64\n",
      " 2   messages  3214 non-null   float64\n",
      " 3   mb_used   3214 non-null   float64\n",
      " 4   is_ultra  3214 non-null   int64  \n",
      "dtypes: float64(4), int64(1)\n",
      "memory usage: 125.7 KB\n"
     ]
    }
   ],
   "source": [
    "data.info();"
   ]
  },
  {
   "cell_type": "markdown",
   "metadata": {},
   "source": [
    "<b>Промежуточный вывод и комментарий по поводу данных:</b>\n",
    "\n",
    "В данных отсутствуют пропуски, что позволяет сразу перейти к работе с ними. Среди них нет типа object, поэтому все они доступны для вычислительных операций. Все столбцы, кроме is_ultra, - количественные признаки, а is_ultra - категориальный признак.\n"
   ]
  },
  {
   "cell_type": "markdown",
   "metadata": {},
   "source": [
    "## 2. Разбиваю данные на выборки"
   ]
  },
  {
   "cell_type": "code",
   "execution_count": 3,
   "metadata": {},
   "outputs": [],
   "source": [
    "features = data.drop(['is_ultra'], axis=1)\n",
    "target = data['is_ultra']"
   ]
  },
  {
   "cell_type": "code",
   "execution_count": 4,
   "metadata": {},
   "outputs": [],
   "source": [
    "# Выделяю валидационную выборку\n",
    "\n",
    "features_train, features_valid, target_train, target_valid = train_test_split(\n",
    "    features, target, test_size=0.20, random_state=12345)"
   ]
  },
  {
   "cell_type": "code",
   "execution_count": 5,
   "metadata": {},
   "outputs": [],
   "source": [
    "# Выделяю тестовую выборку из оставшихся тренировочных данных\n",
    "\n",
    "features_train, features_test, target_train, target_test = train_test_split(\n",
    "    features_train, target_train, test_size=0.25, random_state=12345)"
   ]
  },
  {
   "cell_type": "markdown",
   "metadata": {},
   "source": [
    "## 3. Обучаю и исследую модели"
   ]
  },
  {
   "cell_type": "code",
   "execution_count": 7,
   "metadata": {
    "scrolled": true
   },
   "outputs": [
    {
     "name": "stdout",
     "output_type": "stream",
     "text": [
      "Лучшая accuracy: 0.7931570762052877\n",
      "Оптимальное число деревьев: 84\n"
     ]
    }
   ],
   "source": [
    "# Применяю модель \"случайный лес\" и смотрю на её показатели\n",
    "\n",
    "best_est = 0\n",
    "best_model = None\n",
    "best_result = 0\n",
    "for est in range(1, 100):\n",
    "    model = RandomForestClassifier(random_state=12345, n_estimators=est) \n",
    "    model.fit(features_train, target_train)\n",
    "    result = model.score(features_valid, target_valid)\n",
    "    if result > best_result:\n",
    "        best_model = model\n",
    "        best_result = result\n",
    "        best_est = est\n",
    "\n",
    "print('Лучшая accuracy:', best_result)\n",
    "print('Оптимальное число деревьев:', best_est)"
   ]
  },
  {
   "cell_type": "code",
   "execution_count": 8,
   "metadata": {},
   "outputs": [
    {
     "name": "stdout",
     "output_type": "stream",
     "text": [
      "Лучшая accuracy: 0.7589424572317263\n"
     ]
    }
   ],
   "source": [
    "# Применяю модель \"логистическая регрессия\" и смотрю на её показатели\n",
    "\n",
    "model_2_1 = LogisticRegression(random_state=12345, max_iter=1000, solver='lbfgs') \n",
    "model_2_1.fit(features_train, target_train)\n",
    "result = model_2_1.score(features_valid, target_valid)\n",
    "\n",
    "print('Лучшая accuracy:', result)"
   ]
  },
  {
   "cell_type": "code",
   "execution_count": 9,
   "metadata": {
    "scrolled": true
   },
   "outputs": [
    {
     "name": "stdout",
     "output_type": "stream",
     "text": [
      "Лучшая accuracy: 0.7884914463452566\n",
      "Оптимальная глубина дерева: 5\n"
     ]
    }
   ],
   "source": [
    "# Применяю модель \"дерево решений\" и смотрю на её показатели\n",
    "\n",
    "best_depth = 0\n",
    "best_model = None\n",
    "best_result = 0\n",
    "for depth in range(1, 100):\n",
    "    model_3 = DecisionTreeClassifier(random_state=12345, max_depth=depth) \n",
    "    model_3.fit(features_train, target_train)\n",
    "    result = model_3.score(features_valid, target_valid)\n",
    "    if result > best_result:\n",
    "        best_model = model_3\n",
    "        best_result = result\n",
    "        best_depth = depth\n",
    "\n",
    "print('Лучшая accuracy:', best_result)\n",
    "print('Оптимальная глубина дерева:', best_depth)"
   ]
  },
  {
   "cell_type": "markdown",
   "metadata": {},
   "source": [
    "Самой точной моделью является <b>случайный лес</b>. Его accuracy  составляет 0.79. при числе деревьев 84.\n",
    "\n",
    "На втором месте по точности <b>дерево решений</b> с accuracy 0.78 при глубине дерева 5.\n",
    "\n",
    "На третьем месте <b>логистическая регрессия</b> с accuracy 0.75."
   ]
  },
  {
   "cell_type": "markdown",
   "metadata": {},
   "source": [
    "## 4. Проверяю модель на тестовой выборке"
   ]
  },
  {
   "cell_type": "code",
   "execution_count": 10,
   "metadata": {},
   "outputs": [
    {
     "name": "stdout",
     "output_type": "stream",
     "text": [
      "Точность RandomForestClassifier на тестовой выборке: 0.7978227060653188\n"
     ]
    }
   ],
   "source": [
    "# Проверяю модель с самой высокой точностью на тестовой выборке\n",
    "\n",
    "model = RandomForestClassifier(random_state=12345, n_estimators=84) \n",
    "model.fit(features_train, target_train)\n",
    "\n",
    "score_model = model.score(features_test, target_test)\n",
    "\n",
    "print('Точность RandomForestClassifier на тестовой выборке:', score_model)"
   ]
  },
  {
   "cell_type": "markdown",
   "metadata": {},
   "source": [
    "Accuracy модели RandomForestClassifier на тестовой выборке составляет <b>0.7978227060653188</b>"
   ]
  },
  {
   "cell_type": "markdown",
   "metadata": {},
   "source": [
    "## 5. Проверяю модели на адекватность"
   ]
  },
  {
   "cell_type": "code",
   "execution_count": 11,
   "metadata": {
    "scrolled": true
   },
   "outputs": [
    {
     "name": "stdout",
     "output_type": "stream",
     "text": [
      "<class 'pandas.core.frame.DataFrame'>\n",
      "RangeIndex: 3214 entries, 0 to 3213\n",
      "Data columns (total 5 columns):\n",
      " #   Column    Non-Null Count  Dtype  \n",
      "---  ------    --------------  -----  \n",
      " 0   calls     3214 non-null   float64\n",
      " 1   minutes   3214 non-null   float64\n",
      " 2   messages  3214 non-null   float64\n",
      " 3   mb_used   3214 non-null   float64\n",
      " 4   is_ultra  3214 non-null   int64  \n",
      "dtypes: float64(4), int64(1)\n",
      "memory usage: 125.7 KB\n"
     ]
    }
   ],
   "source": [
    "data.info()"
   ]
  },
  {
   "cell_type": "code",
   "execution_count": 34,
   "metadata": {},
   "outputs": [
    {
     "name": "stdout",
     "output_type": "stream",
     "text": [
      "264\n"
     ]
    },
    {
     "data": {
      "text/plain": [
       "<sklearn.metrics._plot.confusion_matrix.ConfusionMatrixDisplay at 0x7f6587aeae80>"
      ]
     },
     "execution_count": 34,
     "metadata": {},
     "output_type": "execute_result"
    },
    {
     "data": {
      "image/png": "[encoded data removed]",
      "text/plain": [
       "<Figure size 432x288 with 2 Axes>"
      ]
     },
     "metadata": {
      "needs_background": "light"
     },
     "output_type": "display_data"
    },
    {
     "data": {
      "image/png": "[encoded data removed]",
      "text/plain": [
       "<Figure size 432x288 with 2 Axes>"
      ]
     },
     "metadata": {
      "needs_background": "light"
     },
     "output_type": "display_data"
    }
   ],
   "source": [
    "predictions_RandomForestClassifier = model.predict(features)\n",
    "\n",
    "error_count_RandomForestClassifier = 0\n",
    "\n",
    "for index in range(len(predictions_RandomForestClassifier)):\n",
    "    if predictions_RandomForestClassifier[index] != target[index]:\n",
    "        error_count_RandomForestClassifier += 1\n",
    "        \n",
    "print(error_count_RandomForestClassifier)\n",
    "\n",
    "plot_confusion_matrix(estimator=model, X=features, y_true=target, normalize='true')\n",
    "\n",
    "\n",
    "# Создаю и обучаю модель DummyClassifier, чтобы сравнить матрицы ошибок\n",
    "model_dummy = DummyClassifier(random_state=12345)\n",
    "model_dummy.fit(features_train, target_train)\n",
    "\n",
    "plot_confusion_matrix(estimator=model_dummy, X=features, y_true=target, normalize='true')"
   ]
  },
  {
   "cell_type": "code",
   "execution_count": 32,
   "metadata": {},
   "outputs": [
    {
     "name": "stdout",
     "output_type": "stream",
     "text": [
      "358\n"
     ]
    },
    {
     "data": {
      "text/plain": [
       "<sklearn.metrics._plot.confusion_matrix.ConfusionMatrixDisplay at 0x7f6587ca3af0>"
      ]
     },
     "execution_count": 32,
     "metadata": {},
     "output_type": "execute_result"
    },
    {
     "data": {
      "image/png": "[encoded data removed]",
      "text/plain": [
       "<Figure size 432x288 with 2 Axes>"
      ]
     },
     "metadata": {
      "needs_background": "light"
     },
     "output_type": "display_data"
    }
   ],
   "source": [
    "predictions_DecisionTreeClassifier = model_3.predict(features)\n",
    "\n",
    "error_count_DecisionTreeClassifier = 0\n",
    "\n",
    "for index in range(len(predictions_RandomForestClassifier)):\n",
    "    if predictions_DecisionTreeClassifier[index] != target[index]:\n",
    "        error_count_DecisionTreeClassifier += 1\n",
    "        \n",
    "print(error_count_DecisionTreeClassifier)\n",
    "plot_confusion_matrix(estimator=model_3, X=features, y_true=target, normalize='true')"
   ]
  },
  {
   "cell_type": "code",
   "execution_count": 33,
   "metadata": {},
   "outputs": [
    {
     "name": "stdout",
     "output_type": "stream",
     "text": [
      "811\n"
     ]
    },
    {
     "data": {
      "text/plain": [
       "<sklearn.metrics._plot.confusion_matrix.ConfusionMatrixDisplay at 0x7f658c5cf640>"
      ]
     },
     "execution_count": 33,
     "metadata": {},
     "output_type": "execute_result"
    },
    {
     "data": {
      "image/png": "[encoded data removed]",
      "text/plain": [
       "<Figure size 432x288 with 2 Axes>"
      ]
     },
     "metadata": {
      "needs_background": "light"
     },
     "output_type": "display_data"
    }
   ],
   "source": [
    "predictions_LogisticRegression = model_2_1.predict(features)\n",
    "\n",
    "error_count_LogisticRegression = 0\n",
    "\n",
    "for index in range(len(predictions_RandomForestClassifier)):\n",
    "    if predictions_LogisticRegression[index] != target[index]:\n",
    "        error_count_LogisticRegression += 1\n",
    "        \n",
    "print(error_count_LogisticRegression)\n",
    "plot_confusion_matrix(estimator=model_2_1, X=features, y_true=target, normalize='true')"
   ]
  },
  {
   "cell_type": "markdown",
   "metadata": {},
   "source": [
    "При проверке трёх моделей на целом датасете \n",
    " \n",
    " - Модель RandomForestClassifier допустила 264 ошибки\n",
    " - Модель DecisionTreeClassifier допустила 358 ошибок\n",
    " - Модель LogisticRegression допустила 811 ошибок\n",
    " \n",
    "В данных намного больше отрицательных вариантов, поэтому DummyClassifier, в отличие от остаальных моделей, предсказал все варианты как отрицательные. Из-за этого перевеса модель LogisticRegression допустила схожую ошибку но в меньших масштабах (здесь тоже наблюдается значительный перевес в пользу отрицательного варианта). И DecisionTreeClassifier, и RandomForestClassifier научись предсказывать отрицательный вариант лучше, чем положительный."
   ]
  },
  {
   "cell_type": "markdown",
   "metadata": {},
   "source": [
    "## 6. Вывод\n",
    "\n",
    "<b>Были выполнены следующие шаги:</b>\n",
    "\n",
    "1. Изучение датафрейма с данными клиентов.\n",
    "2. Разделение данных на тренировочную (60%), валидационную (20%) и тестовую (20%) выборки.\n",
    "3. Обучение на тренировочной выборке разных моделей для задачи классификации по выбору подходящего тарифа:\n",
    "    - Самой точной моделью является случайный лес. Его accuracy составляет 0.79. при числе деревьев 84.\n",
    "\n",
    "    - На втором месте по точности дерево решений с accuracy 0.78 при глубине дерева 5.\n",
    "\n",
    "    - На третьем месте логистическая регрессия с accuracy 0.75.\n",
    "\n",
    "\n",
    "4. Проверка моделей на тестовой выборке.\n",
    "\n",
    "    Accuracy самой точной модели RandomForestClassifier на тестовой выборке составила 0.7978227060653188\n",
    "\n",
    "\n",
    "5. Проверка моделей на адекватность.\n",
    "\n",
    "    При проверке трёх моделей на целом датасете\n",
    "\n",
    "    - Модель RandomForestClassifier допустила 264 ошибки\n",
    "    - Модель DecisionTreeClassifier допустила 358 ошибок\n",
    "    - Модель LogisticRegression допустила 811 ошибок\n",
    "    \n",
    "    В данных намного больше отрицательных вариантов, поэтому DummyClassifier, в отличие от остаальных моделей, предсказал все варианты как отрицательные. Из-за этого перевеса модель LogisticRegression допустила схожую ошибку но в меньших масштабах (здесь тоже наблюдается значительный перевес в пользу отрицательного варианта). И DecisionTreeClassifier, и RandomForestClassifier научись предсказывать отрицательный вариант лучше, чем положительный."
   ]
  }
 ],
 "metadata": {
  "ExecuteTimeLog": [
   {
    "duration": 493,
    "start_time": "2022-11-27T21:22:09.068Z"
   },
   {
    "duration": 13,
    "start_time": "2022-11-27T21:22:29.894Z"
   },
   {
    "duration": 42,
    "start_time": "2022-11-27T21:29:45.768Z"
   },
   {
    "duration": 12,
    "start_time": "2022-11-27T21:29:45.812Z"
   },
   {
    "duration": 727,
    "start_time": "2022-11-27T21:29:45.827Z"
   },
   {
    "duration": 4,
    "start_time": "2022-11-27T21:29:46.556Z"
   },
   {
    "duration": 92,
    "start_time": "2022-11-27T21:29:46.562Z"
   },
   {
    "duration": 7,
    "start_time": "2022-11-27T21:30:01.351Z"
   },
   {
    "duration": 9,
    "start_time": "2022-11-27T21:32:10.803Z"
   },
   {
    "duration": 44,
    "start_time": "2022-11-27T21:32:27.368Z"
   },
   {
    "duration": 47,
    "start_time": "2022-11-28T20:31:52.428Z"
   },
   {
    "duration": 912,
    "start_time": "2022-11-28T20:31:57.269Z"
   },
   {
    "duration": 52,
    "start_time": "2022-11-28T20:31:58.184Z"
   },
   {
    "duration": 264,
    "start_time": "2022-11-28T20:32:10.462Z"
   },
   {
    "duration": 14,
    "start_time": "2022-11-28T20:32:10.728Z"
   },
   {
    "duration": 16,
    "start_time": "2022-11-28T20:32:10.744Z"
   },
   {
    "duration": 14,
    "start_time": "2022-11-28T20:32:10.762Z"
   },
   {
    "duration": 13,
    "start_time": "2022-11-28T20:32:10.779Z"
   },
   {
    "duration": 9,
    "start_time": "2022-11-28T20:32:10.794Z"
   },
   {
    "duration": 73,
    "start_time": "2022-11-28T20:32:10.805Z"
   },
   {
    "duration": 23,
    "start_time": "2022-11-28T20:32:51.711Z"
   },
   {
    "duration": 23,
    "start_time": "2022-11-28T20:34:39.200Z"
   },
   {
    "duration": 300,
    "start_time": "2022-11-28T20:43:44.323Z"
   },
   {
    "duration": 3607,
    "start_time": "2022-11-28T20:43:55.477Z"
   },
   {
    "duration": 21908,
    "start_time": "2022-11-28T20:44:31.848Z"
   },
   {
    "duration": 21834,
    "start_time": "2022-11-28T20:45:28.025Z"
   },
   {
    "duration": 21631,
    "start_time": "2022-11-28T20:46:52.748Z"
   },
   {
    "duration": 8,
    "start_time": "2022-11-28T20:48:27.586Z"
   },
   {
    "duration": 3,
    "start_time": "2022-11-28T20:48:30.294Z"
   },
   {
    "duration": 11,
    "start_time": "2022-11-28T20:51:43.884Z"
   },
   {
    "duration": 445,
    "start_time": "2022-11-29T20:04:35.533Z"
   },
   {
    "duration": 10,
    "start_time": "2022-11-29T20:04:35.980Z"
   },
   {
    "duration": 682,
    "start_time": "2022-11-29T20:04:35.992Z"
   },
   {
    "duration": 5,
    "start_time": "2022-11-29T20:04:36.676Z"
   },
   {
    "duration": 11,
    "start_time": "2022-11-29T20:04:36.682Z"
   },
   {
    "duration": 47,
    "start_time": "2022-11-29T20:04:36.695Z"
   },
   {
    "duration": 22289,
    "start_time": "2022-11-29T20:04:36.744Z"
   },
   {
    "duration": 2,
    "start_time": "2022-11-29T20:04:59.035Z"
   },
   {
    "duration": 0,
    "start_time": "2022-11-29T20:17:55.616Z"
   },
   {
    "duration": 0,
    "start_time": "2022-11-29T20:17:55.617Z"
   },
   {
    "duration": 0,
    "start_time": "2022-11-29T20:17:55.618Z"
   },
   {
    "duration": 0,
    "start_time": "2022-11-29T20:17:55.620Z"
   },
   {
    "duration": 0,
    "start_time": "2022-11-29T20:17:55.621Z"
   },
   {
    "duration": 1,
    "start_time": "2022-11-29T20:17:55.622Z"
   },
   {
    "duration": 0,
    "start_time": "2022-11-29T20:17:55.624Z"
   },
   {
    "duration": 0,
    "start_time": "2022-11-29T20:17:55.625Z"
   },
   {
    "duration": 0,
    "start_time": "2022-11-29T20:17:55.626Z"
   },
   {
    "duration": 0,
    "start_time": "2022-11-29T20:17:55.628Z"
   },
   {
    "duration": 0,
    "start_time": "2022-11-29T20:17:55.629Z"
   },
   {
    "duration": 41,
    "start_time": "2022-11-29T20:19:57.384Z"
   },
   {
    "duration": 12,
    "start_time": "2022-11-29T20:20:00.556Z"
   },
   {
    "duration": 3,
    "start_time": "2022-11-29T20:20:02.109Z"
   },
   {
    "duration": 4,
    "start_time": "2022-11-29T20:20:03.371Z"
   },
   {
    "duration": 4,
    "start_time": "2022-11-29T20:20:04.043Z"
   },
   {
    "duration": 5,
    "start_time": "2022-11-29T20:20:04.954Z"
   },
   {
    "duration": 3,
    "start_time": "2022-11-29T20:20:27.400Z"
   },
   {
    "duration": 19479,
    "start_time": "2022-11-29T20:20:28.077Z"
   },
   {
    "duration": 3,
    "start_time": "2022-11-29T20:22:04.929Z"
   },
   {
    "duration": 4,
    "start_time": "2022-11-29T20:22:05.195Z"
   },
   {
    "duration": 6,
    "start_time": "2022-11-29T20:22:05.485Z"
   },
   {
    "duration": 5,
    "start_time": "2022-11-29T20:22:05.817Z"
   },
   {
    "duration": 2,
    "start_time": "2022-11-29T20:22:11.496Z"
   },
   {
    "duration": 18506,
    "start_time": "2022-11-29T20:22:12.784Z"
   },
   {
    "duration": 4,
    "start_time": "2022-11-29T20:22:31.292Z"
   },
   {
    "duration": 63,
    "start_time": "2022-11-29T20:22:31.298Z"
   },
   {
    "duration": 3,
    "start_time": "2022-11-29T20:22:31.363Z"
   },
   {
    "duration": 982,
    "start_time": "2022-11-29T20:22:31.367Z"
   },
   {
    "duration": 37,
    "start_time": "2022-11-29T20:26:42.422Z"
   },
   {
    "duration": 40,
    "start_time": "2022-11-29T20:26:50.075Z"
   },
   {
    "duration": 48,
    "start_time": "2022-11-29T20:26:54.030Z"
   },
   {
    "duration": 38,
    "start_time": "2022-11-29T20:28:31.176Z"
   },
   {
    "duration": 41,
    "start_time": "2022-11-29T20:28:31.930Z"
   },
   {
    "duration": 1016,
    "start_time": "2022-11-29T20:28:44.381Z"
   },
   {
    "duration": 70,
    "start_time": "2022-11-29T20:29:24.608Z"
   },
   {
    "duration": 642,
    "start_time": "2022-11-30T20:46:57.612Z"
   },
   {
    "duration": 13,
    "start_time": "2022-11-30T20:46:58.256Z"
   },
   {
    "duration": 723,
    "start_time": "2022-11-30T20:46:58.271Z"
   },
   {
    "duration": 4,
    "start_time": "2022-11-30T20:46:58.997Z"
   },
   {
    "duration": 33,
    "start_time": "2022-11-30T20:46:59.003Z"
   },
   {
    "duration": 25,
    "start_time": "2022-11-30T20:46:59.038Z"
   },
   {
    "duration": 71,
    "start_time": "2022-11-30T20:46:59.065Z"
   },
   {
    "duration": 20749,
    "start_time": "2022-11-30T20:46:59.138Z"
   },
   {
    "duration": 3,
    "start_time": "2022-11-30T20:47:19.888Z"
   },
   {
    "duration": 66,
    "start_time": "2022-11-30T20:47:19.894Z"
   },
   {
    "duration": 58,
    "start_time": "2022-11-30T20:47:19.962Z"
   },
   {
    "duration": 3,
    "start_time": "2022-11-30T20:47:20.030Z"
   },
   {
    "duration": 1119,
    "start_time": "2022-11-30T20:47:20.035Z"
   },
   {
    "duration": 20626,
    "start_time": "2022-11-30T20:49:24.391Z"
   },
   {
    "duration": 107,
    "start_time": "2022-11-30T20:50:00.380Z"
   },
   {
    "duration": 20363,
    "start_time": "2022-11-30T20:50:15.062Z"
   },
   {
    "duration": 1118,
    "start_time": "2022-11-30T20:50:55.034Z"
   },
   {
    "duration": 1094,
    "start_time": "2022-11-30T20:51:08.550Z"
   },
   {
    "duration": 41,
    "start_time": "2022-11-30T20:51:55.163Z"
   },
   {
    "duration": 60,
    "start_time": "2022-11-30T21:01:10.501Z"
   },
   {
    "duration": 69,
    "start_time": "2022-11-30T21:05:42.363Z"
   },
   {
    "duration": 14,
    "start_time": "2022-11-30T21:06:11.344Z"
   },
   {
    "duration": 14,
    "start_time": "2022-11-30T21:08:38.239Z"
   },
   {
    "duration": 14,
    "start_time": "2022-11-30T21:08:45.315Z"
   },
   {
    "duration": 69,
    "start_time": "2022-11-30T21:08:48.090Z"
   },
   {
    "duration": 15,
    "start_time": "2022-11-30T21:09:07.051Z"
   },
   {
    "duration": 69,
    "start_time": "2022-11-30T21:09:09.013Z"
   },
   {
    "duration": 64,
    "start_time": "2022-11-30T21:10:17.351Z"
   },
   {
    "duration": 572,
    "start_time": "2022-12-01T19:54:49.385Z"
   },
   {
    "duration": 10,
    "start_time": "2022-12-01T19:54:49.959Z"
   },
   {
    "duration": 691,
    "start_time": "2022-12-01T19:54:49.971Z"
   },
   {
    "duration": 4,
    "start_time": "2022-12-01T19:54:50.664Z"
   },
   {
    "duration": 10,
    "start_time": "2022-12-01T19:54:50.669Z"
   },
   {
    "duration": 6,
    "start_time": "2022-12-01T19:54:50.680Z"
   },
   {
    "duration": 53,
    "start_time": "2022-12-01T19:54:50.688Z"
   },
   {
    "duration": 18961,
    "start_time": "2022-12-01T19:54:50.742Z"
   },
   {
    "duration": 2,
    "start_time": "2022-12-01T19:55:09.704Z"
   },
   {
    "duration": 46,
    "start_time": "2022-12-01T19:55:09.708Z"
   },
   {
    "duration": 35,
    "start_time": "2022-12-01T19:55:09.755Z"
   },
   {
    "duration": 3,
    "start_time": "2022-12-01T19:55:09.791Z"
   },
   {
    "duration": 1004,
    "start_time": "2022-12-01T19:55:09.795Z"
   },
   {
    "duration": 18833,
    "start_time": "2022-12-01T19:55:10.801Z"
   },
   {
    "duration": 971,
    "start_time": "2022-12-01T19:55:29.635Z"
   },
   {
    "duration": 39,
    "start_time": "2022-12-01T19:55:30.608Z"
   },
   {
    "duration": 10,
    "start_time": "2022-12-01T19:55:30.650Z"
   },
   {
    "duration": 81,
    "start_time": "2022-12-01T19:55:30.662Z"
   },
   {
    "duration": 14,
    "start_time": "2022-12-01T19:55:30.744Z"
   },
   {
    "duration": 160,
    "start_time": "2022-12-01T19:55:30.759Z"
   },
   {
    "duration": 963,
    "start_time": "2022-12-01T19:58:11.148Z"
   },
   {
    "duration": 76,
    "start_time": "2022-12-01T19:58:27.442Z"
   },
   {
    "duration": 26,
    "start_time": "2022-12-01T19:58:44.787Z"
   },
   {
    "duration": 143,
    "start_time": "2022-12-01T19:58:49.873Z"
   },
   {
    "duration": 48,
    "start_time": "2022-12-01T20:04:18.151Z"
   },
   {
    "duration": 75,
    "start_time": "2022-12-29T14:40:55.998Z"
   },
   {
    "duration": 488,
    "start_time": "2022-12-29T14:41:48.593Z"
   },
   {
    "duration": 789,
    "start_time": "2022-12-29T14:43:09.349Z"
   },
   {
    "duration": 1200,
    "start_time": "2022-12-29T21:57:38.649Z"
   },
   {
    "duration": 11,
    "start_time": "2022-12-29T21:57:43.421Z"
   },
   {
    "duration": 4,
    "start_time": "2022-12-29T21:57:46.306Z"
   },
   {
    "duration": 5,
    "start_time": "2022-12-29T21:57:46.877Z"
   },
   {
    "duration": 6,
    "start_time": "2022-12-29T21:57:47.355Z"
   },
   {
    "duration": 3046,
    "start_time": "2022-12-29T21:57:48.425Z"
   },
   {
    "duration": 18390,
    "start_time": "2022-12-29T21:58:01.008Z"
   },
   {
    "duration": 38,
    "start_time": "2022-12-29T21:59:02.694Z"
   },
   {
    "duration": 947,
    "start_time": "2022-12-29T21:59:04.311Z"
   },
   {
    "duration": 315,
    "start_time": "2022-12-29T21:59:13.303Z"
   },
   {
    "duration": 11,
    "start_time": "2022-12-29T22:01:00.611Z"
   },
   {
    "duration": 74,
    "start_time": "2022-12-29T22:01:01.358Z"
   },
   {
    "duration": 26,
    "start_time": "2022-12-29T22:01:05.292Z"
   },
   {
    "duration": 150,
    "start_time": "2022-12-29T22:01:06.064Z"
   },
   {
    "duration": 53,
    "start_time": "2022-12-29T22:03:10.227Z"
   },
   {
    "duration": 168,
    "start_time": "2022-12-29T22:04:43.991Z"
   },
   {
    "duration": 66,
    "start_time": "2022-12-29T22:05:42.550Z"
   },
   {
    "duration": 21,
    "start_time": "2022-12-29T22:05:51.512Z"
   },
   {
    "duration": 62,
    "start_time": "2022-12-29T22:05:55.453Z"
   },
   {
    "duration": 13,
    "start_time": "2022-12-29T22:06:52.019Z"
   },
   {
    "duration": 19,
    "start_time": "2022-12-29T22:06:53.198Z"
   },
   {
    "duration": 60,
    "start_time": "2022-12-29T22:06:58.771Z"
   },
   {
    "duration": 41,
    "start_time": "2022-12-29T22:23:06.862Z"
   },
   {
    "duration": 66,
    "start_time": "2022-12-29T22:24:22.128Z"
   },
   {
    "duration": 40,
    "start_time": "2022-12-29T22:25:55.349Z"
   },
   {
    "duration": 77,
    "start_time": "2022-12-29T22:26:04.870Z"
   },
   {
    "duration": 48,
    "start_time": "2022-12-29T22:27:58.396Z"
   },
   {
    "duration": 51,
    "start_time": "2022-12-29T22:28:31.866Z"
   },
   {
    "duration": 254,
    "start_time": "2022-12-29T22:29:04.062Z"
   },
   {
    "duration": 237,
    "start_time": "2022-12-29T22:29:35.849Z"
   },
   {
    "duration": 445,
    "start_time": "2022-12-29T22:30:58.229Z"
   },
   {
    "duration": 179,
    "start_time": "2022-12-29T22:35:31.508Z"
   },
   {
    "duration": 343,
    "start_time": "2022-12-29T22:38:09.190Z"
   },
   {
    "duration": 396,
    "start_time": "2022-12-29T22:42:58.019Z"
   }
  ],
  "kernelspec": {
   "display_name": "Python 3 (ipykernel)",
   "language": "python",
   "name": "python3"
  },
  "language_info": {
   "codemirror_mode": {
    "name": "ipython",
    "version": 3
   },
   "file_extension": ".py",
   "mimetype": "text/x-python",
   "name": "python",
   "nbconvert_exporter": "python",
   "pygments_lexer": "ipython3",
   "version": "3.9.12"
  },
  "toc": {
   "base_numbering": 1,
   "nav_menu": {},
   "number_sections": true,
   "sideBar": true,
   "skip_h1_title": true,
   "title_cell": "Table of Contents",
   "title_sidebar": "Contents",
   "toc_cell": false,
   "toc_position": {},
   "toc_section_display": true,
   "toc_window_display": false
  }
 },
 "nbformat": 4,
 "nbformat_minor": 2
}
